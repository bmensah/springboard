{
 "cells": [
  {
   "cell_type": "markdown",
   "id": "4c5cf3a5",
   "metadata": {},
   "source": [
    "# Data Analysis Interview Challenge: Relax, Inc"
   ]
  },
  {
   "cell_type": "markdown",
   "id": "25ebe559",
   "metadata": {},
   "source": [
    "Bradley Mensah\n",
    "\n",
    "\n",
    "Springboard Data Science Track, Nov 2020 Cohort"
   ]
  },
  {
   "cell_type": "markdown",
   "id": "e29957c5",
   "metadata": {},
   "source": [
    "## Data Dictionaries"
   ]
  },
  {
   "cell_type": "markdown",
   "id": "e461335f",
   "metadata": {},
   "source": [
    "**takehome_users.csv**\n",
    "\n",
    "* **name**: the user's name\n",
    "* **object_id**: the user's id\n",
    "* **email**: email address\n",
    "* **creation_source**: how their account was created. This takes on one of 5 values:\n",
    "    * **PERSONAL_PROJECTS**: invited to join another user's personal workspace\n",
    "    * **GUEST_INVITE**: invited to an organization as a guest (limited permissions)\n",
    "    * **ORG_INVITE**: invited to an organization (as a full member)\n",
    "    * **SIGNUP**: signed up via the website\n",
    "    * **SIGNUP_GOOGLE_AUTH**: signed up using Google Authentication (using a Google email account for their login id)\n",
    "* **creation_time**: when they created their account\n",
    "* **last_session_creation_time**: unix timestamp of last login\n",
    "* **opted_in_to_mailing_list**: whether they have opted into receiving marketing emails\n",
    "* **enabled_for_marketing_drip**: whether they are on the regular marketing email drip\n",
    "* **org_id**: the organization (group of users) they belong to\n",
    "* **invited_by_user_id**: which user invited them to join (if applicable)."
   ]
  },
  {
   "cell_type": "markdown",
   "id": "83b97880",
   "metadata": {},
   "source": [
    "**takehome_user_engagement.csv**\n",
    "\n",
    "A usage summary table that has a row for each day that a user logged into the product."
   ]
  },
  {
   "cell_type": "markdown",
   "id": "3dc28522",
   "metadata": {},
   "source": [
    "## Task"
   ]
  },
  {
   "cell_type": "markdown",
   "id": "a7cf4f7a",
   "metadata": {},
   "source": [
    "**Defining an \"adopted user\" as a user who has logged into the product on three separate days in at least one seven day period, identify which factors predict future user adoption.**"
   ]
  },
  {
   "cell_type": "code",
   "execution_count": 249,
   "id": "7cb1ea60",
   "metadata": {},
   "outputs": [],
   "source": [
    "import pandas as pd\n",
    "import numpy as np\n",
    "import matplotlib.pyplot as plt\n",
    "import seaborn as sns\n",
    "\n",
    "from sklearn.dummy import DummyClassifier\n",
    "from sklearn.metrics import roc_auc_score, plot_roc_curve, accuracy_score, confusion_matrix\n",
    "from sklearn.preprocessing import OneHotEncoder\n",
    "from sklearn.model_selection import train_test_split, GridSearchCV\n",
    "\n",
    "import warnings\n",
    "warnings.filterwarnings(action='ignore', category=UserWarning)"
   ]
  },
  {
   "cell_type": "markdown",
   "id": "b3492104",
   "metadata": {},
   "source": [
    "### Data Wrangling"
   ]
  },
  {
   "cell_type": "code",
   "execution_count": 214,
   "id": "57fb11fa",
   "metadata": {},
   "outputs": [
    {
     "data": {
      "text/html": [
       "<div>\n",
       "<style scoped>\n",
       "    .dataframe tbody tr th:only-of-type {\n",
       "        vertical-align: middle;\n",
       "    }\n",
       "\n",
       "    .dataframe tbody tr th {\n",
       "        vertical-align: top;\n",
       "    }\n",
       "\n",
       "    .dataframe thead th {\n",
       "        text-align: right;\n",
       "    }\n",
       "</style>\n",
       "<table border=\"1\" class=\"dataframe\">\n",
       "  <thead>\n",
       "    <tr style=\"text-align: right;\">\n",
       "      <th></th>\n",
       "      <th>time_stamp</th>\n",
       "      <th>user_id</th>\n",
       "      <th>visited</th>\n",
       "    </tr>\n",
       "  </thead>\n",
       "  <tbody>\n",
       "    <tr>\n",
       "      <th>0</th>\n",
       "      <td>2014-04-22 03:53:30</td>\n",
       "      <td>1</td>\n",
       "      <td>1</td>\n",
       "    </tr>\n",
       "    <tr>\n",
       "      <th>1</th>\n",
       "      <td>2013-11-15 03:45:04</td>\n",
       "      <td>2</td>\n",
       "      <td>1</td>\n",
       "    </tr>\n",
       "    <tr>\n",
       "      <th>2</th>\n",
       "      <td>2013-11-29 03:45:04</td>\n",
       "      <td>2</td>\n",
       "      <td>1</td>\n",
       "    </tr>\n",
       "    <tr>\n",
       "      <th>3</th>\n",
       "      <td>2013-12-09 03:45:04</td>\n",
       "      <td>2</td>\n",
       "      <td>1</td>\n",
       "    </tr>\n",
       "    <tr>\n",
       "      <th>4</th>\n",
       "      <td>2013-12-25 03:45:04</td>\n",
       "      <td>2</td>\n",
       "      <td>1</td>\n",
       "    </tr>\n",
       "  </tbody>\n",
       "</table>\n",
       "</div>"
      ],
      "text/plain": [
       "            time_stamp  user_id  visited\n",
       "0  2014-04-22 03:53:30        1        1\n",
       "1  2013-11-15 03:45:04        2        1\n",
       "2  2013-11-29 03:45:04        2        1\n",
       "3  2013-12-09 03:45:04        2        1\n",
       "4  2013-12-25 03:45:04        2        1"
      ]
     },
     "execution_count": 214,
     "metadata": {},
     "output_type": "execute_result"
    }
   ],
   "source": [
    "eng_df = pd.read_csv(\"takehome_user_engagement.csv\")\n",
    "eng_df.head()"
   ]
  },
  {
   "cell_type": "code",
   "execution_count": 215,
   "id": "968036d4",
   "metadata": {},
   "outputs": [
    {
     "data": {
      "text/plain": [
       "(207917, 3)"
      ]
     },
     "execution_count": 215,
     "metadata": {},
     "output_type": "execute_result"
    }
   ],
   "source": [
    "eng_df.shape"
   ]
  },
  {
   "cell_type": "code",
   "execution_count": 216,
   "id": "c0eeb33a",
   "metadata": {},
   "outputs": [
    {
     "data": {
      "text/plain": [
       "time_stamp    False\n",
       "user_id       False\n",
       "visited       False\n",
       "dtype: bool"
      ]
     },
     "execution_count": 216,
     "metadata": {},
     "output_type": "execute_result"
    }
   ],
   "source": [
    "# check for missing values \n",
    "eng_df.isna().any()"
   ]
  },
  {
   "cell_type": "code",
   "execution_count": 217,
   "id": "35f23c1a",
   "metadata": {
    "scrolled": true
   },
   "outputs": [
    {
     "data": {
      "text/plain": [
       "time_stamp    object\n",
       "user_id        int64\n",
       "visited        int64\n",
       "dtype: object"
      ]
     },
     "execution_count": 217,
     "metadata": {},
     "output_type": "execute_result"
    }
   ],
   "source": [
    "# check dtypes\n",
    "eng_df.dtypes"
   ]
  },
  {
   "cell_type": "code",
   "execution_count": 218,
   "id": "05bc6459",
   "metadata": {},
   "outputs": [],
   "source": [
    "# convert time_stamp to datetime\n",
    "eng_df[\"time_stamp\"] = pd.to_datetime(eng_df[\"time_stamp\"], format=\"%Y-%m-%d %H:%M:%S\")\n",
    "\n",
    "# get day from time_stamp\n",
    "eng_df[\"day\"] = pd.to_datetime(eng_df[\"time_stamp\"].dt.date, format=\"%Y-%m-%d\")"
   ]
  },
  {
   "cell_type": "code",
   "execution_count": 219,
   "id": "47e93725",
   "metadata": {},
   "outputs": [],
   "source": [
    "# pivot_table with day as index, user_id as column, and visited as values\n",
    "eng_df = eng_df.reset_index().pivot_table(index=\"day\", columns=\"user_id\", values=\"visited\")"
   ]
  },
  {
   "cell_type": "code",
   "execution_count": 220,
   "id": "142d623c",
   "metadata": {},
   "outputs": [],
   "source": [
    "# resample to see visits per 7 day period \n",
    "eng_df.fillna(0, inplace=True)\n",
    "eng_df = eng_df.resample(\"7D\").sum()"
   ]
  },
  {
   "cell_type": "code",
   "execution_count": 221,
   "id": "95f4029a",
   "metadata": {},
   "outputs": [],
   "source": [
    "# find adopted users \n",
    "adopted_users = []\n",
    "for user in eng_df.columns:\n",
    "    if (eng_df[user]>3.0).any():\n",
    "        adopted_users.append(user)"
   ]
  },
  {
   "cell_type": "code",
   "execution_count": 222,
   "id": "d9993631",
   "metadata": {},
   "outputs": [
    {
     "name": "stdout",
     "output_type": "stream",
     "text": [
      "1173 users have used the service more than 3 times in a 7 day period.\n"
     ]
    }
   ],
   "source": [
    "print(\"{} users have used the service more than 3 times in a 7 day period.\".format(len(adopted_users)))"
   ]
  },
  {
   "cell_type": "code",
   "execution_count": 223,
   "id": "5edfee63",
   "metadata": {
    "scrolled": true
   },
   "outputs": [],
   "source": [
    "# import user data\n",
    "users_df = pd.read_csv(\"takehome_users.csv\")"
   ]
  },
  {
   "cell_type": "code",
   "execution_count": 224,
   "id": "b0f5c9a4",
   "metadata": {},
   "outputs": [
    {
     "data": {
      "text/plain": [
       "(12000, 11)"
      ]
     },
     "execution_count": 224,
     "metadata": {},
     "output_type": "execute_result"
    }
   ],
   "source": [
    "# mark adopted users in users_df\n",
    "users_df[\"adopted_user\"] = users_df[\"object_id\"].isin(adopted_users)\n",
    "users_df.shape"
   ]
  },
  {
   "cell_type": "code",
   "execution_count": 225,
   "id": "45e6a2cc",
   "metadata": {},
   "outputs": [
    {
     "data": {
      "text/html": [
       "<div>\n",
       "<style scoped>\n",
       "    .dataframe tbody tr th:only-of-type {\n",
       "        vertical-align: middle;\n",
       "    }\n",
       "\n",
       "    .dataframe tbody tr th {\n",
       "        vertical-align: top;\n",
       "    }\n",
       "\n",
       "    .dataframe thead th {\n",
       "        text-align: right;\n",
       "    }\n",
       "</style>\n",
       "<table border=\"1\" class=\"dataframe\">\n",
       "  <thead>\n",
       "    <tr style=\"text-align: right;\">\n",
       "      <th></th>\n",
       "      <th>object_id</th>\n",
       "      <th>creation_time</th>\n",
       "      <th>name</th>\n",
       "      <th>email</th>\n",
       "      <th>creation_source</th>\n",
       "      <th>last_session_creation_time</th>\n",
       "      <th>opted_in_to_mailing_list</th>\n",
       "      <th>enabled_for_marketing_drip</th>\n",
       "      <th>org_id</th>\n",
       "      <th>invited_by_user_id</th>\n",
       "      <th>adopted_user</th>\n",
       "    </tr>\n",
       "  </thead>\n",
       "  <tbody>\n",
       "    <tr>\n",
       "      <th>0</th>\n",
       "      <td>1</td>\n",
       "      <td>2014-04-22 03:53:30</td>\n",
       "      <td>Clausen August</td>\n",
       "      <td>AugustCClausen@yahoo.com</td>\n",
       "      <td>GUEST_INVITE</td>\n",
       "      <td>1.398139e+09</td>\n",
       "      <td>1</td>\n",
       "      <td>0</td>\n",
       "      <td>11</td>\n",
       "      <td>10803.0</td>\n",
       "      <td>False</td>\n",
       "    </tr>\n",
       "    <tr>\n",
       "      <th>1</th>\n",
       "      <td>2</td>\n",
       "      <td>2013-11-15 03:45:04</td>\n",
       "      <td>Poole Matthew</td>\n",
       "      <td>MatthewPoole@gustr.com</td>\n",
       "      <td>ORG_INVITE</td>\n",
       "      <td>1.396238e+09</td>\n",
       "      <td>0</td>\n",
       "      <td>0</td>\n",
       "      <td>1</td>\n",
       "      <td>316.0</td>\n",
       "      <td>False</td>\n",
       "    </tr>\n",
       "    <tr>\n",
       "      <th>2</th>\n",
       "      <td>3</td>\n",
       "      <td>2013-03-19 23:14:52</td>\n",
       "      <td>Bottrill Mitchell</td>\n",
       "      <td>MitchellBottrill@gustr.com</td>\n",
       "      <td>ORG_INVITE</td>\n",
       "      <td>1.363735e+09</td>\n",
       "      <td>0</td>\n",
       "      <td>0</td>\n",
       "      <td>94</td>\n",
       "      <td>1525.0</td>\n",
       "      <td>False</td>\n",
       "    </tr>\n",
       "    <tr>\n",
       "      <th>3</th>\n",
       "      <td>4</td>\n",
       "      <td>2013-05-21 08:09:28</td>\n",
       "      <td>Clausen Nicklas</td>\n",
       "      <td>NicklasSClausen@yahoo.com</td>\n",
       "      <td>GUEST_INVITE</td>\n",
       "      <td>1.369210e+09</td>\n",
       "      <td>0</td>\n",
       "      <td>0</td>\n",
       "      <td>1</td>\n",
       "      <td>5151.0</td>\n",
       "      <td>False</td>\n",
       "    </tr>\n",
       "    <tr>\n",
       "      <th>4</th>\n",
       "      <td>5</td>\n",
       "      <td>2013-01-17 10:14:20</td>\n",
       "      <td>Raw Grace</td>\n",
       "      <td>GraceRaw@yahoo.com</td>\n",
       "      <td>GUEST_INVITE</td>\n",
       "      <td>1.358850e+09</td>\n",
       "      <td>0</td>\n",
       "      <td>0</td>\n",
       "      <td>193</td>\n",
       "      <td>5240.0</td>\n",
       "      <td>False</td>\n",
       "    </tr>\n",
       "  </tbody>\n",
       "</table>\n",
       "</div>"
      ],
      "text/plain": [
       "   object_id        creation_time               name  \\\n",
       "0          1  2014-04-22 03:53:30     Clausen August   \n",
       "1          2  2013-11-15 03:45:04      Poole Matthew   \n",
       "2          3  2013-03-19 23:14:52  Bottrill Mitchell   \n",
       "3          4  2013-05-21 08:09:28    Clausen Nicklas   \n",
       "4          5  2013-01-17 10:14:20          Raw Grace   \n",
       "\n",
       "                        email creation_source  last_session_creation_time  \\\n",
       "0    AugustCClausen@yahoo.com    GUEST_INVITE                1.398139e+09   \n",
       "1      MatthewPoole@gustr.com      ORG_INVITE                1.396238e+09   \n",
       "2  MitchellBottrill@gustr.com      ORG_INVITE                1.363735e+09   \n",
       "3   NicklasSClausen@yahoo.com    GUEST_INVITE                1.369210e+09   \n",
       "4          GraceRaw@yahoo.com    GUEST_INVITE                1.358850e+09   \n",
       "\n",
       "   opted_in_to_mailing_list  enabled_for_marketing_drip  org_id  \\\n",
       "0                         1                           0      11   \n",
       "1                         0                           0       1   \n",
       "2                         0                           0      94   \n",
       "3                         0                           0       1   \n",
       "4                         0                           0     193   \n",
       "\n",
       "   invited_by_user_id  adopted_user  \n",
       "0             10803.0         False  \n",
       "1               316.0         False  \n",
       "2              1525.0         False  \n",
       "3              5151.0         False  \n",
       "4              5240.0         False  "
      ]
     },
     "execution_count": 225,
     "metadata": {},
     "output_type": "execute_result"
    }
   ],
   "source": [
    "users_df.head()"
   ]
  },
  {
   "cell_type": "code",
   "execution_count": 226,
   "id": "3dc68030",
   "metadata": {},
   "outputs": [
    {
     "data": {
      "text/plain": [
       "object_id                       int64\n",
       "creation_time                  object\n",
       "name                           object\n",
       "email                          object\n",
       "creation_source                object\n",
       "last_session_creation_time    float64\n",
       "opted_in_to_mailing_list        int64\n",
       "enabled_for_marketing_drip      int64\n",
       "org_id                          int64\n",
       "invited_by_user_id            float64\n",
       "adopted_user                     bool\n",
       "dtype: object"
      ]
     },
     "execution_count": 226,
     "metadata": {},
     "output_type": "execute_result"
    }
   ],
   "source": [
    "users_df.dtypes"
   ]
  },
  {
   "cell_type": "code",
   "execution_count": 227,
   "id": "95d02fbc",
   "metadata": {},
   "outputs": [
    {
     "data": {
      "text/plain": [
       "object_id                        0\n",
       "creation_time                    0\n",
       "name                             0\n",
       "email                            0\n",
       "creation_source                  0\n",
       "last_session_creation_time    3177\n",
       "opted_in_to_mailing_list         0\n",
       "enabled_for_marketing_drip       0\n",
       "org_id                           0\n",
       "invited_by_user_id            5583\n",
       "adopted_user                     0\n",
       "dtype: int64"
      ]
     },
     "execution_count": 227,
     "metadata": {},
     "output_type": "execute_result"
    }
   ],
   "source": [
    "# check for missing values\n",
    "users_df.isna().sum()"
   ]
  },
  {
   "cell_type": "code",
   "execution_count": 228,
   "id": "ee5eecc9",
   "metadata": {},
   "outputs": [],
   "source": [
    "# drop \"invited_by_user_id\" since it is not a factor for predictions\n",
    "users_df.drop(\"invited_by_user_id\", axis=1, inplace=True)"
   ]
  },
  {
   "cell_type": "markdown",
   "id": "0505bbc7",
   "metadata": {},
   "source": [
    "It is possible that the NaN values for **last_session_creation_time** are users who created an account, but never used the service. I will check this by getting the **object_id** of users for whom **last_session_creation_time** is NaN, and finding if they have any engagement logged. "
   ]
  },
  {
   "cell_type": "code",
   "execution_count": 229,
   "id": "65a3fb85",
   "metadata": {},
   "outputs": [],
   "source": [
    "no_eng = users_df.loc[users_df[\"last_session_creation_time\"].isna(), \"object_id\"]"
   ]
  },
  {
   "cell_type": "code",
   "execution_count": 230,
   "id": "6718a67e",
   "metadata": {},
   "outputs": [
    {
     "data": {
      "text/plain": [
       "False"
      ]
     },
     "execution_count": 230,
     "metadata": {},
     "output_type": "execute_result"
    }
   ],
   "source": [
    "no_eng.isin(eng_df.columns).any()"
   ]
  },
  {
   "cell_type": "markdown",
   "id": "f158b248",
   "metadata": {},
   "source": [
    "None of the users for whom **last_session_creation_time** is NaN have any logged activity. Therefore, we will set the NaN values to 0."
   ]
  },
  {
   "cell_type": "code",
   "execution_count": 231,
   "id": "1b956a84",
   "metadata": {},
   "outputs": [],
   "source": [
    "users_df.fillna(0, inplace=True)"
   ]
  },
  {
   "cell_type": "markdown",
   "id": "954035a1",
   "metadata": {},
   "source": [
    "### EDA"
   ]
  },
  {
   "cell_type": "markdown",
   "id": "7a7ff8b5",
   "metadata": {},
   "source": [
    "We will do some preliminary EDA to form a hypothesis for which features are most important for predicting whether or not a user is an adopted user."
   ]
  },
  {
   "cell_type": "code",
   "execution_count": 232,
   "id": "5f21f14b",
   "metadata": {
    "scrolled": true
   },
   "outputs": [
    {
     "data": {
      "image/png": "[encoded data removed]",
      "text/plain": [
       "<Figure size 432x288 with 1 Axes>"
      ]
     },
     "metadata": {
      "needs_background": "light"
     },
     "output_type": "display_data"
    }
   ],
   "source": [
    "users_df.adopted_user.value_counts().plot(kind=\"bar\", xlabel=\"adopted user status\", ylabel=\"adopted user count\", \n",
    "                                          title=\"Count of Adopted Users\");"
   ]
  },
  {
   "cell_type": "markdown",
   "id": "3b4360e6",
   "metadata": {},
   "source": [
    "* this class imbalance may need to be addressed in the prediction stage"
   ]
  },
  {
   "cell_type": "code",
   "execution_count": 233,
   "id": "ec80fc60",
   "metadata": {},
   "outputs": [
    {
     "data": {
      "text/plain": [
       "ORG_INVITE            4254\n",
       "GUEST_INVITE          2163\n",
       "PERSONAL_PROJECTS     2111\n",
       "SIGNUP                2087\n",
       "SIGNUP_GOOGLE_AUTH    1385\n",
       "Name: creation_source, dtype: int64"
      ]
     },
     "execution_count": 233,
     "metadata": {},
     "output_type": "execute_result"
    }
   ],
   "source": [
    "users_df.creation_source.value_counts()"
   ]
  },
  {
   "cell_type": "code",
   "execution_count": 234,
   "id": "76d6383c",
   "metadata": {},
   "outputs": [
    {
     "data": {
      "image/png": "[encoded data removed]",
      "text/plain": [
       "<Figure size 432x288 with 1 Axes>"
      ]
     },
     "metadata": {
      "needs_background": "light"
     },
     "output_type": "display_data"
    }
   ],
   "source": [
    "# bar chart of adopted users per creation source\n",
    "pct_adoption = (users_df.groupby(\"creation_source\").adopted_user.sum() / users_df.creation_source.value_counts())*100\n",
    "pct_adoption.plot(kind=\"bar\", ylabel=\"adopted_users (%)\", title=\"Adopted Users per Creation Source\");"
   ]
  },
  {
   "cell_type": "markdown",
   "id": "538393ec",
   "metadata": {},
   "source": [
    "* ORG_INVITE and SIGNUP_GOOGLE_AUTH are the creation sources with the highest adopted users with about 12% of users adopting for each source. It may end up being one of the more important features.\n",
    "* Users who used the service for PERSONAL_PROJECTS were least likely to adopt. This could also end up being an important feature. "
   ]
  },
  {
   "cell_type": "code",
   "execution_count": 235,
   "id": "8c344a70",
   "metadata": {},
   "outputs": [
    {
     "data": {
      "image/png": "[encoded data removed]",
      "text/plain": [
       "<Figure size 432x288 with 2 Axes>"
      ]
     },
     "metadata": {
      "needs_background": "light"
     },
     "output_type": "display_data"
    }
   ],
   "source": [
    "cm = confusion_matrix(users_df[\"adopted_user\"], users_df[\"opted_in_to_mailing_list\"])\n",
    "sns.heatmap(cm, annot=True, fmt='.6g', cmap='Blues', square=True)\n",
    "plt.xlabel(\"adopted_user\", fontsize=14)\n",
    "plt.ylabel(\"opted_in_to_mailing_list\", fontsize=14)\n",
    "plt.show();"
   ]
  },
  {
   "cell_type": "markdown",
   "id": "473b1ce7",
   "metadata": {},
   "source": [
    "* Whether or not a user opted in to the mailing list will likely have a significant impact on predictions as well, with most users who did not opt in also not adopting (top left, 8,142 users). However, there is a significant number of users who did adopt but did not opt in to the mailing list (top right, 2,865 users)."
   ]
  },
  {
   "cell_type": "code",
   "execution_count": 236,
   "id": "8398d263",
   "metadata": {},
   "outputs": [
    {
     "data": {
      "image/png": "[encoded data removed]",
      "text/plain": [
       "<Figure size 432x288 with 2 Axes>"
      ]
     },
     "metadata": {
      "needs_background": "light"
     },
     "output_type": "display_data"
    }
   ],
   "source": [
    "cm = confusion_matrix(users_df[\"adopted_user\"], users_df[\"enabled_for_marketing_drip\"])\n",
    "sns.heatmap(cm, annot=True, fmt='.6g', cmap='Blues', square=True)\n",
    "plt.xlabel(\"adopted_user\", fontsize=14)\n",
    "plt.ylabel(\"enabled_for_marketing_drip\", fontsize=14)\n",
    "plt.show();"
   ]
  },
  {
   "cell_type": "markdown",
   "id": "d9e9cab6",
   "metadata": {},
   "source": [
    "* Very similar results to the previous visualization. We se that users who did not adopt the service also did not receieve the regular marketing drip. "
   ]
  },
  {
   "cell_type": "markdown",
   "id": "b88f51ef",
   "metadata": {},
   "source": [
    "### Preprocessing"
   ]
  },
  {
   "cell_type": "markdown",
   "id": "f998ba79",
   "metadata": {},
   "source": [
    "Now, we will find which features are most important for prediction. We will do the following preprocessing:\n",
    "1. drop all columns that are not useful for predicting. This includes:\n",
    "    * object_id\n",
    "    * creation_time\n",
    "    * name\n",
    "    * email\n",
    "    * last_session_creation_time\n",
    "    * org_id\n",
    "2. encode **creation_source** using one-hot encoding"
   ]
  },
  {
   "cell_type": "code",
   "execution_count": 237,
   "id": "a2c06a53",
   "metadata": {},
   "outputs": [],
   "source": [
    "# drop un-useful columns\n",
    "users_df.drop([\"object_id\", \n",
    "               \"creation_time\", \n",
    "               \"name\", \n",
    "               \"email\", \n",
    "               \"last_session_creation_time\", \n",
    "               \"org_id\"], \n",
    "              axis=1, inplace=True)"
   ]
  },
  {
   "cell_type": "code",
   "execution_count": 238,
   "id": "f715c088",
   "metadata": {},
   "outputs": [
    {
     "data": {
      "text/html": [
       "<div>\n",
       "<style scoped>\n",
       "    .dataframe tbody tr th:only-of-type {\n",
       "        vertical-align: middle;\n",
       "    }\n",
       "\n",
       "    .dataframe tbody tr th {\n",
       "        vertical-align: top;\n",
       "    }\n",
       "\n",
       "    .dataframe thead th {\n",
       "        text-align: right;\n",
       "    }\n",
       "</style>\n",
       "<table border=\"1\" class=\"dataframe\">\n",
       "  <thead>\n",
       "    <tr style=\"text-align: right;\">\n",
       "      <th></th>\n",
       "      <th>opted_in_to_mailing_list</th>\n",
       "      <th>enabled_for_marketing_drip</th>\n",
       "      <th>adopted_user</th>\n",
       "      <th>x0_GUEST_INVITE</th>\n",
       "      <th>x0_ORG_INVITE</th>\n",
       "      <th>x0_PERSONAL_PROJECTS</th>\n",
       "      <th>x0_SIGNUP</th>\n",
       "      <th>x0_SIGNUP_GOOGLE_AUTH</th>\n",
       "    </tr>\n",
       "  </thead>\n",
       "  <tbody>\n",
       "    <tr>\n",
       "      <th>0</th>\n",
       "      <td>1</td>\n",
       "      <td>0</td>\n",
       "      <td>False</td>\n",
       "      <td>1.0</td>\n",
       "      <td>0.0</td>\n",
       "      <td>0.0</td>\n",
       "      <td>0.0</td>\n",
       "      <td>0.0</td>\n",
       "    </tr>\n",
       "    <tr>\n",
       "      <th>1</th>\n",
       "      <td>0</td>\n",
       "      <td>0</td>\n",
       "      <td>False</td>\n",
       "      <td>0.0</td>\n",
       "      <td>1.0</td>\n",
       "      <td>0.0</td>\n",
       "      <td>0.0</td>\n",
       "      <td>0.0</td>\n",
       "    </tr>\n",
       "    <tr>\n",
       "      <th>2</th>\n",
       "      <td>0</td>\n",
       "      <td>0</td>\n",
       "      <td>False</td>\n",
       "      <td>0.0</td>\n",
       "      <td>1.0</td>\n",
       "      <td>0.0</td>\n",
       "      <td>0.0</td>\n",
       "      <td>0.0</td>\n",
       "    </tr>\n",
       "    <tr>\n",
       "      <th>3</th>\n",
       "      <td>0</td>\n",
       "      <td>0</td>\n",
       "      <td>False</td>\n",
       "      <td>1.0</td>\n",
       "      <td>0.0</td>\n",
       "      <td>0.0</td>\n",
       "      <td>0.0</td>\n",
       "      <td>0.0</td>\n",
       "    </tr>\n",
       "    <tr>\n",
       "      <th>4</th>\n",
       "      <td>0</td>\n",
       "      <td>0</td>\n",
       "      <td>False</td>\n",
       "      <td>1.0</td>\n",
       "      <td>0.0</td>\n",
       "      <td>0.0</td>\n",
       "      <td>0.0</td>\n",
       "      <td>0.0</td>\n",
       "    </tr>\n",
       "  </tbody>\n",
       "</table>\n",
       "</div>"
      ],
      "text/plain": [
       "   opted_in_to_mailing_list  enabled_for_marketing_drip  adopted_user  \\\n",
       "0                         1                           0         False   \n",
       "1                         0                           0         False   \n",
       "2                         0                           0         False   \n",
       "3                         0                           0         False   \n",
       "4                         0                           0         False   \n",
       "\n",
       "   x0_GUEST_INVITE  x0_ORG_INVITE  x0_PERSONAL_PROJECTS  x0_SIGNUP  \\\n",
       "0              1.0            0.0                   0.0        0.0   \n",
       "1              0.0            1.0                   0.0        0.0   \n",
       "2              0.0            1.0                   0.0        0.0   \n",
       "3              1.0            0.0                   0.0        0.0   \n",
       "4              1.0            0.0                   0.0        0.0   \n",
       "\n",
       "   x0_SIGNUP_GOOGLE_AUTH  \n",
       "0                    0.0  \n",
       "1                    0.0  \n",
       "2                    0.0  \n",
       "3                    0.0  \n",
       "4                    0.0  "
      ]
     },
     "execution_count": 238,
     "metadata": {},
     "output_type": "execute_result"
    }
   ],
   "source": [
    "# encode creation_source\n",
    "onehot = OneHotEncoder()\n",
    "column_names = users_df.drop(\"creation_source\", axis=1).columns.to_list()\n",
    "encoded = pd.DataFrame(onehot.fit_transform(np.array(users_df[\"creation_source\"]).reshape(-1,1)).toarray())\n",
    "encoded_df = pd.concat([users_df.drop(\"creation_source\", axis=1), encoded], axis=1)\n",
    "column_names.extend(list(onehot.get_feature_names()))\n",
    "encoded_df.columns = column_names\n",
    "encoded_df.head()"
   ]
  },
  {
   "cell_type": "markdown",
   "id": "43f8f0ae",
   "metadata": {},
   "source": [
    "### Model Selection"
   ]
  },
  {
   "cell_type": "code",
   "execution_count": 239,
   "id": "1668d284",
   "metadata": {},
   "outputs": [],
   "source": [
    "# split data into training and test sets\n",
    "X = encoded_df.drop(\"adopted_user\", axis=1)\n",
    "y = encoded_df.adopted_user.copy().astype(int)\n",
    "X_train, X_test, y_train, y_test = train_test_split(X, y, test_size=0.3, random_state=42)"
   ]
  },
  {
   "cell_type": "markdown",
   "id": "ea365721",
   "metadata": {},
   "source": [
    "First, we will use a dummy classifier to get benchmarks against which to compare our classifier:"
   ]
  },
  {
   "cell_type": "code",
   "execution_count": 250,
   "id": "7eee5b78",
   "metadata": {},
   "outputs": [
    {
     "data": {
      "text/plain": [
       "0.9027777777777778"
      ]
     },
     "execution_count": 250,
     "metadata": {},
     "output_type": "execute_result"
    }
   ],
   "source": [
    "dummy_cls = DummyClassifier(strategy=\"most_frequent\")\n",
    "dummy_cls.fit(X_train, y_train)\n",
    "dummy_pred = dummy_cls.predict(X_test)\n",
    "accuracy_score(y_test, dummy_pred)"
   ]
  },
  {
   "cell_type": "markdown",
   "id": "a546b91a",
   "metadata": {},
   "source": [
    "A dummy classifier that only chooses the most frequent class has an accuracy of 90%. Because of the large class imbalance, accuracy is not a good metric to judge my results by. \n",
    "\n",
    "Instead, I will use AUC-ROC. AUC-ROC will show the relationship between the true positive rate (users who adopt correctly identified) and the false positive rate (users who do not adopt incorrectly identified as adopt). As our goal is to identify which factors lead to user adoption, this is the most important distinction for our model to make. "
   ]
  },
  {
   "cell_type": "code",
   "execution_count": 241,
   "id": "53d1caf1",
   "metadata": {},
   "outputs": [
    {
     "name": "stdout",
     "output_type": "stream",
     "text": [
      "0.5\n"
     ]
    },
    {
     "data": {
      "image/png": "[encoded data removed]",
      "text/plain": [
       "<Figure size 432x288 with 1 Axes>"
      ]
     },
     "metadata": {
      "needs_background": "light"
     },
     "output_type": "display_data"
    }
   ],
   "source": [
    "print(roc_auc_score(y_test, dummy_pred))\n",
    "plot_roc_curve(dummy_cls, X_test, y_test);"
   ]
  },
  {
   "cell_type": "code",
   "execution_count": 242,
   "id": "a93784a4",
   "metadata": {},
   "outputs": [
    {
     "data": {
      "text/plain": [
       "0.5"
      ]
     },
     "execution_count": 242,
     "metadata": {},
     "output_type": "execute_result"
    }
   ],
   "source": [
    "# fit and predict an XGBClassifier\n",
    "from sklearn.ensemble import GradientBoostingClassifier as GBClassifier\n",
    "gb_cls = GBClassifier()\n",
    "gb_cls.fit(X_train, y_train)\n",
    "y_pred = gb_cls.predict(X_test)\n",
    "roc_auc_score(y_test, y_pred)"
   ]
  },
  {
   "cell_type": "code",
   "execution_count": 243,
   "id": "0d090de9",
   "metadata": {},
   "outputs": [
    {
     "data": {
      "text/plain": [
       "0.5"
      ]
     },
     "execution_count": 243,
     "metadata": {},
     "output_type": "execute_result"
    }
   ],
   "source": [
    "from sklearn.ensemble import RandomForestClassifier\n",
    "rf = RandomForestClassifier()\n",
    "rf.fit(X_train, y_train)\n",
    "rf_pred = rf.predict(X_test)\n",
    "roc_auc_score(y_test, rf_pred)"
   ]
  },
  {
   "cell_type": "code",
   "execution_count": 244,
   "id": "d785fc29",
   "metadata": {},
   "outputs": [
    {
     "data": {
      "text/plain": [
       "0.5"
      ]
     },
     "execution_count": 244,
     "metadata": {},
     "output_type": "execute_result"
    }
   ],
   "source": [
    "from sklearn.linear_model import LogisticRegression\n",
    "logreg = LogisticRegression()\n",
    "logreg.fit(X_train, y_train)\n",
    "lr_pred = logreg.predict(X_test)\n",
    "roc_auc_score(y_test, lr_pred)"
   ]
  },
  {
   "cell_type": "code",
   "execution_count": 248,
   "id": "14df9c2f",
   "metadata": {},
   "outputs": [
    {
     "data": {
      "text/plain": [
       "0.49992219780219777"
      ]
     },
     "execution_count": 248,
     "metadata": {},
     "output_type": "execute_result"
    }
   ],
   "source": [
    "from sklearn.cluster import KMeans\n",
    "km = KMeans()\n",
    "km.fit(X_train, y_train)\n",
    "km_pred = km.predict(X_test)\n",
    "roc_auc_score(y_test, km_pred)"
   ]
  },
  {
   "cell_type": "markdown",
   "id": "ccf87917",
   "metadata": {},
   "source": [
    "All of the models have the same ROC-AUC score out-the-box. I will move with the GradientBoostingClassifier as it generally outperforms other models. "
   ]
  },
  {
   "cell_type": "markdown",
   "id": "6e884d43",
   "metadata": {},
   "source": [
    "### Hyperparameter Tuning"
   ]
  },
  {
   "cell_type": "code",
   "execution_count": 209,
   "id": "29e838af",
   "metadata": {},
   "outputs": [
    {
     "data": {
      "text/plain": [
       "0.5"
      ]
     },
     "execution_count": 209,
     "metadata": {},
     "output_type": "execute_result"
    }
   ],
   "source": [
    "# use GridSearchCV to tune hyperparameters for a Gradient Boosting classifier\n",
    "param_dict = { \n",
    "    \"learning_rate\":[0.000001,0.00001,0.0001], \n",
    "    \"subsample\":[0.01, 0.1,1],\n",
    "    \"max_depth\":[9,10,11],\n",
    "    \"min_samples_split\":[0.01,0.1,1],\n",
    "    \"min_samples_leaf\":[0.001,0.01,0.1],\n",
    "    \"n_estimators\":[5,10,50,100],\n",
    "    \n",
    "}\n",
    "gs = GridSearchCV(GBClassifier(), param_dict, scoring=\"roc_auc\", cv=3, n_jobs=-1)\n",
    "gs.fit(X_train, y_train)\n",
    "gs_pred = gs.predict(X_test)\n",
    "roc_auc_score(y_test, gs_pred)"
   ]
  },
  {
   "cell_type": "code",
   "execution_count": 210,
   "id": "eba62955",
   "metadata": {},
   "outputs": [
    {
     "data": {
      "text/plain": [
       "{'learning_rate': 1e-05,\n",
       " 'max_depth': 10,\n",
       " 'min_samples_leaf': 0.01,\n",
       " 'min_samples_split': 0.01,\n",
       " 'n_estimators': 5,\n",
       " 'subsample': 0.1}"
      ]
     },
     "execution_count": 210,
     "metadata": {},
     "output_type": "execute_result"
    }
   ],
   "source": [
    "gs.best_params_"
   ]
  },
  {
   "cell_type": "code",
   "execution_count": 211,
   "id": "d97b2a64",
   "metadata": {
    "scrolled": false
   },
   "outputs": [
    {
     "data": {
      "image/png": "[encoded data removed]",
      "text/plain": [
       "<Figure size 1296x432 with 2 Axes>"
      ]
     },
     "metadata": {
      "needs_background": "light"
     },
     "output_type": "display_data"
    }
   ],
   "source": [
    "# plot feature importance and AUC-ROC curve\n",
    "fig, axs = plt.subplots(1,2, figsize=(18,6))\n",
    "best_est = gs.best_estimator_\n",
    "feat_importance = pd.DataFrame(best_est.feature_importances_, index=X.columns)\n",
    "feat_importance.plot(kind=\"bar\", legend=None, ax=axs[0], title=\"Feature Importance\")\n",
    "plot_roc_curve(best_est, X_test, y_test, ax=axs[1])\n",
    "plt.show();"
   ]
  },
  {
   "cell_type": "code",
   "execution_count": 212,
   "id": "3e60b00c",
   "metadata": {},
   "outputs": [
    {
     "data": {
      "text/plain": [
       "0.9027777777777778"
      ]
     },
     "execution_count": 212,
     "metadata": {},
     "output_type": "execute_result"
    }
   ],
   "source": [
    "y_pred = best_est.predict(X_test)\n",
    "accuracy_score(y_test, y_pred)"
   ]
  },
  {
   "cell_type": "markdown",
   "id": "235d3e68",
   "metadata": {},
   "source": [
    "### Conclusions"
   ]
  },
  {
   "cell_type": "markdown",
   "id": "2a187bef",
   "metadata": {},
   "source": [
    "Even with tuning hyperparameters using GridSearchCV, I was only able to get an ROC_AUC score that is slightly better than the score I got with a dummy classifier that just selects the most frequent class. \n",
    "\n",
    "This could be because there are not enough features for the classifier to learn the relationship between the features and the target. It is unlikely that another algorithm would have better performance, as gradient boosting usually outperforms other classification models. \n",
    "\n",
    "Therefore, even though our model is 90% accurate, this does not tell us anything about its capacity to predict whether or not a user will adopt the service because the dummy classifier also scored 90% accuracy. \n",
    "\n",
    "We do get a picture of the important features, with the **SIGNUP_GOOGL_AUTH** and **PERSONAL_PROJECTS** labels in the **creation_source** feature being the most decisive in determining which users adopt and which ones don't. This matches our observations from EDA. \n",
    "\n",
    "However, this conclusion should be taken with a grain of salt, as the model did not learn the relationship between features and target very well. More data is required to get more accurate results. "
   ]
  }
 ],
 "metadata": {
  "kernelspec": {
   "display_name": "Python 3",
   "language": "python",
   "name": "python3"
  },
  "language_info": {
   "codemirror_mode": {
    "name": "ipython",
    "version": 3
   },
   "file_extension": ".py",
   "mimetype": "text/x-python",
   "name": "python",
   "nbconvert_exporter": "python",
   "pygments_lexer": "ipython3",
   "version": "3.8.2"
  }
 },
 "nbformat": 4,
 "nbformat_minor": 5
}
