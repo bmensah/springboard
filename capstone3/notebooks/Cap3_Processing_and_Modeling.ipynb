{
 "cells": [
  {
   "cell_type": "markdown",
   "id": "fafbabda",
   "metadata": {},
   "source": [
    "<h1> Capstone 3: Processing and Modeling </h1><a id='Capstone_3_Processing_and_Modeling'></a>"
   ]
  },
  {
   "cell_type": "markdown",
   "id": "80803bdc",
   "metadata": {},
   "source": [
    "## Table of Contents<a id='Table_of_Contents'></a>\n",
    "* [1 Imports](#Imports)\n",
    "    * [1.1 Import Libraries](#Import_Libraries)\n",
    "    * [1.2 Import Data](#Import_Data)\n",
    "    \n",
    "* [2 Task](#Task)\n",
    "* [3 Develop Bag-of-Words Model for Sentiment Analysis](#Develop_Bag-of-Words_Model_for_Sentiment_Analysis) \n",
    "    * [3.1 Train-Test Split](#Train-Test_Split)\n",
    "    * [3.2 Encode Text as Vectors](#Encode_Text_as_Vectors)\n",
    "    * [3.3 Develop a Multi-Layer Perceptron](#Develop_a_Multi-Layer_Perceptron)\n",
    "* [4 Predict Tweet Sentiment](#Predict_Tweet_Sentiment)\n",
    "* [5 Topic Modeling](#Topic_Modeling)"
   ]
  },
  {
   "cell_type": "markdown",
   "id": "93ba5eed",
   "metadata": {},
   "source": [
    "## Imports <a id=\"Imports\"></a>"
   ]
  },
  {
   "cell_type": "markdown",
   "id": "18149de2",
   "metadata": {},
   "source": [
    "### Import Libraries <a id=\"Import_Libraries\"></a>"
   ]
  },
  {
   "cell_type": "code",
   "execution_count": 94,
   "id": "e6d31f6d",
   "metadata": {},
   "outputs": [
    {
     "name": "stderr",
     "output_type": "stream",
     "text": [
      "/Users/Bradley/Desktop/springboard/capstone3/cap3env/lib/python3.8/site-packages/ipykernel/ipkernel.py:283: DeprecationWarning: `should_run_async` will not call `transform_cell` automatically in the future. Please pass the result to `transformed_cell` argument and any exception that happen during thetransform in `preprocessing_exc_tuple` in IPython 7.17 and above.\n",
      "  and should_run_async(code)\n"
     ]
    }
   ],
   "source": [
    "import warnings\n",
    "warnings.filterwarnings(\"ignore\", category=DeprecationWarning)\n",
    "\n",
    "import pandas as pd\n",
    "import numpy as np\n",
    "import pickle\n",
    "from collections import Counter\n",
    "import gensim\n",
    "import pyLDAvis\n",
    "import pyLDAvis.gensim_models as gensimvis\n",
    "\n",
    "from keras.preprocessing.text import Tokenizer\n",
    "from keras import Sequential\n",
    "from keras.layers import Dense"
   ]
  },
  {
   "cell_type": "markdown",
   "id": "a7e3177d",
   "metadata": {},
   "source": [
    "### Import Data <a id=\"Import_Data\"></a>"
   ]
  },
  {
   "cell_type": "code",
   "execution_count": 2,
   "id": "60232e11",
   "metadata": {},
   "outputs": [],
   "source": [
    "with open(\"../data/processed/twcs_dict.pkl\", \"rb\") as pkl_file:\n",
    "    twcs_dict = pickle.load(pkl_file)"
   ]
  },
  {
   "cell_type": "code",
   "execution_count": 3,
   "id": "21b2aca3",
   "metadata": {},
   "outputs": [],
   "source": [
    "with open(\"../data/processed/pos_tweets.pkl\", \"rb\") as pkl_file:\n",
    "    pos_tweets = pickle.load(pkl_file)"
   ]
  },
  {
   "cell_type": "code",
   "execution_count": 4,
   "id": "0d30d3a7",
   "metadata": {},
   "outputs": [],
   "source": [
    "with open(\"../data/processed/neg_tweets.pkl\", \"rb\") as pkl_file:\n",
    "    neg_tweets = pickle.load(pkl_file)"
   ]
  },
  {
   "cell_type": "markdown",
   "id": "a49aa1c1",
   "metadata": {},
   "source": [
    "## Task <a id=\"Task\"></a>"
   ]
  },
  {
   "cell_type": "markdown",
   "id": "822131bf",
   "metadata": {},
   "source": [
    "In this step I will:\n",
    "\n",
    "1. develop a neural bag-of-words model for sentiment analysis\n",
    "    * our training data is the **neg_tweets** and **pos_tweets** lists, which are tweets that have been labelled as positive or negative. Our testing data is the dataframes with customer tweets before and after a customer service interaction in **twcs_dict**. \n",
    "    * [click here to see the previous notebook in which I process and clean the raw data](https://github.com/bmensah/springboard/blob/main/capstone3/notebooks/Cap3_Wrangling_and_EDA.ipynb)\n",
    "\n",
    "\n",
    "2. apply Latent Dirichlet Allocation (LDA) Topic Modeling on the customer tweets to find out whether there are certain trends that appear in customer issues.\n",
    "\n",
    "\n",
    "3. explore differentiating factors between companies that are effective at changing customer sentiment and those that are not"
   ]
  },
  {
   "cell_type": "markdown",
   "id": "bb62ab6f",
   "metadata": {},
   "source": [
    "helpful links, delete this later\n",
    "\n",
    "\n",
    "pyLDAvis: https://github.com/bmabey/pyLDAvis\n",
    "\n",
    "LDA: https://towardsdatascience.com/topic-modeling-and-latent-dirichlet-allocation-in-python-9bf156893c24"
   ]
  },
  {
   "cell_type": "markdown",
   "id": "cba38b80",
   "metadata": {},
   "source": [
    "## Develop Bag-of-Words Model for Sentiment Analysis <a id=\"Develop_Bag-of-Words_Model_for_Sentiment_Analysis\"></a>"
   ]
  },
  {
   "cell_type": "markdown",
   "id": "ee4a27b4",
   "metadata": {},
   "source": [
    "The labelled tweets were fully processed in the previous notebook. Here, I will split the data into train and validation sets and vectorize. "
   ]
  },
  {
   "cell_type": "markdown",
   "id": "fc81b2c1",
   "metadata": {},
   "source": [
    "#### Positive Tweets"
   ]
  },
  {
   "cell_type": "markdown",
   "id": "b95cc0f3",
   "metadata": {},
   "source": [
    "<font color=\"red\">In order to run stuff locally, I'm going to try cutting down the sizes of the arrays from 800,000 each to 40,000 each.</font>"
   ]
  },
  {
   "cell_type": "code",
   "execution_count": 6,
   "id": "33fec881",
   "metadata": {},
   "outputs": [
    {
     "name": "stdout",
     "output_type": "stream",
     "text": [
      "previous length 800000\n",
      "new length 40000\n"
     ]
    }
   ],
   "source": [
    "print(\"previous length:\",len(pos_tweets))\n",
    "pos_tweets = pos_tweets[:len(pos_tweets)//20]\n",
    "print(\"new length:\",len(pos_tweets))"
   ]
  },
  {
   "cell_type": "code",
   "execution_count": 7,
   "id": "46615746",
   "metadata": {
    "scrolled": true
   },
   "outputs": [
    {
     "data": {
      "text/plain": [
       "list"
      ]
     },
     "execution_count": 7,
     "metadata": {},
     "output_type": "execute_result"
    }
   ],
   "source": [
    "type(pos_tweets)"
   ]
  },
  {
   "cell_type": "code",
   "execution_count": 8,
   "id": "10cc1f5c",
   "metadata": {},
   "outputs": [
    {
     "name": "stdout",
     "output_type": "stream",
     "text": [
      "[['love', 'guys', 'best'], ['im', 'meeting', 'one', 'besties', 'tonight', 'cant', 'wait', 'girl', 'talk'], ['thanks', 'twitter', 'add', 'got', 'meet', 'hin', 'show', 'dc', 'area', 'sweetheart']]\n"
     ]
    }
   ],
   "source": [
    "print(pos_tweets[:3])"
   ]
  },
  {
   "cell_type": "markdown",
   "id": "03b4b977",
   "metadata": {},
   "source": [
    "#### Negative Tweets"
   ]
  },
  {
   "cell_type": "code",
   "execution_count": 9,
   "id": "78c36f1e",
   "metadata": {},
   "outputs": [
    {
     "name": "stdout",
     "output_type": "stream",
     "text": [
      "previous length: 800000\n",
      "new length: 40000\n"
     ]
    }
   ],
   "source": [
    "print(\"previous length:\",len(neg_tweets))\n",
    "neg_tweets = neg_tweets[:len(neg_tweets)//20]\n",
    "print(\"new length:\",len(neg_tweets))"
   ]
  },
  {
   "cell_type": "code",
   "execution_count": 10,
   "id": "7c7cd961",
   "metadata": {},
   "outputs": [
    {
     "data": {
      "text/plain": [
       "list"
      ]
     },
     "execution_count": 10,
     "metadata": {},
     "output_type": "execute_result"
    }
   ],
   "source": [
    "type(neg_tweets)"
   ]
  },
  {
   "cell_type": "code",
   "execution_count": 11,
   "id": "deede8ab",
   "metadata": {},
   "outputs": [
    {
     "name": "stdout",
     "output_type": "stream",
     "text": [
      "[['awww', 'thats', 'bummer', 'you', 'shoulda', 'got', 'david', 'carr', 'third', 'day'], ['upset', 'cant', 'update', 'facebook', 'texting', 'might', 'cry', 'result', 'school', 'today', 'also', 'blah'], ['many', 'times', 'ball', 'managed', 'save', 'the', 'rest', 'go', 'bounds']]\n"
     ]
    }
   ],
   "source": [
    "print(neg_tweets[:3])"
   ]
  },
  {
   "cell_type": "markdown",
   "id": "4532eb38",
   "metadata": {},
   "source": [
    "### Train-Test Split<a id=\"Train-Test_Split\"></a>"
   ]
  },
  {
   "cell_type": "code",
   "execution_count": 12,
   "id": "dc5a8ab6",
   "metadata": {},
   "outputs": [],
   "source": [
    "# create labels: 1 is positive, 0 is negative\n",
    "pos_labels = np.zeros(len(pos_tweets))+1\n",
    "neg_labels = np.zeros(len(neg_tweets))"
   ]
  },
  {
   "cell_type": "code",
   "execution_count": 32,
   "id": "86f5817d",
   "metadata": {},
   "outputs": [],
   "source": [
    "# train-test split\n",
    "split = int(len(pos_tweets)*.75)\n",
    "\n",
    "X_train = pos_tweets[:split]\n",
    "X_train.extend(neg_tweets[:split])\n",
    "X_test = pos_tweets[split:]\n",
    "X_test.extend(neg_tweets[split:])\n",
    "y_train = np.append(pos_labels[:split], neg_labels[:split])\n",
    "y_test = np.append(pos_labels[split:], neg_labels[split:])"
   ]
  },
  {
   "cell_type": "code",
   "execution_count": 39,
   "id": "dc24ebff",
   "metadata": {},
   "outputs": [
    {
     "name": "stdout",
     "output_type": "stream",
     "text": [
      "X_train length: 60,000\n",
      "X_test length: 20,000\n",
      "y_train length: 60,000\n",
      "y_test length: 20,000\n"
     ]
    }
   ],
   "source": [
    "lt = [\"X_train\", \"X_test\", \"y_train\", \"y_test\"]\n",
    "for arr in lt:\n",
    "    print(arr+\" length: {:,}\".format(len(eval(arr))))"
   ]
  },
  {
   "cell_type": "markdown",
   "id": "a044a9b1",
   "metadata": {},
   "source": [
    "I will now develop a vocabulary based only on the train set to simulate a real scenario in which the test set would not be available. "
   ]
  },
  {
   "cell_type": "code",
   "execution_count": 14,
   "id": "65266975",
   "metadata": {},
   "outputs": [],
   "source": [
    "vocab = Counter()\n",
    "for tweet in X_train:\n",
    "    vocab.update(tweet)"
   ]
  },
  {
   "cell_type": "code",
   "execution_count": 15,
   "id": "5148768f",
   "metadata": {},
   "outputs": [
    {
     "name": "stdout",
     "output_type": "stream",
     "text": [
      "most common words:\n"
     ]
    },
    {
     "data": {
      "text/plain": [
       "[('im', 6250),\n",
       " ('good', 3388),\n",
       " ('day', 3100),\n",
       " ('get', 2988),\n",
       " ('like', 2867),\n",
       " ('go', 2822),\n",
       " ('work', 2624),\n",
       " ('going', 2581),\n",
       " ('today', 2546),\n",
       " ('dont', 2448)]"
      ]
     },
     "execution_count": 15,
     "metadata": {},
     "output_type": "execute_result"
    }
   ],
   "source": [
    "print(\"most common words:\")\n",
    "vocab.most_common()[:10]"
   ]
  },
  {
   "cell_type": "code",
   "execution_count": 16,
   "id": "d51dc4b7",
   "metadata": {},
   "outputs": [
    {
     "name": "stdout",
     "output_type": "stream",
     "text": [
      "least common words:\n"
     ]
    },
    {
     "data": {
      "text/plain": [
       "[('altough', 1),\n",
       " ('puedo', 1),\n",
       " ('oily', 1),\n",
       " ('bane', 1),\n",
       " ('hace', 1),\n",
       " ('speeches', 1),\n",
       " ('fuckkkk', 1),\n",
       " ('havta', 1),\n",
       " ('dwn', 1),\n",
       " ('nooooooooooooooo', 1)]"
      ]
     },
     "execution_count": 16,
     "metadata": {},
     "output_type": "execute_result"
    }
   ],
   "source": [
    "print(\"least common words:\")\n",
    "vocab.most_common()[-10:]"
   ]
  },
  {
   "cell_type": "code",
   "execution_count": 17,
   "id": "a57ee233",
   "metadata": {},
   "outputs": [
    {
     "name": "stdout",
     "output_type": "stream",
     "text": [
      "vocab size: 23,028 words\n"
     ]
    }
   ],
   "source": [
    "print(\"vocab size: {:,} words\".format(len(vocab)))"
   ]
  },
  {
   "cell_type": "code",
   "execution_count": 18,
   "id": "f7fc2835",
   "metadata": {},
   "outputs": [
    {
     "name": "stdout",
     "output_type": "stream",
     "text": [
      "trimmed vocab size: 6,387 words\n"
     ]
    }
   ],
   "source": [
    "# im is the most common but unlikely to help prediction\n",
    "del vocab[\"im\"]\n",
    "\n",
    "# remove words that occur less than 5 times in the vocabulary \n",
    "trimmed_vocab = Counter([k for k,v in vocab.items() if v > 5])\n",
    "\n",
    "# see new size\n",
    "print(\"trimmed vocab size: {:,} words\".format(len(trimmed_vocab)))"
   ]
  },
  {
   "cell_type": "code",
   "execution_count": 19,
   "id": "563dd8c2",
   "metadata": {},
   "outputs": [],
   "source": [
    "# remove words not in vocab and join words into one string per document\n",
    "for i in range(len(X_train)):\n",
    "    X_train[i] = [w for w in X_train[i] if w in trimmed_vocab]"
   ]
  },
  {
   "cell_type": "code",
   "execution_count": 20,
   "id": "85d0930d",
   "metadata": {},
   "outputs": [
    {
     "name": "stdout",
     "output_type": "stream",
     "text": [
      "[['love', 'guys', 'best'], ['meeting', 'one', 'besties', 'tonight', 'cant', 'wait', 'girl', 'talk'], ['thanks', 'twitter', 'add', 'got', 'meet', 'show', 'dc', 'area', 'sweetheart'], ['being', 'sick', 'really', 'cheap', 'hurts', 'much', 'eat', 'real', 'food', 'plus', 'friends', 'make', 'soup'], ['effect', 'everyone']]\n"
     ]
    }
   ],
   "source": [
    "print(X_train[:5])"
   ]
  },
  {
   "cell_type": "markdown",
   "id": "8d44195c",
   "metadata": {},
   "source": [
    "### Encode Text as Vectors<a id=\"Encode_Text_as_Vectors\"></a>"
   ]
  },
  {
   "cell_type": "code",
   "execution_count": 21,
   "id": "3b91499f",
   "metadata": {},
   "outputs": [],
   "source": [
    "# transform the vocabulary into a list of strings\n",
    "tokens = [w for w in trimmed_vocab]\n",
    "\n",
    "# encode vocab\n",
    "tokenizer = Tokenizer()\n",
    "tokenizer.fit_on_texts(tokens)"
   ]
  },
  {
   "cell_type": "code",
   "execution_count": 22,
   "id": "0f34fe82",
   "metadata": {},
   "outputs": [],
   "source": [
    "# encode train and test data\n",
    "X_train_en = tokenizer.texts_to_matrix(X_train, mode=\"freq\")\n",
    "X_test_en = tokenizer.texts_to_matrix(X_test, mode=\"freq\")"
   ]
  },
  {
   "cell_type": "code",
   "execution_count": 23,
   "id": "e935ecaf",
   "metadata": {},
   "outputs": [
    {
     "name": "stdout",
     "output_type": "stream",
     "text": [
      "train data shape: (60000, 6388)\n",
      "test data shape: (20000, 6388)\n"
     ]
    }
   ],
   "source": [
    "print(\"train data shape:\", X_train_en.shape)\n",
    "print(\"test data shape:\", X_test_en.shape)"
   ]
  },
  {
   "cell_type": "markdown",
   "id": "10d17a0e",
   "metadata": {},
   "source": [
    "### Develop a Multi-Layer Perceptron<a id=\"Develop_a_Multi-Layer_Perceptron\"></a>"
   ]
  },
  {
   "cell_type": "code",
   "execution_count": 24,
   "id": "999498c2",
   "metadata": {},
   "outputs": [],
   "source": [
    "# create an input layer the same size as the vocabulary\n",
    "n_words = X_train_en.shape[1]"
   ]
  },
  {
   "cell_type": "code",
   "execution_count": 25,
   "id": "0c7725e8",
   "metadata": {},
   "outputs": [
    {
     "name": "stdout",
     "output_type": "stream",
     "text": [
      "Model: \"sequential\"\n",
      "_________________________________________________________________\n",
      "Layer (type)                 Output Shape              Param #   \n",
      "=================================================================\n",
      "dense (Dense)                (None, 50)                319450    \n",
      "_________________________________________________________________\n",
      "dense_1 (Dense)              (None, 1)                 51        \n",
      "=================================================================\n",
      "Total params: 319,501\n",
      "Trainable params: 319,501\n",
      "Non-trainable params: 0\n",
      "_________________________________________________________________\n"
     ]
    }
   ],
   "source": [
    "# create model\n",
    "model = Sequential()\n",
    "# define hidden layer\n",
    "model.add(Dense(50, input_shape=(n_words,), activation=\"relu\"))\n",
    "# define output layer\n",
    "model.add(Dense(1, activation=\"sigmoid\"))\n",
    "# compile\n",
    "model.compile(loss=\"binary_crossentropy\", optimizer=\"adam\", metrics=[\"accuracy\"])\n",
    "model.summary()"
   ]
  },
  {
   "cell_type": "code",
   "execution_count": 26,
   "id": "19253fab",
   "metadata": {
    "scrolled": false
   },
   "outputs": [
    {
     "name": "stdout",
     "output_type": "stream",
     "text": [
      "Epoch 1/10\n",
      "1875/1875 [==============================] - 24s 5ms/step - loss: 0.5924 - accuracy: 0.7035\n",
      "Epoch 2/10\n",
      "1875/1875 [==============================] - 6s 3ms/step - loss: 0.4627 - accuracy: 0.7843\n",
      "Epoch 3/10\n",
      "1875/1875 [==============================] - 7s 4ms/step - loss: 0.4406 - accuracy: 0.7961\n",
      "Epoch 4/10\n",
      "1875/1875 [==============================] - 6s 3ms/step - loss: 0.4228 - accuracy: 0.8060\n",
      "Epoch 5/10\n",
      "1875/1875 [==============================] - 7s 4ms/step - loss: 0.4087 - accuracy: 0.8128\n",
      "Epoch 6/10\n",
      "1875/1875 [==============================] - 6s 3ms/step - loss: 0.3996 - accuracy: 0.8169\n",
      "Epoch 7/10\n",
      "1875/1875 [==============================] - 7s 4ms/step - loss: 0.3851 - accuracy: 0.8248\n",
      "Epoch 8/10\n",
      "1875/1875 [==============================] - 6s 3ms/step - loss: 0.3816 - accuracy: 0.8281\n",
      "Epoch 9/10\n",
      "1875/1875 [==============================] - 6s 3ms/step - loss: 0.3718 - accuracy: 0.8343\n",
      "Epoch 10/10\n",
      "1875/1875 [==============================] - 6s 3ms/step - loss: 0.3581 - accuracy: 0.8417\n"
     ]
    },
    {
     "data": {
      "text/plain": [
       "<keras.callbacks.History at 0x7f84d5d1c2e0>"
      ]
     },
     "execution_count": 26,
     "metadata": {},
     "output_type": "execute_result"
    }
   ],
   "source": [
    "model.fit(X_train_en, y_train, epochs=10, verbose=1)"
   ]
  },
  {
   "cell_type": "code",
   "execution_count": 40,
   "id": "945af68c",
   "metadata": {},
   "outputs": [
    {
     "name": "stdout",
     "output_type": "stream",
     "text": [
      "625/625 [==============================] - 2s 2ms/step - loss: 0.5625 - accuracy: 0.7618\n"
     ]
    }
   ],
   "source": [
    "# evaluate\n",
    "loss, acc = model.evaluate(X_test_en, y_test, verbose=1)"
   ]
  },
  {
   "cell_type": "markdown",
   "id": "79b74569",
   "metadata": {},
   "source": [
    "This text for this model was encoded using frequency within each document. Now, I will try the other three modes of encoding: frequency over all documents (tfidf), binary/onehot encoding, and count. "
   ]
  },
  {
   "cell_type": "code",
   "execution_count": 42,
   "id": "b1b4d145",
   "metadata": {},
   "outputs": [
    {
     "name": "stdout",
     "output_type": "stream",
     "text": [
      "Mode: tfidf\n",
      "Loss: 1.5128040313720703\n",
      "Accuracy: 0.7335000038146973\n",
      "-----------\n",
      "Mode: binary\n",
      "Loss: 0.9243593811988831\n",
      "Accuracy: 0.7432500123977661\n",
      "-----------\n",
      "Mode: count\n",
      "Loss: 0.9496979713439941\n",
      "Accuracy: 0.7421500086784363\n",
      "-----------\n"
     ]
    }
   ],
   "source": [
    "modes = [\"tfidf\",\"binary\",\"count\"]\n",
    "for mode in modes:\n",
    "    # encode according to mode\n",
    "    X_train_en = tokenizer.texts_to_matrix(X_train, mode=mode)\n",
    "    X_test_en = tokenizer.texts_to_matrix(X_test, mode=mode)\n",
    "    # define model\n",
    "    model = Sequential()\n",
    "    # define hidden layer\n",
    "    model.add(Dense(50, input_shape=(n_words,), activation=\"relu\"))\n",
    "    # define output layer\n",
    "    model.add(Dense(1, activation=\"sigmoid\"))\n",
    "    # compile\n",
    "    model.compile(loss=\"binary_crossentropy\", optimizer=\"adam\", metrics=[\"accuracy\"])\n",
    "    # fit model\n",
    "    model.fit(X_train_en, y_train, epochs=10, verbose=0)\n",
    "    # evaluate and print results\n",
    "    loss, acc = model.evaluate(X_test_en, y_test, verbose=0)\n",
    "    print(\"Mode:\", mode)\n",
    "    print(\"Loss:\", loss)\n",
    "    print(\"Accuracy:\", acc)\n",
    "    print(\"-----------\")"
   ]
  },
  {
   "cell_type": "markdown",
   "id": "07d29a28",
   "metadata": {},
   "source": [
    "With an accuracy of 0.76, encoding documents with frequency, the first option we used, seems to be the best. \n",
    "<font color=\"red\">Because of the stochastic nature of neural networks, I should run several trials for each method; about 10. These scores are pretty close, so it is not certain freq will be the best on every run through. After doing that, I should choose the best encoding method, and train a model in a cloud environment (AWS, GCP) on all of the data. </font>"
   ]
  },
  {
   "cell_type": "code",
   "execution_count": 45,
   "id": "9ad196c1",
   "metadata": {},
   "outputs": [
    {
     "data": {
      "text/plain": [
       "<keras.callbacks.History at 0x7f83d1344370>"
      ]
     },
     "execution_count": 45,
     "metadata": {},
     "output_type": "execute_result"
    }
   ],
   "source": [
    "X_train_en = tokenizer.texts_to_matrix(X_train, mode=\"freq\")\n",
    "X_test_en = tokenizer.texts_to_matrix(X_test, mode=\"freq\")\n",
    "best_model = Sequential()\n",
    "# define hidden layer\n",
    "best_model.add(Dense(50, input_shape=(n_words,), activation=\"relu\"))\n",
    "# define output layer\n",
    "best_model.add(Dense(1, activation=\"sigmoid\"))\n",
    "# compile\n",
    "best_model.compile(loss=\"binary_crossentropy\", optimizer=\"adam\", metrics=[\"accuracy\"])\n",
    "best_model.fit(X_train_en, y_train, epochs=10, verbose=0)"
   ]
  },
  {
   "cell_type": "markdown",
   "id": "3293ff24",
   "metadata": {},
   "source": [
    "## Predict Tweet Sentiment<a id=\"Predict_Tweet_Sentiment\"></a>"
   ]
  },
  {
   "cell_type": "markdown",
   "id": "c6717e11",
   "metadata": {},
   "source": [
    "<font color=\"red\">note: for this part, I only really need the transformed text from the previous part. so I can make this easier on myself by only sending that part through pickle. \n",
    "    \n",
    "I also need to pass on the airline tweets via pickle. I may do some sentiment analysis on that as well. Get a score for each company, see if that correlates with their customers' sentiment scores. This could be done in a correlation heatmap with other features as well (number of tweets, length of tweets, response time, etc).</font>"
   ]
  },
  {
   "cell_type": "code",
   "execution_count": 53,
   "id": "9830114c",
   "metadata": {},
   "outputs": [],
   "source": [
    "def get_sentiment(text):\n",
    "    # process text\n",
    "    for i in range(len(text)):\n",
    "        text[i] = \" \".join([w for w in text[i] if w in trimmed_vocab])\n",
    "    encoded = tokenizer.texts_to_matrix(text, mode=\"freq\")\n",
    "    yhat = best_model.predict(encoded, verbose=0)\n",
    "    yhat = [round(x[0]) for x in yhat]\n",
    "    return yhat"
   ]
  },
  {
   "cell_type": "code",
   "execution_count": 64,
   "id": "e916aaaa",
   "metadata": {},
   "outputs": [
    {
     "name": "stdout",
     "output_type": "stream",
     "text": [
      "Airline: Delta\n",
      "percent of positive sentiment tweets before customer service interaction:\n",
      "39.62673611111111\n",
      "percent of positive sentiment tweets after customer service interaction:\n",
      "49.705535924617195\n",
      "number of original issues: 11520\n",
      "number of customers who follow up after their issue has been addressed: 5094\n",
      "percent followup: 44.21875\n",
      "------------------\n",
      "\n",
      "Airline: AmericanAir\n",
      "percent of positive sentiment tweets before customer service interaction:\n",
      "35.72460688482788\n",
      "percent of positive sentiment tweets after customer service interaction:\n",
      "49.60658962380133\n",
      "number of original issues: 11765\n",
      "number of customers who follow up after their issue has been addressed: 8134\n",
      "percent followup: 69.13727156821079\n",
      "------------------\n",
      "\n",
      "Airline: British_Airways\n",
      "percent of positive sentiment tweets before customer service interaction:\n",
      "40.967269174401565\n",
      "percent of positive sentiment tweets after customer service interaction:\n",
      "56.05313092979127\n",
      "number of original issues: 10235\n",
      "number of customers who follow up after their issue has been addressed: 5270\n",
      "percent followup: 51.48998534440645\n",
      "------------------\n",
      "\n",
      "Airline: SouthwestAir\n",
      "percent of positive sentiment tweets before customer service interaction:\n",
      "44.21168687982359\n",
      "percent of positive sentiment tweets after customer service interaction:\n",
      "62.94307196562836\n",
      "number of original issues: 8163\n",
      "number of customers who follow up after their issue has been addressed: 4655\n",
      "percent followup: 57.0256033321083\n",
      "------------------\n",
      "\n",
      "Airline: AirAsiaSupport\n",
      "percent of positive sentiment tweets before customer service interaction:\n",
      "53.38417540514776\n",
      "percent of positive sentiment tweets after customer service interaction:\n",
      "66.11687087653158\n",
      "number of original issues: 5245\n",
      "number of customers who follow up after their issue has been addressed: 2122\n",
      "percent followup: 40.457578646329836\n",
      "------------------\n",
      "\n",
      "Airline: JetBlue\n",
      "percent of positive sentiment tweets before customer service interaction:\n",
      "38.50531107738998\n",
      "percent of positive sentiment tweets after customer service interaction:\n",
      "56.78947368421052\n",
      "number of original issues: 2636\n",
      "number of customers who follow up after their issue has been addressed: 1900\n",
      "percent followup: 72.07890743550834\n",
      "------------------\n",
      "\n",
      "Airline: AlaskaAir\n",
      "percent of positive sentiment tweets before customer service interaction:\n",
      "42.904603701945895\n",
      "percent of positive sentiment tweets after customer service interaction:\n",
      "58.333333333333336\n",
      "number of original issues: 2107\n",
      "number of customers who follow up after their issue has been addressed: 1236\n",
      "percent followup: 58.66160417655434\n",
      "------------------\n",
      "\n",
      "Airline: VirginAtlantic\n",
      "percent of positive sentiment tweets before customer service interaction:\n",
      "46.800222593210904\n",
      "percent of positive sentiment tweets after customer service interaction:\n",
      "65.3122648607976\n",
      "number of original issues: 1797\n",
      "number of customers who follow up after their issue has been addressed: 1329\n",
      "percent followup: 73.95659432387312\n",
      "------------------\n",
      "\n"
     ]
    }
   ],
   "source": [
    "for airline,dfs in twcs_dict.items():\n",
    "    pre_tweets = dfs[\"pre\"].loc[:,\"transformed_text\"].to_list()\n",
    "    pre_sentiment = get_sentiment(pre_tweets)\n",
    "    post_tweets = dfs[\"post\"].loc[:,\"transformed_text\"].to_list()\n",
    "    post_sentiment = get_sentiment(post_tweets)\n",
    "    \n",
    "    print(\"Airline:\", airline)\n",
    "    print(\"percent of positive sentiment tweets before customer service interaction:\")\n",
    "    print((sum(pre_sentiment)/len(pre_sentiment))*100)\n",
    "    print(\"percent of positive sentiment tweets after customer service interaction:\")\n",
    "    print((sum(post_sentiment)/len(post_sentiment))*100)\n",
    "    print(\"number of original issues:\", len(pre_sentiment))\n",
    "    print(\"number of customers who follow up after their issue has been addressed:\", len(post_sentiment))\n",
    "    print(\"percent followup:\", (len(post_sentiment)/len(pre_sentiment))*100)\n",
    "    print(\"------------------\")\n",
    "    print()"
   ]
  },
  {
   "cell_type": "markdown",
   "id": "b0594f2a",
   "metadata": {},
   "source": [
    "Interesting results, but it could be slightly misleading. Not every customer has a \"post\" tweet; meaning not every customer follows up after their customer service issue has been solved. \n",
    "\n",
    "But maybe this is not important... since I am just looking at general trends. The question is: does customer sentiment improve after a custoemr service interaction on Twitter? I don't need to look at each conversation, I can just look at the pre and post tweets in general. \n",
    "\n",
    "It looks like for every airline, yes. \n",
    "\n",
    "The caveat is the followup rate. less than half of the customers who sent in tweets to Delta describing an issue followed up with customer service. We can't necessarily count all of these people as having had a negative experience. They could have not followed up for many reasons; got distracted, resolved their issue some other way, etc. We cannot reasonably assume that everyone who did not follow up neglected to because they were angry. \n",
    "\n",
    "The cool thing is that there is a lot of different stuff I could visualize here. Could really format the web app like a dashboard. "
   ]
  },
  {
   "cell_type": "markdown",
   "id": "44c4b5a1",
   "metadata": {},
   "source": [
    "## Topic Modeling<a id=\"Topic_Modeling\"></a>"
   ]
  },
  {
   "cell_type": "markdown",
   "id": "e4504075",
   "metadata": {},
   "source": [
    "I want to take a look at the most common topics in the customer tweets before and after a customer service interaction. "
   ]
  },
  {
   "cell_type": "code",
   "execution_count": 70,
   "id": "c8ea9138",
   "metadata": {},
   "outputs": [],
   "source": [
    "# get processed pre-tweets and post-tweets into separate lists\n",
    "pre_corpus = []\n",
    "post_corpus = []\n",
    "for airline,dfs in twcs_dict.items():\n",
    "    pre_corpus.extend(dfs[\"pre\"].transformed_text.to_list())\n",
    "    post_corpus.extend(dfs[\"post\"].transformed_text.to_list())"
   ]
  },
  {
   "cell_type": "code",
   "execution_count": 99,
   "id": "e72b783a",
   "metadata": {},
   "outputs": [],
   "source": [
    "def model_topics(corpus):\n",
    "    dic = gensim.corpora.Dictionary(corpus)\n",
    "    bow = [dic.doc2bow(doc) for doc in corpus]\n",
    "    lda_model = gensim.models.LdaMulticore(bow,\n",
    "                                          num_topics=4,\n",
    "                                          id2word=dic,\n",
    "                                          passes=10,\n",
    "                                          workers=2)\n",
    "    pyLDAvis.enable_notebook()\n",
    "    vis = gensimvis.prepare(lda_model, bow, dic)\n",
    "    return vis"
   ]
  },
  {
   "cell_type": "code",
   "execution_count": 103,
   "id": "55f465b8",
   "metadata": {},
   "outputs": [
    {
     "data": {
      "text/html": [
       "\n",
       "<link rel=\"stylesheet\" type=\"text/css\" href=\"https://cdn.jsdelivr.net/gh/bmabey/pyLDAvis@3.3.1/pyLDAvis/js/ldavis.v1.0.0.css\">\n",
       "\n",
       "\n",
       "<div id=\"ldavis_el874441401886649171208199229922\"></div>\n",
       "<script type=\"text/javascript\">\n",
       "\n",
       "var ldavis_el874441401886649171208199229922_data = {\"mdsDat\": {\"x\": [0.11957099763103618, -0.1650116699475242, 0.06253378953678407, -0.017093117220296026], \"y\": [-0.0882906958347835, -0.004777918637974852, 0.14265814720827566, -0.04958953273551741], \"topics\": [1, 2, 3, 4], \"cluster\": [1, 1, 1, 1], \"Freq\": [28.756397017861534, 27.791307631055407, 21.84614845888448, 21.60614689219858]}, \"tinfo\": {\"Term\": [\"flight\", \"thank\", \"miles\", \"delayed\", \"thanks\", \"gate\", \"great\", \"hour\", \"service\", \"best\", \"delay\", \"time\", \"fly\", \"never\", \"sea\", \"customer\", \"mileage\", \"please\", \"credit\", \"pdx\", \"sitting\", \"plan\", \"seats\", \"sfo\", \"call\", \"cancelled\", \"airline\", \"crew\", \"today\", \"class\", \"hour\", \"tarmac\", \"leave\", \"sitting\", \"communication\", \"wait\", \"boarded\", \"depart\", \"runway\", \"rebooked\", \"now\", \"landing\", \"announced\", \"pm\", \"unhappy\", \"hold\", \"works\", \"sat\", \"hr\", \"deals\", \"updates\", \"kids\", \"minutes\", \"working\", \"arrival\", \"gate\", \"cancelled\", \"poor\", \"rude\", \"supposed\", \"delays\", \"delayed\", \"sea\", \"hard\", \"sfo\", \"waiting\", \"flight\", \"departure\", \"tonight\", \"delay\", \"plane\", \"early\", \"stuck\", \"hours\", \"amp\", \"seattle\", \"going\", \"time\", \"no\", \"not\", \"service\", \"us\", \"san\", \"get\", \"make\", \"one\", \"great\", \"still\", \"customer\", \"today\", \"got\", \"miles\", \"card\", \"credit\", \"access\", \"elevate\", \"mileage\", \"code\", \"plan\", \"vx\", \"companion\", \"link\", \"anyway\", \"confirmation\", \"account\", \"cost\", \"middle\", \"confirmed\", \"elite\", \"years\", \"showing\", \"mine\", \"apply\", \"reservation\", \"dad\", \"speak\", \"request\", \"towards\", \"wondering\", \"man\", \"award\", \"wife\", \"seats\", \"premium\", \"website\", \"booking\", \"purchased\", \"seat\", \"fix\", \"checked\", \"ticket\", \"use\", \"virgin\", \"hi\", \"class\", \"upgrade\", \"go\", \"flights\", \"lounge\", \"issues\", \"can\", \"alaska\", \"free\", \"first\", \"get\", \"airlines\", \"flying\", \"booked\", \"im\", \"still\", \"is\", \"flight\", \"help\", \"need\", \"trying\", \"thank\", \"record\", \"maui\", \"locator\", \"drop\", \"meal\", \"priority\", \"kind\", \"everything\", \"longer\", \"notification\", \"afternoon\", \"mess\", \"la\", \"incredible\", \"asking\", \"kudos\", \"pls\", \"uw\", \"best\", \"line\", \"at\", \"wallet\", \"security\", \"assistance\", \"students\", \"movies\", \"thanksgiving\", \"team\", \"needs\", \"and\", \"amazing\", \"thanks\", \"love\", \"great\", \"care\", \"awesome\", \"iflyalaska\", \"people\", \"how\", \"crew\", \"pdx\", \"airline\", \"today\", \"service\", \"bag\", \"much\", \"mvp\", \"alaska\", \"nice\", \"customer\", \"travel\", \"help\", \"flight\", \"get\", \"worst\", \"guys\", \"check\", \"you\", \"way\", \"flights\", \"one\", \"planes\", \"yall\", \"ill\", \"plz\", \"never\", \"call\", \"company\", \"lot\", \"regarding\", \"fucking\", \"walla\", \"policy\", \"gave\", \"sucks\", \"assist\", \"happening\", \"terrible\", \"live\", \"members\", \"talk\", \"date\", \"res\", \"message\", \"route\", \"happened\", \"wo\", \"asked\", \"lost\", \"explain\", \"curious\", \"well\", \"due\", \"fly\", \"please\", \"what\", \"back\", \"issue\", \"time\", \"received\", \"told\", \"next\", \"customer\", \"know\", \"why\", \"late\", \"flight\", \"need\", \"im\", \"right\", \"boarding\", \"airport\", \"delay\", \"service\", \"thanks\", \"like\", \"delayed\", \"get\", \"alaska\", \"airline\", \"this\", \"hours\"], \"Freq\": [814.0, 83.0, 90.0, 134.0, 151.0, 133.0, 95.0, 68.0, 165.0, 51.0, 78.0, 138.0, 78.0, 40.0, 94.0, 119.0, 47.0, 97.0, 42.0, 56.0, 42.0, 44.0, 59.0, 62.0, 32.0, 54.0, 62.0, 54.0, 103.0, 57.0, 66.57738126210137, 29.86735299539161, 17.89663923018424, 39.88411622650135, 10.548468689526098, 26.263049336340238, 9.575088046480484, 12.186577309246466, 7.7620982056442385, 7.750031908943189, 26.442588793142725, 6.819629975543627, 7.6383650891085795, 10.151231719864558, 5.879136702025886, 18.345632243659672, 5.823079403541078, 5.757066113190485, 8.165287114704865, 7.338689959528895, 13.810226224002594, 5.679799743555318, 40.64492228804107, 16.421105291730697, 7.029831451024184, 109.34150978880643, 43.59998519419803, 10.636556715891327, 5.2799815699303885, 11.26848981101068, 28.398470295641197, 103.19067162121573, 72.16854087121189, 17.85343606801963, 45.44175909671036, 42.415196220421336, 454.8267216644444, 18.249043219141907, 21.309204043283884, 51.675723649313895, 53.43740296766705, 21.187203384378886, 18.595771604715797, 47.68276973931337, 57.324212266530694, 44.98284731213855, 37.432630028206674, 58.19858453504698, 29.723764290229546, 26.31306502720875, 56.116716367610465, 36.48576749151163, 25.43737311323161, 52.94323747495466, 28.647978031519475, 32.84837344055379, 33.60345427101719, 30.984113681710177, 33.52674113736369, 31.2550989294394, 26.50428052658454, 87.81728269012001, 27.710412427017605, 40.08168514880055, 11.809494302754466, 11.80067362835204, 44.137276888134664, 15.220170695724615, 40.2193844658065, 17.473654616673922, 10.482283658641474, 11.233722928053224, 9.507032311828663, 7.776966904705693, 35.39979718562694, 6.026708344678009, 12.909457035838559, 6.017524684045231, 6.016562716032362, 13.703160765038406, 15.413549702359324, 5.980237386803041, 5.974275910245098, 15.364689357646723, 6.790866847810065, 5.922432647156048, 6.756670928793936, 5.8977299626147985, 10.063796506654088, 6.607024677599829, 12.328209256268584, 12.276288054694637, 47.9489593214521, 35.08275432955989, 36.25886241736241, 17.378943551819297, 11.364736976138003, 46.025215144290975, 15.728918243562042, 20.368635491139187, 34.052647369965605, 31.553527505795785, 26.30576908062449, 37.02040534854333, 38.53984172772432, 31.017044757822998, 25.15964387345879, 65.09424438560376, 23.92155343421401, 21.06693597453464, 38.96557552373387, 76.08933493358965, 24.89772260206573, 46.24269294846509, 77.45747690788198, 30.121670002564933, 35.772181816213404, 28.97396858492149, 35.27433257567646, 34.814571818205444, 27.39096274333309, 92.3053883286252, 35.73012773583209, 27.985037126424242, 26.954880024587922, 81.06179396039366, 11.677372126087961, 11.658213507472, 9.808689187565145, 9.791688152100264, 9.76982869865817, 10.64050004336671, 10.620896712417386, 7.8773497944131, 14.7186312443876, 6.923332160775901, 5.9805004561481425, 8.54032077157236, 5.95456875730275, 5.897442930333826, 5.886498636927485, 10.863490289290839, 6.53322476096135, 5.687640247351195, 42.85651113045305, 28.422521485333572, 6.305485347199707, 8.611143995468044, 8.512603796914705, 6.918330646537279, 6.898271892456581, 6.830275033939703, 12.896309780833931, 12.81351188476337, 9.784433942824235, 14.1689539473922, 27.581730696480648, 95.07576780176814, 29.598986970083686, 61.29321853310268, 17.93029573156665, 20.670575427746048, 34.84727113993968, 30.024786604753935, 32.69103840627314, 32.78064922674172, 32.224606288273186, 34.83997066001625, 51.62666677630967, 70.87947529310404, 32.20676295565282, 22.85129732998203, 28.659840208403192, 51.07800657669328, 16.02888402178147, 40.236581388166314, 24.10659086062838, 35.678597010807366, 113.54570095670779, 52.33132075186743, 17.17705243505372, 25.351516338801314, 23.97743748763556, 20.849623982187385, 21.40265418739175, 25.075400534748933, 21.108818439112078, 14.302056734512002, 10.60370462362795, 11.299056274183243, 7.804429530919062, 36.32200645559105, 29.36248322200506, 10.243095858661757, 6.81349948866342, 6.813467709275548, 5.955682285350728, 5.950044621942167, 16.111505589037346, 5.921092328414911, 7.587161059363497, 5.871634278931707, 5.829650741476088, 14.127343829393759, 6.573208757357586, 6.548618290747107, 9.710008915132509, 7.231459031884801, 5.60978229226739, 6.353140733593049, 9.396206527525448, 6.2284011277667135, 7.385761095485542, 5.911563173030085, 19.134567741342185, 5.026528407042797, 4.990692274377211, 10.420666366337485, 18.719379784468448, 48.34085569567965, 56.888500872541535, 26.928961765296318, 36.55345870354182, 15.767832271730935, 56.022091370198495, 12.33125418207962, 19.979770646295396, 21.56248924618264, 45.25835337629831, 21.50208637551619, 18.215629876922293, 23.469910139992, 153.80894241539957, 28.034848870340834, 28.437121683983236, 16.03051984443371, 23.09301337942828, 22.6764593326012, 26.145807479576174, 37.793895499586284, 35.19323988617911, 21.256346114777998, 28.306356706216295, 33.204073932258545, 28.78577631440735, 20.27447489296667, 18.60287400617726, 19.62141101454023], \"Total\": [814.0, 83.0, 90.0, 134.0, 151.0, 133.0, 95.0, 68.0, 165.0, 51.0, 78.0, 138.0, 78.0, 40.0, 94.0, 119.0, 47.0, 97.0, 42.0, 56.0, 42.0, 44.0, 59.0, 62.0, 32.0, 54.0, 62.0, 54.0, 103.0, 57.0, 68.9366979744588, 31.164796859015805, 18.89237556339408, 42.519678164516876, 11.338462665335792, 28.346631163710587, 10.396406239038502, 13.232704805477308, 8.506841971533351, 8.507086071306416, 29.303735070398552, 7.562998622540235, 8.508540619436102, 11.349250875261701, 6.6195569839998285, 20.808349085478387, 6.6197056349181835, 6.6227918056951065, 9.462139183265865, 8.515502265135625, 16.0731421323413, 6.624033102581896, 48.27366134077578, 19.863032769004842, 8.515104942203712, 133.57414221828404, 54.009980513191955, 13.26681521552645, 6.6342651178740875, 14.226383700379019, 36.023852091261304, 134.3856982862672, 94.92801400906149, 22.735004913176457, 62.48997405614015, 58.936871985691305, 814.4867533651769, 23.65818740955024, 28.461323949155997, 78.639129546236, 82.85457446468308, 28.46711505879999, 24.67999381431303, 85.56654700749539, 111.5374244993965, 82.81276423160698, 70.4034274151312, 138.11123574108126, 50.479075832041325, 42.808754981029466, 165.2345112726431, 85.00379409150533, 43.68066284500625, 215.93610906696262, 57.11539547704066, 80.43416191298671, 95.7113529217339, 81.3553122703496, 119.35520475722811, 103.53761930348175, 66.01969736069927, 90.15360816062439, 29.076031757320592, 42.63142374145581, 12.595971781493105, 12.595121705897386, 47.468018705949895, 16.46756490398815, 44.54804972335517, 19.35733302623629, 11.623593959795084, 12.583840083809616, 10.651307441290907, 8.713530665049245, 39.69535496503123, 6.77636073270672, 14.530077296621691, 6.776285756405767, 6.776242970011296, 15.477560634832606, 17.424010699458663, 6.77480900731262, 6.775508265300865, 17.43638577699439, 7.743981465560087, 6.77373600890611, 7.739919957872695, 6.773137686552413, 11.603877981258062, 7.739276862245093, 14.499351109248892, 14.511965474706724, 59.05551277992333, 43.510737696798564, 45.388672427077566, 21.274572304349938, 13.542568455480309, 62.80578837612774, 19.317037655017035, 26.079007343753005, 46.386321062901146, 43.45398561725128, 35.71857866099753, 53.198984458392545, 57.10484303332252, 44.457389839342675, 34.66247386579561, 115.64667643680626, 32.917427074735286, 28.019619288713752, 61.686003935130074, 169.58294513048767, 36.77557569302535, 91.1970043845087, 215.93610906696262, 50.27465487197595, 69.22281724090115, 51.2133816683522, 74.02540533047801, 81.3553122703496, 50.12580095663309, 814.4867533651769, 100.03853538809429, 66.27814061038615, 58.556836240058395, 83.87678612352639, 12.531583503018458, 12.531967334553414, 10.60331588174545, 10.602952975964083, 10.602134862261599, 11.566038790246573, 11.56390116640713, 8.672778670839607, 16.371469980295725, 7.708703430826057, 6.745164503348108, 9.640470142635005, 6.744652591999655, 6.744139118097159, 6.74498877881665, 12.52487068880592, 7.701164807924935, 6.739954628482213, 51.01862504329585, 34.67559329891964, 7.7118831134141805, 10.608865302522835, 10.582084546949952, 8.663337099477427, 8.663181283359252, 8.661004236511996, 16.3648524529137, 16.375228543326237, 12.509095585492924, 18.267532865853656, 37.418466031028814, 151.7702387489864, 42.19844336245755, 95.7113529217339, 25.00126693839077, 29.753341965573604, 55.810841033860505, 47.051746343543016, 53.82272691785818, 54.704086689890644, 56.39057810878101, 62.345936755469424, 103.53761930348175, 165.2345112726431, 64.62239908405057, 39.40280520917743, 59.807043875554676, 169.58294513048767, 24.041333740073508, 119.35520475722811, 49.16077255479203, 100.03853538809429, 814.4867533651769, 215.93610906696262, 27.88605801361286, 65.36826476646927, 69.24554765570355, 48.94361743199662, 60.579746070064765, 115.64667643680626, 80.43416191298671, 15.275059996350569, 11.459021866027877, 12.407380927424512, 8.59433646556044, 40.11410795991003, 32.479637543028964, 11.45369340358237, 7.638057248714789, 7.640278636269152, 6.685010558063504, 6.684406987154543, 18.1447948460939, 6.684577095404188, 8.595625363854722, 6.6851299285616435, 6.685630680971802, 16.21540600820257, 7.643968158277937, 7.642773939270501, 11.467338676764125, 8.596466324610285, 6.688373123134193, 7.644954337927877, 11.475955665943053, 7.631491409740381, 9.548868189830978, 7.6549883512070185, 24.834997738054614, 6.6734310550762785, 6.698996787814925, 14.365275176785978, 27.761254445553657, 78.69860605185613, 97.70550943476673, 43.90533158485313, 69.66683138070849, 24.935961652171734, 138.11123574108126, 18.174782573466846, 35.37369701686966, 40.19265110133179, 119.35520475722811, 42.28373979957783, 33.36573475950988, 48.413344926181736, 814.4867533651769, 66.27814061038615, 74.02540533047801, 29.683744317892483, 55.146566251318106, 59.3491361304762, 78.639129546236, 165.2345112726431, 151.7702387489864, 56.52047903433111, 134.3856982862672, 215.93610906696262, 169.58294513048767, 62.345936755469424, 46.0176447477498, 85.56654700749539], \"Category\": [\"Default\", \"Default\", \"Default\", \"Default\", \"Default\", \"Default\", \"Default\", \"Default\", \"Default\", \"Default\", \"Default\", \"Default\", \"Default\", \"Default\", \"Default\", \"Default\", \"Default\", \"Default\", \"Default\", \"Default\", \"Default\", \"Default\", \"Default\", \"Default\", \"Default\", \"Default\", \"Default\", \"Default\", \"Default\", \"Default\", \"Topic1\", \"Topic1\", \"Topic1\", \"Topic1\", \"Topic1\", \"Topic1\", \"Topic1\", \"Topic1\", \"Topic1\", \"Topic1\", \"Topic1\", \"Topic1\", \"Topic1\", \"Topic1\", \"Topic1\", \"Topic1\", \"Topic1\", \"Topic1\", \"Topic1\", \"Topic1\", \"Topic1\", \"Topic1\", \"Topic1\", \"Topic1\", \"Topic1\", \"Topic1\", \"Topic1\", \"Topic1\", \"Topic1\", \"Topic1\", \"Topic1\", \"Topic1\", \"Topic1\", \"Topic1\", \"Topic1\", \"Topic1\", \"Topic1\", \"Topic1\", \"Topic1\", \"Topic1\", \"Topic1\", \"Topic1\", \"Topic1\", \"Topic1\", \"Topic1\", \"Topic1\", \"Topic1\", \"Topic1\", \"Topic1\", \"Topic1\", \"Topic1\", \"Topic1\", \"Topic1\", \"Topic1\", \"Topic1\", \"Topic1\", \"Topic1\", \"Topic1\", \"Topic1\", \"Topic1\", \"Topic1\", \"Topic2\", \"Topic2\", \"Topic2\", \"Topic2\", \"Topic2\", \"Topic2\", \"Topic2\", \"Topic2\", \"Topic2\", \"Topic2\", \"Topic2\", \"Topic2\", \"Topic2\", \"Topic2\", \"Topic2\", \"Topic2\", \"Topic2\", \"Topic2\", \"Topic2\", \"Topic2\", \"Topic2\", \"Topic2\", \"Topic2\", \"Topic2\", \"Topic2\", \"Topic2\", \"Topic2\", \"Topic2\", \"Topic2\", \"Topic2\", \"Topic2\", \"Topic2\", \"Topic2\", \"Topic2\", \"Topic2\", \"Topic2\", \"Topic2\", \"Topic2\", \"Topic2\", \"Topic2\", \"Topic2\", \"Topic2\", \"Topic2\", \"Topic2\", \"Topic2\", \"Topic2\", \"Topic2\", \"Topic2\", \"Topic2\", \"Topic2\", \"Topic2\", \"Topic2\", \"Topic2\", \"Topic2\", \"Topic2\", \"Topic2\", \"Topic2\", \"Topic2\", \"Topic2\", \"Topic2\", \"Topic2\", \"Topic2\", \"Topic2\", \"Topic2\", \"Topic3\", \"Topic3\", \"Topic3\", \"Topic3\", \"Topic3\", \"Topic3\", \"Topic3\", \"Topic3\", \"Topic3\", \"Topic3\", \"Topic3\", \"Topic3\", \"Topic3\", \"Topic3\", \"Topic3\", \"Topic3\", \"Topic3\", \"Topic3\", \"Topic3\", \"Topic3\", \"Topic3\", \"Topic3\", \"Topic3\", \"Topic3\", \"Topic3\", \"Topic3\", \"Topic3\", \"Topic3\", \"Topic3\", \"Topic3\", \"Topic3\", \"Topic3\", \"Topic3\", \"Topic3\", \"Topic3\", \"Topic3\", \"Topic3\", \"Topic3\", \"Topic3\", \"Topic3\", \"Topic3\", \"Topic3\", \"Topic3\", \"Topic3\", \"Topic3\", \"Topic3\", \"Topic3\", \"Topic3\", \"Topic3\", \"Topic3\", \"Topic3\", \"Topic3\", \"Topic3\", \"Topic3\", \"Topic3\", \"Topic3\", \"Topic3\", \"Topic3\", \"Topic3\", \"Topic3\", \"Topic3\", \"Topic3\", \"Topic4\", \"Topic4\", \"Topic4\", \"Topic4\", \"Topic4\", \"Topic4\", \"Topic4\", \"Topic4\", \"Topic4\", \"Topic4\", \"Topic4\", \"Topic4\", \"Topic4\", \"Topic4\", \"Topic4\", \"Topic4\", \"Topic4\", \"Topic4\", \"Topic4\", \"Topic4\", \"Topic4\", \"Topic4\", \"Topic4\", \"Topic4\", \"Topic4\", \"Topic4\", \"Topic4\", \"Topic4\", \"Topic4\", \"Topic4\", \"Topic4\", \"Topic4\", \"Topic4\", \"Topic4\", \"Topic4\", \"Topic4\", \"Topic4\", \"Topic4\", \"Topic4\", \"Topic4\", \"Topic4\", \"Topic4\", \"Topic4\", \"Topic4\", \"Topic4\", \"Topic4\", \"Topic4\", \"Topic4\", \"Topic4\", \"Topic4\", \"Topic4\", \"Topic4\", \"Topic4\", \"Topic4\", \"Topic4\", \"Topic4\", \"Topic4\", \"Topic4\", \"Topic4\", \"Topic4\", \"Topic4\"], \"logprob\": [30.0, 29.0, 28.0, 27.0, 26.0, 25.0, 24.0, 23.0, 22.0, 21.0, 20.0, 19.0, 18.0, 17.0, 16.0, 15.0, 14.0, 13.0, 12.0, 11.0, 10.0, 9.0, 8.0, 7.0, 6.0, 5.0, 4.0, 3.0, 2.0, 1.0, -4.2872, -5.0888, -5.6009, -4.7996, -6.1296, -5.2174, -6.2264, -5.9852, -6.4363, -6.4379, -5.2106, -6.5658, -6.4524, -6.168, -6.7141, -5.5762, -6.7237, -6.7351, -6.3857, -6.4924, -5.8601, -6.7486, -4.7807, -5.687, -6.5354, -3.7911, -4.7105, -6.1213, -6.8216, -6.0635, -5.1392, -3.849, -4.2066, -5.6034, -4.6691, -4.7381, -2.3656, -5.5814, -5.4264, -4.5406, -4.507, -5.4322, -5.5626, -4.621, -4.4368, -4.6793, -4.863, -4.4217, -5.0936, -5.2155, -4.4581, -4.8886, -5.2493, -4.5163, -5.1305, -4.9937, -4.9709, -5.0521, -4.9732, -5.0434, -5.2083, -3.9762, -5.1296, -4.7605, -5.9825, -5.9833, -4.6641, -5.7288, -4.7571, -5.5907, -6.1017, -6.0325, -6.1994, -6.4003, -4.8847, -6.6552, -5.8935, -6.6567, -6.6569, -5.8338, -5.7162, -6.663, -6.664, -5.7193, -6.5358, -6.6727, -6.5409, -6.6769, -6.1425, -6.5633, -5.9395, -5.9438, -4.5813, -4.8937, -4.8607, -5.5962, -6.0209, -4.6222, -5.6959, -5.4374, -4.9235, -4.9997, -5.1816, -4.84, -4.7997, -5.0169, -5.2262, -4.2756, -5.2766, -5.4037, -4.7887, -4.1195, -5.2366, -4.6175, -4.1017, -5.0462, -4.8743, -5.085, -4.8883, -4.9014, -5.1412, -3.9263, -4.8754, -5.1198, -5.1573, -3.8155, -5.7531, -5.7547, -5.9275, -5.9292, -5.9314, -5.8461, -5.8479, -6.1467, -5.5216, -6.2758, -6.4222, -6.0659, -6.4266, -6.4362, -6.4381, -5.8253, -6.3338, -6.4724, -4.4529, -4.8635, -6.3693, -6.0577, -6.0692, -6.2765, -6.2795, -6.2894, -5.6538, -5.6602, -5.9299, -5.5597, -4.8936, -3.656, -4.823, -4.0951, -5.3242, -5.182, -4.6597, -4.8087, -4.7236, -4.7209, -4.738, -4.66, -4.2667, -3.9497, -4.7385, -5.0817, -4.8552, -4.2774, -5.4363, -4.5159, -5.0282, -4.6362, -3.4785, -4.2531, -5.3671, -4.9779, -5.0336, -5.1734, -5.1472, -4.9888, -5.161, -5.5393, -5.8385, -5.775, -6.145, -4.6073, -4.82, -5.8731, -6.2808, -6.2808, -6.4153, -6.4163, -5.4201, -6.4212, -6.1732, -6.4295, -6.4367, -5.5516, -6.3167, -6.3204, -5.9265, -6.2212, -6.4752, -6.3507, -5.9594, -6.3706, -6.2001, -6.4228, -5.2482, -6.5849, -6.5921, -5.8559, -5.2701, -4.3214, -4.1586, -4.9065, -4.6009, -5.4417, -4.1739, -5.6875, -5.205, -5.1287, -4.3873, -5.1315, -5.2974, -5.044, -3.164, -4.8662, -4.852, -5.4252, -5.0601, -5.0783, -4.936, -4.5675, -4.6388, -5.143, -4.8566, -4.697, -4.8398, -5.1903, -5.2764, -5.2231], \"loglift\": [30.0, 29.0, 28.0, 27.0, 26.0, 25.0, 24.0, 23.0, 22.0, 21.0, 20.0, 19.0, 18.0, 17.0, 16.0, 15.0, 14.0, 13.0, 12.0, 11.0, 10.0, 9.0, 8.0, 7.0, 6.0, 5.0, 4.0, 3.0, 2.0, 1.0, 1.2115, 1.2038, 1.1922, 1.1823, 1.1741, 1.17, 1.164, 1.164, 1.1547, 1.1531, 1.1436, 1.1428, 1.1384, 1.1348, 1.1277, 1.1203, 1.1181, 1.1062, 1.0989, 1.0976, 1.0946, 1.0925, 1.0743, 1.056, 1.0546, 1.0461, 1.0322, 1.0253, 1.018, 1.0132, 1.0085, 0.9822, 0.9722, 1.0046, 0.9277, 0.9173, 0.6637, 0.9867, 0.9569, 0.8264, 0.8077, 0.951, 0.9633, 0.6616, 0.5807, 0.636, 0.6146, 0.3821, 0.7167, 0.7596, 0.1664, 0.4005, 0.7056, -0.1595, 0.5563, 0.3508, 0.1996, 0.281, -0.0235, 0.0486, 0.3337, 1.2542, 1.2323, 1.2188, 1.216, 1.2153, 1.2077, 1.2017, 1.1782, 1.1781, 1.1771, 1.167, 1.1668, 1.1667, 1.1659, 1.1632, 1.1622, 1.1617, 1.1615, 1.1587, 1.1578, 1.1557, 1.1546, 1.154, 1.1491, 1.1461, 1.1446, 1.142, 1.1381, 1.1223, 1.1182, 1.1131, 1.0721, 1.0651, 1.0559, 1.0782, 1.1051, 0.9696, 1.075, 1.0333, 0.9714, 0.9604, 0.9746, 0.9179, 0.8873, 0.9205, 0.96, 0.7057, 0.9612, 0.9952, 0.8211, 0.479, 0.8904, 0.6013, 0.2552, 0.7682, 0.6203, 0.7108, 0.5392, 0.4317, 0.6761, -0.897, 0.2509, 0.4183, 0.5046, 1.487, 1.4505, 1.4489, 1.4432, 1.4415, 1.4394, 1.4377, 1.4361, 1.4249, 1.4147, 1.4137, 1.4008, 1.4, 1.3966, 1.387, 1.385, 1.3788, 1.3567, 1.3514, 1.3468, 1.3223, 1.3198, 1.3125, 1.3035, 1.2962, 1.2933, 1.2837, 1.283, 1.2759, 1.2755, 1.2671, 1.2161, 1.0535, 1.1665, 1.0755, 1.1887, 1.1569, 1.0502, 1.0719, 1.0226, 1.009, 0.9616, 0.9392, 0.8252, 0.6748, 0.8248, 0.9763, 0.7855, 0.3212, 1.1158, 0.4338, 0.8085, 0.4901, -0.4492, 0.1038, 1.0366, 0.5739, 0.4606, 0.6678, 0.4807, -0.0075, 0.1834, 1.4664, 1.4546, 1.4386, 1.4358, 1.4329, 1.4313, 1.4205, 1.418, 1.4177, 1.4167, 1.4158, 1.4133, 1.4109, 1.4074, 1.4024, 1.3952, 1.3943, 1.3813, 1.3777, 1.3658, 1.3593, 1.3563, 1.3471, 1.3322, 1.329, 1.2753, 1.2737, 1.2714, 1.2488, 1.2378, 1.2112, 1.1381, 1.0448, 0.9913, 1.0434, 0.8872, 1.0739, 0.6299, 1.1443, 0.9609, 0.9095, 0.5625, 0.8559, 0.9269, 0.8081, -0.1347, 0.6718, 0.5755, 0.9161, 0.6617, 0.5701, 0.431, 0.057, 0.0707, 0.5542, -0.0254, -0.3401, -0.2413, 0.4089, 0.6265, 0.0595]}, \"token.table\": {\"Topic\": [2, 2, 4, 3, 1, 2, 3, 4, 2, 3, 4, 1, 2, 3, 4, 1, 2, 3, 4, 1, 3, 4, 1, 2, 3, 4, 1, 2, 3, 1, 2, 3, 2, 1, 4, 2, 4, 3, 4, 3, 4, 2, 3, 1, 2, 1, 3, 4, 1, 2, 3, 4, 1, 2, 3, 4, 1, 2, 3, 4, 1, 1, 2, 3, 4, 2, 3, 4, 1, 2, 3, 4, 1, 2, 3, 4, 1, 2, 3, 4, 1, 3, 2, 4, 1, 3, 4, 1, 2, 3, 4, 1, 2, 3, 4, 2, 3, 4, 2, 1, 2, 3, 1, 4, 2, 2, 2, 1, 2, 3, 4, 1, 3, 4, 2, 4, 1, 3, 4, 2, 3, 4, 1, 3, 1, 4, 1, 2, 3, 4, 1, 2, 3, 1, 1, 4, 3, 1, 3, 4, 1, 2, 3, 4, 2, 2, 3, 1, 4, 1, 2, 3, 4, 1, 2, 3, 1, 2, 3, 4, 1, 2, 3, 4, 1, 2, 3, 4, 1, 2, 3, 4, 1, 2, 3, 4, 1, 2, 3, 4, 4, 1, 2, 3, 4, 1, 2, 1, 2, 3, 4, 1, 2, 3, 4, 1, 3, 1, 2, 3, 4, 1, 4, 4, 1, 2, 3, 4, 1, 2, 3, 4, 1, 2, 3, 4, 1, 3, 4, 1, 2, 3, 4, 1, 2, 3, 4, 1, 2, 3, 4, 1, 3, 1, 2, 3, 4, 1, 4, 1, 2, 3, 4, 3, 1, 2, 3, 4, 1, 2, 3, 4, 1, 2, 3, 4, 1, 3, 2, 3, 4, 1, 2, 3, 3, 1, 1, 3, 4, 1, 1, 2, 3, 4, 1, 2, 3, 4, 1, 2, 4, 2, 4, 3, 1, 3, 1, 2, 3, 4, 4, 2, 3, 1, 3, 4, 1, 2, 3, 4, 2, 4, 3, 3, 3, 4, 2, 3, 2, 4, 2, 3, 1, 2, 4, 1, 2, 4, 2, 1, 2, 3, 4, 3, 4, 1, 2, 3, 4, 1, 2, 3, 4, 1, 2, 3, 4, 1, 2, 3, 1, 2, 4, 1, 2, 3, 4, 1, 2, 3, 4, 1, 2, 3, 1, 2, 3, 4, 3, 1, 3, 4, 1, 2, 3, 1, 3, 1, 2, 3, 4, 2, 3, 4, 1, 2, 3, 4, 4, 1, 2, 3, 4, 1, 3, 4, 1, 2, 1, 2, 4, 1, 2, 3, 2, 4, 3, 2, 4, 1, 1, 2, 3, 4, 3, 4, 2, 3, 4, 2, 3, 1, 2, 3, 4, 2, 4, 1, 2, 1, 1, 3, 4, 1, 1, 2, 3, 4, 1, 2, 3, 4, 1, 2, 3, 4, 1, 2, 3, 4, 1, 3, 4, 1, 3, 4, 1, 2, 3, 4, 2, 4, 1, 2, 3, 4, 2, 1, 2, 3, 4, 1, 2, 3, 3, 4, 4, 1, 2, 3, 3, 4, 1, 3, 2, 3, 4, 1, 4, 1, 3, 4, 1, 2, 3, 4, 1, 2, 3, 1, 2, 3, 4, 1, 2, 3, 4, 1, 2, 3, 4, 1, 2, 3, 4, 1, 2, 4, 1, 3, 2, 1, 2, 3, 4, 1, 2, 3, 4, 1, 1, 4, 2, 3, 4, 1, 2, 3, 4, 2, 4, 3, 1, 2, 3, 4, 1, 2, 4, 1, 3, 4, 1, 2, 3, 4, 4, 2, 3, 1, 2, 3, 4, 1, 2, 3, 4, 2, 4, 1, 2, 3, 4, 1, 2, 4, 2, 4, 1, 3, 4, 1, 2, 1, 4, 1, 1, 2, 3, 4, 4, 1, 2, 1, 2, 3, 4], \"Freq\": [0.9526855258306668, 0.8817152543624437, 0.10076745764142213, 0.8895261186027072, 0.09623722590828884, 0.016039537651381476, 0.5613838177983516, 0.3207907530276295, 0.5967221471016517, 0.3182518117875476, 0.0795629529468869, 0.2358922288139406, 0.2695911186445035, 0.1179461144069703, 0.38753723305147386, 0.08255547153770404, 0.4481582740618219, 0.3007377891730647, 0.17100776247095836, 0.2405229544294215, 0.7482936360026446, 0.026724772714380167, 0.5110392341927208, 0.1972432131971905, 0.15241521019782903, 0.14344960959795672, 0.16422578911067462, 0.054741929703558206, 0.7663870158498148, 0.9402317457033184, 0.9388518785246921, 0.09388518785246922, 0.8855424220685488, 0.8220685531784413, 0.11743836473977733, 0.13063377161669001, 0.78380262970014, 0.8895492930757178, 0.8975143436428237, 0.8080027268501696, 0.11542896097859565, 0.129670015130362, 0.778020090782172, 0.0689686036613126, 0.8276232439357512, 0.16804834918327155, 0.7058030665697405, 0.13443867934661724, 0.27272662791523644, 0.1435403304817034, 0.05741613219268135, 0.5310992227823025, 0.015474510605825057, 0.34043923332815124, 0.49518433938640183, 0.15474510605825056, 0.05880205508192577, 0.01960068502730859, 0.8428294561742694, 0.09800342513654295, 0.9618708397955827, 0.4533373825319986, 0.018133495301279945, 0.10880097180767967, 0.41707039192943873, 0.5662582523411226, 0.31241834611924, 0.11715687979471501, 0.047004470204815046, 0.7990759934818558, 0.047004470204815046, 0.09400894040963009, 0.030788520920998635, 0.06157704184199727, 0.030788520920998635, 0.8928671067089604, 0.09726679663525765, 0.6322341781291747, 0.06484453109017177, 0.21074472604305824, 0.8146642450510232, 0.18515096478432347, 0.9629924823888777, 0.03439258865674563, 0.039997973001298065, 0.7199635140233652, 0.2399878380077884, 0.173296340432822, 0.3754754042711143, 0.346592680865644, 0.10108953191914616, 0.1150350533076798, 0.766900355384532, 0.0766900355384532, 0.0383450177692266, 0.6829543332645577, 0.2976980427050636, 0.017511649570886093, 0.9108814865740876, 0.970149157312962, 0.8603191090973289, 0.08603191090973289, 0.08730808174830576, 0.8730808174830575, 0.918112336723473, 0.8854408175346018, 0.8854310206716793, 0.023456875521320582, 0.9382750208528233, 0.023456875521320582, 0.023456875521320582, 0.07312067967929721, 0.603245607354202, 0.3107628886370132, 0.14927608292318342, 0.7463804146159171, 0.28486399121979616, 0.3351341073174072, 0.37702587073208316, 0.9039277832896675, 0.11632686760339683, 0.8142880732237778, 0.8220301964641087, 0.11743288520915837, 0.6612484179320235, 0.33062420896601175, 0.7664506068241751, 0.0074412680274191755, 0.014882536054838351, 0.20835550476773693, 0.7772627960237563, 0.027759385572277008, 0.19431569900593906, 0.9068440788487124, 0.7608359714292328, 0.2113433253970091, 0.9431334858005197, 0.03602142698418888, 0.288171415873511, 0.6844071126995888, 0.7376932982714842, 0.0702565045972842, 0.1405130091945684, 0.0351282522986421, 0.9527498249088984, 0.8854464083642499, 0.9224263991537471, 0.1498479555339573, 0.7492397776697866, 0.27413181133224435, 0.5044025328513296, 0.07675690717302842, 0.14254854189276706, 0.1553033158384323, 0.8282843511383056, 0.0517677719461441, 0.5586340086196586, 0.11295456877584306, 0.13996544391789248, 0.18907612599434598, 0.1469994687593936, 0.5620567923153285, 0.2161756893520494, 0.07782324816673777, 0.012706705368340062, 0.30496092884016146, 0.07624023221004037, 0.6099218576803229, 0.21669155630864828, 0.5200597351407559, 0.14446103753909884, 0.11556883003127907, 0.027191960456234388, 0.6797990114058597, 0.2991115650185783, 0.8975303700549523, 0.816026202301, 0.09732422596250459, 0.022459436760577982, 0.05240535244134863, 0.8975885705806503, 0.2454429702795307, 0.35658695682120495, 0.24081197084029424, 0.1528229814948021, 0.2596467879022639, 0.7212410775062887, 0.5255425958431096, 0.014203853941705664, 0.25566937095070197, 0.1988539551838793, 0.40896885443877806, 0.40896885443877806, 0.06058797843537453, 0.1363229514795927, 0.35523476538674403, 0.6373329614291584, 0.2294691476603838, 0.35185269307925515, 0.382448579433973, 0.03059588635471784, 0.13103598580005732, 0.7862159148003439, 0.8974471199967419, 0.7917306404261121, 0.0879700711584569, 0.04398503557922845, 0.0879700711584569, 0.14994221918392028, 0.3598613260414087, 0.3598613260414087, 0.13994607123832561, 0.03759470261249479, 0.6955019983311537, 0.24436556698121614, 0.03759470261249479, 0.86503739081164, 0.09611526564573779, 0.048057632822868894, 0.9719061395256218, 0.014506061783964505, 0.014506061783964505, 0.014506061783964505, 0.56096689277172, 0.04674724106431, 0.17530215399116247, 0.23373620532154998, 0.1486360959044167, 0.1486360959044167, 0.6131238956057189, 0.09289755994026044, 0.8454747753180686, 0.10568434691475857, 0.16125899257708173, 0.21501199010277564, 0.627118304466429, 0.01791766584189797, 0.08059718693650014, 0.8865690563015016, 0.08105325426066473, 0.47281064985387755, 0.05403550284044315, 0.37824851988310204, 0.8896613629899266, 0.09974902953322994, 0.5386447594794417, 0.19949805906645987, 0.1595984472531679, 0.04010272448878696, 0.28071907142150876, 0.04010272448878696, 0.6416435918205914, 0.03568927863351798, 0.7494748513038776, 0.03568927863351798, 0.1784463931675899, 0.9057925748682231, 0.9512360786993537, 0.3310965412794395, 0.16554827063971975, 0.5202945648676907, 0.07984114366096794, 0.07984114366096794, 0.8782525802706473, 0.8895936326086026, 0.9255588093243449, 0.495731084819568, 0.020655461867482, 0.475075622952086, 0.9527653068085759, 0.17692702133550386, 0.1592343192019535, 0.3007759362703566, 0.3715467448045581, 0.028838727902347278, 0.028838727902347278, 0.8074843812657237, 0.11535491160938911, 0.07946699841542021, 0.8741369825696222, 0.07946699841542021, 0.13082210434341787, 0.9157547304039252, 0.9431012064080716, 0.06108186993614953, 0.916228049042243, 0.08053151528721117, 0.08053151528721117, 0.040265757643605585, 0.7650493952285061, 0.9164634110562406, 0.7290970811755949, 0.243032360391865, 0.2369755659967458, 0.7109266979902374, 0.047395113199349165, 0.5077440111862216, 0.15757572760951705, 0.05252524253650568, 0.28013462686136364, 0.9044772689485312, 0.12921103842121875, 0.9575511713083817, 0.9432062626929126, 0.130842545906238, 0.9158978213436659, 0.10372938095389117, 0.9335644285850205, 0.13080522862495533, 0.784831371749732, 0.8946958598095386, 0.06882275844688758, 0.02106681566371454, 0.9269398892034397, 0.04213363132742908, 0.011092179452411106, 0.9761117918121773, 0.011092179452411106, 0.885633822816805, 0.8493244320245528, 0.04143046009875867, 0.08286092019751734, 0.04143046009875867, 0.8082203643880304, 0.1154600520554329, 0.15227342236543406, 0.15227342236543406, 0.5837147857341639, 0.12689451863786172, 0.016720438516920857, 0.351129208855338, 0.48489271699070485, 0.1504839466522877, 0.0905275848830884, 0.42246206278774584, 0.060351723255392266, 0.42246206278774584, 0.07994183057964016, 0.07994183057964016, 0.7994183057964016, 0.02492888539362257, 0.04985777078724514, 0.8974398741704125, 0.174161191366848, 0.273681872147904, 0.024880170195264, 0.547363744295808, 0.124785090229808, 0.124785090229808, 0.6655204812256427, 0.08319006015320533, 0.5943056505198072, 0.07924075340264097, 0.3367732019612241, 0.6073523981606519, 0.1868776609725083, 0.0700791228646906, 0.11679853810781768, 0.908064509526719, 0.8872589087206206, 0.0341253426431008, 0.0341253426431008, 0.41027343625087115, 0.3232457376522015, 0.2610830957960089, 0.40786955501026323, 0.5674706852316705, 0.10626598136215953, 0.04250639254486381, 0.6375958881729572, 0.21253196272431907, 0.8979068724310333, 0.022447671810775834, 0.0673430154323275, 0.6396750009571451, 0.3017334910175213, 0.036208018922102556, 0.01206933964070085, 0.916526678346586, 0.0716438616460371, 0.1535225606700795, 0.1944619101821007, 0.5833857305463022, 0.1298504868991952, 0.9089534082943664, 0.9308455669681902, 0.8811154242609349, 0.08811154242609348, 0.05511222411066685, 0.05511222411066685, 0.8817955857706696, 0.8291364446778798, 0.0753760404252618, 0.1507520808505236, 0.8043991403661086, 0.18386266065511053, 0.9510602721889622, 0.8122536013874532, 0.14768247297953693, 0.9403925072514819, 0.055021290953977536, 0.11004258190795507, 0.1650638728619326, 0.6602554914477304, 0.9575805002703436, 0.9161969521334357, 0.9044021176058697, 0.14951318976824618, 0.8970791386094771, 0.8602700233778401, 0.057351334891856, 0.10106541708054292, 0.16844236180090488, 0.16844236180090488, 0.5390155577628956, 0.0871387123747505, 0.7842484113727545, 0.7536629771591373, 0.15073259543182746, 0.9404194913659606, 0.572335637137844, 0.13736055291308255, 0.2747211058261651, 0.9059623457950842, 0.7584694650108991, 0.15801447187727063, 0.07374008687605964, 0.010534298125151376, 0.015922099313701102, 0.7324165684302506, 0.06368839725480441, 0.2069872910781143, 0.03386644033476118, 0.8127945680342683, 0.13546576133904473, 0.01693322016738059, 0.543394492594717, 0.06037716584385744, 0.24150866337542976, 0.15698063119402936, 0.09449933947921703, 0.8504940553129532, 0.09449933947921703, 0.3389122500419898, 0.4296923170175228, 0.22997616967135023, 0.7201155174040016, 0.01600256705342226, 0.01600256705342226, 0.25604107285475614, 0.8608810140633136, 0.05739206760422091, 0.9407408928457136, 0.02351852232114284, 0.02351852232114284, 0.02351852232114284, 0.8857741122640738, 0.3810445702302113, 0.43021161155023857, 0.03687528099002045, 0.15979288429008862, 0.7698543258540467, 0.12155594618748106, 0.12155594618748106, 0.8080172596002362, 0.11543103708574802, 0.9307059883787661, 0.7732112553457234, 0.14058386460831335, 0.07029193230415667, 0.08720419167755686, 0.8720419167755685, 0.9626245964546104, 0.03208748654848701, 0.061067849975599414, 0.7938820496827924, 0.12213569995119883, 0.1233394957232831, 0.8633764700629817, 0.023844499681408574, 0.9657022370970473, 0.011922249840704287, 0.0922446990622099, 0.05271125660697709, 0.625946172207853, 0.23061174765552478, 0.1222131397612392, 0.1222131397612392, 0.7943854084480548, 0.1303847694268054, 0.1955771541402081, 0.2607695388536108, 0.41288510318488375, 0.021558079560652636, 0.7329747050621895, 0.0646742386819579, 0.1940227160458737, 0.4199513507266945, 0.1665324321847237, 0.007240540529770595, 0.4054702696671533, 0.2994080818985717, 0.1641915287830877, 0.5022329115717977, 0.038633300890138285, 0.1978871475226836, 0.22615674002592412, 0.5653918500648103, 0.7378433989056487, 0.24594779963521624, 0.8858523593743822, 0.02034142158537993, 0.305121323780699, 0.4881941180491184, 0.18307279426841938, 0.20492910427750993, 0.4610904846243974, 0.06830970142583664, 0.2732388057033466, 0.9064050682700725, 0.8710182417805002, 0.12443117739721432, 0.6972968973668012, 0.13496068981292927, 0.15745413811508416, 0.4235105077927055, 0.25881197698443115, 0.15293435003625477, 0.16469853080827435, 0.7364111610350413, 0.25314133660579546, 0.8902137077666286, 0.11198653893716526, 0.7279125030915742, 0.08398990420287394, 0.05599326946858263, 0.05166000908516855, 0.8782201544478654, 0.05166000908516855, 0.9172165768073792, 0.03527756064643766, 0.03527756064643766, 0.7126268935717655, 0.2545096048470591, 0.016967306989803938, 0.016967306989803938, 0.8976114128792919, 0.09426078769820893, 0.8483470892838804, 0.23110034142117414, 0.39617201386486994, 0.34665051213176123, 0.016507167244369583, 0.11015964408373277, 0.7931494374028759, 0.022031928816746555, 0.08812771526698622, 0.2088369323302588, 0.6961231077675294, 0.22776277137717582, 0.13665766282630548, 0.02277627713771758, 0.6149594827183748, 0.2997086703492962, 0.1498543351746481, 0.5394756066287332, 0.826903841586111, 0.13781730693101849, 0.10472445321477421, 0.10472445321477421, 0.7330711725034195, 0.08617808646515797, 0.8617808646515797, 0.8055164680071972, 0.15103433775134947, 0.9063847142009899, 0.03586021371367154, 0.10758064114101462, 0.6096236331324162, 0.2510214959957008, 0.9599423169451555, 0.06460966450678778, 0.9045353030950289, 0.2043167326954169, 0.2043167326954169, 0.4290651386603755, 0.14302171288679183], \"Term\": [\"access\", \"account\", \"account\", \"afternoon\", \"airline\", \"airline\", \"airline\", \"airline\", \"airlines\", \"airlines\", \"airlines\", \"airport\", \"airport\", \"airport\", \"airport\", \"alaska\", \"alaska\", \"alaska\", \"alaska\", \"amazing\", \"amazing\", \"amazing\", \"amp\", \"amp\", \"amp\", \"amp\", \"and\", \"and\", \"and\", \"announced\", \"anyway\", \"anyway\", \"apply\", \"arrival\", \"arrival\", \"asked\", \"asked\", \"asking\", \"assist\", \"assistance\", \"assistance\", \"at\", \"at\", \"award\", \"award\", \"awesome\", \"awesome\", \"awesome\", \"back\", \"back\", \"back\", \"back\", \"bag\", \"bag\", \"bag\", \"bag\", \"best\", \"best\", \"best\", \"best\", \"boarded\", \"boarding\", \"boarding\", \"boarding\", \"boarding\", \"booked\", \"booked\", \"booked\", \"booking\", \"booking\", \"booking\", \"booking\", \"call\", \"call\", \"call\", \"call\", \"can\", \"can\", \"can\", \"can\", \"cancelled\", \"cancelled\", \"card\", \"card\", \"care\", \"care\", \"care\", \"check\", \"check\", \"check\", \"check\", \"checked\", \"checked\", \"checked\", \"checked\", \"class\", \"class\", \"class\", \"code\", \"communication\", \"companion\", \"companion\", \"company\", \"company\", \"confirmation\", \"confirmed\", \"cost\", \"credit\", \"credit\", \"credit\", \"credit\", \"crew\", \"crew\", \"crew\", \"curious\", \"curious\", \"customer\", \"customer\", \"customer\", \"dad\", \"date\", \"date\", \"deals\", \"deals\", \"delay\", \"delay\", \"delayed\", \"delayed\", \"delayed\", \"delayed\", \"delays\", \"delays\", \"delays\", \"depart\", \"departure\", \"departure\", \"drop\", \"due\", \"due\", \"due\", \"early\", \"early\", \"early\", \"early\", \"elevate\", \"elite\", \"everything\", \"explain\", \"explain\", \"first\", \"first\", \"first\", \"first\", \"fix\", \"fix\", \"fix\", \"flight\", \"flight\", \"flight\", \"flight\", \"flights\", \"flights\", \"flights\", \"flights\", \"fly\", \"fly\", \"fly\", \"fly\", \"flying\", \"flying\", \"flying\", \"flying\", \"free\", \"free\", \"free\", \"fucking\", \"gate\", \"gate\", \"gate\", \"gate\", \"gave\", \"get\", \"get\", \"get\", \"get\", \"go\", \"go\", \"going\", \"going\", \"going\", \"going\", \"got\", \"got\", \"got\", \"got\", \"great\", \"great\", \"guys\", \"guys\", \"guys\", \"guys\", \"happened\", \"happened\", \"happening\", \"hard\", \"hard\", \"hard\", \"hard\", \"help\", \"help\", \"help\", \"help\", \"hi\", \"hi\", \"hi\", \"hi\", \"hold\", \"hold\", \"hold\", \"hour\", \"hour\", \"hour\", \"hour\", \"hours\", \"hours\", \"hours\", \"hours\", \"how\", \"how\", \"how\", \"how\", \"hr\", \"hr\", \"iflyalaska\", \"iflyalaska\", \"iflyalaska\", \"iflyalaska\", \"ill\", \"ill\", \"im\", \"im\", \"im\", \"im\", \"incredible\", \"is\", \"is\", \"is\", \"is\", \"issue\", \"issue\", \"issue\", \"issue\", \"issues\", \"issues\", \"issues\", \"issues\", \"kids\", \"kind\", \"know\", \"know\", \"know\", \"kudos\", \"kudos\", \"kudos\", \"la\", \"landing\", \"late\", \"late\", \"late\", \"leave\", \"like\", \"like\", \"like\", \"like\", \"line\", \"line\", \"line\", \"line\", \"link\", \"link\", \"link\", \"live\", \"live\", \"locator\", \"longer\", \"longer\", \"lost\", \"lost\", \"lost\", \"lost\", \"lot\", \"lounge\", \"lounge\", \"love\", \"love\", \"love\", \"make\", \"make\", \"make\", \"make\", \"man\", \"man\", \"maui\", \"meal\", \"members\", \"members\", \"mess\", \"mess\", \"message\", \"message\", \"middle\", \"middle\", \"mileage\", \"mileage\", \"mileage\", \"miles\", \"miles\", \"miles\", \"mine\", \"minutes\", \"minutes\", \"minutes\", \"minutes\", \"movies\", \"movies\", \"much\", \"much\", \"much\", \"much\", \"mvp\", \"mvp\", \"mvp\", \"mvp\", \"need\", \"need\", \"need\", \"need\", \"needs\", \"needs\", \"needs\", \"never\", \"never\", \"never\", \"next\", \"next\", \"next\", \"next\", \"nice\", \"nice\", \"nice\", \"nice\", \"no\", \"no\", \"no\", \"not\", \"not\", \"not\", \"not\", \"notification\", \"now\", \"now\", \"now\", \"one\", \"one\", \"one\", \"pdx\", \"pdx\", \"people\", \"people\", \"people\", \"people\", \"plan\", \"plan\", \"plan\", \"plane\", \"plane\", \"plane\", \"plane\", \"planes\", \"please\", \"please\", \"please\", \"please\", \"pls\", \"pls\", \"plz\", \"pm\", \"pm\", \"policy\", \"policy\", \"policy\", \"poor\", \"poor\", \"poor\", \"premium\", \"premium\", \"priority\", \"purchased\", \"purchased\", \"rebooked\", \"received\", \"received\", \"received\", \"received\", \"record\", \"regarding\", \"request\", \"res\", \"res\", \"reservation\", \"reservation\", \"right\", \"right\", \"right\", \"right\", \"route\", \"route\", \"rude\", \"rude\", \"runway\", \"san\", \"san\", \"san\", \"sat\", \"sea\", \"sea\", \"sea\", \"sea\", \"seat\", \"seat\", \"seat\", \"seat\", \"seats\", \"seats\", \"seats\", \"seats\", \"seattle\", \"seattle\", \"seattle\", \"seattle\", \"security\", \"security\", \"security\", \"service\", \"service\", \"service\", \"sfo\", \"sfo\", \"sfo\", \"sfo\", \"showing\", \"showing\", \"sitting\", \"sitting\", \"sitting\", \"sitting\", \"speak\", \"still\", \"still\", \"still\", \"still\", \"stuck\", \"stuck\", \"stuck\", \"students\", \"students\", \"sucks\", \"supposed\", \"supposed\", \"supposed\", \"talk\", \"talk\", \"tarmac\", \"tarmac\", \"team\", \"team\", \"team\", \"terrible\", \"terrible\", \"thank\", \"thank\", \"thank\", \"thanks\", \"thanks\", \"thanks\", \"thanks\", \"thanksgiving\", \"thanksgiving\", \"thanksgiving\", \"this\", \"this\", \"this\", \"this\", \"ticket\", \"ticket\", \"ticket\", \"ticket\", \"time\", \"time\", \"time\", \"time\", \"today\", \"today\", \"today\", \"today\", \"told\", \"told\", \"told\", \"tonight\", \"tonight\", \"towards\", \"travel\", \"travel\", \"travel\", \"travel\", \"trying\", \"trying\", \"trying\", \"trying\", \"unhappy\", \"updates\", \"updates\", \"upgrade\", \"upgrade\", \"upgrade\", \"us\", \"us\", \"us\", \"us\", \"use\", \"use\", \"uw\", \"virgin\", \"virgin\", \"virgin\", \"virgin\", \"vx\", \"vx\", \"vx\", \"wait\", \"wait\", \"wait\", \"waiting\", \"waiting\", \"waiting\", \"waiting\", \"walla\", \"wallet\", \"wallet\", \"way\", \"way\", \"way\", \"way\", \"website\", \"website\", \"website\", \"website\", \"well\", \"well\", \"what\", \"what\", \"what\", \"what\", \"why\", \"why\", \"why\", \"wife\", \"wife\", \"wo\", \"wo\", \"wo\", \"wondering\", \"wondering\", \"working\", \"working\", \"works\", \"worst\", \"worst\", \"worst\", \"worst\", \"yall\", \"years\", \"years\", \"you\", \"you\", \"you\", \"you\"]}, \"R\": 30, \"lambda.step\": 0.01, \"plot.opts\": {\"xlab\": \"PC1\", \"ylab\": \"PC2\"}, \"topic.order\": [1, 2, 4, 3]};\n",
       "\n",
       "function LDAvis_load_lib(url, callback){\n",
       "  var s = document.createElement('script');\n",
       "  s.src = url;\n",
       "  s.async = true;\n",
       "  s.onreadystatechange = s.onload = callback;\n",
       "  s.onerror = function(){console.warn(\"failed to load library \" + url);};\n",
       "  document.getElementsByTagName(\"head\")[0].appendChild(s);\n",
       "}\n",
       "\n",
       "if(typeof(LDAvis) !== \"undefined\"){\n",
       "   // already loaded: just create the visualization\n",
       "   !function(LDAvis){\n",
       "       new LDAvis(\"#\" + \"ldavis_el874441401886649171208199229922\", ldavis_el874441401886649171208199229922_data);\n",
       "   }(LDAvis);\n",
       "}else if(typeof define === \"function\" && define.amd){\n",
       "   // require.js is available: use it to load d3/LDAvis\n",
       "   require.config({paths: {d3: \"https://d3js.org/d3.v5\"}});\n",
       "   require([\"d3\"], function(d3){\n",
       "      window.d3 = d3;\n",
       "      LDAvis_load_lib(\"https://cdn.jsdelivr.net/gh/bmabey/pyLDAvis@3.3.1/pyLDAvis/js/ldavis.v3.0.0.js\", function(){\n",
       "        new LDAvis(\"#\" + \"ldavis_el874441401886649171208199229922\", ldavis_el874441401886649171208199229922_data);\n",
       "      });\n",
       "    });\n",
       "}else{\n",
       "    // require.js not available: dynamically load d3 & LDAvis\n",
       "    LDAvis_load_lib(\"https://d3js.org/d3.v5.js\", function(){\n",
       "         LDAvis_load_lib(\"https://cdn.jsdelivr.net/gh/bmabey/pyLDAvis@3.3.1/pyLDAvis/js/ldavis.v3.0.0.js\", function(){\n",
       "                 new LDAvis(\"#\" + \"ldavis_el874441401886649171208199229922\", ldavis_el874441401886649171208199229922_data);\n",
       "            })\n",
       "         });\n",
       "}\n",
       "</script>"
      ],
      "text/plain": [
       "PreparedData(topic_coordinates=              x         y  topics  cluster       Freq\n",
       "topic                                                \n",
       "0      0.119571 -0.088291       1        1  28.756397\n",
       "1     -0.165012 -0.004778       2        1  27.791308\n",
       "3      0.062534  0.142658       3        1  21.846148\n",
       "2     -0.017093 -0.049590       4        1  21.606147, topic_info=        Term        Freq       Total Category  logprob  loglift\n",
       "14    flight  814.000000  814.000000  Default  30.0000  30.0000\n",
       "40     thank   83.000000   83.000000  Default  29.0000  29.0000\n",
       "57     miles   90.000000   90.000000  Default  28.0000  28.0000\n",
       "1    delayed  134.000000  134.000000  Default  27.0000  27.0000\n",
       "76    thanks  151.000000  151.000000  Default  26.0000  26.0000\n",
       "..       ...         ...         ...      ...      ...      ...\n",
       "71       get   33.204074  215.936109   Topic4  -4.6970  -0.3401\n",
       "200   alaska   28.785776  169.582945   Topic4  -4.8398  -0.2413\n",
       "306  airline   20.274475   62.345937   Topic4  -5.1903   0.4089\n",
       "297     this   18.602874   46.017645   Topic4  -5.2764   0.6265\n",
       "255    hours   19.621411   85.566547   Topic4  -5.2231   0.0595\n",
       "\n",
       "[278 rows x 6 columns], token_table=      Topic      Freq       Term\n",
       "term                            \n",
       "580       2  0.952686     access\n",
       "52        2  0.881715    account\n",
       "52        4  0.100767    account\n",
       "703       3  0.889526  afternoon\n",
       "306       1  0.096237    airline\n",
       "...     ...       ...        ...\n",
       "236       2  0.904535      years\n",
       "138       1  0.204317        you\n",
       "138       2  0.204317        you\n",
       "138       3  0.429065        you\n",
       "138       4  0.143022        you\n",
       "\n",
       "[587 rows x 3 columns], R=30, lambda_step=0.01, plot_opts={'xlab': 'PC1', 'ylab': 'PC2'}, topic_order=[1, 2, 4, 3])"
      ]
     },
     "execution_count": 103,
     "metadata": {},
     "output_type": "execute_result"
    }
   ],
   "source": [
    "model_topics(twcs_dict['AlaskaAir']['pre'].transformed_text.to_list())"
   ]
  },
  {
   "cell_type": "code",
   "execution_count": 72,
   "id": "12b3b87b",
   "metadata": {},
   "outputs": [],
   "source": [
    "pre_dict = gensim.corpora.Dictionary(pre_corpus)\n",
    "pre_bow = [pre_dict.doc2bow(doc) for doc in pre_corpus]\n",
    "\n",
    "post_dict = gensim.corpora.Dictionary(post_corpus)\n",
    "post_bow = [post_dict.doc2bow(doc) for doc in post_corpus]"
   ]
  },
  {
   "cell_type": "code",
   "execution_count": 73,
   "id": "ddbe6ce8",
   "metadata": {},
   "outputs": [
    {
     "data": {
      "text/plain": [
       "[(0,\n",
       "  '0.021*\"please\" + 0.020*\"check\" + 0.017*\"bag\" + 0.016*\"get\" + 0.015*\"help\" + 0.015*\"baggage\" + 0.014*\"boarding\" + 0.014*\"luggage\" + 0.013*\"still\" + 0.011*\"call\"'),\n",
       " (1,\n",
       "  '0.035*\"flight\" + 0.032*\"service\" + 0.021*\"customer\" + 0.017*\"gate\" + 0.015*\"great\" + 0.013*\"thank\" + 0.013*\"thanks\" + 0.013*\"crew\" + 0.010*\"today\" + 0.009*\"airline\"'),\n",
       " (2,\n",
       "  '0.041*\"flight\" + 0.024*\"booking\" + 0.023*\"hi\" + 0.021*\"help\" + 0.016*\"please\" + 0.014*\"change\" + 0.012*\"ticket\" + 0.011*\"need\" + 0.010*\"book\" + 0.010*\"can\"'),\n",
       " (3,\n",
       "  '0.065*\"flight\" + 0.019*\"delayed\" + 0.015*\"get\" + 0.014*\"time\" + 0.012*\"flights\" + 0.011*\"hours\" + 0.010*\"going\" + 0.010*\"plane\" + 0.009*\"seat\" + 0.009*\"delay\"')]"
      ]
     },
     "execution_count": 73,
     "metadata": {},
     "output_type": "execute_result"
    }
   ],
   "source": [
    "pre_lda_model = gensim.models.LdaMulticore(pre_bow, \n",
    "                                   num_topics = 4, \n",
    "                                   id2word = pre_dict,                                    \n",
    "                                   passes = 10,\n",
    "                                   workers = 2)"
   ]
  },
  {
   "cell_type": "code",
   "execution_count": 96,
   "id": "450b4f03",
   "metadata": {},
   "outputs": [
    {
     "data": {
      "text/html": [
       "\n",
       "<link rel=\"stylesheet\" type=\"text/css\" href=\"https://cdn.jsdelivr.net/gh/bmabey/pyLDAvis@3.3.1/pyLDAvis/js/ldavis.v1.0.0.css\">\n",
       "\n",
       "\n",
       "<div id=\"ldavis_el874441401886620978409072675817\"></div>\n",
       "<script type=\"text/javascript\">\n",
       "\n",
       "var ldavis_el874441401886620978409072675817_data = {\"mdsDat\": {\"x\": [0.1050070315926505, -0.17188558739591542, 0.24924589995449808, -0.18236734415123312], \"y\": [0.10122775206630187, 0.15026405601655113, -0.07104808242337213, -0.1804437256594807], \"topics\": [1, 2, 3, 4], \"cluster\": [1, 1, 1, 1], \"Freq\": [30.2963596425095, 27.133424222633813, 23.30855562650022, 19.26166050835647]}, \"tinfo\": {\"Term\": [\"service\", \"booking\", \"please\", \"delayed\", \"help\", \"hi\", \"customer\", \"gate\", \"bag\", \"great\", \"check\", \"baggage\", \"flight\", \"luggage\", \"crew\", \"boarding\", \"ticket\", \"change\", \"book\", \"call\", \"flights\", \"booked\", \"pass\", \"checked\", \"going\", \"delay\", \"can\", \"phone\", \"best\", \"dm\", \"delayed\", \"delay\", \"wifi\", \"miss\", \"connection\", \"connecting\", \"weather\", \"together\", \"seattle\", \"tv\", \"maintenance\", \"hard\", \"updates\", \"la\", \"game\", \"christmas\", \"bird\", \"entertainment\", \"mechanical\", \"standby\", \"baby\", \"rebooked\", \"plans\", \"our\", \"nonstop\", \"cause\", \"upgraded\", \"york\", \"gonna\", \"pr\", \"planes\", \"delays\", \"going\", \"missed\", \"room\", \"supposed\", \"sw\", \"stuck\", \"aircraft\", \"leave\", \"hrs\", \"late\", \"moved\", \"row\", \"hours\", \"early\", \"hour\", \"time\", \"home\", \"plane\", \"seat\", \"flight\", \"seats\", \"flights\", \"next\", \"cancelled\", \"us\", \"get\", \"first\", \"free\", \"class\", \"due\", \"why\", \"fly\", \"got\", \"make\", \"back\", \"new\", \"amp\", \"flying\", \"one\", \"last\", \"book\", \"points\", \"miles\", \"error\", \"date\", \"bali\", \"booking\", \"saya\", \"nov\", \"using\", \"purchase\", \"booked\", \"avios\", \"advise\", \"passport\", \"asia\", \"code\", \"credit\", \"fare\", \"log\", \"travelling\", \"manage\", \"kl\", \"mr\", \"dec\", \"select\", \"uk\", \"ms\", \"december\", \"november\", \"ticket\", \"card\", \"meal\", \"club\", \"cancel\", \"london\", \"account\", \"page\", \"name\", \"payment\", \"hi\", \"buy\", \"change\", \"trying\", \"website\", \"airasia\", \"add\", \"help\", \"use\", \"hello\", \"can\", \"ba\", \"please\", \"cant\", \"need\", \"flight\", \"online\", \"number\", \"app\", \"flights\", \"check\", \"im\", \"tomorrow\", \"thanks\", \"want\", \"flying\", \"get\", \"service\", \"great\", \"crew\", \"best\", \"staff\", \"experience\", \"ever\", \"worst\", \"amazing\", \"sitting\", \"awesome\", \"terrible\", \"rude\", \"agents\", \"poor\", \"helpful\", \"job\", \"employees\", \"horrible\", \"fun\", \"she\", \"absolutely\", \"helping\", \"kind\", \"beyond\", \"fantastic\", \"friendly\", \"dallas\", \"excellent\", \"shout\", \"gate\", \"attendant\", \"awful\", \"agent\", \"customer\", \"san\", \"airline\", \"thank\", \"very\", \"care\", \"love\", \"say\", \"today\", \"always\", \"thanks\", \"you\", \"flight\", \"amp\", \"people\", \"really\", \"never\", \"flying\", \"fly\", \"plane\", \"one\", \"us\", \"baggage\", \"luggage\", \"checked\", \"pass\", \"dm\", \"days\", \"call\", \"case\", \"sent\", \"ago\", \"hold\", \"response\", \"reply\", \"bag\", \"claim\", \"weeks\", \"complaint\", \"hand\", \"anyone\", \"tsa\", \"answer\", \"chat\", \"lost\", \"drop\", \"print\", \"respond\", \"alaska\", \"phone\", \"reference\", \"allowance\", \"send\", \"carry\", \"someone\", \"bags\", \"boarding\", \"called\", \"check\", \"email\", \"please\", \"still\", \"waiting\", \"help\", \"get\", \"back\", \"need\", \"number\", \"can\", \"one\", \"hi\"], \"Freq\": [3829.0, 3286.0, 4282.0, 2867.0, 4311.0, 3752.0, 2815.0, 2005.0, 1682.0, 1726.0, 3495.0, 1450.0, 20302.0, 1393.0, 1521.0, 1843.0, 1608.0, 2309.0, 1428.0, 1090.0, 3200.0, 1350.0, 1040.0, 1038.0, 1625.0, 1351.0, 2079.0, 944.0, 1031.0, 898.0, 2867.0146664001945, 1350.6040837041244, 768.4677225391489, 639.1453816190852, 542.9765079418212, 418.54544818447687, 270.73469150178977, 437.3172947439702, 261.0778388401739, 240.40351232225336, 223.05848560578332, 217.1789506452571, 231.10397542519328, 188.13252815340104, 154.89677627606062, 156.26790151273997, 228.6572469888906, 153.56128274718637, 145.8447620459077, 143.10194981138994, 155.87329550743323, 139.01488770739118, 155.9209827880492, 132.2616982255122, 120.35443036058577, 119.49998272076759, 115.93740045195067, 114.12148521308598, 110.44059426079615, 114.66345097894994, 367.88768156133983, 494.1087442094804, 1581.996037516523, 471.10810231386574, 265.6506995109715, 313.3600403985204, 277.6969631369754, 539.3606207807974, 196.07114068308334, 355.73830355368983, 395.07545929886527, 685.2710018801929, 189.59344600709665, 390.80043904451037, 1639.3433273568423, 716.1175032963337, 1172.644283293259, 2110.426319838581, 872.6316523673181, 1580.4403692806611, 1449.6043049579475, 9901.071602229607, 1065.8721409876584, 1900.1200622157446, 753.4907776967091, 986.2222554513774, 1218.0741043993503, 2325.4316828066662, 915.5984985477121, 622.0348143933626, 631.6117899682623, 712.7736155384345, 653.2762963222494, 836.7852982984093, 792.0692527044254, 701.2948555189236, 768.8915936257911, 708.052681759576, 765.5924327563679, 720.2454312954452, 708.8715333589643, 667.0008169526099, 1427.680264848765, 705.6631185366655, 645.7375556025679, 662.5141347281233, 503.564582871874, 468.16887968378563, 3279.9419662567952, 327.22762433359696, 329.8297267247008, 362.046711674918, 316.64397159509895, 1347.19835176897, 284.6906180549626, 284.07605308482493, 255.0239387756934, 249.69889095164203, 229.56066795270988, 722.5372537419963, 209.8712061151156, 204.8385869525916, 208.8962841914916, 201.38611114966616, 200.9995124412566, 193.91688993962597, 174.14702579266861, 165.10575895263798, 162.91692826490524, 160.8466566439985, 157.79708681167168, 158.30139807868395, 1585.3943938545503, 612.5872074909362, 271.02973223427347, 569.3495479530368, 622.1650806852919, 450.50956817168293, 838.9716168711785, 299.34677394034225, 1124.0465177158264, 402.57359633206187, 3119.271255548423, 375.1665669379263, 1904.1479917170143, 1390.7281684468912, 1096.050542204199, 479.60044616870164, 700.1812590572055, 2820.814816596785, 692.4603374114773, 756.1886069470133, 1419.059552877197, 928.9117420206275, 2223.3093190497643, 1030.6134760309715, 1479.9402965242762, 5688.262844849339, 880.8886596932698, 998.5213590296222, 803.0375025093457, 1294.5054189824186, 1324.9546711563767, 965.2772880829999, 799.1996578307126, 1086.1373878659915, 818.4523853124815, 866.7792522890418, 1005.1620084075548, 3828.3814216082937, 1725.661963527548, 1521.07806924164, 1030.58993094171, 947.5536558887096, 914.207430240959, 876.655414874428, 729.0409987396173, 635.6225687128385, 626.3445199786199, 513.7829798410772, 416.85860912459, 399.7717171480573, 380.05871742641807, 349.5772517746301, 331.29838825932626, 340.53291595527213, 300.5441614975566, 265.47674189985696, 258.09674278498693, 258.14577941512147, 236.74146872630698, 215.7308505571009, 219.6023981531314, 210.7680938766104, 205.58161271627276, 200.85955262292558, 200.7686002387169, 190.63256140129934, 187.19958568054878, 1969.154983185546, 555.763658742814, 232.75575386688826, 686.7673074503166, 2474.311193184186, 402.31388362199334, 1033.8598811338488, 1549.354450660439, 291.4116859714319, 373.83070866951, 709.0314742137062, 409.96507972377987, 1208.2781528641349, 512.4112164720646, 1528.7777257176947, 715.4280240910879, 4107.492102893906, 990.7676869885588, 604.0195445009729, 565.8348550749109, 540.8815491509594, 665.7825384728211, 618.7012816959375, 623.5843641427427, 612.4022562637143, 547.9609896704944, 1449.6812701347183, 1392.2306594487363, 1038.1392309879768, 1039.8429555180567, 897.4099339602544, 858.7962597000945, 1089.8732077611783, 702.6145267731366, 609.3043833256415, 610.2127552207853, 661.8451416477327, 541.5951431926613, 537.6221896559653, 1679.6887983901456, 488.3582642345644, 430.98933400108416, 384.59225186870543, 311.0548098533981, 280.91082253666957, 259.8843193556579, 246.00644311769338, 247.16266824599705, 841.5922066789736, 232.26571384717184, 211.49110030147034, 209.03794288001785, 332.30617238116315, 940.8334575872111, 214.53425272935974, 195.3480087826233, 394.16564535965375, 409.39966201444327, 674.7880692303281, 919.5631602516063, 1406.3673189526498, 335.7223745381206, 1946.8242420917677, 966.6087425451843, 2051.87537233774, 1256.59620899132, 738.2804482899362, 1487.7858134899461, 1551.6143931016886, 761.6447766377022, 778.7318193492985, 627.4683744131968, 659.4986767662635, 634.5096285237635, 632.6134719226319], \"Total\": [3829.0, 3286.0, 4282.0, 2867.0, 4311.0, 3752.0, 2815.0, 2005.0, 1682.0, 1726.0, 3495.0, 1450.0, 20302.0, 1393.0, 1521.0, 1843.0, 1608.0, 2309.0, 1428.0, 1090.0, 3200.0, 1350.0, 1040.0, 1038.0, 1625.0, 1351.0, 2079.0, 944.0, 1031.0, 898.0, 2867.7984724848257, 1351.4182934093176, 769.2647750631933, 639.9303065374512, 543.8891247848863, 419.33243486534104, 271.5137959299696, 438.68467116418213, 261.90671703379377, 241.18683324376556, 223.83648817807503, 217.99517225020455, 232.11710087819787, 188.96874905365112, 155.68076127304576, 157.06142595703204, 229.81885015435475, 154.34679061174484, 146.61913291630796, 143.88097694204816, 156.73021834700413, 139.80185537122694, 156.8707738303278, 133.07805666597525, 121.14874393384136, 120.31394602744214, 116.74402266973541, 114.92260015074196, 111.22023488103412, 115.48591637899189, 370.95129537221027, 500.6735047415541, 1625.2331659919255, 478.1207730002279, 268.5312158838247, 317.31887544336104, 281.2785716033802, 553.3530476948195, 198.93004508890132, 371.6891398160311, 421.39060511778365, 765.7504423376455, 193.24253143894683, 424.0751640567459, 2060.426968667324, 847.3176642186577, 1476.695625002238, 2989.936059698307, 1087.7391204764288, 2204.5250953886857, 2057.5727556433926, 20302.96639401268, 1474.8611119225332, 3200.315677012822, 999.495957556211, 1432.2311723772789, 1894.4616550761516, 4973.154170871202, 1428.3026992582693, 845.438433217806, 877.3835352832945, 1120.6239117674124, 1028.29718205797, 1836.8065157192393, 1695.5939774848082, 1413.1705027645994, 2040.0873911804247, 1506.9091056169457, 2568.8015233283154, 2254.8515483130923, 2347.7707742997763, 1402.5745683831365, 1428.543313017054, 706.5200528061008, 646.6164845966189, 663.4540553716571, 504.4162087349993, 469.03261727971875, 3286.1791050094, 328.0773932637131, 330.704380273106, 363.0132596563959, 317.5043005757055, 1350.9505336716945, 285.55017009032434, 284.9444385811777, 255.87763264676767, 250.60568419974857, 230.4292791175744, 725.307594250519, 210.73556073886124, 205.6881181719243, 209.77967676937126, 202.2394930022082, 201.87220109265326, 194.76938254653086, 175.00405284852778, 165.97074096278263, 163.78572556822198, 161.7219248286068, 158.65598940263365, 159.17328018380198, 1608.787106302411, 617.3427353693282, 272.7778337720637, 581.7425112977867, 636.9479358849862, 460.31196572414444, 870.0408160673605, 303.81026724956797, 1201.6257180977473, 414.9095568270665, 3752.4682420867834, 392.0522325570734, 2309.194297324453, 1704.1905135437482, 1308.0863205433534, 524.4017038723513, 817.881631363182, 4311.884546957326, 816.4076019914123, 927.1346003722135, 2079.1647059701927, 1237.341190486469, 4282.490151160813, 1586.1460694923082, 2760.7217989583364, 20302.96639401268, 1297.205456756091, 1626.5729360279188, 1227.1808543588008, 3200.315677012822, 3495.194141893471, 1977.3562601629367, 1224.646538350514, 3472.878872765906, 1449.4092699427788, 2254.8515483130923, 4973.154170871202, 3829.1676227960374, 1726.4382631665758, 1521.8505584520367, 1031.3730595254117, 948.3511259600425, 914.9779925296732, 877.4322516877673, 729.812502333487, 636.3874180384962, 627.1919706103363, 514.5499532869778, 417.6394458388544, 400.53899484481707, 380.83531319269383, 350.35733190851147, 332.0744121198699, 341.3471838775468, 301.3199469998558, 266.25234853099556, 258.8690495085243, 258.92184140364685, 237.518478554351, 216.50929929485585, 220.39648756738092, 211.54145240067035, 206.3452915229322, 201.6235295894664, 201.56089631417044, 191.3968706428982, 187.963197011103, 2005.8650356604448, 562.3362995840937, 234.00037304647458, 718.9348553466258, 2815.610179730467, 416.74557419339317, 1277.3506848338995, 2138.9940451971456, 310.75650955300233, 426.34409043730784, 983.2712021797965, 494.9198913450073, 2319.7480111860377, 693.2037404083744, 3472.878872765906, 1135.6564735764364, 20302.96639401268, 2568.8015233283154, 1015.6675291391663, 1138.1014200421064, 1038.5617968887868, 2254.8515483130923, 1836.8065157192393, 2204.5250953886857, 2347.7707742997763, 1894.4616550761516, 1450.4898234457655, 1393.0781668729803, 1038.9450197722645, 1040.6623775991434, 898.2097552600213, 859.62205592005, 1090.9911047681862, 703.4242438856661, 610.1036439025515, 611.018500270233, 662.7199581286397, 542.3948485607, 538.4241971868173, 1682.3941831109557, 489.1638796720855, 431.800661152301, 385.39064772584175, 311.8644091532053, 281.7491911269436, 260.6919940139047, 246.81025492351924, 247.98695387510867, 844.4535447307319, 233.1003247637503, 212.2907213245937, 209.8383007309976, 333.6095457281894, 944.5278357070148, 215.39737810886723, 196.15115629566776, 396.99877731489494, 417.4483582325963, 708.1887189425895, 1005.3428674348984, 1843.0190163135555, 367.0085253076928, 3495.194141893471, 1488.2973253109685, 4282.490151160813, 2231.893794284808, 1205.2697613779433, 4311.884546957326, 4973.154170871202, 2040.0873911804247, 2760.7217989583364, 1626.5729360279188, 2079.1647059701927, 2347.7707742997763, 3752.4682420867834], \"Category\": [\"Default\", \"Default\", \"Default\", \"Default\", \"Default\", \"Default\", \"Default\", \"Default\", \"Default\", \"Default\", \"Default\", \"Default\", \"Default\", \"Default\", \"Default\", \"Default\", \"Default\", \"Default\", \"Default\", \"Default\", \"Default\", \"Default\", \"Default\", \"Default\", \"Default\", \"Default\", \"Default\", \"Default\", \"Default\", \"Default\", \"Topic1\", \"Topic1\", \"Topic1\", \"Topic1\", \"Topic1\", \"Topic1\", \"Topic1\", \"Topic1\", \"Topic1\", \"Topic1\", \"Topic1\", \"Topic1\", \"Topic1\", \"Topic1\", \"Topic1\", \"Topic1\", \"Topic1\", \"Topic1\", \"Topic1\", \"Topic1\", \"Topic1\", \"Topic1\", \"Topic1\", \"Topic1\", \"Topic1\", \"Topic1\", \"Topic1\", \"Topic1\", \"Topic1\", \"Topic1\", \"Topic1\", \"Topic1\", \"Topic1\", \"Topic1\", \"Topic1\", \"Topic1\", \"Topic1\", \"Topic1\", \"Topic1\", \"Topic1\", \"Topic1\", \"Topic1\", \"Topic1\", \"Topic1\", \"Topic1\", \"Topic1\", \"Topic1\", \"Topic1\", \"Topic1\", \"Topic1\", \"Topic1\", \"Topic1\", \"Topic1\", \"Topic1\", \"Topic1\", \"Topic1\", \"Topic1\", \"Topic1\", \"Topic1\", \"Topic1\", \"Topic1\", \"Topic1\", \"Topic1\", \"Topic1\", \"Topic1\", \"Topic1\", \"Topic1\", \"Topic1\", \"Topic1\", \"Topic1\", \"Topic1\", \"Topic1\", \"Topic2\", \"Topic2\", \"Topic2\", \"Topic2\", \"Topic2\", \"Topic2\", \"Topic2\", \"Topic2\", \"Topic2\", \"Topic2\", \"Topic2\", \"Topic2\", \"Topic2\", \"Topic2\", \"Topic2\", \"Topic2\", \"Topic2\", \"Topic2\", \"Topic2\", \"Topic2\", \"Topic2\", \"Topic2\", \"Topic2\", \"Topic2\", \"Topic2\", \"Topic2\", \"Topic2\", \"Topic2\", \"Topic2\", \"Topic2\", \"Topic2\", \"Topic2\", \"Topic2\", \"Topic2\", \"Topic2\", \"Topic2\", \"Topic2\", \"Topic2\", \"Topic2\", \"Topic2\", \"Topic2\", \"Topic2\", \"Topic2\", \"Topic2\", \"Topic2\", \"Topic2\", \"Topic2\", \"Topic2\", \"Topic2\", \"Topic2\", \"Topic2\", \"Topic2\", \"Topic2\", \"Topic2\", \"Topic2\", \"Topic2\", \"Topic2\", \"Topic2\", \"Topic2\", \"Topic2\", \"Topic2\", \"Topic2\", \"Topic2\", \"Topic2\", \"Topic2\", \"Topic2\", \"Topic2\", \"Topic3\", \"Topic3\", \"Topic3\", \"Topic3\", \"Topic3\", \"Topic3\", \"Topic3\", \"Topic3\", \"Topic3\", \"Topic3\", \"Topic3\", \"Topic3\", \"Topic3\", \"Topic3\", \"Topic3\", \"Topic3\", \"Topic3\", \"Topic3\", \"Topic3\", \"Topic3\", \"Topic3\", \"Topic3\", \"Topic3\", \"Topic3\", \"Topic3\", \"Topic3\", \"Topic3\", \"Topic3\", \"Topic3\", \"Topic3\", \"Topic3\", \"Topic3\", \"Topic3\", \"Topic3\", \"Topic3\", \"Topic3\", \"Topic3\", \"Topic3\", \"Topic3\", \"Topic3\", \"Topic3\", \"Topic3\", \"Topic3\", \"Topic3\", \"Topic3\", \"Topic3\", \"Topic3\", \"Topic3\", \"Topic3\", \"Topic3\", \"Topic3\", \"Topic3\", \"Topic3\", \"Topic3\", \"Topic3\", \"Topic3\", \"Topic4\", \"Topic4\", \"Topic4\", \"Topic4\", \"Topic4\", \"Topic4\", \"Topic4\", \"Topic4\", \"Topic4\", \"Topic4\", \"Topic4\", \"Topic4\", \"Topic4\", \"Topic4\", \"Topic4\", \"Topic4\", \"Topic4\", \"Topic4\", \"Topic4\", \"Topic4\", \"Topic4\", \"Topic4\", \"Topic4\", \"Topic4\", \"Topic4\", \"Topic4\", \"Topic4\", \"Topic4\", \"Topic4\", \"Topic4\", \"Topic4\", \"Topic4\", \"Topic4\", \"Topic4\", \"Topic4\", \"Topic4\", \"Topic4\", \"Topic4\", \"Topic4\", \"Topic4\", \"Topic4\", \"Topic4\", \"Topic4\", \"Topic4\", \"Topic4\", \"Topic4\", \"Topic4\", \"Topic4\", \"Topic4\"], \"logprob\": [30.0, 29.0, 28.0, 27.0, 26.0, 25.0, 24.0, 23.0, 22.0, 21.0, 20.0, 19.0, 18.0, 17.0, 16.0, 15.0, 14.0, 13.0, 12.0, 11.0, 10.0, 9.0, 8.0, 7.0, 6.0, 5.0, 4.0, 3.0, 2.0, 1.0, -3.9784, -4.7311, -5.295, -5.4793, -5.6424, -5.9027, -6.3383, -5.8588, -6.3746, -6.4571, -6.532, -6.5587, -6.4966, -6.7023, -6.8967, -6.8879, -6.5072, -6.9053, -6.9569, -6.9759, -6.8904, -7.0049, -6.8901, -7.0547, -7.149, -7.1561, -7.1864, -7.2022, -7.235, -7.1974, -6.0317, -5.7367, -4.573, -5.7843, -6.3573, -6.1921, -6.3129, -5.6491, -6.661, -6.0652, -5.9604, -5.4096, -6.6946, -5.9712, -4.5374, -5.3656, -4.8724, -4.2848, -5.1679, -4.574, -4.6604, -2.739, -4.9679, -4.3898, -5.3147, -5.0456, -4.8344, -4.1878, -5.1199, -5.5064, -5.4912, -5.3703, -5.4574, -5.2099, -5.2648, -5.3865, -5.2945, -5.3769, -5.2988, -5.3598, -5.3758, -5.4366, -4.5654, -5.27, -5.3588, -5.3331, -5.6075, -5.6803, -3.7336, -6.0385, -6.0306, -5.9374, -6.0714, -4.6234, -6.1778, -6.1799, -6.2878, -6.3089, -6.393, -5.2464, -6.4827, -6.507, -6.4873, -6.524, -6.5259, -6.5617, -6.6693, -6.7226, -6.7359, -6.7487, -6.7679, -6.7647, -4.4606, -5.4115, -6.2269, -5.4847, -5.396, -5.7188, -5.097, -6.1276, -4.8045, -5.8313, -3.7838, -5.9018, -4.2774, -4.5916, -4.8297, -5.6562, -5.2778, -3.8844, -5.2889, -5.2009, -4.5714, -4.9952, -4.1224, -4.8913, -4.5294, -3.183, -5.0482, -4.9229, -5.1408, -4.6633, -4.64, -4.9568, -5.1456, -4.8388, -5.1218, -5.0644, -4.9163, -3.427, -4.2239, -4.3501, -4.7393, -4.8233, -4.8592, -4.9011, -5.0855, -5.2226, -5.2373, -5.4354, -5.6445, -5.6863, -5.7369, -5.8205, -5.8742, -5.8467, -5.9716, -6.0957, -6.1239, -6.1237, -6.2103, -6.3032, -6.2854, -6.3265, -6.3514, -6.3746, -6.3751, -6.4269, -6.4451, -4.0919, -5.3569, -6.2272, -5.1452, -3.8635, -5.68, -4.7362, -4.3316, -6.0025, -5.7534, -5.1133, -5.6612, -4.5803, -5.4381, -4.345, -5.1043, -3.3567, -4.7787, -5.2736, -5.3389, -5.384, -5.1763, -5.2496, -5.2417, -5.2598, -5.371, -4.2074, -4.2479, -4.5413, -4.5397, -4.687, -4.731, -4.4927, -4.9317, -5.0742, -5.0727, -4.9915, -5.192, -5.1994, -4.0602, -5.2955, -5.4204, -5.5343, -5.7466, -5.8485, -5.9263, -5.9812, -5.9765, -4.7512, -6.0386, -6.1323, -6.144, -5.6805, -4.6398, -6.1181, -6.2117, -5.5098, -5.4718, -4.9721, -4.6626, -4.2378, -5.6702, -3.9126, -4.6127, -3.86, -4.3504, -4.8822, -4.1815, -4.1395, -4.851, -4.8289, -5.0448, -4.995, -5.0337, -5.0367], \"loglift\": [30.0, 29.0, 28.0, 27.0, 26.0, 25.0, 24.0, 23.0, 22.0, 21.0, 20.0, 19.0, 18.0, 17.0, 16.0, 15.0, 14.0, 13.0, 12.0, 11.0, 10.0, 9.0, 8.0, 7.0, 6.0, 5.0, 4.0, 3.0, 2.0, 1.0, 1.1939, 1.1935, 1.1931, 1.1929, 1.1925, 1.1923, 1.1913, 1.191, 1.191, 1.1909, 1.1907, 1.1904, 1.1898, 1.1897, 1.1891, 1.1891, 1.1891, 1.189, 1.1888, 1.1887, 1.1887, 1.1885, 1.1881, 1.188, 1.1876, 1.1874, 1.1872, 1.1871, 1.1871, 1.187, 1.1858, 1.1809, 1.1672, 1.1794, 1.1834, 1.1816, 1.1813, 1.1685, 1.1797, 1.1503, 1.1297, 1.0831, 1.1751, 1.1124, 0.9655, 1.0259, 0.9636, 0.8458, 0.9738, 0.8613, 0.8439, 0.476, 0.8694, 0.6728, 0.9116, 0.821, 0.7525, 0.434, 0.7495, 0.8873, 0.8655, 0.7417, 0.7405, 0.4079, 0.433, 0.4935, 0.2183, 0.4388, -0.0164, 0.0529, -0.0034, 0.4509, 1.3038, 1.3032, 1.303, 1.303, 1.3027, 1.3026, 1.3025, 1.3018, 1.3018, 1.3017, 1.3017, 1.3016, 1.3014, 1.3014, 1.3011, 1.3008, 1.3006, 1.3006, 1.3003, 1.3003, 1.3002, 1.3002, 1.3001, 1.3, 1.2995, 1.2992, 1.2991, 1.299, 1.299, 1.2989, 1.2898, 1.2967, 1.298, 1.2829, 1.2809, 1.2829, 1.268, 1.2896, 1.2377, 1.2742, 1.1196, 1.2604, 1.1115, 1.1011, 1.1276, 1.2151, 1.149, 0.8801, 1.1397, 1.1006, 0.9224, 1.0177, 0.6489, 0.8733, 0.6809, 0.032, 0.9174, 0.8164, 0.8803, 0.3993, 0.3344, 0.5873, 0.8776, 0.142, 0.7329, 0.3483, -0.2945, 1.4561, 1.4559, 1.4558, 1.4556, 1.4555, 1.4555, 1.4555, 1.4553, 1.4551, 1.455, 1.4549, 1.4545, 1.4544, 1.4543, 1.4541, 1.454, 1.454, 1.4538, 1.4534, 1.4534, 1.4533, 1.4531, 1.4527, 1.4527, 1.4527, 1.4526, 1.4526, 1.4524, 1.4523, 1.4523, 1.4379, 1.4446, 1.451, 1.4106, 1.3271, 1.4211, 1.2449, 1.1339, 1.3921, 1.3249, 1.1294, 1.268, 0.8041, 1.1542, 0.6358, 0.9943, -0.1416, 0.5036, 0.9367, 0.7575, 0.804, 0.2365, 0.3682, 0.1936, 0.1125, 0.2159, 1.6465, 1.6464, 1.6463, 1.6463, 1.6462, 1.6461, 1.646, 1.6459, 1.6457, 1.6457, 1.6457, 1.6456, 1.6456, 1.6454, 1.6454, 1.6452, 1.645, 1.6445, 1.6441, 1.644, 1.6438, 1.6437, 1.6437, 1.6435, 1.6433, 1.6432, 1.6431, 1.6431, 1.643, 1.643, 1.6399, 1.6276, 1.5987, 1.5579, 1.3767, 1.558, 1.0619, 1.2155, 0.9113, 1.0726, 1.1569, 0.583, 0.4823, 0.6618, 0.3815, 0.6945, 0.4988, 0.3387, -0.1333]}, \"token.table\": {\"Topic\": [3, 2, 4, 2, 4, 2, 2, 3, 4, 3, 4, 2, 4, 1, 3, 1, 2, 3, 3, 4, 4, 1, 3, 3, 1, 2, 3, 4, 4, 4, 1, 2, 4, 2, 1, 3, 2, 3, 1, 3, 1, 2, 3, 4, 1, 1, 2, 3, 4, 3, 4, 4, 3, 4, 2, 3, 3, 1, 2, 1, 4, 2, 1, 2, 2, 4, 1, 2, 4, 2, 4, 3, 4, 2, 4, 1, 2, 1, 2, 4, 1, 2, 4, 1, 2, 4, 3, 4, 3, 4, 4, 1, 1, 2, 3, 4, 4, 2, 3, 4, 4, 1, 4, 1, 3, 1, 2, 3, 2, 4, 1, 1, 2, 4, 3, 3, 4, 3, 2, 4, 2, 2, 1, 1, 1, 3, 4, 4, 1, 2, 3, 1, 2, 3, 4, 2, 4, 3, 1, 2, 3, 3, 3, 3, 2, 1, 2, 3, 1, 2, 3, 4, 1, 2, 3, 4, 1, 2, 3, 1, 2, 3, 4, 1, 2, 3, 4, 3, 3, 1, 1, 3, 1, 2, 3, 4, 1, 2, 3, 4, 1, 1, 2, 3, 4, 3, 4, 1, 2, 4, 2, 3, 4, 3, 3, 2, 4, 4, 1, 2, 3, 4, 3, 1, 3, 4, 1, 2, 3, 4, 1, 4, 1, 2, 3, 4, 3, 3, 2, 1, 1, 2, 3, 4, 1, 3, 1, 2, 3, 2, 1, 2, 3, 3, 4, 1, 3, 4, 1, 1, 2, 3, 4, 2, 2, 3, 1, 2, 1, 1, 3, 1, 2, 3, 2, 2, 2, 4, 1, 2, 3, 4, 1, 2, 3, 4, 1, 2, 3, 4, 1, 2, 3, 1, 2, 2, 2, 4, 1, 2, 3, 4, 2, 4, 1, 2, 4, 4, 2, 2, 4, 1, 3, 4, 2, 3, 4, 1, 3, 1, 3, 1, 1, 2, 3, 4, 2, 3, 1, 4, 2, 1, 3, 4, 1, 4, 4, 4, 4, 1, 3, 1, 3, 3, 1, 2, 3, 1, 2, 3, 4, 2, 1, 2, 3, 1, 2, 3, 1, 2, 2, 4, 4, 3, 3, 3, 3, 2, 4, 3, 1, 1, 2, 3, 4, 1, 3, 1, 3, 4, 1, 2, 4, 3, 2, 3, 4, 1, 2, 3, 4, 1, 2, 4, 1, 2, 3, 4, 1, 2, 3, 4, 1, 3, 1, 2, 4, 2, 1, 2, 4, 4, 1, 2, 1, 1, 1, 2, 3, 4, 1, 2, 2, 1, 3, 1, 3, 4, 1, 2, 3, 4, 1, 2, 4, 4, 1, 2, 3, 4, 1, 3, 1, 1, 3, 4], \"Freq\": [0.9978171022418689, 0.9643225748791109, 0.03448114093727452, 0.8558695698218506, 0.14305248524165218, 0.996685534254045, 0.04172839830604104, 0.9555803212083398, 0.002781893220402736, 0.997806628839928, 0.9983331105853873, 0.9153288337080624, 0.08390514308990572, 0.985270977606264, 0.010053785485778205, 0.18945462892319856, 0.0007828703674512338, 0.8094879599445757, 0.0029975161466595343, 0.9951753606909653, 0.994131279583524, 0.25966391914440606, 0.7385995922329773, 0.9993912229759502, 0.2981935322926459, 0.16544680316497978, 0.38578301632116463, 0.15065391252905216, 0.9967170937699882, 0.9973409289164347, 0.0008148758159387173, 0.65434528019879, 0.3446924701420774, 0.9975831186683467, 0.010669771815260059, 0.9887321882140988, 0.9980732979771985, 0.99893119553609, 0.004273497460627514, 0.9957249083262106, 0.0016163690462884263, 0.750803422000974, 0.13335044631879517, 0.11476220228647827, 0.995340921778164, 0.3769446364525812, 0.11470096869948505, 0.13528832205580288, 0.3735134108931949, 0.0011887820464891003, 0.9985769190508442, 0.999662304803627, 0.08454826980259471, 0.9151106849222016, 0.9977984105120286, 0.9996382884718907, 0.9974404430218017, 0.996436975671035, 0.004351253168869148, 0.23656836752129456, 0.7628787264562847, 0.9996196734028969, 0.0022206586586456423, 0.9970757377318935, 0.998119668827551, 0.0018258286624894225, 0.005101361078740568, 0.9565052022638565, 0.03826020809055426, 0.0009165977574239526, 0.9990915555921083, 0.0844667027121787, 0.9155100681061948, 0.6824856135377007, 0.31695420670989766, 0.021979818461218756, 0.9765319344912904, 0.6884363495338499, 0.2667167195962786, 0.044685523701994315, 0.15320152706854998, 0.6500031868628602, 0.1967031952485086, 0.0032396914799742325, 0.9929654386121023, 0.004859537219961349, 0.8772257160088283, 0.12196721185149484, 0.01916404710242629, 0.9797619081115442, 0.9993968875975576, 0.9890790214199903, 0.17235448765014816, 0.8245300112710605, 0.00043305147650790995, 0.0025983088590474596, 0.9960201379157804, 0.379091960620591, 0.06380189224029569, 0.5570506017572004, 0.9990904044446244, 0.9932419691813926, 0.9976206753596244, 0.7203235239602899, 0.2792393407757453, 0.012032814972356023, 0.9780959598957967, 0.00859486783739716, 0.9981370461287805, 0.9989863590926585, 0.9992072283522552, 0.9983652462526476, 0.9968184612034795, 0.0027574507917108703, 0.9994411025134413, 0.878672771468965, 0.12111051538840625, 0.9972172364559434, 0.9991748704189283, 0.9992763611452661, 0.9942626880224493, 0.9958653347717691, 0.999690478209924, 0.9997215730141129, 0.9866709448805386, 0.011983857630127999, 0.9986531483843981, 0.9952796086197413, 0.6362527093282161, 0.3614058166590849, 0.001784720082267086, 0.8450195602380715, 0.003540584749600858, 0.15106494931630327, 0.0011801949165336193, 0.35006446033297883, 0.6497357641880815, 0.9989381818129155, 0.9977531725125586, 0.99931561896716, 0.9995073674498106, 0.9979264517671312, 0.998931129996942, 0.9983266324112182, 0.9965095556901631, 0.6413206391584131, 0.0049009219149660395, 0.35426664128183083, 0.4876627290739048, 0.28015610574410366, 0.20228571137324786, 0.02984785514784227, 0.5936914328943518, 0.4046475818937819, 0.0015623458760377679, 0.0003124691752075536, 0.4556821814584295, 0.20742522238430303, 0.3369979334800094, 0.31931148662032716, 0.38450424847197734, 0.29536312512380264, 0.000886976351723131, 0.7357129455691036, 0.1123677328441557, 0.021290728328366343, 0.13011000645112766, 0.9969074562342204, 0.9966428991408041, 0.9956271971727336, 0.017947369020342264, 0.9816213778070533, 0.46751013946400627, 0.2020850280263769, 0.018298246318806267, 0.3120755855690915, 0.9733987916955048, 0.014151815555623648, 0.0018458889855161279, 0.010460037584591391, 0.9890286611753758, 0.4670929541604225, 0.14036379178053102, 0.13564568113244593, 0.2571370303206366, 0.9997461460534524, 0.9972282532798391, 0.995434888580641, 0.8154155822644212, 0.18336064680549155, 0.6542382963362583, 0.0006957514672133197, 0.3450927277378066, 0.9967645440881423, 0.9976476793536602, 0.8311862482986649, 0.16868896927638824, 0.9989136314369154, 0.8025821482062967, 0.0009193380850014854, 0.19581901210531638, 0.0009193380850014854, 0.9952963850350797, 0.7943410816282619, 0.025733129669116752, 0.1794547200609458, 0.7954661945917445, 0.0014560088979714665, 0.002426681496619111, 0.20092922792006238, 0.9373725830683691, 0.06170047382222177, 0.3327675509246776, 0.48802535963877486, 0.048549673083235635, 0.13047724641119576, 0.9989829010053549, 0.9982010259248814, 0.9956794393287813, 0.994873495969558, 0.47555403829181503, 0.1311873209080869, 0.18323446452923006, 0.21032749819503063, 0.8945473121881138, 0.10447267879569212, 0.9577896200470196, 0.002690420281030954, 0.04035630421546431, 0.9966545555570249, 0.004344879448992119, 0.9797703157477229, 0.015207078071472417, 0.002368395529250497, 0.9970945178144592, 0.2786616748182742, 0.7210625089275781, 0.9992260542885397, 0.99626294986629, 0.49604771584789437, 0.22785644008990297, 0.1747842878950498, 0.10119090351818673, 0.9938711624331719, 0.9934824844545498, 0.0036659870275075634, 0.9957772706467896, 0.9990465993192186, 0.9985462377262847, 0.9851067483315047, 0.014640652310659304, 0.9832204048725616, 0.005174844236171376, 0.01552453270851413, 0.9960497767335322, 0.9955360114012253, 0.9353994201949722, 0.06407985351869472, 0.12750288715538635, 0.5360916846306018, 0.05433361668553396, 0.2821725826535397, 0.2907867407646801, 0.007702960020256427, 0.5209126713698409, 0.18005669047349396, 0.46983590275017734, 0.21036438018616696, 0.2992881244919915, 0.020571910996123585, 0.7533797353629135, 0.23411800541158265, 0.012006051559568342, 0.9905179047133276, 0.997870060648957, 0.9926289124503361, 0.6141747338053908, 0.3854730311271071, 0.30198859605936595, 0.16696689655186384, 0.2606728078819915, 0.2704693349755957, 0.6791522464013589, 0.32068936946988114, 0.9918990651578181, 0.9841668706817714, 0.013166111982364836, 0.9993635038477402, 0.9965701079938503, 0.971296017093117, 0.028921965769522093, 0.3199866006107877, 0.5946827900582025, 0.08467337739239306, 0.0021174600942310234, 0.0021174600942310234, 0.9962649743356965, 0.7167076497813357, 0.28305416041997056, 0.9920439814902143, 0.008087315066496313, 0.9944491009442611, 0.0011675450085144267, 0.519090510785514, 0.000700527005108656, 0.4791604714943207, 0.9992639235021917, 0.9989800929623337, 0.9957924187275161, 0.9939200294928567, 0.9984116732441385, 0.4683238159743976, 0.4973194743743134, 0.03426759629080958, 0.9942643438522493, 0.9981551395269705, 0.9992121505886369, 0.9960050156330982, 0.9992720274505782, 0.9905738486473774, 0.0074479236740404315, 0.9220063638239374, 0.07781639387772361, 0.9986543261661055, 0.007198636736110442, 0.026395001365738288, 0.9646173226387993, 0.002020529013861968, 0.1576012630812335, 0.8284168956834069, 0.012123174083171808, 0.9967160393070819, 0.7047138411135272, 0.2673052500775448, 0.02770254409894555, 0.7227799223822721, 0.2746021281095874, 0.002712119783798394, 0.9965380153511803, 0.9941511319576485, 0.005037798890785053, 0.9924463814846555, 0.9981910550550198, 0.9996950713807653, 0.9964396923849705, 0.9948756084892187, 0.99809951232447, 0.04659774876006631, 0.9531357700922655, 0.999629751101221, 0.9938770436455752, 0.2800312459313397, 0.1523369977866488, 0.004928549928391579, 0.5631988418171104, 0.9740616813179, 0.023493138881507794, 0.9863894782895387, 0.003151404083992136, 0.009454212251976409, 0.9883440406260197, 0.003555194390741078, 0.007110388781482156, 0.9984689045892923, 0.18326371729747867, 0.7241721890147818, 0.0925668776145428, 0.09415819323971045, 0.3127088619520659, 0.44026873842054215, 0.15289908443512615, 0.0006215862845260928, 0.9852142609738571, 0.013674898259574042, 0.7057007099385614, 0.05284393941720033, 0.1287652954153299, 0.11271144040250956, 0.2720123034731618, 0.13708385499915285, 0.5207462164747693, 0.06983517141466278, 0.9961597218345666, 0.0022795416975619374, 0.329891105187094, 0.6524331511002182, 0.01714780497259647, 0.9962833541295403, 0.0023471554196615447, 0.8162232971873022, 0.18131775616885434, 0.9973455494230951, 0.995079195543954, 0.9952027225480361, 0.9951873391750483, 0.9936268885316705, 0.6429267104648999, 0.0543690075352091, 0.28926423426499603, 0.013724215494324628, 0.15066003758413535, 0.8476158212050542, 0.9972087530429191, 0.06114111664894788, 0.9364244707812542, 0.14768478037356447, 0.23895065588531778, 0.6123110557061269, 0.23802800710224536, 0.564367854520686, 0.11383948165759561, 0.08348228654890344, 0.9981076617922496, 0.8378651949702701, 0.16130433954263412, 0.9981457620973428, 0.6350304283564469, 0.12739507827671445, 0.0009724815135627058, 0.2372854893093002, 0.9983558651010773, 0.9988866971572984, 0.9919719868021452, 0.3363693237242742, 0.6295917970231835, 0.0334608227788545], \"Term\": [\"absolutely\", \"account\", \"account\", \"add\", \"add\", \"advise\", \"agent\", \"agent\", \"agent\", \"agents\", \"ago\", \"airasia\", \"airasia\", \"aircraft\", \"aircraft\", \"airline\", \"airline\", \"airline\", \"alaska\", \"alaska\", \"allowance\", \"always\", \"always\", \"amazing\", \"amp\", \"amp\", \"amp\", \"amp\", \"answer\", \"anyone\", \"app\", \"app\", \"app\", \"asia\", \"attendant\", \"attendant\", \"avios\", \"awesome\", \"awful\", \"awful\", \"ba\", \"ba\", \"ba\", \"ba\", \"baby\", \"back\", \"back\", \"back\", \"back\", \"bag\", \"bag\", \"baggage\", \"bags\", \"bags\", \"bali\", \"best\", \"beyond\", \"bird\", \"bird\", \"boarding\", \"boarding\", \"book\", \"booked\", \"booked\", \"booking\", \"booking\", \"buy\", \"buy\", \"buy\", \"call\", \"call\", \"called\", \"called\", \"can\", \"can\", \"cancel\", \"cancel\", \"cancelled\", \"cancelled\", \"cancelled\", \"cant\", \"cant\", \"cant\", \"card\", \"card\", \"card\", \"care\", \"care\", \"carry\", \"carry\", \"case\", \"cause\", \"change\", \"change\", \"change\", \"change\", \"chat\", \"check\", \"check\", \"check\", \"checked\", \"christmas\", \"claim\", \"class\", \"class\", \"club\", \"club\", \"club\", \"code\", \"complaint\", \"connecting\", \"connection\", \"credit\", \"credit\", \"crew\", \"customer\", \"customer\", \"dallas\", \"date\", \"days\", \"dec\", \"december\", \"delay\", \"delayed\", \"delays\", \"delays\", \"dm\", \"drop\", \"due\", \"due\", \"due\", \"early\", \"early\", \"early\", \"early\", \"email\", \"email\", \"employees\", \"entertainment\", \"error\", \"ever\", \"excellent\", \"experience\", \"fantastic\", \"fare\", \"first\", \"first\", \"first\", \"flight\", \"flight\", \"flight\", \"flight\", \"flights\", \"flights\", \"flights\", \"flights\", \"fly\", \"fly\", \"fly\", \"flying\", \"flying\", \"flying\", \"flying\", \"free\", \"free\", \"free\", \"free\", \"friendly\", \"fun\", \"game\", \"gate\", \"gate\", \"get\", \"get\", \"get\", \"get\", \"going\", \"going\", \"going\", \"going\", \"gonna\", \"got\", \"got\", \"got\", \"got\", \"great\", \"hand\", \"hard\", \"hello\", \"hello\", \"help\", \"help\", \"help\", \"helpful\", \"helping\", \"hi\", \"hi\", \"hold\", \"home\", \"home\", \"home\", \"home\", \"horrible\", \"hour\", \"hour\", \"hour\", \"hours\", \"hours\", \"hours\", \"hours\", \"hrs\", \"hrs\", \"im\", \"im\", \"im\", \"im\", \"job\", \"kind\", \"kl\", \"la\", \"last\", \"last\", \"last\", \"last\", \"late\", \"late\", \"leave\", \"leave\", \"leave\", \"log\", \"london\", \"london\", \"london\", \"lost\", \"lost\", \"love\", \"love\", \"luggage\", \"maintenance\", \"make\", \"make\", \"make\", \"make\", \"manage\", \"meal\", \"meal\", \"mechanical\", \"miles\", \"miss\", \"missed\", \"missed\", \"moved\", \"moved\", \"moved\", \"mr\", \"ms\", \"name\", \"name\", \"need\", \"need\", \"need\", \"need\", \"never\", \"never\", \"never\", \"never\", \"new\", \"new\", \"new\", \"new\", \"next\", \"next\", \"next\", \"nonstop\", \"nov\", \"november\", \"number\", \"number\", \"one\", \"one\", \"one\", \"one\", \"online\", \"online\", \"our\", \"page\", \"page\", \"pass\", \"passport\", \"payment\", \"payment\", \"people\", \"people\", \"people\", \"phone\", \"phone\", \"phone\", \"plane\", \"plane\", \"planes\", \"planes\", \"plans\", \"please\", \"please\", \"please\", \"please\", \"points\", \"poor\", \"pr\", \"print\", \"purchase\", \"really\", \"really\", \"really\", \"rebooked\", \"reference\", \"reply\", \"respond\", \"response\", \"room\", \"room\", \"row\", \"row\", \"rude\", \"san\", \"san\", \"san\", \"say\", \"say\", \"say\", \"say\", \"saya\", \"seat\", \"seat\", \"seat\", \"seats\", \"seats\", \"seats\", \"seattle\", \"select\", \"send\", \"send\", \"sent\", \"service\", \"she\", \"shout\", \"sitting\", \"someone\", \"someone\", \"staff\", \"standby\", \"still\", \"still\", \"still\", \"still\", \"stuck\", \"stuck\", \"supposed\", \"supposed\", \"supposed\", \"sw\", \"sw\", \"sw\", \"terrible\", \"thank\", \"thank\", \"thank\", \"thanks\", \"thanks\", \"thanks\", \"thanks\", \"ticket\", \"ticket\", \"ticket\", \"time\", \"time\", \"time\", \"time\", \"today\", \"today\", \"today\", \"today\", \"together\", \"together\", \"tomorrow\", \"tomorrow\", \"tomorrow\", \"travelling\", \"trying\", \"trying\", \"trying\", \"tsa\", \"tv\", \"uk\", \"updates\", \"upgraded\", \"us\", \"us\", \"us\", \"us\", \"use\", \"use\", \"using\", \"very\", \"very\", \"waiting\", \"waiting\", \"waiting\", \"want\", \"want\", \"want\", \"want\", \"weather\", \"website\", \"website\", \"weeks\", \"why\", \"why\", \"why\", \"why\", \"wifi\", \"worst\", \"york\", \"you\", \"you\", \"you\"]}, \"R\": 30, \"lambda.step\": 0.01, \"plot.opts\": {\"xlab\": \"PC1\", \"ylab\": \"PC2\"}, \"topic.order\": [4, 3, 2, 1]};\n",
       "\n",
       "function LDAvis_load_lib(url, callback){\n",
       "  var s = document.createElement('script');\n",
       "  s.src = url;\n",
       "  s.async = true;\n",
       "  s.onreadystatechange = s.onload = callback;\n",
       "  s.onerror = function(){console.warn(\"failed to load library \" + url);};\n",
       "  document.getElementsByTagName(\"head\")[0].appendChild(s);\n",
       "}\n",
       "\n",
       "if(typeof(LDAvis) !== \"undefined\"){\n",
       "   // already loaded: just create the visualization\n",
       "   !function(LDAvis){\n",
       "       new LDAvis(\"#\" + \"ldavis_el874441401886620978409072675817\", ldavis_el874441401886620978409072675817_data);\n",
       "   }(LDAvis);\n",
       "}else if(typeof define === \"function\" && define.amd){\n",
       "   // require.js is available: use it to load d3/LDAvis\n",
       "   require.config({paths: {d3: \"https://d3js.org/d3.v5\"}});\n",
       "   require([\"d3\"], function(d3){\n",
       "      window.d3 = d3;\n",
       "      LDAvis_load_lib(\"https://cdn.jsdelivr.net/gh/bmabey/pyLDAvis@3.3.1/pyLDAvis/js/ldavis.v3.0.0.js\", function(){\n",
       "        new LDAvis(\"#\" + \"ldavis_el874441401886620978409072675817\", ldavis_el874441401886620978409072675817_data);\n",
       "      });\n",
       "    });\n",
       "}else{\n",
       "    // require.js not available: dynamically load d3 & LDAvis\n",
       "    LDAvis_load_lib(\"https://d3js.org/d3.v5.js\", function(){\n",
       "         LDAvis_load_lib(\"https://cdn.jsdelivr.net/gh/bmabey/pyLDAvis@3.3.1/pyLDAvis/js/ldavis.v3.0.0.js\", function(){\n",
       "                 new LDAvis(\"#\" + \"ldavis_el874441401886620978409072675817\", ldavis_el874441401886620978409072675817_data);\n",
       "            })\n",
       "         });\n",
       "}\n",
       "</script>"
      ],
      "text/plain": [
       "PreparedData(topic_coordinates=              x         y  topics  cluster       Freq\n",
       "topic                                                \n",
       "3      0.105007  0.101228       1        1  30.296360\n",
       "2     -0.171886  0.150264       2        1  27.133424\n",
       "1      0.249246 -0.071048       3        1  23.308556\n",
       "0     -0.182367 -0.180444       4        1  19.261661, topic_info=        Term         Freq        Total Category  logprob  loglift\n",
       "136  service  3829.000000  3829.000000  Default  30.0000  30.0000\n",
       "146  booking  3286.000000  3286.000000  Default  29.0000  29.0000\n",
       "26    please  4282.000000  4282.000000  Default  28.0000  28.0000\n",
       "339  delayed  2867.000000  2867.000000  Default  27.0000  27.0000\n",
       "47      help  4311.000000  4311.000000  Default  26.0000  26.0000\n",
       "..       ...          ...          ...      ...      ...      ...\n",
       "183     need   778.731819  2760.721799   Topic4  -4.8289   0.3815\n",
       "265   number   627.468374  1626.572936   Topic4  -5.0448   0.6945\n",
       "18       can   659.498677  2079.164706   Topic4  -4.9950   0.4988\n",
       "57       one   634.509629  2347.770774   Topic4  -5.0337   0.3387\n",
       "40        hi   632.613472  3752.468242   Topic4  -5.0367  -0.1333\n",
       "\n",
       "[274 rows x 6 columns], token_table=      Topic      Freq        Term\n",
       "term                             \n",
       "703       3  0.997817  absolutely\n",
       "244       2  0.964323     account\n",
       "244       4  0.034481     account\n",
       "389       2  0.855870         add\n",
       "389       4  0.143052         add\n",
       "...     ...       ...         ...\n",
       "231       3  0.998887       worst\n",
       "791       1  0.991972        york\n",
       "449       1  0.336369         you\n",
       "449       3  0.629592         you\n",
       "449       4  0.033461         you\n",
       "\n",
       "[426 rows x 3 columns], R=30, lambda_step=0.01, plot_opts={'xlab': 'PC1', 'ylab': 'PC2'}, topic_order=[4, 3, 2, 1])"
      ]
     },
     "execution_count": 96,
     "metadata": {},
     "output_type": "execute_result"
    }
   ],
   "source": [
    "pyLDAvis.enable_notebook()\n",
    "vis = gensimvis.prepare(pre_lda_model, pre_bow, pre_dict)\n",
    "vis"
   ]
  },
  {
   "cell_type": "code",
   "execution_count": 97,
   "id": "e6464cdc",
   "metadata": {},
   "outputs": [
    {
     "data": {
      "text/plain": [
       "[(0,\n",
       "  '0.047*\"flight\" + 0.015*\"get\" + 0.013*\"plane\" + 0.012*\"us\" + 0.010*\"hours\" + 0.010*\"we\" + 0.009*\"the\" + 0.009*\"time\" + 0.009*\"gate\" + 0.009*\"bag\"'),\n",
       " (1,\n",
       "  '0.077*\"thanks\" + 0.023*\"service\" + 0.022*\"customer\" + 0.021*\"you\" + 0.015*\"guys\" + 0.014*\"great\" + 0.014*\"good\" + 0.013*\"ok\" + 0.011*\"like\" + 0.010*\"first\"'),\n",
       " (2,\n",
       "  '0.033*\"sent\" + 0.018*\"just\" + 0.016*\"ba\" + 0.013*\"sure\" + 0.013*\"flight\" + 0.012*\"dont\" + 0.012*\"im\" + 0.012*\"never\" + 0.011*\"hope\" + 0.011*\"dm\"'),\n",
       " (3,\n",
       "  '0.080*\"thank\" + 0.033*\"please\" + 0.027*\"dm\" + 0.025*\"still\" + 0.019*\"no\" + 0.019*\"done\" + 0.016*\"yes\" + 0.016*\"help\" + 0.015*\"email\" + 0.014*\"number\"')]"
      ]
     },
     "execution_count": 97,
     "metadata": {},
     "output_type": "execute_result"
    }
   ],
   "source": [
    "post_lda_model = gensim.models.LdaMulticore(post_bow, \n",
    "                                   num_topics = 4, \n",
    "                                   id2word = post_dict,                                    \n",
    "                                   passes = 10,\n",
    "                                   workers = 2)\n",
    "post_lda_model.show_topics()"
   ]
  },
  {
   "cell_type": "code",
   "execution_count": 98,
   "id": "311e09e9",
   "metadata": {},
   "outputs": [
    {
     "data": {
      "text/html": [
       "\n",
       "<link rel=\"stylesheet\" type=\"text/css\" href=\"https://cdn.jsdelivr.net/gh/bmabey/pyLDAvis@3.3.1/pyLDAvis/js/ldavis.v1.0.0.css\">\n",
       "\n",
       "\n",
       "<div id=\"ldavis_el874441401886593820808773832913\"></div>\n",
       "<script type=\"text/javascript\">\n",
       "\n",
       "var ldavis_el874441401886593820808773832913_data = {\"mdsDat\": {\"x\": [0.056028720517029874, 0.13305857471509752, 0.11168194461295754, -0.30076923984508475], \"y\": [0.20818197119970172, -0.15240416329814166, -0.01978837235110995, -0.03598943555044994], \"topics\": [1, 2, 3, 4], \"cluster\": [1, 1, 1, 1], \"Freq\": [36.09200043920269, 24.957876473783415, 20.877952591501007, 18.072170495512886]}, \"tinfo\": {\"Term\": [\"thanks\", \"thank\", \"flight\", \"sent\", \"please\", \"service\", \"dm\", \"customer\", \"still\", \"just\", \"done\", \"no\", \"ba\", \"yes\", \"plane\", \"great\", \"you\", \"guys\", \"email\", \"sure\", \"ok\", \"number\", \"good\", \"help\", \"hi\", \"hope\", \"call\", \"never\", \"first\", \"check\", \"gate\", \"bag\", \"plane\", \"boarding\", \"delayed\", \"late\", \"bags\", \"baggage\", \"board\", \"sitting\", \"hour\", \"attendant\", \"thx\", \"unacceptable\", \"delay\", \"connecting\", \"connection\", \"min\", \"minutes\", \"counter\", \"row\", \"show\", \"arrived\", \"jfk\", \"mins\", \"front\", \"shit\", \"then\", \"landed\", \"minute\", \"they\", \"let\", \"crew\", \"airport\", \"left\", \"free\", \"seat\", \"early\", \"agent\", \"checked\", \"flight\", \"said\", \"hours\", \"us\", \"luggage\", \"told\", \"we\", \"cancelled\", \"it\", \"get\", \"the\", \"even\", \"could\", \"one\", \"another\", \"would\", \"time\", \"got\", \"know\", \"amp\", \"back\", \"service\", \"ok\", \"love\", \"thanks\", \"class\", \"customer\", \"british\", \"mean\", \"airways\", \"first\", \"wow\", \"appreciated\", \"cool\", \"of\", \"lot\", \"course\", \"always\", \"sense\", \"sounds\", \"week\", \"great\", \"britishairways\", \"sucks\", \"letting\", \"united\", \"job\", \"words\", \"makes\", \"haha\", \"happy\", \"guys\", \"yeah\", \"amazing\", \"good\", \"horrible\", \"oh\", \"treat\", \"best\", \"you\", \"awesome\", \"care\", \"what\", \"business\", \"like\", \"that\", \"keep\", \"really\", \"your\", \"much\", \"customers\", \"not\", \"this\", \"fly\", \"would\", \"response\", \"time\", \"know\", \"get\", \"and\", \"airline\", \"well\", \"help\", \"sent\", \"look\", \"hope\", \"sure\", \"forward\", \"just\", \"virgin\", \"cancel\", \"dmed\", \"glad\", \"prices\", \"worry\", \"cheers\", \"mail\", \"joke\", \"where\", \"seen\", \"short\", \"fair\", \"looking\", \"amount\", \"currently\", \"friends\", \"friend\", \"december\", \"badcustomerservice\", \"choose\", \"dontflyba\", \"dec\", \"difference\", \"ba\", \"yall\", \"sorry\", \"never\", \"talking\", \"wont\", \"treated\", \"disappointed\", \"same\", \"lol\", \"will\", \"soon\", \"dont\", \"book\", \"miles\", \"family\", \"ticket\", \"im\", \"money\", \"aa\", \"fly\", \"think\", \"flying\", \"flights\", \"booked\", \"see\", \"dm\", \"ill\", \"airline\", \"flight\", \"time\", \"make\", \"change\", \"next\", \"back\", \"get\", \"thank\", \"done\", \"email\", \"send\", \"phone\", \"follow\", \"contact\", \"please\", \"received\", \"hello\", \"havent\", \"credit\", \"dmd\", \"helping\", \"reference\", \"twice\", \"address\", \"asap\", \"worries\", \"support\", \"pls\", \"heard\", \"replied\", \"tq\", \"resolved\", \"urgent\", \"sort\", \"correct\", \"de\", \"kindly\", \"number\", \"yes\", \"via\", \"case\", \"info\", \"confirmation\", \"hi\", \"still\", \"no\", \"call\", \"can\", \"dm\", \"tried\", \"details\", \"booking\", \"reply\", \"help\", \"information\", \"check\", \"refund\", \"response\", \"much\", \"already\", \"message\", \"need\", \"my\", \"appreciate\", \"get\", \"back\"], \"Freq\": [3523.0, 2647.0, 3583.0, 1241.0, 1079.0, 1067.0, 1321.0, 1008.0, 977.0, 691.0, 618.0, 752.0, 626.0, 542.0, 859.0, 654.0, 1221.0, 678.0, 484.0, 515.0, 574.0, 466.0, 654.0, 928.0, 462.0, 425.0, 490.0, 484.0, 460.0, 738.0, 599.0278343627156, 587.0025474846548, 858.0634265946583, 400.47594993627325, 350.8349637995567, 294.1909657052468, 310.6736608481869, 253.31673822394816, 234.14419238956955, 176.37491465799593, 416.0485957382956, 113.2242061100327, 136.89708995267748, 111.47360616784786, 361.1555189853189, 91.10123905086999, 109.81918109462686, 111.03387856637838, 348.57335451621447, 93.39350369107643, 85.81276145960005, 137.0960666349497, 84.59945671749138, 83.14621220641702, 110.25668951150057, 82.94697534388183, 98.13941360576511, 108.00802802242048, 97.09110906453152, 75.65321194244056, 515.5250910200881, 347.0103139341747, 384.7941202521395, 535.7369957860711, 244.56878907106952, 262.36176732295297, 550.1695316758415, 158.7733066418737, 276.6503470037046, 203.7713300720628, 3071.0617927659437, 467.8631277917061, 647.1574486566702, 768.9319740527882, 215.39052147382097, 558.8239230671072, 631.2777595349228, 215.6127613325453, 513.8182472762431, 965.794217242183, 614.4900719049185, 448.25805522725324, 435.8295195510608, 576.7360791841437, 369.3908977154624, 574.3668471002677, 605.0619350210789, 440.0152690119763, 465.32300318923535, 389.547123905174, 408.6832598074608, 1064.5607576717466, 572.9599680753776, 338.51452774111067, 3512.355057377683, 228.93260787828672, 1004.5054723220065, 116.83468258204289, 118.93754678515644, 105.38123970228311, 456.86919794099873, 91.59958189530413, 91.13541845859602, 89.1216129293823, 87.98544015023597, 155.33293226882367, 87.8326222391514, 345.1871867060252, 80.28915676833644, 78.3075457116127, 167.02689177639658, 645.0148381715355, 55.65571806748068, 46.0778095850866, 49.165848988039784, 50.681814942654825, 115.30974196842998, 39.89935217704606, 115.00716472698065, 54.8697104474534, 201.87718599700287, 662.4014196481261, 189.4179674766731, 95.62362637344589, 619.0580500181416, 62.58141373284337, 236.0736212763282, 66.59357313780752, 266.29083245587964, 935.0822516437846, 198.69710871436223, 251.62869498459926, 290.5046740986122, 184.37797678331873, 493.3320521170143, 234.3560959106113, 169.70376373902351, 312.4996794706621, 253.85333091699283, 346.38716634731554, 244.02144381828882, 314.2750744535964, 362.87894892184045, 330.92342672766665, 422.82082336848964, 308.1721370018578, 441.3083245710168, 341.09370503721715, 378.803549981019, 291.3521655411019, 264.2230837227601, 264.55370677357774, 279.16959511771114, 1240.41468962806, 286.0235068486134, 424.5954032228715, 512.8462637237072, 177.70011366761764, 687.999883721929, 137.03142325575138, 116.05007863178601, 77.84117322831568, 76.7249563630027, 65.97888127310932, 59.03215766890227, 57.695796065543036, 52.131705538732014, 52.19170839251262, 51.59973187912759, 50.97419272189419, 50.98456429595601, 65.28398581096744, 214.7007196263324, 49.027661190982585, 47.67040150774889, 48.728966055272224, 45.62510762562377, 42.72442226737497, 41.75748435728466, 42.76114109231854, 40.50766762993167, 42.94029974234159, 52.682983694488215, 612.4128081096248, 114.72742184844188, 318.295932195631, 454.09639170479306, 45.456820757886604, 158.26122528856942, 71.408066084552, 101.10650401633592, 58.46935259088531, 164.95270104661657, 295.1300056189348, 164.19291574061117, 470.3243151215425, 217.91198559888994, 133.02017825440512, 122.94970298374476, 251.1189238538626, 466.99099834231293, 227.86724476640006, 221.58016743771336, 378.2877017161207, 233.0196196585906, 282.3270477519552, 367.9205896887251, 195.05500178656524, 254.52487263787503, 417.3469699537453, 193.1180184781254, 230.229095201794, 485.2660039962541, 330.58635812442293, 243.51793674582075, 212.00811203605195, 211.06780910723776, 236.68321551758987, 254.6440904068178, 2646.761512436731, 617.0192224540039, 483.6656405397674, 281.22086453569085, 276.174691944295, 128.02379240149082, 146.0545682391135, 1072.3535794605998, 172.96895500154423, 108.408780521745, 100.29273389820054, 214.17992137590048, 81.00762622681437, 82.16350561418429, 78.98502505364081, 81.07425233165952, 78.51115512114714, 76.44706398574313, 72.31777051350852, 81.22567460053867, 115.66071859870279, 104.70863304044939, 60.13812924414277, 52.74366234144741, 56.50443543988473, 51.641959771216065, 53.63558540925971, 53.101200979767, 45.55708589874593, 45.61315175830967, 456.9389318665543, 526.8317849828081, 181.2659052173333, 226.69799628250703, 242.68168619828117, 119.84601662283622, 426.9628862990735, 824.8166480663807, 627.8861899829824, 411.4005179835037, 304.6047114718102, 903.1542335246986, 204.69349517236867, 181.59135695652859, 338.06502490550866, 389.59209411267614, 513.1444809447967, 167.67051669594397, 395.8714397299821, 249.34104737655582, 334.9892500106121, 338.1964072314191, 278.175253011932, 198.79631088430332, 298.5200483444382, 228.2925933200006, 201.4642365383603, 218.07519582770072, 204.91993503272806], \"Total\": [3523.0, 2647.0, 3583.0, 1241.0, 1079.0, 1067.0, 1321.0, 1008.0, 977.0, 691.0, 618.0, 752.0, 626.0, 542.0, 859.0, 654.0, 1221.0, 678.0, 484.0, 515.0, 574.0, 466.0, 654.0, 928.0, 462.0, 425.0, 490.0, 484.0, 460.0, 738.0, 599.8290845289716, 587.9165903719257, 859.4178863270809, 401.3226681774221, 351.69729151024546, 294.996342460544, 311.63508420390883, 254.1207894555157, 235.08512658978444, 177.25693616673215, 418.19304014849536, 113.98575167316066, 137.82462952391853, 112.25874583969029, 363.9672563777845, 91.86158584342272, 110.74239416049505, 111.9805660088738, 351.6372680637829, 94.22025963550522, 86.57977327265472, 138.3358148383249, 85.37308369053441, 83.91159834403153, 111.27344315218646, 83.71600007946788, 99.08929747222857, 109.10075805479279, 98.11654704902183, 76.46798894951068, 523.7392998980123, 351.85805104017265, 394.7700607712675, 554.0379919670539, 250.11676229415332, 268.98899244464127, 573.3192249894337, 161.4194293906112, 287.4717337965283, 210.0996722654907, 3583.1718287817307, 505.2470724404155, 718.6203028944761, 875.684137496791, 226.49330634920298, 636.6544008728097, 749.0109356138664, 228.68793775822954, 742.8042587525412, 1817.3170534577207, 970.6434544501229, 628.6683051524594, 626.5457493073175, 1016.2728539657993, 502.54026091714684, 1154.670112547704, 1392.4756175646878, 735.6908678064592, 908.7007912688122, 644.8215873120273, 942.3286821248066, 1067.2515127881466, 574.4263212240724, 339.58964285263465, 3523.961034939977, 229.73484434746575, 1008.4309407385706, 117.63954612697711, 119.75957730161998, 106.1874743720647, 460.58241729549286, 92.38160291514264, 91.9364612712442, 89.91334269991425, 88.76921068447739, 156.7397101293672, 88.66929780894645, 348.6448088954356, 81.1011081550419, 79.11796223849385, 168.89214549648565, 654.4220114995462, 56.545896588617545, 46.87153472833805, 50.07302506373952, 51.66413746037539, 117.66962044843936, 40.72369426112388, 117.41180909258003, 56.01740026692976, 206.14736543554704, 678.4349374281185, 194.8320214737654, 98.03490352923733, 654.916303947901, 63.94571771700656, 257.553751270171, 68.31467284325878, 302.8446007048489, 1221.6685384626353, 224.47111028644036, 296.5967589873649, 391.17494374014296, 232.04270532926978, 898.6328114327544, 330.4097542327836, 221.36375917869344, 542.7714701593491, 413.42384409696535, 685.491197592308, 400.2963394743099, 621.4582576476046, 815.3431055127219, 710.1709928412372, 1154.670112547704, 650.8615200440634, 1392.4756175646878, 908.7007912688122, 1817.3170534577207, 791.651865844027, 570.8333752842877, 611.4179814814378, 928.3922797438845, 1241.9477344007412, 286.8111591624395, 425.89039560860147, 515.0180601071997, 178.48426155909885, 691.3340781448713, 137.9926850444049, 117.0181140100189, 78.63319661516572, 77.50766140908064, 66.75635226256831, 59.817200598016534, 58.48831726535035, 52.91588898334118, 52.977233800166076, 52.383698192929764, 51.758763509649505, 51.77233036643857, 66.29915208348427, 218.05829149364342, 49.813615074965014, 48.462741531465795, 49.54452672537655, 46.41615982109352, 43.50865175371165, 42.53001967342449, 43.55507223454418, 41.27308318557269, 43.75733290675876, 53.6940945552835, 626.8319122477656, 117.52998548579245, 331.71577153271625, 484.0821389435862, 46.346301527059836, 167.85530832718823, 74.20577118770684, 107.63364695792846, 60.24444290255403, 193.43682495799587, 403.9741802877141, 205.26277279252287, 733.6507325973867, 295.1211047564511, 164.54686682781048, 150.97382094380143, 381.74755744849335, 846.3975953016196, 341.24759963911856, 340.886653521674, 710.1709928412372, 383.09516529874236, 502.0778927828719, 742.9321758632049, 303.77473665422923, 544.5105935534817, 1321.1673118181848, 366.63906798442565, 570.8333752842877, 3583.1718287817307, 1392.4756175646878, 660.6478342706918, 475.8084314275635, 493.7652894291569, 942.3286821248066, 1817.3170534577207, 2647.59185157516, 618.0942958730186, 484.5246358751534, 282.02984872262846, 277.3579157628744, 128.8279897566633, 147.02798470812945, 1079.5991229785807, 174.15033517487316, 109.20060336711924, 101.11221854753322, 216.0170619353454, 81.80233669109688, 82.98845891879081, 79.7796078795635, 81.89508709224356, 79.33987407762967, 77.25538295085894, 73.12401125338897, 82.15419539169758, 117.08051769330052, 106.02122458737422, 60.93294225569324, 53.542512219098235, 57.36830460305882, 52.43318326317823, 54.495485743816666, 53.99540736204674, 46.34411614587066, 46.40713596473951, 466.1162585921628, 542.2173528484851, 186.63964017461427, 237.8799719091796, 255.28491301761008, 124.57505918751029, 462.8115498739161, 977.3096780148483, 752.9789387348765, 490.13477404227524, 358.1143106439712, 1321.1673118181848, 245.89004890772176, 215.73600293210708, 461.1596453329127, 579.0383285637373, 928.3922797438845, 202.5484538788923, 738.5134573334878, 398.54136000150777, 650.8615200440634, 685.491197592308, 563.2663588482186, 295.0724734372984, 838.10270165252, 513.8811365579088, 323.3459856679763, 1817.3170534577207, 942.3286821248066], \"Category\": [\"Default\", \"Default\", \"Default\", \"Default\", \"Default\", \"Default\", \"Default\", \"Default\", \"Default\", \"Default\", \"Default\", \"Default\", \"Default\", \"Default\", \"Default\", \"Default\", \"Default\", \"Default\", \"Default\", \"Default\", \"Default\", \"Default\", \"Default\", \"Default\", \"Default\", \"Default\", \"Default\", \"Default\", \"Default\", \"Default\", \"Topic1\", \"Topic1\", \"Topic1\", \"Topic1\", \"Topic1\", \"Topic1\", \"Topic1\", \"Topic1\", \"Topic1\", \"Topic1\", \"Topic1\", \"Topic1\", \"Topic1\", \"Topic1\", \"Topic1\", \"Topic1\", \"Topic1\", \"Topic1\", \"Topic1\", \"Topic1\", \"Topic1\", \"Topic1\", \"Topic1\", \"Topic1\", \"Topic1\", \"Topic1\", \"Topic1\", \"Topic1\", \"Topic1\", \"Topic1\", \"Topic1\", \"Topic1\", \"Topic1\", \"Topic1\", \"Topic1\", \"Topic1\", \"Topic1\", \"Topic1\", \"Topic1\", \"Topic1\", \"Topic1\", \"Topic1\", \"Topic1\", \"Topic1\", \"Topic1\", \"Topic1\", \"Topic1\", \"Topic1\", \"Topic1\", \"Topic1\", \"Topic1\", \"Topic1\", \"Topic1\", \"Topic1\", \"Topic1\", \"Topic1\", \"Topic1\", \"Topic1\", \"Topic1\", \"Topic1\", \"Topic1\", \"Topic2\", \"Topic2\", \"Topic2\", \"Topic2\", \"Topic2\", \"Topic2\", \"Topic2\", \"Topic2\", \"Topic2\", \"Topic2\", \"Topic2\", \"Topic2\", \"Topic2\", \"Topic2\", \"Topic2\", \"Topic2\", \"Topic2\", \"Topic2\", \"Topic2\", \"Topic2\", \"Topic2\", \"Topic2\", \"Topic2\", \"Topic2\", \"Topic2\", \"Topic2\", \"Topic2\", \"Topic2\", \"Topic2\", \"Topic2\", \"Topic2\", \"Topic2\", \"Topic2\", \"Topic2\", \"Topic2\", \"Topic2\", \"Topic2\", \"Topic2\", \"Topic2\", \"Topic2\", \"Topic2\", \"Topic2\", \"Topic2\", \"Topic2\", \"Topic2\", \"Topic2\", \"Topic2\", \"Topic2\", \"Topic2\", \"Topic2\", \"Topic2\", \"Topic2\", \"Topic2\", \"Topic2\", \"Topic2\", \"Topic2\", \"Topic2\", \"Topic2\", \"Topic2\", \"Topic2\", \"Topic2\", \"Topic2\", \"Topic3\", \"Topic3\", \"Topic3\", \"Topic3\", \"Topic3\", \"Topic3\", \"Topic3\", \"Topic3\", \"Topic3\", \"Topic3\", \"Topic3\", \"Topic3\", \"Topic3\", \"Topic3\", \"Topic3\", \"Topic3\", \"Topic3\", \"Topic3\", \"Topic3\", \"Topic3\", \"Topic3\", \"Topic3\", \"Topic3\", \"Topic3\", \"Topic3\", \"Topic3\", \"Topic3\", \"Topic3\", \"Topic3\", \"Topic3\", \"Topic3\", \"Topic3\", \"Topic3\", \"Topic3\", \"Topic3\", \"Topic3\", \"Topic3\", \"Topic3\", \"Topic3\", \"Topic3\", \"Topic3\", \"Topic3\", \"Topic3\", \"Topic3\", \"Topic3\", \"Topic3\", \"Topic3\", \"Topic3\", \"Topic3\", \"Topic3\", \"Topic3\", \"Topic3\", \"Topic3\", \"Topic3\", \"Topic3\", \"Topic3\", \"Topic3\", \"Topic3\", \"Topic3\", \"Topic3\", \"Topic3\", \"Topic3\", \"Topic3\", \"Topic3\", \"Topic3\", \"Topic3\", \"Topic4\", \"Topic4\", \"Topic4\", \"Topic4\", \"Topic4\", \"Topic4\", \"Topic4\", \"Topic4\", \"Topic4\", \"Topic4\", \"Topic4\", \"Topic4\", \"Topic4\", \"Topic4\", \"Topic4\", \"Topic4\", \"Topic4\", \"Topic4\", \"Topic4\", \"Topic4\", \"Topic4\", \"Topic4\", \"Topic4\", \"Topic4\", \"Topic4\", \"Topic4\", \"Topic4\", \"Topic4\", \"Topic4\", \"Topic4\", \"Topic4\", \"Topic4\", \"Topic4\", \"Topic4\", \"Topic4\", \"Topic4\", \"Topic4\", \"Topic4\", \"Topic4\", \"Topic4\", \"Topic4\", \"Topic4\", \"Topic4\", \"Topic4\", \"Topic4\", \"Topic4\", \"Topic4\", \"Topic4\", \"Topic4\", \"Topic4\", \"Topic4\", \"Topic4\", \"Topic4\", \"Topic4\", \"Topic4\", \"Topic4\", \"Topic4\", \"Topic4\", \"Topic4\"], \"logprob\": [30.0, 29.0, 28.0, 27.0, 26.0, 25.0, 24.0, 23.0, 22.0, 21.0, 20.0, 19.0, 18.0, 17.0, 16.0, 15.0, 14.0, 13.0, 12.0, 11.0, 10.0, 9.0, 8.0, 7.0, 6.0, 5.0, 4.0, 3.0, 2.0, 1.0, -4.6981, -4.7183, -4.3387, -5.1007, -5.233, -5.4091, -5.3546, -5.5587, -5.6374, -5.9207, -5.0626, -6.364, -6.1741, -6.3796, -5.2041, -6.5814, -6.3945, -6.3835, -5.2395, -6.5565, -6.6412, -6.1727, -6.6554, -6.6728, -6.3905, -6.6752, -6.507, -6.4112, -6.5177, -6.7672, -4.8482, -5.244, -5.1407, -4.8097, -5.5939, -5.5236, -4.7831, -6.0259, -5.4706, -5.7764, -3.0636, -4.9452, -4.6208, -4.4484, -5.7209, -4.7675, -4.6456, -5.7199, -4.8515, -4.2204, -4.6726, -4.988, -5.0161, -4.736, -5.1815, -4.7401, -4.688, -5.0066, -4.9506, -5.1284, -5.0804, -3.7542, -4.3737, -4.8999, -2.5604, -5.2911, -3.8122, -5.9637, -5.9459, -6.0669, -4.6001, -6.2071, -6.2121, -6.2345, -6.2473, -5.6789, -6.249, -4.8804, -6.3388, -6.3638, -5.6063, -4.2552, -6.7053, -6.8941, -6.8293, -6.7989, -5.9769, -7.0381, -5.9795, -6.7195, -5.4168, -4.2286, -5.4805, -6.1641, -4.2963, -6.588, -5.2603, -6.5259, -5.1399, -3.8838, -5.4327, -5.1965, -5.0529, -5.5075, -4.5233, -5.2676, -5.5904, -4.9799, -5.1877, -4.8769, -5.2272, -4.9742, -4.8304, -4.9226, -4.6775, -4.9938, -4.6347, -4.8923, -4.7875, -5.0499, -5.1477, -5.1464, -5.0927, -3.4228, -4.8899, -4.4948, -4.306, -5.3659, -4.0122, -5.6258, -5.792, -6.1913, -6.2058, -6.3566, -6.4679, -6.4908, -6.5922, -6.5911, -6.6025, -6.6147, -6.6145, -6.3672, -5.1767, -6.6536, -6.6817, -6.6597, -6.7255, -6.7912, -6.8141, -6.7904, -6.8445, -6.7862, -6.5817, -4.1286, -5.8034, -4.783, -4.4277, -6.7292, -5.4817, -6.2776, -5.9298, -6.4775, -5.4403, -4.8586, -5.4449, -4.3926, -5.1619, -5.6555, -5.7342, -5.0201, -4.3997, -5.1172, -5.1452, -4.6103, -5.0949, -4.9029, -4.6381, -5.2727, -5.0066, -4.5121, -5.2827, -5.1069, -4.3613, -4.7451, -5.0508, -5.1894, -5.1938, -5.0793, -5.0061, -2.5206, -3.9768, -4.2203, -4.7625, -4.7806, -5.5494, -5.4177, -3.4241, -5.2486, -5.7158, -5.7936, -5.0348, -6.0071, -5.993, -6.0324, -6.0063, -6.0384, -6.0651, -6.1206, -6.0044, -5.651, -5.7505, -6.305, -6.4362, -6.3673, -6.4573, -6.4194, -6.4295, -6.5827, -6.5815, -4.2771, -4.1348, -5.2017, -4.978, -4.9099, -5.6155, -4.345, -3.6865, -3.9593, -4.3821, -4.6826, -3.5958, -5.0801, -5.1999, -4.5784, -4.4366, -4.1611, -5.2797, -4.4206, -4.8828, -4.5876, -4.578, -4.7734, -5.1094, -4.7028, -4.971, -5.0961, -5.0168, -5.079], \"loglift\": [30.0, 29.0, 28.0, 27.0, 26.0, 25.0, 24.0, 23.0, 22.0, 21.0, 20.0, 19.0, 18.0, 17.0, 16.0, 15.0, 14.0, 13.0, 12.0, 11.0, 10.0, 9.0, 8.0, 7.0, 6.0, 5.0, 4.0, 3.0, 2.0, 1.0, 1.0178, 1.0175, 1.0175, 1.017, 1.0166, 1.0164, 1.016, 1.0159, 1.0151, 1.0141, 1.014, 1.0124, 1.0123, 1.0121, 1.0113, 1.0108, 1.0107, 1.0106, 1.0103, 1.0103, 1.0102, 1.0101, 1.01, 1.0099, 1.0099, 1.0099, 1.0095, 1.009, 1.0086, 1.0084, 1.0033, 1.0052, 0.9935, 0.9855, 0.9967, 0.9942, 0.9779, 1.0026, 0.9807, 0.9885, 0.8649, 0.9422, 0.9144, 0.8891, 0.9688, 0.8887, 0.8481, 0.9602, 0.6505, 0.3869, 0.5619, 0.6809, 0.6561, 0.4526, 0.7113, 0.3208, 0.1856, 0.5051, 0.3498, 0.5151, 0.1837, 1.3855, 1.3854, 1.3848, 1.3847, 1.3845, 1.3841, 1.3811, 1.3811, 1.3804, 1.3799, 1.3795, 1.3792, 1.3791, 1.3791, 1.379, 1.3785, 1.378, 1.3779, 1.3777, 1.3769, 1.3735, 1.3721, 1.3709, 1.3697, 1.3688, 1.3677, 1.3675, 1.3673, 1.3673, 1.367, 1.3641, 1.3598, 1.3631, 1.3317, 1.3664, 1.3009, 1.3625, 1.2593, 1.1206, 1.266, 1.2236, 1.0904, 1.158, 0.7883, 1.0445, 1.1222, 0.8359, 0.9003, 0.7054, 0.893, 0.7062, 0.5784, 0.6244, 0.3834, 0.6403, 0.2389, 0.4081, -0.1801, 0.3884, 0.6177, 0.5502, 0.1863, 1.5652, 1.5637, 1.5634, 1.5623, 1.5621, 1.5616, 1.5595, 1.5582, 1.5564, 1.5563, 1.5548, 1.5533, 1.5528, 1.5515, 1.5515, 1.5514, 1.5512, 1.5511, 1.551, 1.551, 1.5506, 1.55, 1.5499, 1.5493, 1.5483, 1.5481, 1.5481, 1.5478, 1.5476, 1.5475, 1.5432, 1.5423, 1.5252, 1.5025, 1.5471, 1.5076, 1.528, 1.5039, 1.5366, 1.4072, 1.2525, 1.3432, 1.1219, 1.2632, 1.3538, 1.3611, 1.1476, 0.9718, 1.1626, 1.1357, 0.9366, 1.0693, 0.9908, 0.8637, 1.1235, 0.806, 0.4141, 0.9254, 0.6585, -0.4328, 0.1285, 0.5684, 0.7581, 0.7166, 0.1848, -0.3988, 1.7105, 1.7091, 1.709, 1.7079, 1.7065, 1.7045, 1.7042, 1.7041, 1.704, 1.7035, 1.7027, 1.7023, 1.701, 1.7008, 1.7008, 1.7007, 1.7003, 1.7003, 1.6997, 1.6994, 1.6986, 1.6983, 1.6977, 1.6958, 1.6956, 1.6956, 1.6949, 1.6941, 1.6937, 1.6935, 1.6909, 1.682, 1.6816, 1.6626, 1.6602, 1.6721, 1.6302, 1.5412, 1.5291, 1.5357, 1.549, 1.3304, 1.5274, 1.5385, 1.4003, 1.3145, 1.1179, 1.5218, 1.0872, 1.2418, 1.0466, 1.0043, 1.0053, 1.3159, 0.6785, 0.8994, 1.2377, -0.4095, 0.1851]}, \"token.table\": {\"Topic\": [1, 2, 3, 4, 4, 1, 4, 1, 2, 3, 4, 1, 2, 3, 4, 2, 1, 2, 3, 4, 2, 3, 2, 3, 4, 3, 1, 2, 3, 4, 1, 2, 3, 4, 1, 2, 3, 2, 4, 2, 1, 4, 1, 2, 3, 3, 4, 1, 2, 3, 4, 3, 1, 1, 1, 2, 3, 4, 1, 1, 1, 3, 1, 3, 3, 4, 2, 2, 1, 2, 3, 1, 3, 4, 1, 4, 3, 1, 3, 4, 1, 2, 3, 1, 2, 3, 4, 1, 3, 4, 1, 3, 4, 1, 4, 3, 3, 2, 1, 3, 4, 1, 1, 4, 2, 4, 1, 2, 3, 4, 1, 2, 2, 4, 1, 2, 3, 3, 2, 3, 1, 2, 3, 4, 3, 3, 1, 2, 3, 4, 1, 3, 4, 3, 2, 3, 3, 4, 4, 3, 2, 4, 1, 2, 3, 3, 1, 3, 4, 1, 2, 3, 4, 1, 3, 1, 2, 3, 2, 4, 1, 2, 3, 4, 1, 2, 3, 4, 1, 2, 3, 2, 3, 4, 3, 1, 2, 3, 3, 3, 1, 1, 1, 2, 3, 4, 3, 2, 3, 1, 2, 3, 4, 1, 2, 3, 1, 2, 3, 4, 2, 4, 2, 4, 4, 3, 4, 4, 1, 2, 4, 4, 1, 3, 4, 3, 4, 2, 3, 1, 2, 4, 1, 2, 3, 4, 1, 2, 3, 4, 1, 2, 3, 4, 2, 3, 4, 1, 3, 4, 1, 2, 3, 4, 1, 2, 3, 3, 1, 3, 4, 1, 2, 4, 4, 1, 2, 3, 4, 1, 1, 1, 4, 1, 4, 2, 1, 2, 3, 4, 1, 2, 3, 3, 2, 3, 1, 2, 2, 3, 1, 3, 3, 1, 2, 3, 1, 2, 2, 3, 4, 2, 3, 1, 1, 1, 1, 4, 2, 3, 4, 2, 4, 1, 2, 3, 4, 1, 2, 3, 4, 1, 2, 3, 4, 1, 2, 3, 1, 2, 4, 1, 2, 3, 4, 1, 3, 4, 2, 1, 2, 3, 4, 1, 2, 1, 2, 3, 4, 4, 1, 2, 1, 4, 1, 4, 3, 1, 2, 3, 4, 3, 4, 4, 1, 2, 3, 4, 4, 2, 3, 4, 4, 2, 3, 4, 1, 1, 2, 3, 4, 1, 3, 4, 1, 2, 3, 1, 2, 3, 4, 3, 4, 2, 3, 4, 2, 3, 1, 3, 1, 2, 1, 1, 2, 3, 4, 1, 2, 3, 4, 4, 2, 1, 2, 3, 4, 2, 4, 1, 2, 3, 3, 4, 2, 4, 1, 2, 3, 4, 1, 2, 3, 4, 1, 1, 2, 3, 4, 1, 2, 3, 1, 2, 3, 4, 1, 1, 2, 3, 4, 1, 2, 3, 4, 1, 2, 3, 4, 4, 1, 2, 1, 2, 3, 1, 4, 4, 1, 2, 4, 1, 2, 3, 4, 1, 3, 4, 3, 1, 2, 3, 4, 1, 2, 1, 2, 3, 4, 1, 2, 3, 3, 2, 3, 4, 1, 3, 2, 4, 3, 1, 2, 3, 4, 2, 1, 2, 3, 1, 2, 3, 4, 1, 4, 1, 2, 3, 4, 1, 2, 3], \"Freq\": [0.1965462692887155, 0.13787574114283027, 0.6512428624193259, 0.014667632036471307, 0.9957162261526011, 0.9635729966969894, 0.03478602876162416, 0.06131386410713848, 0.46248171783670167, 0.4029196784183386, 0.07357663692856617, 0.9674426804143667, 0.007219721495629602, 0.009024651869537003, 0.018049303739074006, 0.988817189794872, 0.2680792091130183, 0.0514854110217055, 0.18641269507858887, 0.49354980220807343, 0.9895457818317074, 0.008604745928971369, 0.9792430710289785, 0.010200448656551859, 0.010200448656551859, 0.9836668133051456, 0.6048184609106149, 0.2434782009306834, 0.10080307681843581, 0.051176946692436644, 0.43958716579159013, 0.3675858196705538, 0.1212654250459559, 0.07073816461014094, 0.734269527632606, 0.015919122550300403, 0.24674639952965624, 0.37421216085313425, 0.6216251597642974, 0.9898140383228226, 0.9956299611726948, 0.9837502203353586, 0.9913519746223443, 0.8865283365242971, 0.11137290659852978, 0.9763382942732134, 0.02233453614350488, 0.43403114832265083, 0.09763047835130531, 0.25150460183977563, 0.2175461745871477, 0.9875377515107128, 0.9984409516810099, 0.9955895404783012, 0.9979620901621806, 0.8783382612102189, 0.11887284738183412, 0.003302023538384281, 0.9953841121064289, 0.9967042275896627, 0.2609098392456355, 0.7386798046175135, 0.35552660234195416, 0.6419230320063061, 0.26671891446877555, 0.7329349031743587, 0.9945635107577957, 0.9903459557359388, 0.004309551548198832, 0.7929574848685851, 0.2025489227653451, 0.1570996470316929, 0.002040255156255752, 0.8385448692211142, 0.147997436641652, 0.8516833618057331, 0.9912995178683897, 0.9445185527378216, 0.04372771077489915, 0.013118313232469744, 0.037087391101494144, 0.8496384143251385, 0.11126217330448242, 0.016815202927328254, 0.008407601463664127, 0.025222804390992382, 0.9542627661258785, 0.46447264361612045, 0.44555746808424224, 0.08827081914876497, 0.4481976553211698, 0.014894786128498089, 0.5362123006259312, 0.9709677211786275, 0.028557874152312573, 0.9916510289886621, 0.9872558531976457, 0.9968013369954698, 0.016054577963231, 0.016054577963231, 0.9632746777938599, 0.9906208255005385, 0.9932962063343228, 0.9930082377843229, 0.9898419670263786, 0.9815649624537065, 0.695878952944814, 0.02553684230990143, 0.06384210577475358, 0.21546710698979332, 0.9870488614632794, 0.9924517524612795, 0.004629263962025848, 0.9906624878735314, 0.9752512620836049, 0.02279808145130505, 0.0025331201612561163, 0.9904516022651061, 0.996597743484489, 0.0029749186372671314, 0.07244632823293942, 0.6095484168564558, 0.3172649546752864, 0.9925747608436952, 0.9826924344686971, 0.9883091814338223, 0.991847463402849, 0.0027474998986228506, 0.0027474998986228506, 0.0027474998986228506, 0.998017353198112, 0.15760002752391739, 0.8436236767456755, 0.9870731677099265, 0.0557446502053885, 0.938368278457373, 0.31562997076133104, 0.6834864834471989, 0.9901917631750952, 0.9919474643989789, 0.0016178761180566535, 0.9982295648409553, 0.22217656543859984, 0.13630464137337414, 0.6406318144548585, 0.9933835041025444, 0.9850115354778232, 0.012390082207268215, 0.9989172152738822, 0.7126174428204309, 0.2815475164714649, 0.0031813278697340667, 0.0031813278697340667, 0.015083149159144512, 0.9804046953443933, 0.08610764382017679, 0.09935497363866552, 0.8147107838370573, 0.9922219842508784, 0.006513492237970755, 0.8570618844824229, 0.004186235189591776, 0.13535493779680077, 0.003348988151673421, 0.3418885441391472, 0.14671595004396476, 0.49533458363467, 0.014806196793427635, 0.0014081115816899548, 0.466084933539375, 0.5322661778788029, 0.4361872991183631, 0.5616658372209059, 0.9935729047839119, 0.9972868108657383, 0.974017552238389, 0.014870496980738763, 0.011152872735554072, 0.9910341608892772, 0.9890093465137968, 0.9914472731761168, 0.9986177987190756, 0.531552817469048, 0.20854919029065136, 0.14031673753064933, 0.11995705404581002, 0.9934501777004826, 0.9451589405678344, 0.05344194332774508, 0.5980772893265712, 0.1658305211314584, 0.0801967274324266, 0.15631565516489931, 0.009168395766902105, 0.9856025449419763, 0.004584197883451053, 0.0014739806941412889, 0.9757752195215332, 0.0029479613882825778, 0.019161749023836758, 0.9818377814378796, 0.017851596026143265, 0.9798815501387345, 0.019403595052252167, 0.9890001568207075, 0.009432073661589147, 0.9903677344668603, 0.989005524419284, 0.1464898006665009, 0.30051951754377765, 0.5525681451611395, 0.9880892002132721, 0.002160706664024332, 0.07562473324085163, 0.9226217455383898, 0.9979093315609311, 0.0023480219566139556, 0.9852106168986662, 0.015638263760296287, 0.9947559142837082, 0.002391240178566606, 0.002391240178566606, 0.9003363770742322, 0.002783110902856977, 0.0013915554514284886, 0.09601732614856572, 0.002727478022179782, 0.3545721428833717, 0.526403258280698, 0.11728155495373063, 0.07088867021014938, 0.2103030549567765, 0.5517501498023294, 0.16658837499385107, 0.023503151553598108, 0.027420343479197792, 0.9518776379207233, 0.1579868885058655, 0.009874180531616594, 0.8294311646557939, 0.6919723385312936, 0.18443620696262106, 0.040387490575756434, 0.08346748052322997, 0.9891362056971666, 0.9773125770418446, 0.01699674047029295, 0.9815537027876489, 0.0014464786730655663, 0.9951773270691096, 0.0028929573461311327, 0.20780275945199778, 0.7679667197139048, 0.02258725646217367, 0.9912268672419505, 0.5117195940269007, 0.3752610356197272, 0.058325028996614486, 0.053923140015737926, 0.9886201962604333, 0.9966225260549553, 0.9795425054793582, 0.019990663377129757, 0.9861931508294008, 0.011368220758840355, 0.9785707961048162, 0.2592827649243204, 0.5486111721360084, 0.1802738537242056, 0.011128015661988, 0.051696464735561415, 0.09305363652401055, 0.8529916681367634, 0.9971718005505494, 0.013757789164772266, 0.9859748901420125, 0.006380004143012876, 0.9889006421669957, 0.9982636606709159, 0.002944730562451079, 0.9492554259794203, 0.04856655667801685, 0.9826916073614577, 0.3299791336494072, 0.2997058186357001, 0.36933444316722636, 0.017034061696664483, 0.9794585475582077, 0.9936574817752826, 0.32534380073375285, 0.6744105869376752, 0.18839617306381073, 0.8082803554028009, 0.9912434269282396, 0.9885557315733926, 0.993879936481399, 0.9925000325525662, 0.00853151890446332, 0.3282074368242999, 0.6681365678208963, 0.0029304235430741067, 0.5047475463073438, 0.49307708280890805, 0.3094100730472764, 0.09340681450483818, 0.15373204887254616, 0.4436823688979813, 0.35675818656884173, 0.11335126329110355, 0.1742029941105381, 0.35675818656884173, 0.04131530248904877, 0.0020657651244524386, 0.9378573665014072, 0.020657651244524386, 0.36657092727043344, 0.20657588166621113, 0.42732853952520145, 0.12218137223675145, 0.04382592699796519, 0.8340206713552164, 0.28642309891219464, 0.5052632194293771, 0.19631246105217837, 0.011263829732502038, 0.017163100090442782, 0.002145387511305348, 0.9804420926665438, 0.9913347130322981, 0.027178792642228215, 0.9163135805094085, 0.042709531294930055, 0.01164805398952638, 0.0017408673019527596, 0.9975169640189312, 0.5677609096301001, 0.16924588640619967, 0.2046694440261019, 0.05805527498817314, 0.9951041030895423, 0.9983501782431589, 0.001163578296320698, 0.006483888186836625, 0.9929611623269803, 0.008541130665475535, 0.9907711571951621, 0.9886699581847521, 0.21556033511792846, 0.5748275603144759, 0.09948938543904391, 0.10870136557228872, 0.00574216523325005, 0.9933945853522587, 0.9902279805543741, 0.0025091498658915017, 0.19822283940542865, 0.17313134074651362, 0.624778316606984, 0.9846890332034464, 0.32467626187427073, 0.0017270013929482487, 0.673530543249817, 0.9935799984746424, 0.47321894214786026, 0.010754975957905914, 0.5147024208426402, 0.9933035944685497, 0.9262794888439297, 0.001979229677016944, 0.001979229677016944, 0.07125226837260998, 0.016599041369135238, 0.9627443994098437, 0.016599041369135238, 0.9593259322677284, 0.008721144838797532, 0.03139612141967111, 0.15059394797972095, 0.23323696821249462, 0.4683104479857176, 0.14875743641899264, 0.9853403857009055, 0.9963484406799746, 0.986423019609832, 0.9984317098483367, 0.0008051868627809168, 0.9978903634605637, 0.0018739725135409648, 0.9890069109377442, 0.9850821788207696, 0.990343680413593, 0.007228785988420387, 0.9929089591983592, 0.07307706017964503, 0.08769247221557405, 0.7989758579641191, 0.03897443209581069, 0.006029258092730587, 0.0030146290463652936, 0.9586520367441633, 0.03316091951001823, 0.9909077653487494, 0.9858696785551194, 0.15245935178157138, 0.0010232171260508146, 0.0020464342521016293, 0.844154128991922, 0.9814058845440125, 0.9859508648804292, 0.001941679481670706, 0.001941679481670706, 0.9960815740970721, 0.970951262933596, 0.9997764566412274, 0.9966057981852287, 0.003121487408894509, 0.20580506213533864, 0.7082115373480771, 0.018159270188412232, 0.06658399069084486, 0.632570072136154, 0.23798646036392765, 0.04842148760651342, 0.08035906453846908, 0.9899106287213882, 0.9852229918596536, 0.0019093468834489409, 0.005728040650346823, 0.0076373875337957635, 0.1644500001739041, 0.22448730182469448, 0.6082039688971373, 0.33728132137337263, 0.44521134421285186, 0.1790657197109542, 0.039247281032537905, 0.9940168203116743, 0.27767040792213027, 0.005239064300417552, 0.6575025697024027, 0.060249239454801845, 0.43447798465447424, 0.3167021342687986, 0.23770613705889418, 0.011490326866895188, 0.8780273869679518, 0.007853554445151626, 0.06439914645024333, 0.05026274844897041, 0.9898676360780709, 0.014638143730767774, 0.980755629961441, 0.013476040798369374, 0.013476040798369374, 0.9567988966842256, 0.1667411925863929, 0.8337059629319644, 0.9890703200396458, 0.9887871022406768, 0.9871450972952996, 0.9917383756579502, 0.8781705264163451, 0.10391874889972354, 0.004567857094493342, 0.013703571283480027, 0.005357918602202785, 0.02143167440881114, 0.969783266998704, 0.9928062487943802, 0.8424443088842911, 0.07877054552166907, 0.025366785845961224, 0.05340375967570784, 0.005920938460816748, 0.9887967229563969, 0.33692172333707204, 0.4334187217685635, 0.1733674887074254, 0.05724398212037631, 0.012782004778203519, 0.7439126780914448, 0.24285809078586684, 0.99267523664487, 0.2673438186645528, 0.7302446898707693, 0.002475405728375489, 0.053617607269571425, 0.9412868831769206, 0.9822291598477414, 0.9846286980962511, 0.986338367729572, 0.49711168043789283, 0.36633839865022416, 0.06841780967699222, 0.06755176145323281, 0.9958692758828491, 0.017016933948671074, 0.008508466974335537, 0.9784737020485866, 0.010265253036289545, 0.9700664119293619, 0.015397879554434318, 0.005132626518144772, 0.02766418286172323, 0.9719349578752096, 0.1497951320169788, 0.7653467127643453, 0.0834923686652013, 0.0016371052679451236, 0.35072964965705117, 0.6143815931923517, 0.033863552380680804], \"Term\": [\"aa\", \"aa\", \"aa\", \"aa\", \"address\", \"agent\", \"agent\", \"airline\", \"airline\", \"airline\", \"airline\", \"airport\", \"airport\", \"airport\", \"airport\", \"airways\", \"already\", \"already\", \"already\", \"already\", \"always\", \"always\", \"amazing\", \"amazing\", \"amazing\", \"amount\", \"amp\", \"amp\", \"amp\", \"amp\", \"and\", \"and\", \"and\", \"and\", \"another\", \"another\", \"another\", \"appreciate\", \"appreciate\", \"appreciated\", \"arrived\", \"asap\", \"attendant\", \"awesome\", \"awesome\", \"ba\", \"ba\", \"back\", \"back\", \"back\", \"back\", \"badcustomerservice\", \"bag\", \"baggage\", \"bags\", \"best\", \"best\", \"best\", \"board\", \"boarding\", \"book\", \"book\", \"booked\", \"booked\", \"booking\", \"booking\", \"british\", \"britishairways\", \"business\", \"business\", \"business\", \"call\", \"call\", \"call\", \"can\", \"can\", \"cancel\", \"cancelled\", \"cancelled\", \"cancelled\", \"care\", \"care\", \"care\", \"case\", \"case\", \"case\", \"case\", \"change\", \"change\", \"change\", \"check\", \"check\", \"check\", \"checked\", \"checked\", \"cheers\", \"choose\", \"class\", \"confirmation\", \"confirmation\", \"confirmation\", \"connecting\", \"connection\", \"contact\", \"cool\", \"correct\", \"could\", \"could\", \"could\", \"could\", \"counter\", \"course\", \"credit\", \"credit\", \"crew\", \"crew\", \"crew\", \"currently\", \"customer\", \"customer\", \"customers\", \"customers\", \"customers\", \"de\", \"dec\", \"december\", \"delay\", \"delay\", \"delay\", \"delay\", \"delayed\", \"details\", \"details\", \"difference\", \"disappointed\", \"disappointed\", \"dm\", \"dm\", \"dmd\", \"dmed\", \"done\", \"done\", \"dont\", \"dont\", \"dont\", \"dontflyba\", \"early\", \"early\", \"email\", \"even\", \"even\", \"even\", \"even\", \"fair\", \"fair\", \"family\", \"family\", \"family\", \"first\", \"first\", \"flight\", \"flight\", \"flight\", \"flight\", \"flights\", \"flights\", \"flights\", \"flights\", \"fly\", \"fly\", \"fly\", \"flying\", \"flying\", \"follow\", \"forward\", \"free\", \"free\", \"free\", \"friend\", \"friends\", \"front\", \"gate\", \"get\", \"get\", \"get\", \"get\", \"glad\", \"good\", \"good\", \"got\", \"got\", \"got\", \"got\", \"great\", \"great\", \"great\", \"guys\", \"guys\", \"guys\", \"guys\", \"haha\", \"haha\", \"happy\", \"happy\", \"havent\", \"heard\", \"heard\", \"hello\", \"help\", \"help\", \"help\", \"helping\", \"hi\", \"hi\", \"hi\", \"hope\", \"hope\", \"horrible\", \"horrible\", \"hour\", \"hour\", \"hour\", \"hours\", \"hours\", \"hours\", \"hours\", \"ill\", \"ill\", \"ill\", \"ill\", \"im\", \"im\", \"im\", \"im\", \"info\", \"info\", \"info\", \"information\", \"information\", \"information\", \"it\", \"it\", \"it\", \"it\", \"jfk\", \"job\", \"job\", \"joke\", \"just\", \"just\", \"just\", \"keep\", \"keep\", \"keep\", \"kindly\", \"know\", \"know\", \"know\", \"know\", \"landed\", \"late\", \"left\", \"left\", \"let\", \"let\", \"letting\", \"like\", \"like\", \"like\", \"like\", \"lol\", \"lol\", \"lol\", \"look\", \"looking\", \"looking\", \"lot\", \"lot\", \"love\", \"love\", \"luggage\", \"luggage\", \"mail\", \"make\", \"make\", \"make\", \"makes\", \"makes\", \"mean\", \"message\", \"message\", \"miles\", \"miles\", \"min\", \"mins\", \"minute\", \"minutes\", \"minutes\", \"money\", \"money\", \"money\", \"much\", \"much\", \"my\", \"my\", \"my\", \"my\", \"need\", \"need\", \"need\", \"need\", \"never\", \"never\", \"never\", \"never\", \"next\", \"next\", \"next\", \"no\", \"no\", \"no\", \"not\", \"not\", \"not\", \"not\", \"number\", \"number\", \"number\", \"of\", \"oh\", \"oh\", \"oh\", \"oh\", \"ok\", \"ok\", \"one\", \"one\", \"one\", \"one\", \"phone\", \"plane\", \"plane\", \"please\", \"please\", \"pls\", \"pls\", \"prices\", \"really\", \"really\", \"really\", \"really\", \"received\", \"received\", \"reference\", \"refund\", \"refund\", \"refund\", \"refund\", \"replied\", \"reply\", \"reply\", \"reply\", \"resolved\", \"response\", \"response\", \"response\", \"row\", \"said\", \"said\", \"said\", \"said\", \"same\", \"same\", \"same\", \"seat\", \"seat\", \"seat\", \"see\", \"see\", \"see\", \"see\", \"seen\", \"send\", \"sense\", \"sent\", \"sent\", \"service\", \"service\", \"shit\", \"short\", \"show\", \"show\", \"sitting\", \"soon\", \"soon\", \"soon\", \"soon\", \"sorry\", \"sorry\", \"sorry\", \"sorry\", \"sort\", \"sounds\", \"still\", \"still\", \"still\", \"still\", \"sucks\", \"support\", \"sure\", \"sure\", \"sure\", \"talking\", \"thank\", \"thanks\", \"thanks\", \"that\", \"that\", \"that\", \"that\", \"the\", \"the\", \"the\", \"the\", \"then\", \"they\", \"they\", \"they\", \"they\", \"think\", \"think\", \"think\", \"this\", \"this\", \"this\", \"this\", \"thx\", \"ticket\", \"ticket\", \"ticket\", \"ticket\", \"time\", \"time\", \"time\", \"time\", \"told\", \"told\", \"told\", \"told\", \"tq\", \"treat\", \"treat\", \"treated\", \"treated\", \"treated\", \"tried\", \"tried\", \"twice\", \"unacceptable\", \"united\", \"urgent\", \"us\", \"us\", \"us\", \"us\", \"via\", \"via\", \"via\", \"virgin\", \"we\", \"we\", \"we\", \"we\", \"week\", \"week\", \"well\", \"well\", \"well\", \"well\", \"what\", \"what\", \"what\", \"where\", \"will\", \"will\", \"will\", \"wont\", \"wont\", \"words\", \"worries\", \"worry\", \"would\", \"would\", \"would\", \"would\", \"wow\", \"yall\", \"yall\", \"yall\", \"yeah\", \"yeah\", \"yeah\", \"yeah\", \"yes\", \"yes\", \"you\", \"you\", \"you\", \"you\", \"your\", \"your\", \"your\"]}, \"R\": 30, \"lambda.step\": 0.01, \"plot.opts\": {\"xlab\": \"PC1\", \"ylab\": \"PC2\"}, \"topic.order\": [1, 2, 3, 4]};\n",
       "\n",
       "function LDAvis_load_lib(url, callback){\n",
       "  var s = document.createElement('script');\n",
       "  s.src = url;\n",
       "  s.async = true;\n",
       "  s.onreadystatechange = s.onload = callback;\n",
       "  s.onerror = function(){console.warn(\"failed to load library \" + url);};\n",
       "  document.getElementsByTagName(\"head\")[0].appendChild(s);\n",
       "}\n",
       "\n",
       "if(typeof(LDAvis) !== \"undefined\"){\n",
       "   // already loaded: just create the visualization\n",
       "   !function(LDAvis){\n",
       "       new LDAvis(\"#\" + \"ldavis_el874441401886593820808773832913\", ldavis_el874441401886593820808773832913_data);\n",
       "   }(LDAvis);\n",
       "}else if(typeof define === \"function\" && define.amd){\n",
       "   // require.js is available: use it to load d3/LDAvis\n",
       "   require.config({paths: {d3: \"https://d3js.org/d3.v5\"}});\n",
       "   require([\"d3\"], function(d3){\n",
       "      window.d3 = d3;\n",
       "      LDAvis_load_lib(\"https://cdn.jsdelivr.net/gh/bmabey/pyLDAvis@3.3.1/pyLDAvis/js/ldavis.v3.0.0.js\", function(){\n",
       "        new LDAvis(\"#\" + \"ldavis_el874441401886593820808773832913\", ldavis_el874441401886593820808773832913_data);\n",
       "      });\n",
       "    });\n",
       "}else{\n",
       "    // require.js not available: dynamically load d3 & LDAvis\n",
       "    LDAvis_load_lib(\"https://d3js.org/d3.v5.js\", function(){\n",
       "         LDAvis_load_lib(\"https://cdn.jsdelivr.net/gh/bmabey/pyLDAvis@3.3.1/pyLDAvis/js/ldavis.v3.0.0.js\", function(){\n",
       "                 new LDAvis(\"#\" + \"ldavis_el874441401886593820808773832913\", ldavis_el874441401886593820808773832913_data);\n",
       "            })\n",
       "         });\n",
       "}\n",
       "</script>"
      ],
      "text/plain": [
       "PreparedData(topic_coordinates=              x         y  topics  cluster       Freq\n",
       "topic                                                \n",
       "0      0.056029  0.208182       1        1  36.092000\n",
       "1      0.133059 -0.152404       2        1  24.957876\n",
       "2      0.111682 -0.019788       3        1  20.877953\n",
       "3     -0.300769 -0.035989       4        1  18.072170, topic_info=           Term         Freq        Total Category  logprob  loglift\n",
       "126      thanks  3523.000000  3523.000000  Default  30.0000  30.0000\n",
       "57        thank  2647.000000  2647.000000  Default  29.0000  29.0000\n",
       "64       flight  3583.000000  3583.000000  Default  28.0000  28.0000\n",
       "1          sent  1241.000000  1241.000000  Default  27.0000  27.0000\n",
       "99       please  1079.000000  1079.000000  Default  26.0000  26.0000\n",
       "..          ...          ...          ...      ...      ...      ...\n",
       "277        need   298.520048   838.102702   Topic4  -4.7028   0.6785\n",
       "165          my   228.292593   513.881137   Topic4  -4.9710   0.8994\n",
       "217  appreciate   201.464237   323.345986   Topic4  -5.0961   1.2377\n",
       "147         get   218.075196  1817.317053   Topic4  -5.0168  -0.4095\n",
       "172        back   204.919935   942.328682   Topic4  -5.0790   0.1851\n",
       "\n",
       "[278 rows x 6 columns], token_table=      Topic      Freq     Term\n",
       "term                          \n",
       "832       1  0.196546       aa\n",
       "832       2  0.137876       aa\n",
       "832       3  0.651243       aa\n",
       "832       4  0.014668       aa\n",
       "221       4  0.995716  address\n",
       "...     ...       ...      ...\n",
       "291       3  0.083492      you\n",
       "291       4  0.001637      you\n",
       "22        1  0.350730     your\n",
       "22        2  0.614382     your\n",
       "22        3  0.033864     your\n",
       "\n",
       "[512 rows x 3 columns], R=30, lambda_step=0.01, plot_opts={'xlab': 'PC1', 'ylab': 'PC2'}, topic_order=[1, 2, 3, 4])"
      ]
     },
     "execution_count": 98,
     "metadata": {},
     "output_type": "execute_result"
    }
   ],
   "source": [
    "pyLDAvis.enable_notebook()\n",
    "vis = gensimvis.prepare(post_lda_model, post_bow, post_dict)\n",
    "vis"
   ]
  },
  {
   "cell_type": "code",
   "execution_count": null,
   "id": "7220fb0e",
   "metadata": {},
   "outputs": [],
   "source": []
  },
  {
   "cell_type": "code",
   "execution_count": null,
   "id": "6dc66984",
   "metadata": {},
   "outputs": [],
   "source": []
  },
  {
   "cell_type": "code",
   "execution_count": null,
   "id": "cf06f226",
   "metadata": {},
   "outputs": [],
   "source": []
  }
 ],
 "metadata": {
  "kernelspec": {
   "display_name": "cap3env",
   "language": "python",
   "name": "cap3env"
  },
  "language_info": {
   "codemirror_mode": {
    "name": "ipython",
    "version": 3
   },
   "file_extension": ".py",
   "mimetype": "text/x-python",
   "name": "python",
   "nbconvert_exporter": "python",
   "pygments_lexer": "ipython3",
   "version": "3.8.2"
  }
 },
 "nbformat": 4,
 "nbformat_minor": 5
}
