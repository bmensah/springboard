{
 "cells": [
  {
   "cell_type": "markdown",
   "metadata": {},
   "source": [
    "# Exploratory Data Analysis"
   ]
  },
  {
   "cell_type": "markdown",
   "metadata": {},
   "source": [
    "## Table of Contents<a id='Table_of_Contents'></a>\n",
    "* [1 Exploratory Data Analysis](#Exploratory_Data_Analysis)\n",
    "    * [1.1 Imports](#Imports)\n",
    "        * [1.1.1 Import Libraries](#Import_Libraries)\n",
    "        * [1.1.2 Import Data](#Import_Data)          \n",
    "    \n",
    "    * [1.2 Visualizing Churn Across Features](#Visualizing_Churn_Across_Features)\n",
    "        * [1.2.1 Categorical Features](#Categorical_Features)\n",
    "        * [1.2.2 Numerical Features](#Numerical_Features)\n",
    "        * [1.2.3 Boolean Features](#Boolean_Features)\n",
    "    \n",
    "    * [1.3 ](#)\n",
    "        * [1.3.1 ](#)\n",
    "\n",
    "\n",
    "    "
   ]
  },
  {
   "cell_type": "markdown",
   "metadata": {},
   "source": [
    "## 1.1 Imports<a id='Imports'></a>"
   ]
  },
  {
   "cell_type": "markdown",
   "metadata": {},
   "source": [
    "### 1.1.1 Import Libraries<a id='Import_Libraries'></a>"
   ]
  },
  {
   "cell_type": "code",
   "execution_count": 23,
   "metadata": {},
   "outputs": [],
   "source": [
    "import pandas as pd\n",
    "import numpy as np\n",
    "import matplotlib.pyplot as plt\n",
    "import seaborn as sns\n",
    "\n",
    "from sklearn.decomposition import PCA\n",
    "from sklearn.preprocessing import scale"
   ]
  },
  {
   "cell_type": "markdown",
   "metadata": {},
   "source": [
    "### 1.1.2 Import Data<a id='Import_Data'></a>"
   ]
  },
  {
   "cell_type": "code",
   "execution_count": 18,
   "metadata": {},
   "outputs": [],
   "source": [
    "data = pd.read_csv(\"../data/processed/combined.csv\")"
   ]
  },
  {
   "cell_type": "code",
   "execution_count": 19,
   "metadata": {},
   "outputs": [],
   "source": [
    "data = data.drop(\"Unnamed: 0\", axis=1)"
   ]
  },
  {
   "cell_type": "code",
   "execution_count": 21,
   "metadata": {},
   "outputs": [
    {
     "data": {
      "text/plain": [
       "(599990, 23)"
      ]
     },
     "execution_count": 21,
     "metadata": {},
     "output_type": "execute_result"
    }
   ],
   "source": [
    "data.shape"
   ]
  },
  {
   "cell_type": "code",
   "execution_count": 27,
   "metadata": {
    "scrolled": true
   },
   "outputs": [
    {
     "data": {
      "text/html": [
       "<div>\n",
       "<style scoped>\n",
       "    .dataframe tbody tr th:only-of-type {\n",
       "        vertical-align: middle;\n",
       "    }\n",
       "\n",
       "    .dataframe tbody tr th {\n",
       "        vertical-align: top;\n",
       "    }\n",
       "\n",
       "    .dataframe thead th {\n",
       "        text-align: right;\n",
       "    }\n",
       "</style>\n",
       "<table border=\"1\" class=\"dataframe\">\n",
       "  <thead>\n",
       "    <tr style=\"text-align: right;\">\n",
       "      <th></th>\n",
       "      <th>msno</th>\n",
       "      <th>transaction_date</th>\n",
       "      <th>is_churn</th>\n",
       "      <th>payment_method_id</th>\n",
       "      <th>payment_plan_days</th>\n",
       "      <th>plan_list_price</th>\n",
       "      <th>actual_amount_paid</th>\n",
       "      <th>is_auto_renew</th>\n",
       "      <th>membership_expire_date</th>\n",
       "      <th>is_cancel</th>\n",
       "      <th>...</th>\n",
       "      <th>registered_via</th>\n",
       "      <th>registration_init_time</th>\n",
       "      <th>total_days</th>\n",
       "      <th>total_num_25</th>\n",
       "      <th>total_num_50</th>\n",
       "      <th>total_num_75</th>\n",
       "      <th>total_num_985</th>\n",
       "      <th>total_num_100</th>\n",
       "      <th>total_num_unique</th>\n",
       "      <th>total_secs</th>\n",
       "    </tr>\n",
       "  </thead>\n",
       "  <tbody>\n",
       "    <tr>\n",
       "      <th>0</th>\n",
       "      <td>++6xEqu4JANaRY4GjEfEFtLtqOvZvYPyP3uk/PW9Ces=</td>\n",
       "      <td>20170331</td>\n",
       "      <td>0</td>\n",
       "      <td>41</td>\n",
       "      <td>30</td>\n",
       "      <td>99</td>\n",
       "      <td>99</td>\n",
       "      <td>1</td>\n",
       "      <td>20170430</td>\n",
       "      <td>0</td>\n",
       "      <td>...</td>\n",
       "      <td>7</td>\n",
       "      <td>20160501</td>\n",
       "      <td>9</td>\n",
       "      <td>18</td>\n",
       "      <td>3</td>\n",
       "      <td>0</td>\n",
       "      <td>2</td>\n",
       "      <td>38</td>\n",
       "      <td>53</td>\n",
       "      <td>9541.349</td>\n",
       "    </tr>\n",
       "    <tr>\n",
       "      <th>1</th>\n",
       "      <td>++95tJZADNg8U8HKbYdxbbXIRsO6pw1zBK4tHI7BtZo=</td>\n",
       "      <td>20170331</td>\n",
       "      <td>0</td>\n",
       "      <td>39</td>\n",
       "      <td>30</td>\n",
       "      <td>149</td>\n",
       "      <td>149</td>\n",
       "      <td>1</td>\n",
       "      <td>20170524</td>\n",
       "      <td>0</td>\n",
       "      <td>...</td>\n",
       "      <td>3</td>\n",
       "      <td>20120603</td>\n",
       "      <td>21</td>\n",
       "      <td>62</td>\n",
       "      <td>15</td>\n",
       "      <td>5</td>\n",
       "      <td>7</td>\n",
       "      <td>205</td>\n",
       "      <td>172</td>\n",
       "      <td>57832.941</td>\n",
       "    </tr>\n",
       "    <tr>\n",
       "      <th>2</th>\n",
       "      <td>++A8p4GrsTnMjI6hAZEtlRsaz6s6O9ddUoH0fmS4s7s=</td>\n",
       "      <td>20170326</td>\n",
       "      <td>0</td>\n",
       "      <td>30</td>\n",
       "      <td>30</td>\n",
       "      <td>149</td>\n",
       "      <td>149</td>\n",
       "      <td>1</td>\n",
       "      <td>20170426</td>\n",
       "      <td>0</td>\n",
       "      <td>...</td>\n",
       "      <td>9</td>\n",
       "      <td>20141118</td>\n",
       "      <td>28</td>\n",
       "      <td>46</td>\n",
       "      <td>13</td>\n",
       "      <td>12</td>\n",
       "      <td>14</td>\n",
       "      <td>395</td>\n",
       "      <td>437</td>\n",
       "      <td>104319.610</td>\n",
       "    </tr>\n",
       "    <tr>\n",
       "      <th>3</th>\n",
       "      <td>++EcAZQCSSJQMx37/+/QqjiVQq3cS/hGug6JlzCufig=</td>\n",
       "      <td>20170331</td>\n",
       "      <td>0</td>\n",
       "      <td>39</td>\n",
       "      <td>30</td>\n",
       "      <td>149</td>\n",
       "      <td>149</td>\n",
       "      <td>1</td>\n",
       "      <td>20170518</td>\n",
       "      <td>0</td>\n",
       "      <td>...</td>\n",
       "      <td>9</td>\n",
       "      <td>20110205</td>\n",
       "      <td>25</td>\n",
       "      <td>77</td>\n",
       "      <td>35</td>\n",
       "      <td>29</td>\n",
       "      <td>17</td>\n",
       "      <td>440</td>\n",
       "      <td>339</td>\n",
       "      <td>115120.269</td>\n",
       "    </tr>\n",
       "    <tr>\n",
       "      <th>4</th>\n",
       "      <td>++Ve6PtJ8HDzBYbkuwGkmNrXdOk7ZLfTATtE6G/mX/U=</td>\n",
       "      <td>20170331</td>\n",
       "      <td>0</td>\n",
       "      <td>34</td>\n",
       "      <td>30</td>\n",
       "      <td>149</td>\n",
       "      <td>149</td>\n",
       "      <td>1</td>\n",
       "      <td>20170430</td>\n",
       "      <td>0</td>\n",
       "      <td>...</td>\n",
       "      <td>9</td>\n",
       "      <td>20080323</td>\n",
       "      <td>4</td>\n",
       "      <td>64</td>\n",
       "      <td>9</td>\n",
       "      <td>10</td>\n",
       "      <td>5</td>\n",
       "      <td>58</td>\n",
       "      <td>137</td>\n",
       "      <td>20449.617</td>\n",
       "    </tr>\n",
       "  </tbody>\n",
       "</table>\n",
       "<p>5 rows × 23 columns</p>\n",
       "</div>"
      ],
      "text/plain": [
       "                                           msno  transaction_date  is_churn  \\\n",
       "0  ++6xEqu4JANaRY4GjEfEFtLtqOvZvYPyP3uk/PW9Ces=          20170331         0   \n",
       "1  ++95tJZADNg8U8HKbYdxbbXIRsO6pw1zBK4tHI7BtZo=          20170331         0   \n",
       "2  ++A8p4GrsTnMjI6hAZEtlRsaz6s6O9ddUoH0fmS4s7s=          20170326         0   \n",
       "3  ++EcAZQCSSJQMx37/+/QqjiVQq3cS/hGug6JlzCufig=          20170331         0   \n",
       "4  ++Ve6PtJ8HDzBYbkuwGkmNrXdOk7ZLfTATtE6G/mX/U=          20170331         0   \n",
       "\n",
       "   payment_method_id  payment_plan_days  plan_list_price  actual_amount_paid  \\\n",
       "0                 41                 30               99                  99   \n",
       "1                 39                 30              149                 149   \n",
       "2                 30                 30              149                 149   \n",
       "3                 39                 30              149                 149   \n",
       "4                 34                 30              149                 149   \n",
       "\n",
       "   is_auto_renew  membership_expire_date  is_cancel  ...  registered_via  \\\n",
       "0              1                20170430          0  ...               7   \n",
       "1              1                20170524          0  ...               3   \n",
       "2              1                20170426          0  ...               9   \n",
       "3              1                20170518          0  ...               9   \n",
       "4              1                20170430          0  ...               9   \n",
       "\n",
       "   registration_init_time  total_days  total_num_25  total_num_50  \\\n",
       "0                20160501           9            18             3   \n",
       "1                20120603          21            62            15   \n",
       "2                20141118          28            46            13   \n",
       "3                20110205          25            77            35   \n",
       "4                20080323           4            64             9   \n",
       "\n",
       "   total_num_75  total_num_985  total_num_100  total_num_unique  total_secs  \n",
       "0             0              2             38                53    9541.349  \n",
       "1             5              7            205               172   57832.941  \n",
       "2            12             14            395               437  104319.610  \n",
       "3            29             17            440               339  115120.269  \n",
       "4            10              5             58               137   20449.617  \n",
       "\n",
       "[5 rows x 23 columns]"
      ]
     },
     "execution_count": 27,
     "metadata": {},
     "output_type": "execute_result"
    }
   ],
   "source": [
    "data.head()"
   ]
  },
  {
   "cell_type": "code",
   "execution_count": 26,
   "metadata": {
    "scrolled": false
   },
   "outputs": [
    {
     "name": "stdout",
     "output_type": "stream",
     "text": [
      "<class 'pandas.core.frame.DataFrame'>\n",
      "RangeIndex: 599990 entries, 0 to 599989\n",
      "Data columns (total 23 columns):\n",
      " #   Column                  Non-Null Count   Dtype  \n",
      "---  ------                  --------------   -----  \n",
      " 0   msno                    599990 non-null  object \n",
      " 1   transaction_date        599990 non-null  int64  \n",
      " 2   is_churn                599990 non-null  int64  \n",
      " 3   payment_method_id       599990 non-null  int64  \n",
      " 4   payment_plan_days       599990 non-null  int64  \n",
      " 5   plan_list_price         599990 non-null  int64  \n",
      " 6   actual_amount_paid      599990 non-null  int64  \n",
      " 7   is_auto_renew           599990 non-null  int64  \n",
      " 8   membership_expire_date  599990 non-null  int64  \n",
      " 9   is_cancel               599990 non-null  int64  \n",
      " 10  city                    599990 non-null  int64  \n",
      " 11  age                     599990 non-null  int64  \n",
      " 12  gender                  599990 non-null  float64\n",
      " 13  registered_via          599990 non-null  int64  \n",
      " 14  registration_init_time  599990 non-null  int64  \n",
      " 15  total_days              599990 non-null  int64  \n",
      " 16  total_num_25            599990 non-null  int64  \n",
      " 17  total_num_50            599990 non-null  int64  \n",
      " 18  total_num_75            599990 non-null  int64  \n",
      " 19  total_num_985           599990 non-null  int64  \n",
      " 20  total_num_100           599990 non-null  int64  \n",
      " 21  total_num_unique        599990 non-null  int64  \n",
      " 22  total_secs              599990 non-null  float64\n",
      "dtypes: float64(2), int64(20), object(1)\n",
      "memory usage: 105.3+ MB\n"
     ]
    }
   ],
   "source": [
    "data.info()"
   ]
  },
  {
   "cell_type": "markdown",
   "metadata": {},
   "source": [
    "## 1.2 Visualizing Churn Across Features<a id=\"Visualizing_Churn_Across_Features\"></a>"
   ]
  },
  {
   "cell_type": "markdown",
   "metadata": {},
   "source": [
    "### 1.2.1 Categorical Features<a id=\"Categorical_Features\"></a>"
   ]
  },
  {
   "cell_type": "markdown",
   "metadata": {},
   "source": [
    "Let's explore the percentage of subscribers that churn for each value in the categorical features. "
   ]
  },
  {
   "cell_type": "code",
   "execution_count": 78,
   "metadata": {},
   "outputs": [
    {
     "data": {
      "image/png": "[encoded data removed]",
      "text/plain": [
       "<Figure size 576x576 with 4 Axes>"
      ]
     },
     "metadata": {
      "needs_background": "light"
     },
     "output_type": "display_data"
    }
   ],
   "source": [
    "features = [\"payment_method_id\", \"city\", \"gender\", \"registered_via\"]\n",
    "fig, axs = plt.subplots(2, 2, figsize=(8,8))\n",
    "axs = axs.flatten()\n",
    "for i, feature in enumerate(features): \n",
    "    churn_pct_by_feature = (data.groupby(by=feature).is_churn.sum() / data[feature].value_counts())*100\n",
    "    churn_pct_by_feature.plot(kind=\"bar\", ax=axs[i], xlabel=feature, ylabel=\"percent that churns\")\n",
    "\n",
    "plt.tight_layout()\n",
    "plt.show();"
   ]
  },
  {
   "cell_type": "markdown",
   "metadata": {},
   "source": [
    "Insights:\n",
    "* Almost 100% of the subscribers who payed with payment method id 32 churned\n",
    "* Subscribers from city 1 (which is also the most populous) are the least likely to churn\n",
    "* There is no correlation between gender and likelyhood of churning\n",
    "* Registration method 7 is the best at retaining subscribers - less than 4% of the subscribers who registered with method 7 churned, while over 8% of subscribers churned with the other methods "
   ]
  },
  {
   "cell_type": "markdown",
   "metadata": {},
   "source": [
    "### 1.2.2 Numerical Features<a id=\"Numerical_Features\"></a>"
   ]
  },
  {
   "cell_type": "markdown",
   "metadata": {},
   "source": [
    "### 1.2.3 Boolean Features<a id=\"Boolean_Features\"></a>"
   ]
  },
  {
   "cell_type": "code",
   "execution_count": null,
   "metadata": {},
   "outputs": [],
   "source": []
  }
 ],
 "metadata": {
  "kernelspec": {
   "display_name": "env",
   "language": "python",
   "name": "env"
  },
  "language_info": {
   "codemirror_mode": {
    "name": "ipython",
    "version": 3
   },
   "file_extension": ".py",
   "mimetype": "text/x-python",
   "name": "python",
   "nbconvert_exporter": "python",
   "pygments_lexer": "ipython3",
   "version": "3.8.2"
  }
 },
 "nbformat": 4,
 "nbformat_minor": 4
}
