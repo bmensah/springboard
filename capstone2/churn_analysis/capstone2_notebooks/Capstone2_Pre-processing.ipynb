{
 "cells": [
  {
   "cell_type": "markdown",
   "metadata": {},
   "source": [
    "# Capstone 2 Pre-processing and Training<a id=\"Pre-processing_and_Training\"></a>"
   ]
  },
  {
   "cell_type": "markdown",
   "metadata": {},
   "source": [
    "## Table of Contents<a id='Table_of_Contents'></a>\n",
    "* [3 Pre-processing and Training](#Pre-processing_and_Training)\n",
    "    * [3.1 Imports](#Imports)\n",
    "        * [3.1.1 Import Libraries](#Import_Libraries)\n",
    "        * [3.1.2 Import Data](#Import_Data)          \n",
    "    \n",
    "    * [3.2 Feature_Engineering](#Feature_Engineering)\n",
    " \n",
    "    * [3.3 Pre-processing](#Pre-processing)\n",
    "    \n",
    "    * [3.4 Model Selection](#Model_Selection)\n",
    "        * [3.4.1 Train/Test Split](#Train_Test_Split)\n",
    "        * [3.4.2 Dummy Classifier](#Dummy_Classifier)\n",
    "        * [3.4.3 Linear Classifiers](#Linear_Classifiers)\n",
    "            * [3.4.3.1 Logistic Regression](#Logistic_Regression)\n",
    "            * [3.4.3.2 Support Vector Machines (SVM)](#SVM)\n",
    "        * [3.4.4 Non-Linear Classifiers](#Non-Linear_Classifiers)\n",
    "            * [3.4.4.1 Random Forest Classifier](#Random_Forest_Classifier)\n",
    "            * [3.4.4.2 XG Boost](#XG_Boost)\n",
    "            * [3.4.4.3 K Nearest Neighbors (KNN) Classifier](#KNN_Classifier)\n",
    "            \n",
    "    * [3.5 Hyperparemeter Tuning](#Hyperparameter_Tuning)\n",
    "        * [3.5.1 Number of Estimators](#N_Estimators)\n",
    "        * [3.5.2 Tree Parameters](#Tree_Parameters)\n",
    "        * [3.5.3 Regularization Parameters](#Regularization_Parameters)\n",
    "            \n",
    "        \n",
    "        "
   ]
  },
  {
   "cell_type": "markdown",
   "metadata": {},
   "source": [
    "## 3.1 Imports<a id=\"Imports\"></a>"
   ]
  },
  {
   "cell_type": "markdown",
   "metadata": {},
   "source": [
    "### 3.1.1 Import Libraries<a id=\"Import_Libraries\"></a>"
   ]
  },
  {
   "cell_type": "code",
   "execution_count": 49,
   "metadata": {},
   "outputs": [],
   "source": [
    "import pandas as pd\n",
    "import numpy as np\n",
    "import matplotlib.pyplot as plt\n",
    "import seaborn as sns\n",
    "import pickle\n",
    "import warnings \n",
    "\n",
    "from sklearn.preprocessing import OneHotEncoder, StandardScaler\n",
    "from sklearn.model_selection import train_test_split\n",
    "from sklearn.metrics import recall_score, plot_roc_curve\n",
    "from sklearn.pipeline import Pipeline\n",
    "from sklearn.compose import ColumnTransformer\n",
    "\n",
    "from sklearn.dummy import DummyClassifier\n",
    "from sklearn.linear_model import LogisticRegression\n",
    "from sklearn.svm import LinearSVC\n",
    "from sklearn.ensemble import RandomForestClassifier\n",
    "from xgboost import XGBClassifier\n",
    "from sklearn.neighbors import KNeighborsClassifier\n",
    "\n",
    "from sklearn.model_selection import cross_val_score, GridSearchCV"
   ]
  },
  {
   "cell_type": "markdown",
   "metadata": {},
   "source": [
    "### 3.1.2 Import Data<a id=\"Import_Data\"></a>"
   ]
  },
  {
   "cell_type": "code",
   "execution_count": 2,
   "metadata": {},
   "outputs": [
    {
     "name": "stdout",
     "output_type": "stream",
     "text": [
      "<class 'pandas.core.frame.DataFrame'>\n",
      "RangeIndex: 599990 entries, 0 to 599989\n",
      "Data columns (total 23 columns):\n",
      " #   Column                  Non-Null Count   Dtype         \n",
      "---  ------                  --------------   -----         \n",
      " 0   msno                    599990 non-null  object        \n",
      " 1   transaction_date        599990 non-null  datetime64[ns]\n",
      " 2   is_churn                599990 non-null  int64         \n",
      " 3   payment_method_id       599990 non-null  object        \n",
      " 4   payment_plan_days       599990 non-null  int64         \n",
      " 5   plan_list_price         599990 non-null  int64         \n",
      " 6   actual_amount_paid      599990 non-null  int64         \n",
      " 7   is_auto_renew           599990 non-null  int64         \n",
      " 8   membership_expire_date  599990 non-null  datetime64[ns]\n",
      " 9   is_cancel               599990 non-null  int64         \n",
      " 10  city                    599990 non-null  object        \n",
      " 11  age                     599990 non-null  int64         \n",
      " 12  gender                  599990 non-null  object        \n",
      " 13  registered_via          599990 non-null  object        \n",
      " 14  registration_init_time  599990 non-null  datetime64[ns]\n",
      " 15  total_days              599990 non-null  int64         \n",
      " 16  total_num_25            599990 non-null  int64         \n",
      " 17  total_num_50            599990 non-null  int64         \n",
      " 18  total_num_75            599990 non-null  int64         \n",
      " 19  total_num_985           599990 non-null  int64         \n",
      " 20  total_num_100           599990 non-null  int64         \n",
      " 21  total_num_unique        599990 non-null  int64         \n",
      " 22  total_secs              599990 non-null  float64       \n",
      "dtypes: datetime64[ns](3), float64(1), int64(14), object(5)\n",
      "memory usage: 105.3+ MB\n"
     ]
    }
   ],
   "source": [
    "# Import dtypes\n",
    "dtype_map = pd.read_csv(\"../data/processed/dtype_map.csv\", index_col=\"index\").to_dict()[\"0\"]\n",
    "\n",
    "# Import data\n",
    "data = pd.read_csv(\"../data/processed/combined.csv\")\n",
    "\n",
    "# Transform the dtype of the data using the dtype_map\n",
    "data = data.astype(dtype_map)\n",
    "data.info()"
   ]
  },
  {
   "cell_type": "markdown",
   "metadata": {},
   "source": [
    "## 3.2 Feature Engineering<a id=\"Feature_Engineering\"></a>"
   ]
  },
  {
   "cell_type": "code",
   "execution_count": 3,
   "metadata": {},
   "outputs": [],
   "source": [
    "# Calculate seconds listened per day: secs_per_day\n",
    "data[\"secs_per_day\"] = data.total_secs / data.total_days"
   ]
  },
  {
   "cell_type": "code",
   "execution_count": 4,
   "metadata": {},
   "outputs": [],
   "source": [
    "# Calculate each subscriber's cost per day: cost_per_day\n",
    "data[\"cost_per_day\"] = data.actual_amount_paid / data.payment_plan_days"
   ]
  },
  {
   "cell_type": "code",
   "execution_count": 5,
   "metadata": {},
   "outputs": [],
   "source": [
    "# Calculate membership duration: mem_duration\n",
    "data[\"mem_duration\"] = data[\"membership_expire_date\"] - data[\"registration_init_time\"]\n",
    "\n",
    "# Change data type to int64\n",
    "data[\"mem_duration\"] = data[\"mem_duration\"].dt.days"
   ]
  },
  {
   "cell_type": "code",
   "execution_count": 6,
   "metadata": {},
   "outputs": [],
   "source": [
    "# Get the total number of transactions each subscriber made: num_transactions\n",
    "transactions_df = pd.read_csv(\"../data/raw/transactions_v2.csv\")\n",
    "num_trans = transactions_df.groupby(\"msno\").msno.count()\n",
    "num_trans_df = pd.DataFrame(num_trans).rename({\"msno\":\"num_transactions\"}, axis=1).reset_index()\n",
    "data = pd.merge(data, num_trans_df, on=\"msno\", how=\"inner\")"
   ]
  },
  {
   "cell_type": "code",
   "execution_count": 7,
   "metadata": {},
   "outputs": [
    {
     "data": {
      "text/html": [
       "<div>\n",
       "<style scoped>\n",
       "    .dataframe tbody tr th:only-of-type {\n",
       "        vertical-align: middle;\n",
       "    }\n",
       "\n",
       "    .dataframe tbody tr th {\n",
       "        vertical-align: top;\n",
       "    }\n",
       "\n",
       "    .dataframe thead th {\n",
       "        text-align: right;\n",
       "    }\n",
       "</style>\n",
       "<table border=\"1\" class=\"dataframe\">\n",
       "  <thead>\n",
       "    <tr style=\"text-align: right;\">\n",
       "      <th></th>\n",
       "      <th>0</th>\n",
       "    </tr>\n",
       "  </thead>\n",
       "  <tbody>\n",
       "    <tr>\n",
       "      <th>msno</th>\n",
       "      <td>++6xEqu4JANaRY4GjEfEFtLtqOvZvYPyP3uk/PW9Ces=</td>\n",
       "    </tr>\n",
       "    <tr>\n",
       "      <th>transaction_date</th>\n",
       "      <td>2017-03-31 00:00:00</td>\n",
       "    </tr>\n",
       "    <tr>\n",
       "      <th>is_churn</th>\n",
       "      <td>0</td>\n",
       "    </tr>\n",
       "    <tr>\n",
       "      <th>payment_method_id</th>\n",
       "      <td>41</td>\n",
       "    </tr>\n",
       "    <tr>\n",
       "      <th>payment_plan_days</th>\n",
       "      <td>30</td>\n",
       "    </tr>\n",
       "    <tr>\n",
       "      <th>plan_list_price</th>\n",
       "      <td>99</td>\n",
       "    </tr>\n",
       "    <tr>\n",
       "      <th>actual_amount_paid</th>\n",
       "      <td>99</td>\n",
       "    </tr>\n",
       "    <tr>\n",
       "      <th>is_auto_renew</th>\n",
       "      <td>1</td>\n",
       "    </tr>\n",
       "    <tr>\n",
       "      <th>membership_expire_date</th>\n",
       "      <td>2017-04-30 00:00:00</td>\n",
       "    </tr>\n",
       "    <tr>\n",
       "      <th>is_cancel</th>\n",
       "      <td>0</td>\n",
       "    </tr>\n",
       "    <tr>\n",
       "      <th>city</th>\n",
       "      <td>1</td>\n",
       "    </tr>\n",
       "    <tr>\n",
       "      <th>age</th>\n",
       "      <td>32</td>\n",
       "    </tr>\n",
       "    <tr>\n",
       "      <th>gender</th>\n",
       "      <td>0.0</td>\n",
       "    </tr>\n",
       "    <tr>\n",
       "      <th>registered_via</th>\n",
       "      <td>7</td>\n",
       "    </tr>\n",
       "    <tr>\n",
       "      <th>registration_init_time</th>\n",
       "      <td>2016-05-01 00:00:00</td>\n",
       "    </tr>\n",
       "    <tr>\n",
       "      <th>total_days</th>\n",
       "      <td>9</td>\n",
       "    </tr>\n",
       "    <tr>\n",
       "      <th>total_num_25</th>\n",
       "      <td>18</td>\n",
       "    </tr>\n",
       "    <tr>\n",
       "      <th>total_num_50</th>\n",
       "      <td>3</td>\n",
       "    </tr>\n",
       "    <tr>\n",
       "      <th>total_num_75</th>\n",
       "      <td>0</td>\n",
       "    </tr>\n",
       "    <tr>\n",
       "      <th>total_num_985</th>\n",
       "      <td>2</td>\n",
       "    </tr>\n",
       "    <tr>\n",
       "      <th>total_num_100</th>\n",
       "      <td>38</td>\n",
       "    </tr>\n",
       "    <tr>\n",
       "      <th>total_num_unique</th>\n",
       "      <td>53</td>\n",
       "    </tr>\n",
       "    <tr>\n",
       "      <th>total_secs</th>\n",
       "      <td>9541.349</td>\n",
       "    </tr>\n",
       "    <tr>\n",
       "      <th>secs_per_day</th>\n",
       "      <td>1060.149889</td>\n",
       "    </tr>\n",
       "    <tr>\n",
       "      <th>cost_per_day</th>\n",
       "      <td>3.3</td>\n",
       "    </tr>\n",
       "    <tr>\n",
       "      <th>mem_duration</th>\n",
       "      <td>364</td>\n",
       "    </tr>\n",
       "    <tr>\n",
       "      <th>num_transactions</th>\n",
       "      <td>1</td>\n",
       "    </tr>\n",
       "  </tbody>\n",
       "</table>\n",
       "</div>"
      ],
      "text/plain": [
       "                                                                   0\n",
       "msno                    ++6xEqu4JANaRY4GjEfEFtLtqOvZvYPyP3uk/PW9Ces=\n",
       "transaction_date                                 2017-03-31 00:00:00\n",
       "is_churn                                                           0\n",
       "payment_method_id                                                 41\n",
       "payment_plan_days                                                 30\n",
       "plan_list_price                                                   99\n",
       "actual_amount_paid                                                99\n",
       "is_auto_renew                                                      1\n",
       "membership_expire_date                           2017-04-30 00:00:00\n",
       "is_cancel                                                          0\n",
       "city                                                               1\n",
       "age                                                               32\n",
       "gender                                                           0.0\n",
       "registered_via                                                     7\n",
       "registration_init_time                           2016-05-01 00:00:00\n",
       "total_days                                                         9\n",
       "total_num_25                                                      18\n",
       "total_num_50                                                       3\n",
       "total_num_75                                                       0\n",
       "total_num_985                                                      2\n",
       "total_num_100                                                     38\n",
       "total_num_unique                                                  53\n",
       "total_secs                                                  9541.349\n",
       "secs_per_day                                             1060.149889\n",
       "cost_per_day                                                     3.3\n",
       "mem_duration                                                     364\n",
       "num_transactions                                                   1"
      ]
     },
     "execution_count": 7,
     "metadata": {},
     "output_type": "execute_result"
    }
   ],
   "source": [
    "data.head(1).T"
   ]
  },
  {
   "cell_type": "markdown",
   "metadata": {},
   "source": [
    "## 3.3 Pre-processing<a id=\"Pre-processing\"></a>"
   ]
  },
  {
   "cell_type": "code",
   "execution_count": 8,
   "metadata": {},
   "outputs": [],
   "source": [
    "# drop msno id column\n",
    "data = data.drop(\"msno\", axis=1)\n",
    "\n",
    "# drop date columns\n",
    "datetimes = data.select_dtypes(include=\"datetime64[ns]\").columns.to_list()\n",
    "data = data.drop(datetimes, axis=1)"
   ]
  },
  {
   "cell_type": "code",
   "execution_count": 9,
   "metadata": {},
   "outputs": [
    {
     "data": {
      "text/plain": [
       "is_churn                 bool\n",
       "payment_method_id      object\n",
       "payment_plan_days       int64\n",
       "plan_list_price         int64\n",
       "actual_amount_paid      int64\n",
       "is_auto_renew            bool\n",
       "is_cancel                bool\n",
       "city                   object\n",
       "age                     int64\n",
       "gender                 object\n",
       "registered_via         object\n",
       "total_days              int64\n",
       "total_num_25            int64\n",
       "total_num_50            int64\n",
       "total_num_75            int64\n",
       "total_num_985           int64\n",
       "total_num_100           int64\n",
       "total_num_unique        int64\n",
       "total_secs            float64\n",
       "secs_per_day          float64\n",
       "cost_per_day          float64\n",
       "mem_duration            int64\n",
       "num_transactions        int64\n",
       "dtype: object"
      ]
     },
     "execution_count": 9,
     "metadata": {},
     "output_type": "execute_result"
    }
   ],
   "source": [
    "# Set datatypes of boolean columns\n",
    "bool_features = [\"is_churn\", \"is_auto_renew\", \"is_cancel\"]\n",
    "data = data.astype({col:\"bool\" for col in bool_features})\n",
    "data.dtypes"
   ]
  },
  {
   "cell_type": "code",
   "execution_count": 10,
   "metadata": {},
   "outputs": [],
   "source": [
    "# Define a column transformer to scale numerical features and encode categorical features: col_transform\n",
    "num_features = data.select_dtypes(include=[\"int64\", \"float64\"]).columns.to_list()\n",
    "cat_features = data.select_dtypes(include=\"object\").columns.to_list()\n",
    "transformer = ColumnTransformer(transformers=[(\"num\", StandardScaler(), num_features),\n",
    "                                               (\"cat\", OneHotEncoder(), cat_features)])"
   ]
  },
  {
   "cell_type": "markdown",
   "metadata": {},
   "source": [
    "## 3.4 Model Selection<a id=\"Model_Selection\"></a>"
   ]
  },
  {
   "cell_type": "markdown",
   "metadata": {},
   "source": [
    "### 3.4.1 Train/Test Split<a id=\"Train_Test_Split\"></a>"
   ]
  },
  {
   "cell_type": "code",
   "execution_count": 11,
   "metadata": {},
   "outputs": [],
   "source": [
    "# Separate independent and dependent variables\n",
    "X = data.drop(\"is_churn\", axis=1)\n",
    "y = data.is_churn"
   ]
  },
  {
   "cell_type": "code",
   "execution_count": 12,
   "metadata": {},
   "outputs": [],
   "source": [
    "# Split data using a 70/30 split\n",
    "X_train, X_test, y_train, y_test = train_test_split(X, y, test_size=0.3, random_state=1)"
   ]
  },
  {
   "cell_type": "markdown",
   "metadata": {},
   "source": [
    "### 3.4.2 Dummy Classifier<a id=\"Dummy_Classifier\"></a>"
   ]
  },
  {
   "cell_type": "markdown",
   "metadata": {},
   "source": [
    "Here we will use a dummy classifer to get a baseline score for recall and ROC/AUC to compare against our results with genuine classifiers. "
   ]
  },
  {
   "cell_type": "code",
   "execution_count": 13,
   "metadata": {},
   "outputs": [],
   "source": [
    "# Instantiate a dummy classifer that uses the most frequent target value for all predictions\n",
    "dummy_cls = DummyClassifier(strategy=\"most_frequent\")\n",
    "dummy_cls.fit(X_train, y_train)\n",
    "dummy_pred = dummy_cls.predict(X_test)"
   ]
  },
  {
   "cell_type": "code",
   "execution_count": 14,
   "metadata": {},
   "outputs": [
    {
     "name": "stdout",
     "output_type": "stream",
     "text": [
      "The dummy classifier is 94.45% accurate\n",
      "The recall for the dummy classifier is 0.0\n"
     ]
    }
   ],
   "source": [
    "# Get accuracy and recall from dummy classifer\n",
    "dummy_accuracy = dummy_cls.score(dummy_pred, y_test)\n",
    "dummy_recall = recall_score(y_test, dummy_pred)\n",
    "print(\"The dummy classifier is {:.2f}% accurate\".format(dummy_accuracy*100))\n",
    "print(\"The recall for the dummy classifier is {}\".format(dummy_recall))"
   ]
  },
  {
   "cell_type": "code",
   "execution_count": 15,
   "metadata": {},
   "outputs": [
    {
     "data": {
      "image/png": "[encoded data removed]",
      "text/plain": [
       "<Figure size 432x288 with 1 Axes>"
      ]
     },
     "metadata": {
      "needs_background": "light"
     },
     "output_type": "display_data"
    }
   ],
   "source": [
    "# Get ROC-AUC curve for dummy classifier\n",
    "plot_roc_curve(dummy_cls, X_train, y_train);"
   ]
  },
  {
   "cell_type": "markdown",
   "metadata": {},
   "source": [
    "We can see that accuracy would not be a good metric for determining model success, as a dummy classifier that just predicts that all users will renew is 94.45% accurate. Recall gives us a much more accurate idea of how good our model is, as it tells us how many users that churned are missed (false negatives). With the dummy classifier, every positive case was miss-classified as negative, so the recall score is 0. "
   ]
  },
  {
   "cell_type": "markdown",
   "metadata": {},
   "source": [
    "In the EDA stage, we plotted a scatterplot of the target value, is_churn, and concluded that a linear classifier would not be effective because there was a large section of positive and negative points that overlapped. Let's see if this is true by comparing the recall of linear classifiers with non-linear ones. "
   ]
  },
  {
   "cell_type": "markdown",
   "metadata": {},
   "source": [
    "### 3.4.3 Linear Classifiers<a id=\"Linear_Classifers\"></a>"
   ]
  },
  {
   "cell_type": "code",
   "execution_count": 16,
   "metadata": {},
   "outputs": [],
   "source": [
    "recall_scores = {}"
   ]
  },
  {
   "cell_type": "markdown",
   "metadata": {},
   "source": [
    "#### 3.4.3.1 Logistic Regression<a id=\"Logisitic_Regression\"></a>"
   ]
  },
  {
   "cell_type": "code",
   "execution_count": 17,
   "metadata": {},
   "outputs": [
    {
     "data": {
      "text/plain": [
       "0.2990990990990991"
      ]
     },
     "execution_count": 17,
     "metadata": {},
     "output_type": "execute_result"
    }
   ],
   "source": [
    "# Create pipeline to transform features and apply classifier: logreg\n",
    "logreg = Pipeline(steps=[(\"transformer\", transformer), (\"classifier\", LogisticRegression(max_iter=400))])\n",
    "logreg.fit(X_train, y_train)\n",
    "log_pred = logreg.predict(X_test)\n",
    "recall = recall_score(y_test, log_pred)\n",
    "recall_scores[\"Logistic Regression\"] = recall\n",
    "recall"
   ]
  },
  {
   "cell_type": "markdown",
   "metadata": {},
   "source": [
    "#### 3.4.3.2 Support Vector Machines (SVM) <a id=\"SVM\"></a>"
   ]
  },
  {
   "cell_type": "code",
   "execution_count": 35,
   "metadata": {},
   "outputs": [
    {
     "name": "stderr",
     "output_type": "stream",
     "text": [
      "/Users/Bradley/Desktop/springboard/capstone2/env/lib/python3.8/site-packages/sklearn/svm/_base.py:985: ConvergenceWarning: Liblinear failed to converge, increase the number of iterations.\n",
      "  warnings.warn(\"Liblinear failed to converge, increase \"\n"
     ]
    }
   ],
   "source": [
    "warnings.filterwarnings(\"ignore\")\n",
    "\n",
    "# Pipeline to apply a support vector classifier: svc_cls\n",
    "svc_cls = Pipeline(steps=[(\"transformer\", transformer), (\"classifier\", LinearSVC(max_iter=2000))])\n",
    "svc_cls.fit(X_train, y_train)\n",
    "svc_pred = svc_cls.predict(X_test)\n",
    "recall = recall_score(y_test, svc_pred)\n",
    "recall_scores[\"SVC\"] = recall\n",
    "recall"
   ]
  },
  {
   "cell_type": "markdown",
   "metadata": {},
   "source": [
    "### 3.4.4 Non-Linear Classifiers<a id=\"Non-Linear_Classifers\"></a>"
   ]
  },
  {
   "cell_type": "markdown",
   "metadata": {},
   "source": [
    "#### 3.4.4.1 Random Forest Classifier <a id=\"Random_Forest_Classifier\"></a>"
   ]
  },
  {
   "cell_type": "code",
   "execution_count": 19,
   "metadata": {},
   "outputs": [
    {
     "data": {
      "text/plain": [
       "0.42802802802802803"
      ]
     },
     "execution_count": 19,
     "metadata": {},
     "output_type": "execute_result"
    }
   ],
   "source": [
    "# Pipeline to apply a random forest classifier: rf_cls\n",
    "rf_cls = Pipeline(steps=[(\"transformer\", transformer), (\"classifier\", RandomForestClassifier())])\n",
    "rf_cls.fit(X_train, y_train)\n",
    "rf_pred = rf_cls.predict(X_test)\n",
    "recall = recall_score(y_test, rf_pred)\n",
    "recall_scores[\"Random Forest\"] = recall\n",
    "recall"
   ]
  },
  {
   "cell_type": "markdown",
   "metadata": {},
   "source": [
    "#### 3.4.4.2 XG Boost<a id=\"XG_Boost\"></a>"
   ]
  },
  {
   "cell_type": "code",
   "execution_count": 34,
   "metadata": {},
   "outputs": [
    {
     "name": "stdout",
     "output_type": "stream",
     "text": [
      "[17:04:10] WARNING: /Users/travis/build/dmlc/xgboost/src/learner.cc:1061: Starting in XGBoost 1.3.0, the default evaluation metric used with the objective 'binary:logistic' was changed from 'error' to 'logloss'. Explicitly set eval_metric if you'd like to restore the old behavior.\n"
     ]
    },
    {
     "data": {
      "text/plain": [
       "0.45465465465465466"
      ]
     },
     "execution_count": 34,
     "metadata": {},
     "output_type": "execute_result"
    }
   ],
   "source": [
    "warnings.filterwarnings(\"ignore\")\n",
    "\n",
    "# Pipeline to apply an XG Boost classifier: xg_cls\n",
    "xg_cls = Pipeline(steps=[(\"transformer\", transformer), (\"classifier\", XGBClassifier(use_label_encoder=False))])\n",
    "xg_cls.fit(X_train, y_train)\n",
    "xg_pred = xg_cls.predict(X_test)\n",
    "recall = recall_score(y_test, xg_pred)\n",
    "recall_scores[\"XGBoost\"] = recall\n",
    "recall"
   ]
  },
  {
   "cell_type": "markdown",
   "metadata": {},
   "source": [
    "#### 3.4.4.3 K Nearest Neighbors (KNN) Classifier <a id=\"KNN_Classifier\"></a>"
   ]
  },
  {
   "cell_type": "code",
   "execution_count": 21,
   "metadata": {},
   "outputs": [
    {
     "data": {
      "text/plain": [
       "0.36956956956956954"
      ]
     },
     "execution_count": 21,
     "metadata": {},
     "output_type": "execute_result"
    }
   ],
   "source": [
    "# Pipeline to apply an KNN classifier: knn_cls\n",
    "knn_cls = Pipeline(steps=[(\"transformer\", transformer), (\"classifier\", KNeighborsClassifier())])\n",
    "knn_cls.fit(X_train, y_train)\n",
    "knn_pred = knn_cls.predict(X_test)\n",
    "recall = recall_score(y_test, knn_pred)\n",
    "recall_scores[\"KNN\"] = recall\n",
    "recall"
   ]
  },
  {
   "cell_type": "code",
   "execution_count": 32,
   "metadata": {},
   "outputs": [
    {
     "data": {
      "text/html": [
       "<div>\n",
       "<style scoped>\n",
       "    .dataframe tbody tr th:only-of-type {\n",
       "        vertical-align: middle;\n",
       "    }\n",
       "\n",
       "    .dataframe tbody tr th {\n",
       "        vertical-align: top;\n",
       "    }\n",
       "\n",
       "    .dataframe thead th {\n",
       "        text-align: right;\n",
       "    }\n",
       "</style>\n",
       "<table border=\"1\" class=\"dataframe\">\n",
       "  <thead>\n",
       "    <tr style=\"text-align: right;\">\n",
       "      <th></th>\n",
       "      <th>recall</th>\n",
       "    </tr>\n",
       "  </thead>\n",
       "  <tbody>\n",
       "    <tr>\n",
       "      <th>XGBoost</th>\n",
       "      <td>0.454655</td>\n",
       "    </tr>\n",
       "    <tr>\n",
       "      <th>Random Forest</th>\n",
       "      <td>0.428028</td>\n",
       "    </tr>\n",
       "    <tr>\n",
       "      <th>KNN</th>\n",
       "      <td>0.369570</td>\n",
       "    </tr>\n",
       "    <tr>\n",
       "      <th>Logistic Regression</th>\n",
       "      <td>0.299099</td>\n",
       "    </tr>\n",
       "    <tr>\n",
       "      <th>SVC</th>\n",
       "      <td>0.298799</td>\n",
       "    </tr>\n",
       "  </tbody>\n",
       "</table>\n",
       "</div>"
      ],
      "text/plain": [
       "                       recall\n",
       "XGBoost              0.454655\n",
       "Random Forest        0.428028\n",
       "KNN                  0.369570\n",
       "Logistic Regression  0.299099\n",
       "SVC                  0.298799"
      ]
     },
     "execution_count": 32,
     "metadata": {},
     "output_type": "execute_result"
    }
   ],
   "source": [
    "pd.DataFrame.from_dict(recall_scores, orient=\"index\", columns=[\"recall\"]).sort_values(by=\"recall\", ascending=False)"
   ]
  },
  {
   "cell_type": "markdown",
   "metadata": {},
   "source": [
    "As expected, we get the worst recall scores with the linear classifiers. \n",
    "\n",
    "Of the non-linear classifiers, XGBoost scores the best on recall. \n",
    "\n",
    "Now, let's adjust hyperparameters to try and get recall closer to 1. "
   ]
  },
  {
   "cell_type": "markdown",
   "metadata": {},
   "source": [
    "## 3.5 Hyperparameter Tuning<a id=\"Hyperparameter_Tuning\"></a>"
   ]
  },
  {
   "cell_type": "markdown",
   "metadata": {},
   "source": [
    "### 3.5.1 Number of Estimators<a id=\"N_Estimators\"></a>"
   ]
  },
  {
   "cell_type": "code",
   "execution_count": null,
   "metadata": {},
   "outputs": [],
   "source": [
    "model = XGBClassifier()\n",
    "n_estimators = range(50,500,50)\n",
    "param_grid = {\"n_estimators\":n_estimators}\n",
    "grid_search = GridSearchCV(model, param_grid, scoring=\"recall\", n_jobs=-1, cv=3)\n",
    "results = grid_search.fit(transformer.fit_transform(X_train), y_train)\n",
    "print(\"Best score:\", results.best_score_)\n",
    "print(\"Best number of estimators:\", results.best_params_)"
   ]
  },
  {
   "cell_type": "code",
   "execution_count": null,
   "metadata": {},
   "outputs": [],
   "source": []
  },
  {
   "cell_type": "code",
   "execution_count": null,
   "metadata": {},
   "outputs": [],
   "source": []
  },
  {
   "cell_type": "markdown",
   "metadata": {},
   "source": [
    "### 3.5.2 Tree Parameters<a id=\"Tree_Parameters\"></a>"
   ]
  },
  {
   "cell_type": "code",
   "execution_count": null,
   "metadata": {},
   "outputs": [],
   "source": []
  },
  {
   "cell_type": "code",
   "execution_count": null,
   "metadata": {},
   "outputs": [],
   "source": []
  },
  {
   "cell_type": "code",
   "execution_count": null,
   "metadata": {},
   "outputs": [],
   "source": []
  },
  {
   "cell_type": "code",
   "execution_count": null,
   "metadata": {},
   "outputs": [],
   "source": []
  },
  {
   "cell_type": "markdown",
   "metadata": {},
   "source": [
    "### 3.5.3 Regularization Parameters<a id=\"Regularization_Parameters\"></a>"
   ]
  },
  {
   "cell_type": "code",
   "execution_count": null,
   "metadata": {},
   "outputs": [],
   "source": []
  },
  {
   "cell_type": "markdown",
   "metadata": {},
   "source": []
  },
  {
   "cell_type": "code",
   "execution_count": 22,
   "metadata": {},
   "outputs": [],
   "source": [
    "# Save data to file\n",
    "#data.to_csv(\"../data/processed/pre_processing.csv\", index=False)"
   ]
  },
  {
   "cell_type": "code",
   "execution_count": 23,
   "metadata": {},
   "outputs": [],
   "source": [
    "# Save best model to pickle\n",
    "#pickle.dump(best_model)"
   ]
  }
 ],
 "metadata": {
  "kernelspec": {
   "display_name": "env",
   "language": "python",
   "name": "env"
  },
  "language_info": {
   "codemirror_mode": {
    "name": "ipython",
    "version": 3
   },
   "file_extension": ".py",
   "mimetype": "text/x-python",
   "name": "python",
   "nbconvert_exporter": "python",
   "pygments_lexer": "ipython3",
   "version": "3.8.2"
  }
 },
 "nbformat": 4,
 "nbformat_minor": 4
}
