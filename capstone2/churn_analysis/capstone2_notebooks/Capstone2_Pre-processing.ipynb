{
 "cells": [
  {
   "cell_type": "markdown",
   "metadata": {},
   "source": [
    "# Capstone 2 Pre-processing<a id=\"Pre-processing\"></a>"
   ]
  },
  {
   "cell_type": "markdown",
   "metadata": {},
   "source": [
    "note: will to look at .info() and change some datatypes... gender is a float rn. "
   ]
  },
  {
   "cell_type": "markdown",
   "metadata": {},
   "source": [
    "note: could create a \"seconds per day\" column"
   ]
  },
  {
   "cell_type": "markdown",
   "metadata": {},
   "source": [
    "## Table of Contents<a id='Table_of_Contents'></a>\n",
    "* [3 Pre-processing](#Pre-processing)\n",
    "    * [3.1 Imports](#Imports)\n",
    "        * [3.1.1 Import Libraries](#Import_Libraries)\n",
    "        * [3.1.2 Import Data](#Import_Data)          \n",
    "    \n",
    "    * [3.2 Feature_Engineering](#Feature_Engineering)\n",
    "        * [3.2.1 ](#)\n",
    "        \n",
    "    * [3.3 ](#)\n",
    "    \n",
    "    * [3.4 ](#)"
   ]
  },
  {
   "cell_type": "markdown",
   "metadata": {},
   "source": [
    "## 3.1 Imports<a id=\"Imports\"></a>"
   ]
  },
  {
   "cell_type": "markdown",
   "metadata": {},
   "source": [
    "### 3.1.1 Import Libraries<a id=\"Import_Libraries\"></a>"
   ]
  },
  {
   "cell_type": "code",
   "execution_count": 2,
   "metadata": {},
   "outputs": [],
   "source": [
    "import pandas as pd\n",
    "import numpy as np"
   ]
  },
  {
   "cell_type": "markdown",
   "metadata": {},
   "source": [
    "### 3.1.2 Import Data<a id=\"Import_Data\"></a>"
   ]
  },
  {
   "cell_type": "code",
   "execution_count": 3,
   "metadata": {},
   "outputs": [],
   "source": [
    "data = pd.read_csv(\"../data/processed/combined.csv\")"
   ]
  },
  {
   "cell_type": "code",
   "execution_count": 4,
   "metadata": {},
   "outputs": [
    {
     "name": "stdout",
     "output_type": "stream",
     "text": [
      "<class 'pandas.core.frame.DataFrame'>\n",
      "RangeIndex: 599990 entries, 0 to 599989\n",
      "Data columns (total 24 columns):\n",
      " #   Column                  Non-Null Count   Dtype  \n",
      "---  ------                  --------------   -----  \n",
      " 0   Unnamed: 0              599990 non-null  int64  \n",
      " 1   msno                    599990 non-null  object \n",
      " 2   transaction_date        599990 non-null  int64  \n",
      " 3   is_churn                599990 non-null  int64  \n",
      " 4   payment_method_id       599990 non-null  int64  \n",
      " 5   payment_plan_days       599990 non-null  int64  \n",
      " 6   plan_list_price         599990 non-null  int64  \n",
      " 7   actual_amount_paid      599990 non-null  int64  \n",
      " 8   is_auto_renew           599990 non-null  int64  \n",
      " 9   membership_expire_date  599990 non-null  int64  \n",
      " 10  is_cancel               599990 non-null  int64  \n",
      " 11  city                    599990 non-null  int64  \n",
      " 12  age                     599990 non-null  int64  \n",
      " 13  gender                  599990 non-null  float64\n",
      " 14  registered_via          599990 non-null  int64  \n",
      " 15  registration_init_time  599990 non-null  int64  \n",
      " 16  total_days              599990 non-null  int64  \n",
      " 17  total_num_25            599990 non-null  int64  \n",
      " 18  total_num_50            599990 non-null  int64  \n",
      " 19  total_num_75            599990 non-null  int64  \n",
      " 20  total_num_985           599990 non-null  int64  \n",
      " 21  total_num_100           599990 non-null  int64  \n",
      " 22  total_num_unique        599990 non-null  int64  \n",
      " 23  total_secs              599990 non-null  float64\n",
      "dtypes: float64(2), int64(21), object(1)\n",
      "memory usage: 109.9+ MB\n"
     ]
    }
   ],
   "source": [
    "data.info()"
   ]
  },
  {
   "cell_type": "code",
   "execution_count": 7,
   "metadata": {},
   "outputs": [
    {
     "name": "stdout",
     "output_type": "stream",
     "text": [
      "<class 'pandas.core.frame.DataFrame'>\n",
      "RangeIndex: 599990 entries, 0 to 599989\n",
      "Data columns (total 23 columns):\n",
      " #   Column                  Non-Null Count   Dtype  \n",
      "---  ------                  --------------   -----  \n",
      " 0   msno                    599990 non-null  object \n",
      " 1   transaction_date        599990 non-null  int64  \n",
      " 2   is_churn                599990 non-null  int64  \n",
      " 3   payment_method_id       599990 non-null  int64  \n",
      " 4   payment_plan_days       599990 non-null  int64  \n",
      " 5   plan_list_price         599990 non-null  int64  \n",
      " 6   actual_amount_paid      599990 non-null  int64  \n",
      " 7   is_auto_renew           599990 non-null  int64  \n",
      " 8   membership_expire_date  599990 non-null  int64  \n",
      " 9   is_cancel               599990 non-null  int64  \n",
      " 10  city                    599990 non-null  int64  \n",
      " 11  age                     599990 non-null  int64  \n",
      " 12  gender                  599990 non-null  int64  \n",
      " 13  registered_via          599990 non-null  int64  \n",
      " 14  registration_init_time  599990 non-null  int64  \n",
      " 15  total_days              599990 non-null  int64  \n",
      " 16  total_num_25            599990 non-null  int64  \n",
      " 17  total_num_50            599990 non-null  int64  \n",
      " 18  total_num_75            599990 non-null  int64  \n",
      " 19  total_num_985           599990 non-null  int64  \n",
      " 20  total_num_100           599990 non-null  int64  \n",
      " 21  total_num_unique        599990 non-null  int64  \n",
      " 22  total_secs              599990 non-null  float64\n",
      "dtypes: float64(1), int64(21), object(1)\n",
      "memory usage: 105.3+ MB\n"
     ]
    }
   ],
   "source": [
    "# convert gender column to int64 and drop \"Unnamed: 0\" column\n",
    "data = data.astype({\"gender\":\"int64\"}).drop(\"Unnamed: 0\", axis=1)\n",
    "data.info()"
   ]
  },
  {
   "cell_type": "code",
   "execution_count": 10,
   "metadata": {},
   "outputs": [
    {
     "data": {
      "text/html": [
       "<div>\n",
       "<style scoped>\n",
       "    .dataframe tbody tr th:only-of-type {\n",
       "        vertical-align: middle;\n",
       "    }\n",
       "\n",
       "    .dataframe tbody tr th {\n",
       "        vertical-align: top;\n",
       "    }\n",
       "\n",
       "    .dataframe thead th {\n",
       "        text-align: right;\n",
       "    }\n",
       "</style>\n",
       "<table border=\"1\" class=\"dataframe\">\n",
       "  <thead>\n",
       "    <tr style=\"text-align: right;\">\n",
       "      <th></th>\n",
       "      <th>0</th>\n",
       "    </tr>\n",
       "  </thead>\n",
       "  <tbody>\n",
       "    <tr>\n",
       "      <th>msno</th>\n",
       "      <td>++6xEqu4JANaRY4GjEfEFtLtqOvZvYPyP3uk/PW9Ces=</td>\n",
       "    </tr>\n",
       "    <tr>\n",
       "      <th>transaction_date</th>\n",
       "      <td>20170331</td>\n",
       "    </tr>\n",
       "    <tr>\n",
       "      <th>is_churn</th>\n",
       "      <td>0</td>\n",
       "    </tr>\n",
       "    <tr>\n",
       "      <th>payment_method_id</th>\n",
       "      <td>41</td>\n",
       "    </tr>\n",
       "    <tr>\n",
       "      <th>payment_plan_days</th>\n",
       "      <td>30</td>\n",
       "    </tr>\n",
       "    <tr>\n",
       "      <th>plan_list_price</th>\n",
       "      <td>99</td>\n",
       "    </tr>\n",
       "    <tr>\n",
       "      <th>actual_amount_paid</th>\n",
       "      <td>99</td>\n",
       "    </tr>\n",
       "    <tr>\n",
       "      <th>is_auto_renew</th>\n",
       "      <td>1</td>\n",
       "    </tr>\n",
       "    <tr>\n",
       "      <th>membership_expire_date</th>\n",
       "      <td>20170430</td>\n",
       "    </tr>\n",
       "    <tr>\n",
       "      <th>is_cancel</th>\n",
       "      <td>0</td>\n",
       "    </tr>\n",
       "    <tr>\n",
       "      <th>city</th>\n",
       "      <td>1</td>\n",
       "    </tr>\n",
       "    <tr>\n",
       "      <th>age</th>\n",
       "      <td>33</td>\n",
       "    </tr>\n",
       "    <tr>\n",
       "      <th>gender</th>\n",
       "      <td>1</td>\n",
       "    </tr>\n",
       "    <tr>\n",
       "      <th>registered_via</th>\n",
       "      <td>7</td>\n",
       "    </tr>\n",
       "    <tr>\n",
       "      <th>registration_init_time</th>\n",
       "      <td>20160501</td>\n",
       "    </tr>\n",
       "    <tr>\n",
       "      <th>total_days</th>\n",
       "      <td>9</td>\n",
       "    </tr>\n",
       "    <tr>\n",
       "      <th>total_num_25</th>\n",
       "      <td>18</td>\n",
       "    </tr>\n",
       "    <tr>\n",
       "      <th>total_num_50</th>\n",
       "      <td>3</td>\n",
       "    </tr>\n",
       "    <tr>\n",
       "      <th>total_num_75</th>\n",
       "      <td>0</td>\n",
       "    </tr>\n",
       "    <tr>\n",
       "      <th>total_num_985</th>\n",
       "      <td>2</td>\n",
       "    </tr>\n",
       "    <tr>\n",
       "      <th>total_num_100</th>\n",
       "      <td>38</td>\n",
       "    </tr>\n",
       "    <tr>\n",
       "      <th>total_num_unique</th>\n",
       "      <td>53</td>\n",
       "    </tr>\n",
       "    <tr>\n",
       "      <th>total_secs</th>\n",
       "      <td>9541.349</td>\n",
       "    </tr>\n",
       "  </tbody>\n",
       "</table>\n",
       "</div>"
      ],
      "text/plain": [
       "                                                                   0\n",
       "msno                    ++6xEqu4JANaRY4GjEfEFtLtqOvZvYPyP3uk/PW9Ces=\n",
       "transaction_date                                            20170331\n",
       "is_churn                                                           0\n",
       "payment_method_id                                                 41\n",
       "payment_plan_days                                                 30\n",
       "plan_list_price                                                   99\n",
       "actual_amount_paid                                                99\n",
       "is_auto_renew                                                      1\n",
       "membership_expire_date                                      20170430\n",
       "is_cancel                                                          0\n",
       "city                                                               1\n",
       "age                                                               33\n",
       "gender                                                             1\n",
       "registered_via                                                     7\n",
       "registration_init_time                                      20160501\n",
       "total_days                                                         9\n",
       "total_num_25                                                      18\n",
       "total_num_50                                                       3\n",
       "total_num_75                                                       0\n",
       "total_num_985                                                      2\n",
       "total_num_100                                                     38\n",
       "total_num_unique                                                  53\n",
       "total_secs                                                  9541.349"
      ]
     },
     "execution_count": 10,
     "metadata": {},
     "output_type": "execute_result"
    }
   ],
   "source": [
    "data.head(1).T"
   ]
  },
  {
   "cell_type": "markdown",
   "metadata": {},
   "source": [
    "## 3.2 Feature Engineering<a id=\"Feature_Engineering\"></a>"
   ]
  },
  {
   "cell_type": "code",
   "execution_count": 12,
   "metadata": {},
   "outputs": [],
   "source": [
    "# Calculate seconds listened per day: secs_per_day\n",
    "data[\"secs_per_day\"] = data.total_secs / data.total_days"
   ]
  },
  {
   "cell_type": "code",
   "execution_count": 14,
   "metadata": {},
   "outputs": [],
   "source": [
    "# Calculate each subscriber's plan's cost per day: cost_per_day\n",
    "data[\"cost_per_day\"] = data.actual_amount_paid / data.payment_plan_days"
   ]
  },
  {
   "cell_type": "code",
   "execution_count": 18,
   "metadata": {},
   "outputs": [],
   "source": [
    "# Mark if a subscriber is a new user, meaning that their registration date is in March 2017: is_new_user\n",
    "data[\"registration_init_time\"] = pd.to_datetime(data[\"registration_init_time\"]\n",
    "                                                     .astype(str), format=\"%Y%m%d\")\n",
    "\n",
    "new_users = (data[\"registration_init_time\"].dt.year==2017) & (data[\"registration_init_time\"].dt.month==3)\n",
    "new_users = new_users.replace({True:1, False:0})\n",
    "data[\"is_new_user\"] = new_users"
   ]
  },
  {
   "cell_type": "code",
   "execution_count": null,
   "metadata": {},
   "outputs": [],
   "source": []
  },
  {
   "cell_type": "code",
   "execution_count": null,
   "metadata": {},
   "outputs": [],
   "source": []
  },
  {
   "cell_type": "code",
   "execution_count": null,
   "metadata": {},
   "outputs": [],
   "source": []
  },
  {
   "cell_type": "code",
   "execution_count": null,
   "metadata": {},
   "outputs": [],
   "source": [
    "#X_train.to_csv(\"../data/processed/pre_processing.csv\")"
   ]
  }
 ],
 "metadata": {
  "kernelspec": {
   "display_name": "env",
   "language": "python",
   "name": "env"
  },
  "language_info": {
   "codemirror_mode": {
    "name": "ipython",
    "version": 3
   },
   "file_extension": ".py",
   "mimetype": "text/x-python",
   "name": "python",
   "nbconvert_exporter": "python",
   "pygments_lexer": "ipython3",
   "version": "3.8.2"
  }
 },
 "nbformat": 4,
 "nbformat_minor": 4
}
