{
 "cells": [
  {
   "cell_type": "markdown",
   "metadata": {},
   "source": [
    "# Capstone 2 Pre-processing<a id=\"Pre-processing\"></a>"
   ]
  },
  {
   "cell_type": "markdown",
   "metadata": {},
   "source": [
    "note: will to look at .info() and change some datatypes... gender is a float rn. "
   ]
  },
  {
   "cell_type": "markdown",
   "metadata": {},
   "source": [
    "note: could create a \"seconds per day\" column"
   ]
  },
  {
   "cell_type": "markdown",
   "metadata": {},
   "source": [
    "## Table of Contents<a id='Table_of_Contents'></a>\n",
    "* [3 Pre-processing](#Pre-processing)\n",
    "    * [3.1 Imports](#Imports)\n",
    "        * [3.1.1 Import Libraries](#Import_Libraries)\n",
    "        * [3.1.2 Import Data](#Import_Data)          \n",
    "    \n",
    "    * [3.2 ](#)\n",
    "        * [3.2.1 ](#)\n",
    "        \n",
    "    * [3.3 ](#)\n",
    "    \n",
    "    * [3.4 ](#)"
   ]
  },
  {
   "cell_type": "markdown",
   "metadata": {},
   "source": [
    "## 3.1 Imports<a id=\"Imports\"></a>"
   ]
  },
  {
   "cell_type": "markdown",
   "metadata": {},
   "source": [
    "### 3.1.1 Import Libraries<a id=\"Import_Libraries\"></a>"
   ]
  },
  {
   "cell_type": "code",
   "execution_count": 2,
   "metadata": {},
   "outputs": [],
   "source": [
    "import pandas as pd\n",
    "import numpy as np\n",
    "\n",
    "from sklearn.model_selection import train_test_split\n",
    "from sklearn.preprocessing import StandardScaler"
   ]
  },
  {
   "cell_type": "markdown",
   "metadata": {},
   "source": [
    "### 3.1.2 Import Data<a id=\"Import_Data\"></a>"
   ]
  },
  {
   "cell_type": "code",
   "execution_count": 3,
   "metadata": {},
   "outputs": [],
   "source": [
    "data = pd.read_csv(\"../data/processed/combined.csv\")"
   ]
  },
  {
   "cell_type": "code",
   "execution_count": 4,
   "metadata": {},
   "outputs": [
    {
     "name": "stdout",
     "output_type": "stream",
     "text": [
      "<class 'pandas.core.frame.DataFrame'>\n",
      "RangeIndex: 599990 entries, 0 to 599989\n",
      "Data columns (total 24 columns):\n",
      " #   Column                  Non-Null Count   Dtype  \n",
      "---  ------                  --------------   -----  \n",
      " 0   Unnamed: 0              599990 non-null  int64  \n",
      " 1   msno                    599990 non-null  object \n",
      " 2   transaction_date        599990 non-null  int64  \n",
      " 3   is_churn                599990 non-null  int64  \n",
      " 4   payment_method_id       599990 non-null  int64  \n",
      " 5   payment_plan_days       599990 non-null  int64  \n",
      " 6   plan_list_price         599990 non-null  int64  \n",
      " 7   actual_amount_paid      599990 non-null  int64  \n",
      " 8   is_auto_renew           599990 non-null  int64  \n",
      " 9   membership_expire_date  599990 non-null  int64  \n",
      " 10  is_cancel               599990 non-null  int64  \n",
      " 11  city                    599990 non-null  int64  \n",
      " 12  age                     599990 non-null  int64  \n",
      " 13  gender                  599990 non-null  float64\n",
      " 14  registered_via          599990 non-null  int64  \n",
      " 15  registration_init_time  599990 non-null  int64  \n",
      " 16  total_days              599990 non-null  int64  \n",
      " 17  total_num_25            599990 non-null  int64  \n",
      " 18  total_num_50            599990 non-null  int64  \n",
      " 19  total_num_75            599990 non-null  int64  \n",
      " 20  total_num_985           599990 non-null  int64  \n",
      " 21  total_num_100           599990 non-null  int64  \n",
      " 22  total_num_unique        599990 non-null  int64  \n",
      " 23  total_secs              599990 non-null  float64\n",
      "dtypes: float64(2), int64(21), object(1)\n",
      "memory usage: 109.9+ MB\n"
     ]
    }
   ],
   "source": [
    "data.info()"
   ]
  },
  {
   "cell_type": "code",
   "execution_count": null,
   "metadata": {},
   "outputs": [],
   "source": [
    "# convert gender column to int64\n"
   ]
  },
  {
   "cell_type": "code",
   "execution_count": null,
   "metadata": {},
   "outputs": [],
   "source": [
    "data.head()"
   ]
  },
  {
   "cell_type": "code",
   "execution_count": null,
   "metadata": {},
   "outputs": [],
   "source": []
  },
  {
   "cell_type": "code",
   "execution_count": null,
   "metadata": {},
   "outputs": [],
   "source": []
  },
  {
   "cell_type": "code",
   "execution_count": null,
   "metadata": {},
   "outputs": [],
   "source": []
  },
  {
   "cell_type": "code",
   "execution_count": null,
   "metadata": {},
   "outputs": [],
   "source": [
    "#X_train.to_csv(\"../data/processed/X_train.csv\")\n",
    "#y_train.to_csv(\"../data/processed/y_train.csv\")\n",
    "#X_test.to_csv(\"../data/processed/X_test.csv\")\n",
    "#y_test.to_csv(\"../data/processed/y_test.csv\")"
   ]
  }
 ],
 "metadata": {
  "kernelspec": {
   "display_name": "env",
   "language": "python",
   "name": "env"
  },
  "language_info": {
   "codemirror_mode": {
    "name": "ipython",
    "version": 3
   },
   "file_extension": ".py",
   "mimetype": "text/x-python",
   "name": "python",
   "nbconvert_exporter": "python",
   "pygments_lexer": "ipython3",
   "version": "3.8.2"
  }
 },
 "nbformat": 4,
 "nbformat_minor": 4
}
