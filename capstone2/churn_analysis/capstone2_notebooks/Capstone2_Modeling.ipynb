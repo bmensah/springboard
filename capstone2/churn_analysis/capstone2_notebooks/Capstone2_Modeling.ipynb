{
 "cells": [
  {
   "cell_type": "markdown",
   "metadata": {},
   "source": [
    "# Capstone 2 Modeling<a id='Modeling'></a>"
   ]
  },
  {
   "cell_type": "markdown",
   "metadata": {},
   "source": [
    "## Table of Contents<a id='Table_of_Contents'></a>\n",
    "* [4 Modeling](#Modeling)\n",
    "    * [4.1 Imports](#Imports)\n",
    "        * [4.1.1 Import Libraries](#Import_Libraries)\n",
    "        * [4.1.2 Import Data](#Import_Data)\n",
    "        * [4.1.3 Import Models](#Import_Models)\n",
    "    \n",
    "    * [4.2 Hyperparameter Tuning](#Hyperparameter_Tuning)\n",
    "        * [4.2.1 Random Search](#Random_Search)\n",
    "        * [4.2.2 Bayesian Optimization](#Bayesian_Optimization)\n",
    "    \n",
    "    * [4.3 Confusion Matrix](#Confusion_Matrix)\n",
    "    \n",
    "    * [4.4 Classification Report](#Classification_Report)\n",
    "            \n",
    "    * [4.5 Modeling_Scenarios](#Modeling_Scenarios)\n",
    "        * [4.5.1 Providing Discounts](#Providing_Discounts)\n",
    "        * [4.5.2 Increasing User Engagement](#Increasing_User_Engagement)\n",
    "        * [4.5.3 Smaller Plans](#Smaller_Plans)\n"
   ]
  },
  {
   "cell_type": "markdown",
   "metadata": {},
   "source": [
    "## 4.1 Imports<a id=\"Imports\"></a>"
   ]
  },
  {
   "cell_type": "markdown",
   "metadata": {},
   "source": [
    "### 4.1.1 Import Libraries<a id=\"Import_Libraries\"></a>"
   ]
  },
  {
   "cell_type": "code",
   "execution_count": 1,
   "metadata": {},
   "outputs": [],
   "source": [
    "import json\n",
    "import pickle\n",
    "import pandas as pd\n",
    "import seaborn as sns\n",
    "import matplotlib.pyplot as plt\n",
    "import xgboost as xgb\n",
    "from sklearn.metrics import recall_score, plot_roc_curve, confusion_matrix, classification_report\n",
    "from sklearn.model_selection import train_test_split"
   ]
  },
  {
   "cell_type": "markdown",
   "metadata": {},
   "source": [
    "### 4.1.2 Import Data<a id=\"Import_Data\"></a>"
   ]
  },
  {
   "cell_type": "code",
   "execution_count": 2,
   "metadata": {},
   "outputs": [],
   "source": [
    "# Read in X_train and y_train\n",
    "X_train = pd.read_csv(\"../data/processed/X_train.csv\")\n",
    "y_train = pd.read_csv(\"../data/processed/y_train.csv\")"
   ]
  },
  {
   "cell_type": "code",
   "execution_count": 3,
   "metadata": {},
   "outputs": [],
   "source": [
    "# Read in X_test and y_test \n",
    "X_test = pd.read_csv(\"../data/processed/X_test.csv\")\n",
    "y_test = pd.read_csv(\"../data/processed/y_test.csv\")"
   ]
  },
  {
   "cell_type": "markdown",
   "metadata": {},
   "source": [
    "### 4.1.3 Import Models<a id=\"Import_Models\"></a>"
   ]
  },
  {
   "cell_type": "code",
   "execution_count": 4,
   "metadata": {},
   "outputs": [],
   "source": [
    "# Model with hyperparameters chosen by random search\n",
    "rs_filepath = \"../models/rs_model.pkl\"\n",
    "with open(rs_filepath, \"rb\") as f:\n",
    "    rs_model = pickle.load(f)\n",
    "\n",
    "# Model with hyperparameters chosen by Bayesian optimization\n",
    "bo_filepath = \"../models/bo_model.pkl\"\n",
    "with open(bo_filepath, \"rb\") as f:\n",
    "    bo_model = pickle.load(f)"
   ]
  },
  {
   "cell_type": "markdown",
   "metadata": {},
   "source": [
    "## 4.2 Hyperparameter Tuning<a id=\"Hyperparameter Tuning\"></a>"
   ]
  },
  {
   "cell_type": "markdown",
   "metadata": {},
   "source": [
    "The following hyperparameters ranges were set: \n",
    "\n",
    "* eta (learning_rate): between 0.3 and 0.9\n",
    "* max_depth: between 1 and 9\n",
    "* min_child_weight: between 1 and 7\n",
    "* colsample_bytree: between 0.1 and 0.8\n",
    "* gamma: between 0.1 and 0.5\n",
    "\n",
    "We searched this hyperspace using random search and Bayesian optimization on Google Cloud Platform (GCP). \n",
    "\n",
    "Code for this can be found here: https://github.com/bmensah/springboard/tree/main/capstone2/churn_analysis/src "
   ]
  },
  {
   "cell_type": "code",
   "execution_count": 5,
   "metadata": {},
   "outputs": [],
   "source": [
    "def show_params(model, param_list):\n",
    "    \"\"\"\n",
    "    Given an xgboost model, print out the parameters listed in param list\n",
    "    \"\"\"\n",
    "    param_dict = model.get_xgb_params()\n",
    "    for param in param_list:\n",
    "        print(param, \" = \", param_dict[param])"
   ]
  },
  {
   "cell_type": "code",
   "execution_count": 6,
   "metadata": {},
   "outputs": [],
   "source": [
    "param_list = [\"eta\",\"max_depth\",\"min_child_weight\", \"colsample_bytree\", \"gamma\"]"
   ]
  },
  {
   "cell_type": "markdown",
   "metadata": {},
   "source": [
    "### 4.2.1 Random Search<a id=\"Random_Search\"></a>"
   ]
  },
  {
   "cell_type": "code",
   "execution_count": 7,
   "metadata": {},
   "outputs": [
    {
     "name": "stdout",
     "output_type": "stream",
     "text": [
      "Train set performance:  0.674421539755995\n",
      "Test set performance:  0.6417417417417417\n"
     ]
    }
   ],
   "source": [
    "# Get train set performance\n",
    "y_pred_train = rs_model.predict(X_train)\n",
    "print(\"Train set performance: \", recall_score(y_train, y_pred_train))\n",
    "\n",
    "# Get test set performance\n",
    "y_pred_test = rs_model.predict(X_test)\n",
    "print(\"Test set performance: \", recall_score(y_test, y_pred_test))"
   ]
  },
  {
   "cell_type": "code",
   "execution_count": 8,
   "metadata": {},
   "outputs": [
    {
     "name": "stdout",
     "output_type": "stream",
     "text": [
      "eta  =  0.634041033809039\n",
      "max_depth  =  6\n",
      "min_child_weight  =  6\n",
      "colsample_bytree  =  0.6101575342997179\n",
      "gamma  =  0.4770061367832197\n"
     ]
    }
   ],
   "source": [
    "# Best parameters chosen by random search \n",
    "show_params(rs_model, param_list)"
   ]
  },
  {
   "cell_type": "code",
   "execution_count": 9,
   "metadata": {},
   "outputs": [
    {
     "data": {
      "image/png": "[encoded data removed]",
      "text/plain": [
       "<Figure size 432x288 with 1 Axes>"
      ]
     },
     "metadata": {
      "needs_background": "light"
     },
     "output_type": "display_data"
    }
   ],
   "source": [
    "# ROC-AUC curve of model based on test set\n",
    "plot_roc_curve(rs_model, X_test, y_test);"
   ]
  },
  {
   "cell_type": "markdown",
   "metadata": {},
   "source": [
    "### 4.2.2 Bayesian Optimization<a id=\"Bayesian_Optimization\"></a>"
   ]
  },
  {
   "cell_type": "code",
   "execution_count": 10,
   "metadata": {},
   "outputs": [
    {
     "name": "stdout",
     "output_type": "stream",
     "text": [
      "Train set performance:  0.6649137568363483\n",
      "Test set performance:  0.6423423423423423\n"
     ]
    }
   ],
   "source": [
    "# Get train set performance\n",
    "y_pred_train = bo_model.predict(X_train)\n",
    "print(\"Train set performance: \", recall_score(y_train, y_pred_train))\n",
    "\n",
    "# Get test set performance\n",
    "y_pred_test = bo_model.predict(X_test)\n",
    "print(\"Test set performance: \", recall_score(y_test, y_pred_test))"
   ]
  },
  {
   "cell_type": "code",
   "execution_count": 11,
   "metadata": {},
   "outputs": [
    {
     "name": "stdout",
     "output_type": "stream",
     "text": [
      "eta  =  0.6000000000000001\n",
      "max_depth  =  5\n",
      "min_child_weight  =  4\n",
      "colsample_bytree  =  0.45000000000000007\n",
      "gamma  =  0.30000000000000004\n"
     ]
    }
   ],
   "source": [
    "# Best parameters chosen by Bayesian optimization \n",
    "show_params(bo_model, param_list)"
   ]
  },
  {
   "cell_type": "code",
   "execution_count": 12,
   "metadata": {},
   "outputs": [
    {
     "data": {
      "image/png": "[encoded data removed]",
      "text/plain": [
       "<Figure size 432x288 with 1 Axes>"
      ]
     },
     "metadata": {
      "needs_background": "light"
     },
     "output_type": "display_data"
    }
   ],
   "source": [
    "# ROC-AUC curve of model based on test set\n",
    "plot_roc_curve(bo_model, X_test, y_test);"
   ]
  },
  {
   "cell_type": "markdown",
   "metadata": {},
   "source": [
    "The metrics are essentially the same across the board, with both models scoring a recall of 0.642 on the test set and an AUC of 0.97. "
   ]
  },
  {
   "cell_type": "markdown",
   "metadata": {},
   "source": [
    "## 4.3 Confusion Matrix<a id=\"Confusion_Matrix\"></a>"
   ]
  },
  {
   "cell_type": "code",
   "execution_count": 13,
   "metadata": {},
   "outputs": [],
   "source": [
    "y_pred = bo_model.predict(X_test)\n",
    "pl = confusion_matrix(y_test,y_pred)"
   ]
  },
  {
   "cell_type": "code",
   "execution_count": 14,
   "metadata": {},
   "outputs": [
    {
     "data": {
      "image/png": "[encoded data removed]",
      "text/plain": [
       "<Figure size 432x288 with 2 Axes>"
      ]
     },
     "metadata": {
      "needs_background": "light"
     },
     "output_type": "display_data"
    }
   ],
   "source": [
    "label = [\"Renew\", \"Churn\"]\n",
    "sns.heatmap(pl, annot=True, fmt='.6g', cmap='Blues', square=True, xticklabels=label, yticklabels=label)\n",
    "plt.xlabel(\"Predicted\", fontsize=14)\n",
    "plt.ylabel(\"True\", fontsize=14)\n",
    "plt.show();"
   ]
  },
  {
   "cell_type": "markdown",
   "metadata": {},
   "source": [
    "## 4.4 Classification Report<a id=\"Classification_Report\"></a>"
   ]
  },
  {
   "cell_type": "code",
   "execution_count": 15,
   "metadata": {},
   "outputs": [
    {
     "name": "stdout",
     "output_type": "stream",
     "text": [
      "              precision    recall  f1-score   support\n",
      "\n",
      "       Renew       0.98      0.99      0.99    170007\n",
      "       Churn       0.88      0.64      0.74      9990\n",
      "\n",
      "    accuracy                           0.98    179997\n",
      "   macro avg       0.93      0.82      0.86    179997\n",
      "weighted avg       0.97      0.98      0.97    179997\n",
      "\n"
     ]
    }
   ],
   "source": [
    "report = classification_report(y_test, y_pred, target_names=[\"Renew\", \"Churn\"])\n",
    "print(report)"
   ]
  },
  {
   "cell_type": "markdown",
   "metadata": {},
   "source": [
    "## 4.5 Modeling Scenarios<a id=\"Modeling_Scenarios\"></a>"
   ]
  },
  {
   "cell_type": "markdown",
   "metadata": {},
   "source": [
    "Let's first revisit our Problem Statement: \n",
    "\n",
    "__What opportunities exist for KKBox to decrease the percentage of subscribers who churn by 50% in the upcoming month (April 2017) through targeted marketing campaigns, discounts, or new app features?__\n",
    "\n",
    "With this goal in mind, let's examine KKBox's current situation. "
   ]
  },
  {
   "cell_type": "markdown",
   "metadata": {},
   "source": [
    "This chart of the number of new subscribers added each month since KKBox's founding in 2004 reveals that while overall the number of new subscribers has been increasing, there has been a sharp downward trend in recent months:"
   ]
  },
  {
   "cell_type": "code",
   "execution_count": 16,
   "metadata": {},
   "outputs": [
    {
     "data": {
      "image/png": "[encoded data removed]",
      "text/plain": [
       "<Figure size 720x576 with 1 Axes>"
      ]
     },
     "metadata": {
      "needs_background": "light"
     },
     "output_type": "display_data"
    }
   ],
   "source": [
    "# Read in members_v3.csv file\n",
    "members_df = pd.read_csv(\"../data/raw/members_v3.csv\")\n",
    "\n",
    "# Find the number of new subscribers who registered each month \n",
    "members_df[\"registration_init_time\"] = pd.to_datetime(members_df[\"registration_init_time\"], format=\"%Y%m%d\")\n",
    "monthly_new_users = {}\n",
    "for year in range(2004, 2017+1):\n",
    "    for month in range(1, 12+1):\n",
    "        num_new_users = sum((members_df[\"registration_init_time\"].dt.year==year) & \\\n",
    "                         (members_df[\"registration_init_time\"].dt.month==month))\n",
    "        monthly_new_users[(year,month)] = num_new_users\n",
    "        \n",
    "# Graph the number of new users added each month \n",
    "new_users_df = pd.DataFrame.from_dict(monthly_new_users, orient=\"index\", columns=[\"new_users\"])\n",
    "\n",
    "# drop months at the extremities that have no data, as well as our current month\n",
    "new_users_df = new_users_df[new_users_df.new_users>0].drop((2017,3))\n",
    "\n",
    "new_users_df.plot(figsize=(10,8),grid=True)\n",
    "plt.xlabel(\"Month\")\n",
    "plt.ylabel(\"Number of new users\")\n",
    "plt.show();"
   ]
  },
  {
   "cell_type": "markdown",
   "metadata": {},
   "source": [
    "Furthermore, the percentage of new subscribers who churn is significantly higher than the percentage of older subscribrs who churn. Thus, at the same time that the number of new subscribers is dwindling, those who do sign up for the service are churning at higher rates: "
   ]
  },
  {
   "cell_type": "code",
   "execution_count": 48,
   "metadata": {},
   "outputs": [],
   "source": [
    "# Read in fully wrangled dataset \n",
    "original_data = pd.read_csv(\"../data/processed/combined.csv\")\n",
    "dtype_map = pd.read_csv(\"../data/processed/dtype_map.csv\", index_col=\"feature\").to_dict()[\"type\"]\n",
    "original_data = original_data.astype(dtype_map)"
   ]
  },
  {
   "cell_type": "code",
   "execution_count": 49,
   "metadata": {},
   "outputs": [
    {
     "name": "stdout",
     "output_type": "stream",
     "text": [
      "Percent of subscribers who both registered and churned in March 2017: 18.22%\n",
      "Percent of subscribers who churned overall: 5.63%\n"
     ]
    },
    {
     "data": {
      "image/png": "[encoded data removed]",
      "text/plain": [
       "<Figure size 432x288 with 1 Axes>"
      ]
     },
     "metadata": {
      "needs_background": "light"
     },
     "output_type": "display_data"
    }
   ],
   "source": [
    "# Number subscribers who both registered and churned in March 2017\n",
    "first_time = original_data[(original_data[\"registration_init_time\"].dt.year==2017) & \\\n",
    "                           (original_data[\"registration_init_time\"].dt.month==3)]\n",
    "new_user_pct_churn = (first_time.is_churn.value_counts()[1] / first_time.shape[0])*100\n",
    "overall_pct_churn = (original_data.is_churn.value_counts()[1] / original_data.shape[0])*100\n",
    "print(\"Percent of subscribers who both registered and churned in March 2017: {:.2f}%\".format(new_user_pct_churn))\n",
    "print(\"Percent of subscribers who churned overall: {:.2f}%\".format(overall_pct_churn))\n",
    "\n",
    "# Graph comparing percent churn in March 2017 to churn overall\n",
    "compare_churn = pd.DataFrame.from_dict({\"March 2017\":new_user_pct_churn, \"overall\":overall_pct_churn}, \n",
    "                                           orient=\"index\", columns=[\"percent churn\"])\n",
    "compare_churn.plot(kind=\"bar\", ylabel=\"percent churn\", legend=None);"
   ]
  },
  {
   "cell_type": "markdown",
   "metadata": {},
   "source": [
    "The combination of these challenges makes an adjustment to KKBox's strategy for retaining subscribers all the more essential to implement as soon as possible. Let's model three situations to determine which changes could help us achieve our goal as described in the problem statement, reducing churn by 50% in April 2017. \n",
    "\n",
    "Since the overall churn for March 2017 was 5.63%, __we are looking for a scenario where churn can be reduced to at least 2.82%__ "
   ]
  },
  {
   "cell_type": "code",
   "execution_count": 33,
   "metadata": {},
   "outputs": [],
   "source": [
    "# Function to test new scenarios\n",
    "def scenario(columns, change, model=bo_model, test_data=X_test, old_pred=y_pred):\n",
    "    \"\"\"\n",
    "    Given columns and a change, applys change to given columns in test set\n",
    "    Parameters:\n",
    "        columns: columns to apply change to in order to model a scenario\n",
    "         change: value to multiply the given columns by to simulate a change\n",
    "          model: defaults to the xgboost model tuned by Bayesian optimization as defined above\n",
    "           data: defaults to a copy of the test data with a \"churn_risk\" column to identify \n",
    "                   subscribers at risk of churn\n",
    "       old_pred: defaults to predicted churn by xgboost model \n",
    "       \n",
    "    Returns:\n",
    "        Dataframe with changes for the scenario applied\n",
    "        prints three statements:\n",
    "            1. amount of churn predicted without the changes\n",
    "            2. about of churn with changes applied\n",
    "            3. percent difference in churn\n",
    "            \n",
    "    \"\"\"\n",
    "    # Copy test data so we don't make changes to the original test dataset \n",
    "    data = test_data.copy()\n",
    "    data[\"churn_risk\"] = old_pred\n",
    "    mask = data[\"churn_risk\"]==1\n",
    "    data.loc[mask, columns] = data.loc[mask, columns] * change\n",
    "    data = data.drop(\"churn_risk\", axis=1)\n",
    "    new_pred = model.predict(data)\n",
    "    print(\"Total churn in test set without change:\", sum(old_pred))\n",
    "    print(\"Total churn in test set with change:\", sum(new_pred))\n",
    "    count = data.shape[0]\n",
    "    pct_decrease = (sum(old_pred)/count)*100 - (sum(new_pred)/count)*100\n",
    "    print(\"Percent decrease in churn: {:.2f}%\".format(pct_decrease))\n",
    "    return data\n",
    "    "
   ]
  },
  {
   "cell_type": "markdown",
   "metadata": {},
   "source": [
    "### 4.5.1 Providing Discounts<a id=\"Providing_Discounts\"></a>"
   ]
  },
  {
   "cell_type": "markdown",
   "metadata": {},
   "source": [
    "We will apply a 50% discount to the subscribers that our model predicted will churn, the predict churn again. "
   ]
  },
  {
   "cell_type": "code",
   "execution_count": 35,
   "metadata": {},
   "outputs": [
    {
     "name": "stdout",
     "output_type": "stream",
     "text": [
      "Total churn in test set without change: 7299\n",
      "Total churn in test set with change: 7032\n",
      "Percent decrease in churn: 0.15%\n"
     ]
    }
   ],
   "source": [
    "discounts = scenario(\"actual_amount_paid\", 0.5);"
   ]
  },
  {
   "cell_type": "markdown",
   "metadata": {},
   "source": [
    "Giving subscribers at risk of churn a 50% discount made no change in their likelyhood to churn. This result corroborates our observations in the EDA stage, were we saw that of the 634 subscribers who had been given discounts, over 400 churned while just under 200 renewed. \n",
    "\n",
    "Giving discounts does not have an effect on churn, but what if subscribers at risk of churn got a month of service for free? "
   ]
  },
  {
   "cell_type": "code",
   "execution_count": 29,
   "metadata": {},
   "outputs": [
    {
     "name": "stdout",
     "output_type": "stream",
     "text": [
      "Total churn in test set without change: 7299\n",
      "Total churn in test set with change: 6976\n",
      "Percent decrease in churn: 0.18%\n"
     ]
    }
   ],
   "source": [
    "free = scenario(\"actual_amount_paid\", 0);"
   ]
  },
  {
   "cell_type": "markdown",
   "metadata": {},
   "source": [
    "While this solution does reduce churn, the ultimate goal is to increase revenue, so giving free subscriptions cannot be a long term solution to churn. Further analysis should be done to test if subscribers at risk of churn who are given a free month will renew the service at a regular rate once their free month ends. "
   ]
  },
  {
   "cell_type": "markdown",
   "metadata": {},
   "source": [
    "### 4.5.2 Increasing User Engagement<a id=\"Increasing_User_Engagement\"></a>"
   ]
  },
  {
   "cell_type": "markdown",
   "metadata": {},
   "source": [
    "In EDA, we saw that user engagement did not appear to have a significant impact on likelyhood of churning. Let's test if that holds true for our models predictions by multiplying the amount of time the users at risk of churn spend on the app by 2. "
   ]
  },
  {
   "cell_type": "code",
   "execution_count": 40,
   "metadata": {},
   "outputs": [
    {
     "name": "stdout",
     "output_type": "stream",
     "text": [
      "Total churn in test set without change: 7299\n",
      "Total churn in test set with change: 6942\n",
      "Percent decrease in churn: 0.20%\n"
     ]
    }
   ],
   "source": [
    "user_logs = ['total_num_25', 'total_num_50', 'total_num_75',\n",
    "       'total_num_985', 'total_num_100', 'total_num_unique']\n",
    "\n",
    "more_engagement = scenario(user_logs, 2);"
   ]
  },
  {
   "cell_type": "markdown",
   "metadata": {},
   "source": [
    "### 4.5.3 Smaller Plans<a id=\"Smaller_Plans\"></a>"
   ]
  },
  {
   "cell_type": "markdown",
   "metadata": {},
   "source": [
    "In the EDA stage, we observed that users who churned were paying three times as much for their subscriptions and had signed up for plans lasting three times as long. Let's reduce the plan length and amount paid for subsribers at risk of churn to a third of the original amounts: "
   ]
  },
  {
   "cell_type": "code",
   "execution_count": 32,
   "metadata": {},
   "outputs": [
    {
     "name": "stdout",
     "output_type": "stream",
     "text": [
      "Total churn in test set without change: 7299\n",
      "Total churn in test set with change: 6737\n",
      "Percent decrease in churn: 0.31%\n"
     ]
    }
   ],
   "source": [
    "smaller_plans = scenario([\"payment_plan_days\", \"plan_list_price\", \"actual_amount_paid\"], 0.33)"
   ]
  },
  {
   "cell_type": "markdown",
   "metadata": {},
   "source": [
    "### 4.5.4 Multiple Scenarios<a id=\"Multiple_Scenarios\"></a>"
   ]
  },
  {
   "cell_type": "markdown",
   "metadata": {},
   "source": [
    "None of these scenarios alone are able to reduce churn by our desired 2.82%, but perhaps a combination of them would lead to some success. Let's combine the two most successful scenarios, increasing user enagagement and switching users to smaller plans:"
   ]
  },
  {
   "cell_type": "code",
   "execution_count": 42,
   "metadata": {},
   "outputs": [
    {
     "name": "stdout",
     "output_type": "stream",
     "text": [
      "Total churn in test set without change: 7299\n",
      "Total churn in test set with change: 6539\n",
      "Percent decrease in churn: 0.42%\n"
     ]
    }
   ],
   "source": [
    "multiple = scenario([\"payment_plan_days\", \"plan_list_price\", \"actual_amount_paid\"], 0.33, test_data=more_engagement);"
   ]
  },
  {
   "cell_type": "code",
   "execution_count": null,
   "metadata": {},
   "outputs": [],
   "source": []
  },
  {
   "cell_type": "code",
   "execution_count": null,
   "metadata": {},
   "outputs": [],
   "source": []
  }
 ],
 "metadata": {
  "kernelspec": {
   "display_name": "env",
   "language": "python",
   "name": "env"
  },
  "language_info": {
   "codemirror_mode": {
    "name": "ipython",
    "version": 3
   },
   "file_extension": ".py",
   "mimetype": "text/x-python",
   "name": "python",
   "nbconvert_exporter": "python",
   "pygments_lexer": "ipython3",
   "version": "3.8.2"
  }
 },
 "nbformat": 4,
 "nbformat_minor": 4
}
