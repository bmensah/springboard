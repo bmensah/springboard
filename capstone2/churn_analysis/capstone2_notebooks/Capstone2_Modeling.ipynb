{
 "cells": [
  {
   "cell_type": "markdown",
   "metadata": {},
   "source": [
    "# Capstone 2 Modeling<a id='Modeling'></a>"
   ]
  },
  {
   "cell_type": "markdown",
   "metadata": {},
   "source": [
    "## Table of Contents<a id='Table_of_Contents'></a>\n",
    "* [4 Modeling](#Modeling)\n",
    "    * [4.1 Imports](#Imports)\n",
    "        * [4.1.1 Import Libraries](#Import_Libraries)\n",
    "        * [4.1.2 Import Data](#Import_Data)\n",
    "        * [4.1.3 Import Models](#Import_Models)\n",
    "    \n",
    "    * [4.2 Hyperparameter Tuning](#Hyperparameter_Tuning)\n",
    "        * [4.2.1 Random Search](#Random_Search)\n",
    "        * [4.2.2 Bayesian Optimization](#Bayesian_Optimization)\n",
    "    \n",
    "    * [4.3 Confusion Matrix](#Confusion_Matrix)\n",
    "    \n",
    "    * [4.4 Classification Report](#Classification_Report)\n",
    "    \n",
    "    * [4.5 Feature Importance](#Feature_Importance)\n",
    "            \n",
    "    * [4.6 Modeling_Scenarios](#Modeling_Scenarios)\n",
    "        * [4.6.1 Providing Discounts](#Providing_Discounts)\n",
    "        * [4.6.2 Increasing User Engagement](#Increasing_User_Engagement)\n",
    "        * [4.6.3 Smaller Plans](#Smaller_Plans)\n",
    "        * [4.6.4 Auto-Renew](#Auto-Renew)\n",
    "        * [4.6.5 Combining_Scenarios](#Combining_Scenarios)\n",
    "            * [4.6.5.1 Auto-Renew and Smaller Plans](#Auto-Renew_and_Smaller_Plans)\n",
    "            * [4.6.5.2 Auto-Renew and Discount](#Auto-Renew_and_Discount)\n",
    "            * [4.6.5.3 Auto-Renew and Increasing Engagement](#Auto-Renew_and_Increasing_Engagement)\n",
    "            * [4.6.5.4 All_Four_Scenarios](#All_Four_Scenarios)\n",
    "        \n",
    "    * [4.7 Statistical Significance](#Statistical_Significance)\n",
    "    * [4.8 Estimating Revenue](#Estimating_Revenue)\n",
    "    * [4.9 Conclusions](#Conclusions)\n",
    "       \n"
   ]
  },
  {
   "cell_type": "markdown",
   "metadata": {},
   "source": [
    "## 4.1 Imports<a id=\"Imports\"></a>"
   ]
  },
  {
   "cell_type": "markdown",
   "metadata": {},
   "source": [
    "### 4.1.1 Import Libraries<a id=\"Import_Libraries\"></a>"
   ]
  },
  {
   "cell_type": "code",
   "execution_count": 1,
   "metadata": {},
   "outputs": [],
   "source": [
    "import json\n",
    "import pickle\n",
    "import pandas as pd\n",
    "import seaborn as sns\n",
    "import matplotlib.pyplot as plt\n",
    "import xgboost as xgb\n",
    "\n",
    "from sklearn.metrics import recall_score, plot_roc_curve, confusion_matrix, classification_report\n",
    "from sklearn.model_selection import train_test_split\n",
    "\n",
    "from scipy.stats import chi2_contingency"
   ]
  },
  {
   "cell_type": "markdown",
   "metadata": {},
   "source": [
    "### 4.1.2 Import Data<a id=\"Import_Data\"></a>"
   ]
  },
  {
   "cell_type": "code",
   "execution_count": 2,
   "metadata": {},
   "outputs": [],
   "source": [
    "# Read in X_train and y_train\n",
    "X_train = pd.read_csv(\"../data/processed/X_train.csv\")\n",
    "y_train = pd.read_csv(\"../data/processed/y_train.csv\")"
   ]
  },
  {
   "cell_type": "code",
   "execution_count": 3,
   "metadata": {},
   "outputs": [],
   "source": [
    "# Read in X_test and y_test \n",
    "X_test = pd.read_csv(\"../data/processed/X_test.csv\")\n",
    "y_test = pd.read_csv(\"../data/processed/y_test.csv\")"
   ]
  },
  {
   "cell_type": "markdown",
   "metadata": {},
   "source": [
    "### 4.1.3 Import Models<a id=\"Import_Models\"></a>"
   ]
  },
  {
   "cell_type": "code",
   "execution_count": 4,
   "metadata": {},
   "outputs": [],
   "source": [
    "# Model with hyperparameters chosen by random search\n",
    "rs_filepath = \"../models/rs_model.pkl\"\n",
    "with open(rs_filepath, \"rb\") as f:\n",
    "    rs_model = pickle.load(f)\n",
    "\n",
    "# Model with hyperparameters chosen by Bayesian optimization\n",
    "bo_filepath = \"../models/bo_model.pkl\"\n",
    "with open(bo_filepath, \"rb\") as f:\n",
    "    bo_model = pickle.load(f)"
   ]
  },
  {
   "cell_type": "markdown",
   "metadata": {},
   "source": [
    "## 4.2 Hyperparameter Tuning<a id=\"Hyperparameter_Tuning\"></a>"
   ]
  },
  {
   "cell_type": "markdown",
   "metadata": {},
   "source": [
    "The following hyperparameters ranges were set: \n",
    "\n",
    "* eta (learning_rate): between 0.3 and 0.9\n",
    "* max_depth: between 1 and 9\n",
    "* min_child_weight: between 1 and 7\n",
    "* colsample_bytree: between 0.1 and 0.8\n",
    "* gamma: between 0.1 and 0.5\n",
    "* scale_pos_weight: between 10 and 40\n",
    "\n",
    "We searched this hyperspace using random search and Bayesian optimization on Google Cloud Platform (GCP). \n",
    "\n",
    "Code for this can be found here: https://github.com/bmensah/springboard/tree/main/capstone2/churn_analysis/src "
   ]
  },
  {
   "cell_type": "code",
   "execution_count": 5,
   "metadata": {},
   "outputs": [],
   "source": [
    "def show_params(model, param_list):\n",
    "    \"\"\"\n",
    "    Given an xgboost model, print out the parameters listed in param list\n",
    "    \"\"\"\n",
    "    param_dict = model.get_xgb_params()\n",
    "    for param in param_list:\n",
    "        print(param, \" = \", param_dict[param])"
   ]
  },
  {
   "cell_type": "code",
   "execution_count": 6,
   "metadata": {},
   "outputs": [],
   "source": [
    "param_list = [\"eta\",\"max_depth\",\"min_child_weight\", \"colsample_bytree\", \"gamma\", \"scale_pos_weight\"]"
   ]
  },
  {
   "cell_type": "markdown",
   "metadata": {},
   "source": [
    "### 4.2.1 Random Search<a id=\"Random_Search\"></a>"
   ]
  },
  {
   "cell_type": "code",
   "execution_count": 7,
   "metadata": {},
   "outputs": [
    {
     "name": "stdout",
     "output_type": "stream",
     "text": [
      "Train set performance:  0.8450567942785023\n",
      "Test set performance:  0.7495495495495496\n"
     ]
    }
   ],
   "source": [
    "# Get train set performance\n",
    "y_pred_train = rs_model.predict(X_train)\n",
    "print(\"Train set performance: \", recall_score(y_train, y_pred_train))\n",
    "\n",
    "# Get test set performance\n",
    "y_pred_test = rs_model.predict(X_test)\n",
    "print(\"Test set performance: \", recall_score(y_test, y_pred_test))"
   ]
  },
  {
   "cell_type": "code",
   "execution_count": 8,
   "metadata": {},
   "outputs": [
    {
     "name": "stdout",
     "output_type": "stream",
     "text": [
      "eta  =  0.8700122783177684\n",
      "max_depth  =  7\n",
      "min_child_weight  =  1\n",
      "colsample_bytree  =  0.7360184698196094\n",
      "gamma  =  0.21419148112497513\n",
      "scale_pos_weight  =  23.242386300757648\n"
     ]
    }
   ],
   "source": [
    "# Best parameters chosen by random search \n",
    "show_params(rs_model, param_list)"
   ]
  },
  {
   "cell_type": "code",
   "execution_count": 9,
   "metadata": {},
   "outputs": [
    {
     "data": {
      "image/png": "[encoded data removed]",
      "text/plain": [
       "<Figure size 432x288 with 1 Axes>"
      ]
     },
     "metadata": {
      "needs_background": "light"
     },
     "output_type": "display_data"
    }
   ],
   "source": [
    "# ROC-AUC curve of model based on test set\n",
    "plot_roc_curve(rs_model, X_test, y_test);"
   ]
  },
  {
   "cell_type": "markdown",
   "metadata": {},
   "source": [
    "### 4.2.2 Bayesian Optimization<a id=\"Bayesian_Optimization\"></a>"
   ]
  },
  {
   "cell_type": "code",
   "execution_count": 10,
   "metadata": {},
   "outputs": [
    {
     "name": "stdout",
     "output_type": "stream",
     "text": [
      "Train set performance:  0.9008413967185528\n",
      "Test set performance:  0.876976976976977\n"
     ]
    }
   ],
   "source": [
    "# Get train set performance\n",
    "y_pred_train = bo_model.predict(X_train)\n",
    "print(\"Train set performance: \", recall_score(y_train, y_pred_train))\n",
    "\n",
    "# Get test set performance\n",
    "y_pred_test = bo_model.predict(X_test)\n",
    "print(\"Test set performance: \", recall_score(y_test, y_pred_test))"
   ]
  },
  {
   "cell_type": "code",
   "execution_count": 11,
   "metadata": {},
   "outputs": [
    {
     "name": "stdout",
     "output_type": "stream",
     "text": [
      "eta  =  0.6000000000000001\n",
      "max_depth  =  5\n",
      "min_child_weight  =  4\n",
      "colsample_bytree  =  0.45000000000000007\n",
      "gamma  =  0.30000000000000004\n",
      "scale_pos_weight  =  20.0\n"
     ]
    }
   ],
   "source": [
    "# Best parameters chosen by Bayesian optimization \n",
    "show_params(bo_model, param_list)"
   ]
  },
  {
   "cell_type": "code",
   "execution_count": 12,
   "metadata": {},
   "outputs": [
    {
     "data": {
      "image/png": "[encoded data removed]",
      "text/plain": [
       "<Figure size 432x288 with 1 Axes>"
      ]
     },
     "metadata": {
      "needs_background": "light"
     },
     "output_type": "display_data"
    }
   ],
   "source": [
    "# ROC-AUC curve of model based on test set\n",
    "plot_roc_curve(bo_model, X_test, y_test);"
   ]
  },
  {
   "cell_type": "markdown",
   "metadata": {},
   "source": [
    "We will use the model tuned by bayesian optimization going forward as it is better performing than random search across both recall and AUC-ROC."
   ]
  },
  {
   "cell_type": "markdown",
   "metadata": {},
   "source": [
    "## 4.3 Confusion Matrix<a id=\"Confusion_Matrix\"></a>"
   ]
  },
  {
   "cell_type": "code",
   "execution_count": 13,
   "metadata": {},
   "outputs": [],
   "source": [
    "y_pred = bo_model.predict(X_test)\n",
    "pl = confusion_matrix(y_test,y_pred)"
   ]
  },
  {
   "cell_type": "code",
   "execution_count": 14,
   "metadata": {},
   "outputs": [
    {
     "data": {
      "image/png": "[encoded data removed]",
      "text/plain": [
       "<Figure size 432x288 with 2 Axes>"
      ]
     },
     "metadata": {
      "needs_background": "light"
     },
     "output_type": "display_data"
    }
   ],
   "source": [
    "label = [\"Renew\", \"Churn\"]\n",
    "sns.heatmap(pl, annot=True, fmt='.6g', cmap='Blues', square=True, xticklabels=label, yticklabels=label)\n",
    "plt.xlabel(\"Predicted\", fontsize=14)\n",
    "plt.ylabel(\"True\", fontsize=14)\n",
    "plt.show();"
   ]
  },
  {
   "cell_type": "markdown",
   "metadata": {},
   "source": [
    "## 4.4 Classification Report<a id=\"Classification_Report\"></a>"
   ]
  },
  {
   "cell_type": "code",
   "execution_count": 15,
   "metadata": {},
   "outputs": [
    {
     "name": "stdout",
     "output_type": "stream",
     "text": [
      "              precision    recall  f1-score   support\n",
      "\n",
      "       Renew       0.99      0.91      0.95    170007\n",
      "       Churn       0.36      0.88      0.51      9990\n",
      "\n",
      "    accuracy                           0.91    179997\n",
      "   macro avg       0.68      0.89      0.73    179997\n",
      "weighted avg       0.96      0.91      0.92    179997\n",
      "\n"
     ]
    }
   ],
   "source": [
    "report = classification_report(y_test, y_pred, target_names=[\"Renew\", \"Churn\"])\n",
    "print(report)"
   ]
  },
  {
   "cell_type": "markdown",
   "metadata": {},
   "source": [
    "## 4.5 Feature Importance<a id=\"Feature_Importance\"></a>"
   ]
  },
  {
   "cell_type": "code",
   "execution_count": 16,
   "metadata": {},
   "outputs": [
    {
     "data": {
      "image/png": "[encoded data removed]",
      "text/plain": [
       "<Figure size 864x720 with 1 Axes>"
      ]
     },
     "metadata": {
      "needs_background": "light"
     },
     "output_type": "display_data"
    }
   ],
   "source": [
    "feat_importance = pd.DataFrame(bo_model.feature_importances_, index=X_test.columns.to_list())\n",
    "feat_importance.plot(kind=\"bar\", figsize=(12,10), legend=None)\n",
    "plt.show();"
   ]
  },
  {
   "cell_type": "markdown",
   "metadata": {},
   "source": [
    "Whether or not a user has canceled the service has the most significant effect on predicting churn, but this is a mostly negligible result as the very definition of churn includes that a user has canceled their subscription and made no new transactions within 30 days. \n",
    "\n",
    "It is very interesting to see the importance of the length and price of subscriptions. In the heatmap produced in EDA, we also saw that these features were highly correlated with churn. \n",
    "\n",
    "The is_auto_renew option did not appear to have a clear correlation with churn in EDA, but we see here that it is an important feature. \n",
    "\n",
    "The number of transactions and payment_method_id_39 have an outsized influence on the model as well, which was not evident in EDA. "
   ]
  },
  {
   "cell_type": "markdown",
   "metadata": {},
   "source": [
    "## 4.6 Modeling Scenarios<a id=\"Modeling_Scenarios\"></a>"
   ]
  },
  {
   "cell_type": "markdown",
   "metadata": {},
   "source": [
    "In our problem statement, our criteria of success was defined as showing a statistically significant decrease in churn in the upcoming month, April 2017. \n",
    "\n",
    "With this goal in mind, let's examine KKBox's current situation. "
   ]
  },
  {
   "cell_type": "markdown",
   "metadata": {},
   "source": [
    "This chart of the number of new subscribers added each month since KKBox's founding in 2004 reveals that while overall the number of new subscribers has been increasing, there has been a sharp downward trend in recent months:"
   ]
  },
  {
   "cell_type": "code",
   "execution_count": 17,
   "metadata": {},
   "outputs": [
    {
     "data": {
      "image/png": "[encoded data removed]",
      "text/plain": [
       "<Figure size 720x576 with 1 Axes>"
      ]
     },
     "metadata": {
      "needs_background": "light"
     },
     "output_type": "display_data"
    }
   ],
   "source": [
    "# Read in members_v3.csv file\n",
    "members_df = pd.read_csv(\"../data/raw/members_v3.csv\")\n",
    "\n",
    "# Find the number of new subscribers who registered each month \n",
    "members_df[\"registration_init_time\"] = pd.to_datetime(members_df[\"registration_init_time\"], format=\"%Y%m%d\")\n",
    "monthly_new_users = {}\n",
    "for year in range(2004, 2017+1):\n",
    "    for month in range(1, 12+1):\n",
    "        num_new_users = sum((members_df[\"registration_init_time\"].dt.year==year) & \\\n",
    "                         (members_df[\"registration_init_time\"].dt.month==month))\n",
    "        monthly_new_users[(year,month)] = num_new_users\n",
    "        \n",
    "# Graph the number of new users added each month \n",
    "new_users_df = pd.DataFrame.from_dict(monthly_new_users, orient=\"index\", columns=[\"new_users\"])\n",
    "\n",
    "# drop months at the extremities that have no data, as well as our current month\n",
    "new_users_df = new_users_df[new_users_df.new_users>0].drop((2017,3))\n",
    "\n",
    "new_users_df.plot(figsize=(10,8),grid=True)\n",
    "plt.xlabel(\"Month\")\n",
    "plt.ylabel(\"Number of new users\")\n",
    "plt.show();"
   ]
  },
  {
   "cell_type": "markdown",
   "metadata": {},
   "source": [
    "Furthermore, the percentage of new subscribers who churn is significantly higher than the percentage of older subscribrs who churn. Thus, at the same time that the number of new subscribers is dwindling, those who do sign up for the service are churning at higher rates: "
   ]
  },
  {
   "cell_type": "code",
   "execution_count": 18,
   "metadata": {},
   "outputs": [],
   "source": [
    "# Read in fully wrangled dataset \n",
    "original_data = pd.read_csv(\"../data/processed/combined.csv\")"
   ]
  },
  {
   "cell_type": "code",
   "execution_count": 19,
   "metadata": {},
   "outputs": [
    {
     "name": "stdout",
     "output_type": "stream",
     "text": [
      "Percent of subscribers who both registered and churned in March 2017: 18.22%\n",
      "Percent of subscribers who churned overall: 5.63%\n"
     ]
    },
    {
     "data": {
      "image/png": "[encoded data removed]",
      "text/plain": [
       "<Figure size 432x288 with 1 Axes>"
      ]
     },
     "metadata": {
      "needs_background": "light"
     },
     "output_type": "display_data"
    }
   ],
   "source": [
    "# Number subscribers who both registered and churned in March 2017\n",
    "original_data[\"registration_init_time\"] = pd.to_datetime(original_data[\"registration_init_time\"].astype(str), \n",
    "                                                         format=\"%Y%m%d\")\n",
    "first_time = original_data[(original_data[\"registration_init_time\"].dt.year==2017) & \\\n",
    "                           (original_data[\"registration_init_time\"].dt.month==3)]\n",
    "new_user_pct_churn = (first_time.is_churn.value_counts()[1] / first_time.shape[0])*100\n",
    "overall_pct_churn = (original_data.is_churn.value_counts()[1] / original_data.shape[0])*100\n",
    "print(\"Percent of subscribers who both registered and churned in March 2017: {:.2f}%\".format(new_user_pct_churn))\n",
    "print(\"Percent of subscribers who churned overall: {:.2f}%\".format(overall_pct_churn))\n",
    "\n",
    "# Graph comparing percent churn in March 2017 to churn overall\n",
    "compare_churn = pd.DataFrame.from_dict({\"March 2017\":new_user_pct_churn, \"overall\":overall_pct_churn}, \n",
    "                                          orient=\"index\", columns=[\"percent churn\"])\n",
    "compare_churn.plot(kind=\"bar\", ylabel=\"percent churn\", legend=None);"
   ]
  },
  {
   "cell_type": "markdown",
   "metadata": {},
   "source": [
    "The number of new subscribers registering each month is dropping, and the subscribers who do register are churning at higher rates than the overall churn rate. \n",
    "\n",
    "The combination of these challenges makes an adjustment to KKBox's strategy for retaining subscribers all the more essential to implement as soon as possible.  "
   ]
  },
  {
   "cell_type": "code",
   "execution_count": 20,
   "metadata": {},
   "outputs": [],
   "source": [
    "# Function to test new scenarios\n",
    "def scenario(columns, change, model=bo_model, test_data=X_test, old_pred=y_pred):\n",
    "    \"\"\"\n",
    "    Given columns and a change, applys change to given columns in test set\n",
    "    Parameters:\n",
    "        columns: columns to apply change to in order to model a scenario\n",
    "         change: value to multiply the given columns by to simulate a change\n",
    "          model: defaults to the xgboost model tuned by Bayesian optimization as defined above\n",
    "           data: defaults to a copy of the test data with a \"churn_risk\" column to identify \n",
    "                   subscribers at risk of churn\n",
    "       old_pred: defaults to predicted churn by xgboost model \n",
    "       \n",
    "    Returns:\n",
    "        Dataframe with changes for the scenario applied\n",
    "        prints three statements:\n",
    "            1. amount of churn predicted without the changes\n",
    "            2. about of churn with changes applied\n",
    "            3. percent difference in churn\n",
    "            \n",
    "    \"\"\"\n",
    "    # Copy test data so we don't make changes to the original test dataset \n",
    "    data = test_data.copy()\n",
    "    data[\"churn_risk\"] = old_pred\n",
    "    mask = data[\"churn_risk\"]==1\n",
    "    data.loc[mask, columns] = data.loc[mask, columns] * change\n",
    "    data = data.drop(\"churn_risk\", axis=1)\n",
    "    new_pred = model.predict(data)\n",
    "    print(\"Total churn in test set without change:\", sum(old_pred))\n",
    "    print(\"Total churn in test set with change:\", sum(new_pred))\n",
    "    count = data.shape[0]\n",
    "    pct_decrease = ((sum(old_pred)-sum(new_pred))/sum(old_pred))*100\n",
    "    print(\"Percent decrease in churn: {:.2f}%\".format(pct_decrease))\n",
    "    return data\n",
    "    "
   ]
  },
  {
   "cell_type": "markdown",
   "metadata": {},
   "source": [
    "### 4.6.1 Providing Discounts<a id=\"Providing_Discounts\"></a>"
   ]
  },
  {
   "cell_type": "markdown",
   "metadata": {},
   "source": [
    "We will apply a 50% discount to the subscribers that our model predicted will churn, the predict churn again. "
   ]
  },
  {
   "cell_type": "code",
   "execution_count": 21,
   "metadata": {},
   "outputs": [
    {
     "name": "stdout",
     "output_type": "stream",
     "text": [
      "Total churn in test set without change: 24302\n",
      "Total churn in test set with change: 24016\n",
      "Percent decrease in churn: 1.18%\n"
     ]
    }
   ],
   "source": [
    "discounts = scenario(\"actual_amount_paid\", 0.5);"
   ]
  },
  {
   "cell_type": "markdown",
   "metadata": {},
   "source": [
    "Giving subscribers at risk of churn a 50% discount did make a slight difference in likelyhood to churn. However, this stratey should be considered in the light of the central objective, which is increasing revenue."
   ]
  },
  {
   "cell_type": "markdown",
   "metadata": {},
   "source": [
    "### 4.6.2 Increasing User Engagement<a id=\"Increasing_User_Engagement\"></a>"
   ]
  },
  {
   "cell_type": "markdown",
   "metadata": {},
   "source": [
    "In EDA, we saw that user engagement did not appear to have a significant impact on likelyhood of churning. Let's test if that holds true for our models predictions by multiplying the amount of time the users at risk of churn spend on the app by 20%. "
   ]
  },
  {
   "cell_type": "code",
   "execution_count": 22,
   "metadata": {},
   "outputs": [
    {
     "name": "stdout",
     "output_type": "stream",
     "text": [
      "Total churn in test set without change: 24302\n",
      "Total churn in test set with change: 22278\n",
      "Percent decrease in churn: 8.33%\n"
     ]
    }
   ],
   "source": [
    "user_logs = ['total_num_25', 'total_num_50', 'total_num_75',\n",
    "       'total_num_985', 'total_num_100', 'total_num_unique']\n",
    "\n",
    "more_engagement = scenario(user_logs, 1.2);"
   ]
  },
  {
   "cell_type": "markdown",
   "metadata": {},
   "source": [
    "Surprisingly, getting users to engage more with the app is predicted to lead to a decrease in churn."
   ]
  },
  {
   "cell_type": "markdown",
   "metadata": {},
   "source": [
    "### 4.6.3 Smaller Plans<a id=\"Smaller_Plans\"></a>"
   ]
  },
  {
   "cell_type": "markdown",
   "metadata": {},
   "source": [
    "In the EDA stage, we observed that users who churned were paying three times as much for their subscriptions and had signed up for plans lasting three times as long. Additionally, in the graph of feature importance above, we see that the length and cost of plans are the most important features our model identified in determining likelyhood of churn. \n",
    "\n",
    "Let's reduce the plan length and amount paid for subscribers at risk of churn to a third of the original amounts: "
   ]
  },
  {
   "cell_type": "code",
   "execution_count": 23,
   "metadata": {},
   "outputs": [
    {
     "name": "stdout",
     "output_type": "stream",
     "text": [
      "Total churn in test set without change: 24302\n",
      "Total churn in test set with change: 23807\n",
      "Percent decrease in churn: 2.04%\n"
     ]
    }
   ],
   "source": [
    "smaller_plans = scenario([\"payment_plan_days\", \"plan_list_price\", \"actual_amount_paid\"], 0.33)"
   ]
  },
  {
   "cell_type": "markdown",
   "metadata": {},
   "source": [
    "Against our observations in EDA, switching subscribers at risk of churn to shorter plans with smaller monthly costs does not appear to reduce churn in a significant way with this change alone. "
   ]
  },
  {
   "cell_type": "markdown",
   "metadata": {},
   "source": [
    "### 4.6.4 Auto-Renew<a id=\"Auto-Renew\"></a>"
   ]
  },
  {
   "cell_type": "markdown",
   "metadata": {},
   "source": [
    "In EDA, we did not see auto-renew have a significant effect on churn. We will have all subscribers at risk of churn sign up for auto-renew, then predict how this change will affect their likelyhood of churn. "
   ]
  },
  {
   "cell_type": "code",
   "execution_count": 24,
   "metadata": {},
   "outputs": [
    {
     "name": "stdout",
     "output_type": "stream",
     "text": [
      "Total churn in test set without change: 24302\n",
      "Total churn in test set with change: 12917\n",
      "Percent decrease in churn: 46.85%\n"
     ]
    }
   ],
   "source": [
    "auto_renew = X_test.copy()\n",
    "auto_renew[\"churn_risk\"] = y_pred\n",
    "\n",
    "# Find subscribers at risk of churn and sign them up for auto-renew\n",
    "mask = auto_renew[\"churn_risk\"] == 1\n",
    "auto_renew.loc[mask, \"is_auto_renew\"] = 1\n",
    "new_pred = bo_model.predict(auto_renew.drop(\"churn_risk\", axis=1))\n",
    "count = len(new_pred)\n",
    "pct_decrease = ((sum(y_pred)-sum(new_pred))/sum(y_pred))*100\n",
    "print(\"Total churn in test set without change:\", sum(y_pred))\n",
    "print(\"Total churn in test set with change:\", sum(new_pred))\n",
    "print(\"Percent decrease in churn: {:.2f}%\".format(pct_decrease))"
   ]
  },
  {
   "cell_type": "markdown",
   "metadata": {},
   "source": [
    "Our model predicts that signing up subscribers at risk of churn to auto-renew would decrease churn by almost half!"
   ]
  },
  {
   "cell_type": "markdown",
   "metadata": {},
   "source": [
    "### 4.6.5 Combining Scenarios<a id=\"Combining_Scenarios\"></a>"
   ]
  },
  {
   "cell_type": "markdown",
   "metadata": {},
   "source": [
    "A combination of scenarios could lead to greater success. \n",
    "\n",
    "Let's first model how much churn would decrease if all subscribers at risk of churn signed up for auto-renew and got their subscriptions restructured to be monthly subscriptions (a third of what they were paying before, on average)."
   ]
  },
  {
   "cell_type": "markdown",
   "metadata": {},
   "source": [
    "#### 4.6.5.1 Auto-Renew and Smaller Plans<a id=\"Auto-Renew_and_Smaller_Plans\"></a>"
   ]
  },
  {
   "cell_type": "code",
   "execution_count": 25,
   "metadata": {},
   "outputs": [
    {
     "name": "stdout",
     "output_type": "stream",
     "text": [
      "Total churn in test set without change: 24302\n",
      "Total churn in test set with change: 11962\n",
      "Percent decrease in churn: 50.78%\n"
     ]
    }
   ],
   "source": [
    "ar_and_sm = scenario([\"payment_plan_days\", \"plan_list_price\", \"actual_amount_paid\"], 0.33, test_data=auto_renew)"
   ]
  },
  {
   "cell_type": "markdown",
   "metadata": {},
   "source": [
    "Now, let's model the effect of providing a 50% off discount and auto-renew to those subscribers at risk of churn:"
   ]
  },
  {
   "cell_type": "markdown",
   "metadata": {},
   "source": [
    "#### 4.6.5.2 Auto-Renew and Discount<a id=\"Auto-Renew_and_Discount\"></a>"
   ]
  },
  {
   "cell_type": "code",
   "execution_count": 26,
   "metadata": {},
   "outputs": [
    {
     "name": "stdout",
     "output_type": "stream",
     "text": [
      "Total churn in test set without change: 24302\n",
      "Total churn in test set with change: 12570\n",
      "Percent decrease in churn: 48.28%\n"
     ]
    }
   ],
   "source": [
    "ar_and_disc = scenario(\"actual_amount_paid\", 0.5, test_data=auto_renew);"
   ]
  },
  {
   "cell_type": "markdown",
   "metadata": {},
   "source": [
    "Finally, let's combine increasing user engagement by 20% and auto-renew: "
   ]
  },
  {
   "cell_type": "markdown",
   "metadata": {},
   "source": [
    "#### 4.6.5.3 Auto-Renew and Increasing Engagement<a id=\"Auto-Renew_and_Increasing_Engagement\"></a>"
   ]
  },
  {
   "cell_type": "code",
   "execution_count": 27,
   "metadata": {},
   "outputs": [
    {
     "name": "stdout",
     "output_type": "stream",
     "text": [
      "Total churn in test set without change: 24302\n",
      "Total churn in test set with change: 12435\n",
      "Percent decrease in churn: 48.83%\n"
     ]
    }
   ],
   "source": [
    "ar_and_ie = scenario(user_logs, 1.2, test_data=auto_renew);"
   ]
  },
  {
   "cell_type": "markdown",
   "metadata": {},
   "source": [
    "#### 4.6.5.4 All Four Scenarios<a id=\"All_Four_Scenarios\"></a>"
   ]
  },
  {
   "cell_type": "code",
   "execution_count": 28,
   "metadata": {},
   "outputs": [
    {
     "name": "stdout",
     "output_type": "stream",
     "text": [
      "Total churn in test set without change: 24302\n",
      "Total churn in test set with change: 12172\n",
      "Percent decrease in churn: 49.91%\n"
     ]
    }
   ],
   "source": [
    "# First, combine auto-renew, increaing engagement by 20%, and discount\n",
    "ar_ie_and_disc = scenario(\"actual_amount_paid\", 0.5, test_data=ar_and_ie);"
   ]
  },
  {
   "cell_type": "code",
   "execution_count": 29,
   "metadata": {},
   "outputs": [
    {
     "name": "stdout",
     "output_type": "stream",
     "text": [
      "Total churn in test set without change: 24302\n",
      "Total churn in test set with change: 11629\n",
      "Percent decrease in churn: 52.15%\n"
     ]
    }
   ],
   "source": [
    "# Combine all four scenarios\n",
    "combined = scenario([\"payment_plan_days\", \"plan_list_price\", \"actual_amount_paid\"], 0.33, test_data=ar_ie_and_disc)"
   ]
  },
  {
   "cell_type": "markdown",
   "metadata": {},
   "source": [
    "We get the best results when we combine all four scenarios, with 52.15% of subscribers at risk of churn retained when they get a 50% off discount, plans restrucured to be monthly plans, sign up for auto-renew, and listen to more music."
   ]
  },
  {
   "cell_type": "markdown",
   "metadata": {},
   "source": [
    "## 4.7 Statistical Significance<a id=\"Statistical_Significance\"></a>"
   ]
  },
  {
   "cell_type": "markdown",
   "metadata": {},
   "source": [
    "Is this decrease in churn statistically significant? \n",
    "\n",
    "__Null hypothesis:__ There is no relationship between the selected features (user engagement with the app, subscription cost and duration, and getting a discount) and likelyhood of churn. "
   ]
  },
  {
   "cell_type": "code",
   "execution_count": 30,
   "metadata": {},
   "outputs": [
    {
     "data": {
      "text/html": [
       "<div>\n",
       "<style scoped>\n",
       "    .dataframe tbody tr th:only-of-type {\n",
       "        vertical-align: middle;\n",
       "    }\n",
       "\n",
       "    .dataframe tbody tr th {\n",
       "        vertical-align: top;\n",
       "    }\n",
       "\n",
       "    .dataframe thead th {\n",
       "        text-align: right;\n",
       "    }\n",
       "</style>\n",
       "<table border=\"1\" class=\"dataframe\">\n",
       "  <thead>\n",
       "    <tr style=\"text-align: right;\">\n",
       "      <th></th>\n",
       "      <th>old_prediction</th>\n",
       "      <th>new_prediction</th>\n",
       "    </tr>\n",
       "  </thead>\n",
       "  <tbody>\n",
       "    <tr>\n",
       "      <th>renew</th>\n",
       "      <td>155695</td>\n",
       "      <td>168368</td>\n",
       "    </tr>\n",
       "    <tr>\n",
       "      <th>churn</th>\n",
       "      <td>24302</td>\n",
       "      <td>11629</td>\n",
       "    </tr>\n",
       "  </tbody>\n",
       "</table>\n",
       "</div>"
      ],
      "text/plain": [
       "       old_prediction  new_prediction\n",
       "renew          155695          168368\n",
       "churn           24302           11629"
      ]
     },
     "execution_count": 30,
     "metadata": {},
     "output_type": "execute_result"
    }
   ],
   "source": [
    "# Build a contingency table \n",
    "old_prediction = pd.Series(y_pred).value_counts()\n",
    "new_prediction = pd.Series(bo_model.predict(combined)).value_counts()\n",
    "contingency_table = pd.DataFrame({\"old_prediction\":old_prediction, \n",
    "                                \"new_prediction\": new_prediction})\n",
    "contingency_table = contingency_table.rename({0:\"renew\", 1:\"churn\"})\n",
    "contingency_table"
   ]
  },
  {
   "cell_type": "code",
   "execution_count": 31,
   "metadata": {},
   "outputs": [],
   "source": [
    "# Get the statistic, p-value, degrees of freedom, and expected frequencies\n",
    "stat, p, dof, expected = chi2_contingency(contingency_table)"
   ]
  },
  {
   "cell_type": "code",
   "execution_count": 32,
   "metadata": {},
   "outputs": [
    {
     "name": "stdout",
     "output_type": "stream",
     "text": [
      "p_value: 0.00000000000000000000 \n"
     ]
    }
   ],
   "source": [
    "print(\"p_value: {:.20f} \".format(p))"
   ]
  },
  {
   "cell_type": "markdown",
   "metadata": {},
   "source": [
    "With a p_value this low, we can confidently conclude that our results are statistically significant. We can reject the null hypothesis and confidently predict that convincing subscribers at risk of churn to sign up for auto-renew, increasing user engagement, changing all subscriptions to be monthly, and providing subscribers at risk of churn with a 50% discount all have an effect on churn. "
   ]
  },
  {
   "cell_type": "markdown",
   "metadata": {},
   "source": [
    "## 4.8 Estimating Revenue<a id=\"Estimating_Revenue\"></a>"
   ]
  },
  {
   "cell_type": "markdown",
   "metadata": {},
   "source": [
    "While it is encouraging to see that there are pathways to reducing churn, as two of these scenarios involve reducing the amount paid per month of subscribers, it is not certain that reducing churn via these methods would increase revenue. Let's estimate revenue given the proposed changes and determine which adjustments would be worthwhile. "
   ]
  },
  {
   "cell_type": "markdown",
   "metadata": {},
   "source": [
    "NOTE: Since our data is for March 2017, these calculations for KKBox's revenue in April 2017 should only be considered as rough estimates. Other factors, such as the amount of new subscribers in April, cannot be taken into account. "
   ]
  },
  {
   "cell_type": "code",
   "execution_count": 33,
   "metadata": {},
   "outputs": [
    {
     "name": "stdout",
     "output_type": "stream",
     "text": [
      "Subscription revenue from March 2017: 74,589,501 NT$\n"
     ]
    }
   ],
   "source": [
    "# Calculate subscription revenue without any changes\n",
    "march_revenue = original_data[original_data.is_churn==0].actual_amount_paid.sum()\n",
    "print(\"Subscription revenue from March 2017:\", f'{march_revenue:,}', \"NT$\")"
   ]
  },
  {
   "cell_type": "markdown",
   "metadata": {},
   "source": [
    "### 4.8.1 Estimating Revenue with No Price Changes<a id=\"Estimating_Revenue_with_No_Price_Changes\"></a>"
   ]
  },
  {
   "cell_type": "markdown",
   "metadata": {},
   "source": [
    "Two of the scenarios modeled require a decrease in prices: giving subscribers at risk of churn a 50% discount and restructuring plans lasting more than 30 days to be monthly plans. \n",
    "\n",
    "Two of the scenarios do not require a change in prices: having subscribers sign up for auto-renew and increasing user engagement with the app by 20%. However, this could lead to an increase in costs for advertising the auto-renew feature and new services to increase engagement. \n",
    "\n",
    "By applying all four scenarios, churn is reduced by 52.15%. But this is only 3.32% more than the decrease when only the auto-renew and increasing engagement scenarios are applied. Which combination of scenarios is best for the ultimate goal of increasing revenue?  \n",
    "\n",
    "Let's first calculate the increase in revenue when KKBox invests in signing up subcribers for auto-renew and increasing engagement on the app by 20%. Above, we saw that this would lead to a 48.83% drop in churn:"
   ]
  },
  {
   "cell_type": "code",
   "execution_count": 34,
   "metadata": {},
   "outputs": [
    {
     "name": "stdout",
     "output_type": "stream",
     "text": [
      "Estimated revenue with 48.83% less churn: 80,933,560 NT$\n",
      "Percent increase: 8.51 %\n"
     ]
    }
   ],
   "source": [
    "calc_revenue = original_data[[\"actual_amount_paid\", \"payment_plan_days\", \"is_churn\"]]\n",
    "\n",
    "# Get 48.83% of total churn\n",
    "limit = round(sum(calc_revenue.is_churn==1) * .4883)\n",
    "\n",
    "# Order by is_churn so that 1s are gathered on top of the column\n",
    "calc_revenue = calc_revenue.sort_values(\"is_churn\", ascending=False)\n",
    "\n",
    "# Switch 48.83% of churn values from 1 to 0\n",
    "calc_revenue.iloc[0:limit, 2] = 0\n",
    "\n",
    "new_revenue = calc_revenue[calc_revenue.is_churn==0].actual_amount_paid.sum()\n",
    "\n",
    "print(\"Estimated revenue with 48.83% less churn:\", f'{new_revenue:,}', \"NT$\")\n",
    "print(\"Percent increase:\", f'{round(((new_revenue-march_revenue)/march_revenue)*100,2):,}', \"%\")"
   ]
  },
  {
   "cell_type": "markdown",
   "metadata": {},
   "source": [
    "With 48.83% of subscribers at risk of churn retained, KKBox's estimated subscription revenue for April 2017 is 80,933,560 NT$, an increase of 8.51%. \n",
    "\n",
    "Now, let's consider the scenarios where price is affected: the 50% percent off discount and the restructuring of subscriptions lasting more than 30 days to be monthly:"
   ]
  },
  {
   "cell_type": "markdown",
   "metadata": {},
   "source": [
    "### 4.8.2 Estimating Revenue with Discounts and Restructured Plans<a id=\"Estimating_Revenue_with_Discounts_and_Restructured_Plans\"></a>"
   ]
  },
  {
   "cell_type": "code",
   "execution_count": 35,
   "metadata": {},
   "outputs": [
    {
     "name": "stdout",
     "output_type": "stream",
     "text": [
      "Estimated revenue with churn prevention measures applied and factored into price: 75,784,580.51 NT$\n",
      "Percent increase: 1.6 %\n"
     ]
    }
   ],
   "source": [
    "calc_revenue = original_data[[\"actual_amount_paid\", \"payment_plan_days\", \"is_churn\"]]\n",
    "\n",
    "# Get 52.15% of total churn\n",
    "limit = round(sum(calc_revenue.is_churn==1) * .5215)\n",
    "\n",
    "# Order by is_churn so that 1s are gathered on top of the column\n",
    "calc_revenue = calc_revenue.sort_values(\"is_churn\", ascending=False)\n",
    "\n",
    "# Switch 52.15% of churn values from 1 to 0\n",
    "calc_revenue.iloc[0:limit, 2] = 0\n",
    "\n",
    "# Apply 50% off for subscribers at risk of churn\n",
    "calc_revenue.iloc[0:limit, 0] = calc_revenue.iloc[0:limit, 0]*0.5\n",
    "\n",
    "# Apply plan restructuring for those subscribers \n",
    "calc_revenue[\"payment_plan_months\"] = calc_revenue[\"payment_plan_days\"]/30\n",
    "calc_revenue = calc_revenue.drop(\"payment_plan_days\", axis=1)\n",
    "calc_revenue.iloc[0:limit, 0] = calc_revenue.iloc[0:limit, 0]/calc_revenue.iloc[0:limit, 2]\n",
    "\n",
    "# Calculate revenue\n",
    "changed_revenue = calc_revenue[calc_revenue.is_churn==0].actual_amount_paid.sum()\n",
    "print(\"Estimated revenue with churn prevention measures applied and factored into price:\",\n",
    "                     f'{round(changed_revenue,2):,}', \"NT$\")\n",
    "print(\"Percent increase:\", f'{round(((changed_revenue-march_revenue)/march_revenue)*100,2):,}', \"%\")"
   ]
  },
  {
   "cell_type": "markdown",
   "metadata": {},
   "source": [
    "With the changes to price factored in, the estimated revenue increase from retaining 52.15% of subscribers at risk of churn drops from 8.51% to 1.6%. \n",
    "\n",
    "Therefore, even though more subscribers are retained when they are given a discount and plans are restructured, the best option to increase revenue as much as possible is to simply focus on getting subscribers signed up for auto-renew and increasing user enagagement with the app."
   ]
  },
  {
   "cell_type": "markdown",
   "metadata": {},
   "source": [
    "### 4.8.3 Estimating Revenue with A Price Increase<a id=\"Estimating_Revenue_with_a_Price_Increase\"></a>"
   ]
  },
  {
   "cell_type": "markdown",
   "metadata": {},
   "source": [
    "How much would churn increase by if prices went up? Does KKBox have room to charge more for their service, while retaining the same amount of subscribers?"
   ]
  },
  {
   "cell_type": "markdown",
   "metadata": {},
   "source": [
    "What effect would increasing price have on churn? "
   ]
  },
  {
   "cell_type": "code",
   "execution_count": 36,
   "metadata": {},
   "outputs": [
    {
     "name": "stdout",
     "output_type": "stream",
     "text": [
      "Multiply cost by: 1.05\n",
      "Total churn in test set without change: 24302\n",
      "Total churn in test set with change: 24372\n",
      "Percent decrease in churn: -0.29%\n",
      "\n",
      " ---------------- \n",
      "\n",
      "Multiply cost by: 1.1\n",
      "Total churn in test set without change: 24302\n",
      "Total churn in test set with change: 24372\n",
      "Percent decrease in churn: -0.29%\n",
      "\n",
      " ---------------- \n",
      "\n",
      "Multiply cost by: 1.25\n",
      "Total churn in test set without change: 24302\n",
      "Total churn in test set with change: 24372\n",
      "Percent decrease in churn: -0.29%\n",
      "\n",
      " ---------------- \n",
      "\n",
      "Multiply cost by: 1.5\n",
      "Total churn in test set without change: 24302\n",
      "Total churn in test set with change: 24370\n",
      "Percent decrease in churn: -0.28%\n",
      "\n",
      " ---------------- \n",
      "\n",
      "Multiply cost by: 2\n",
      "Total churn in test set without change: 24302\n",
      "Total churn in test set with change: 24370\n",
      "Percent decrease in churn: -0.28%\n",
      "\n",
      " ---------------- \n",
      "\n"
     ]
    }
   ],
   "source": [
    "increases = [1.05, 1.1, 1.25, 1.5, 2]\n",
    "prev_pred = bo_model.predict(X_test)\n",
    "prev_churn_total = prev_pred.sum()\n",
    "\n",
    "for inc in increases:\n",
    "    costs = X_test.copy()\n",
    "    \n",
    "    # Apply price increase to all subscribers \n",
    "    print(\"Multiply cost by:\", inc)\n",
    "    costs[\"actual_amount_paid\"] = costs[\"actual_amount_paid\"]*inc\n",
    "    \n",
    "    # Predict on new data\n",
    "    new_pred = bo_model.predict(costs)\n",
    "    new_churn_total = new_pred.sum()\n",
    "    \n",
    "    # Print results\n",
    "    print(\"Total churn in test set without change:\", prev_churn_total)\n",
    "    print(\"Total churn in test set with change:\", new_churn_total)\n",
    "    pct_change = ((prev_churn_total-new_churn_total)/prev_churn_total)*100\n",
    "    print(\"Percent decrease in churn: {:.2f}%\".format(pct_change))\n",
    "    print(\"\\n\", \"----------------\", \"\\n\")\n",
    "    "
   ]
  },
  {
   "cell_type": "markdown",
   "metadata": {},
   "source": [
    "So based on our model, KKBox could double prices for all subscribers and churn would only increase by 0.28%. Quite obviously, our data is not suited to answer this question.  "
   ]
  },
  {
   "cell_type": "markdown",
   "metadata": {},
   "source": [
    "## 4.9 Conclusions<a id=\"Conclusions\"></a>"
   ]
  },
  {
   "cell_type": "markdown",
   "metadata": {},
   "source": [
    "We began with this Problem Statement:\n",
    "\n",
    "__What opportunities exist for KKBox to report a positive percent change in revenue by the end of the current quarter through subscriber retention, attracting new subscribers, or increasing prices?__\n",
    "\n",
    "While the number of new subscribers KKBox adds per month has increased since 2004, there has been a significant decrease in new subscribers since 2015. Therefore, we cannot rely on attracting new subscribers alone to lead to an increase in revenue. \n",
    "\n",
    "After modeling various scenarios, we found that by addressing the following, KKBox could decrease churn by 52.15%:\n",
    "* convincing subcribers at risk of churn to sign up for auto-renew\n",
    "* restructuring any subscriptions longer than 30 days to be monthly \n",
    "* provide subscribers at risk of churn with a 50% off discount for one month\n",
    "* increase user engagement by 20%\n",
    "\n",
    "With all four of these scenarios combined, revenue is projected to increase by only 1.6%.\n",
    "\n",
    "If KKBox invests instead in only two of these scenarios, convincing subscribers to sign up for auto-renew and increasing user engagement by 20%, revenue is projected to increase by 8.51%. 3.32% less subscribers are retained with these two scenarios alone. However, the price decreases required to keep more subscribers are not worthwhile if increasing revenue is the primary goal.  "
   ]
  },
  {
   "cell_type": "markdown",
   "metadata": {},
   "source": [
    "__Further Analysis__\n",
    "\n",
    "The final solution explored, increasing prices, is inconclusive. The model predicts that doubling prices would lead to only a 0.28% increase in churn. This result is misleading. Doubling the price of the service would likely discourage many subscribers from using the app and increase churn by much more than 0.28%. \n",
    "\n",
    "The data provided is not suited to truly answer this question. In order to truly determine the effect of an increase of price on churn, we would need new data. Data on the cost and features in plans by competing services is necessary to truly gauge how much increasing prices would affect churn.\n",
    "\n",
    "KKBox did see a sharp increase in new subscribers in the months leading up to the current drop. Further analysis should be done on what changed between the large upswing in new subscription and the current downturn to determine what changes could be made to return to positive growth in new subscriptions. "
   ]
  }
 ],
 "metadata": {
  "kernelspec": {
   "display_name": "env",
   "language": "python",
   "name": "env"
  },
  "language_info": {
   "codemirror_mode": {
    "name": "ipython",
    "version": 3
   },
   "file_extension": ".py",
   "mimetype": "text/x-python",
   "name": "python",
   "nbconvert_exporter": "python",
   "pygments_lexer": "ipython3",
   "version": "3.8.2"
  }
 },
 "nbformat": 4,
 "nbformat_minor": 4
}
