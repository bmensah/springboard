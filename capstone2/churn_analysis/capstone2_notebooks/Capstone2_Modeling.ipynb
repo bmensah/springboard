{
 "cells": [
  {
   "cell_type": "markdown",
   "metadata": {},
   "source": [
    "# Capstone 2 Modeling<a id='Modeling'></a>"
   ]
  },
  {
   "cell_type": "markdown",
   "metadata": {},
   "source": [
    "## Table of Contents<a id='Table_of_Contents'></a>\n",
    "* [4 Modeling](#Modeling)\n",
    "    * [4.1 Imports](#Imports)\n",
    "        * [4.1.1 Import Libraries](#Import_Libraries)\n",
    "        * [4.1.2 Import Data](#Import_Data)\n",
    "        * [4.1.3 Import Models](#Import_Models)\n",
    "    \n",
    "    * [4.2 Hyperparameter Tuning](#Hyperparameter_Tuning)\n",
    "        * [4.2.1 Random Search](#Random_Search)\n",
    "        * [4.2.2 Bayesian Optimization](#Bayesian_Optimization)\n",
    "    \n",
    "    * [4.3 Modeling_Scenarios](#Modeling_Scenarios)\n",
    "    \n",
    "    * [4.4 ](#)\n",
    "            \n",
    "    * [4.5 ](#)\n"
   ]
  },
  {
   "cell_type": "markdown",
   "metadata": {},
   "source": [
    "## 4.1 Imports<a id=\"Imports\"></a>"
   ]
  },
  {
   "cell_type": "markdown",
   "metadata": {},
   "source": [
    "### 4.1.1 Import Libraries<a id=\"Import_Libraries\"></a>"
   ]
  },
  {
   "cell_type": "code",
   "execution_count": 1,
   "metadata": {},
   "outputs": [],
   "source": [
    "import json\n",
    "import pickle\n",
    "import pandas as pd\n",
    "import xgboost as xgb\n",
    "from sklearn.metrics import recall_score, plot_roc_curve"
   ]
  },
  {
   "cell_type": "markdown",
   "metadata": {},
   "source": [
    "### 4.1.2 Import Data<a id=\"Import_Data\"></a>"
   ]
  },
  {
   "cell_type": "code",
   "execution_count": 2,
   "metadata": {},
   "outputs": [],
   "source": [
    "# Read in X_train and y_train\n",
    "X_train = pd.read_csv(\"../data/processed/X_train.csv\")\n",
    "y_train = pd.read_csv(\"../data/processed/y_train.csv\")"
   ]
  },
  {
   "cell_type": "code",
   "execution_count": 3,
   "metadata": {},
   "outputs": [],
   "source": [
    "# Read in X_test and y_test \n",
    "X_test = pd.read_csv(\"../data/processed/X_test.csv\")\n",
    "y_test = pd.read_csv(\"../data/processed/y_test.csv\")"
   ]
  },
  {
   "cell_type": "markdown",
   "metadata": {},
   "source": [
    "### 4.1.3 Import Models<a id=\"Import_Models\"></a>"
   ]
  },
  {
   "cell_type": "code",
   "execution_count": 4,
   "metadata": {},
   "outputs": [],
   "source": [
    "# Model with hyperparameters chosen by random search\n",
    "rs_filepath = \"../models/rs_model.pkl\"\n",
    "with open(rs_filepath, \"rb\") as f:\n",
    "    rs_model = pickle.load(f)\n",
    "\n",
    "# Model with hyperparameters chosen by Bayesian optimization\n",
    "bo_filepath = \"../models/bo_model.pkl\"\n",
    "with open(bo_filepath, \"rb\") as f:\n",
    "    bo_model = pickle.load(f)"
   ]
  },
  {
   "cell_type": "markdown",
   "metadata": {},
   "source": [
    "## 4.2 Hyperparameter Tuning<a id=\"Hyperparameter Tuning\"></a>"
   ]
  },
  {
   "cell_type": "markdown",
   "metadata": {},
   "source": [
    "The following hyperparameters ranges were set: \n",
    "\n",
    "* eta (learning_rate): between 0.3 and 0.9\n",
    "* max_depth: between 1 and 9\n",
    "* min_child_weight: between 1 and 7\n",
    "* colsample_bytree: between 0.1 and 0.8\n",
    "* gamma: between 0.1 and 0.5\n",
    "\n",
    "We searched this hyperspace using random search and Bayesian optimization. "
   ]
  },
  {
   "cell_type": "code",
   "execution_count": 5,
   "metadata": {},
   "outputs": [],
   "source": [
    "def show_params(model, param_list):\n",
    "    \"\"\"\n",
    "    Given an xgboost model, print out the parameters listed in param list\n",
    "    \"\"\"\n",
    "    param_dict = model.get_xgb_params()\n",
    "    for param in param_list:\n",
    "        print(param, \" = \", param_dict[param])"
   ]
  },
  {
   "cell_type": "code",
   "execution_count": 6,
   "metadata": {},
   "outputs": [],
   "source": [
    "param_list = [\"eta\",\"max_depth\",\"min_child_weight\", \"colsample_bytree\", \"gamma\"]"
   ]
  },
  {
   "cell_type": "markdown",
   "metadata": {},
   "source": [
    "### 4.2.1 Random Search<a id=\"Random_Search\"></a>"
   ]
  },
  {
   "cell_type": "code",
   "execution_count": 7,
   "metadata": {},
   "outputs": [
    {
     "name": "stdout",
     "output_type": "stream",
     "text": [
      "Train set performance:  0.7339924274295331\n",
      "Test set performance:  0.6411411411411412\n"
     ]
    }
   ],
   "source": [
    "# Get train set performance\n",
    "y_pred_train = rs_model.predict(X_train)\n",
    "print(\"Train set performance: \", recall_score(y_train, y_pred_train))\n",
    "\n",
    "# Get test set performance\n",
    "y_pred_test = rs_model.predict(X_test)\n",
    "print(\"Test set performance: \", recall_score(y_test, y_pred_test))"
   ]
  },
  {
   "cell_type": "code",
   "execution_count": 8,
   "metadata": {},
   "outputs": [
    {
     "name": "stdout",
     "output_type": "stream",
     "text": [
      "eta  =  0.5922466648437668\n",
      "max_depth  =  9\n",
      "min_child_weight  =  4\n",
      "colsample_bytree  =  0.3205186652131847\n",
      "gamma  =  0.1477290020150721\n"
     ]
    }
   ],
   "source": [
    "# Best parameters chosen by random search \n",
    "show_params(rs_model, param_list)"
   ]
  },
  {
   "cell_type": "code",
   "execution_count": 9,
   "metadata": {},
   "outputs": [
    {
     "data": {
      "image/png": "[encoded data removed]",
      "text/plain": [
       "<Figure size 432x288 with 1 Axes>"
      ]
     },
     "metadata": {
      "needs_background": "light"
     },
     "output_type": "display_data"
    }
   ],
   "source": [
    "# ROC-AUC curve of model based on test set\n",
    "plot_roc_curve(rs_model, X_test, y_test);"
   ]
  },
  {
   "cell_type": "markdown",
   "metadata": {},
   "source": [
    "### 4.2.2 Bayesian Optimization<a id=\"Bayesian_Optimization\"></a>"
   ]
  },
  {
   "cell_type": "code",
   "execution_count": 10,
   "metadata": {},
   "outputs": [
    {
     "name": "stdout",
     "output_type": "stream",
     "text": [
      "Train set performance:  0.6639882204459403\n",
      "Test set performance:  0.6446446446446447\n"
     ]
    }
   ],
   "source": [
    "# Get train set performance\n",
    "y_pred_train = bo_model.predict(X_train)\n",
    "print(\"Train set performance: \", recall_score(y_train, y_pred_train))\n",
    "\n",
    "# Get test set performance\n",
    "y_pred_test = bo_model.predict(X_test)\n",
    "print(\"Test set performance: \", recall_score(y_test, y_pred_test))"
   ]
  },
  {
   "cell_type": "code",
   "execution_count": 11,
   "metadata": {},
   "outputs": [
    {
     "name": "stdout",
     "output_type": "stream",
     "text": [
      "eta  =  0.6000000000000001\n",
      "max_depth  =  5\n",
      "min_child_weight  =  4\n",
      "colsample_bytree  =  0.45000000000000007\n",
      "gamma  =  0.30000000000000004\n"
     ]
    }
   ],
   "source": [
    "# Best parameters chosen by Bayesian optimization \n",
    "show_params(bo_model, param_list)"
   ]
  },
  {
   "cell_type": "code",
   "execution_count": 12,
   "metadata": {},
   "outputs": [
    {
     "data": {
      "image/png": "[encoded data removed]",
      "text/plain": [
       "<Figure size 432x288 with 1 Axes>"
      ]
     },
     "metadata": {
      "needs_background": "light"
     },
     "output_type": "display_data"
    }
   ],
   "source": [
    "# ROC-AUC curve of model based on test set\n",
    "plot_roc_curve(bo_model, X_test, y_test);"
   ]
  },
  {
   "cell_type": "markdown",
   "metadata": {},
   "source": [
    "Bayesian optimization results in a model with slightly better metrics, so we will use \"bo_model\" going forward.  "
   ]
  },
  {
   "cell_type": "markdown",
   "metadata": {},
   "source": [
    "## 4.3 Modeling Scenarios<a id=\"Modeling_Scenarios\"></a>"
   ]
  },
  {
   "cell_type": "code",
   "execution_count": null,
   "metadata": {},
   "outputs": [],
   "source": []
  },
  {
   "cell_type": "code",
   "execution_count": null,
   "metadata": {},
   "outputs": [],
   "source": []
  },
  {
   "cell_type": "code",
   "execution_count": null,
   "metadata": {},
   "outputs": [],
   "source": []
  },
  {
   "cell_type": "code",
   "execution_count": null,
   "metadata": {},
   "outputs": [],
   "source": []
  },
  {
   "cell_type": "code",
   "execution_count": null,
   "metadata": {},
   "outputs": [],
   "source": []
  }
 ],
 "metadata": {
  "kernelspec": {
   "display_name": "env",
   "language": "python",
   "name": "env"
  },
  "language_info": {
   "codemirror_mode": {
    "name": "ipython",
    "version": 3
   },
   "file_extension": ".py",
   "mimetype": "text/x-python",
   "name": "python",
   "nbconvert_exporter": "python",
   "pygments_lexer": "ipython3",
   "version": "3.8.2"
  }
 },
 "nbformat": 4,
 "nbformat_minor": 4
}
