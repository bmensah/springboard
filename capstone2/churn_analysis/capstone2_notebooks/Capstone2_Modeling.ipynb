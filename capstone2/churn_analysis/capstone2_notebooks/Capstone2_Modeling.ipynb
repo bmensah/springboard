{
 "cells": [
  {
   "cell_type": "markdown",
   "metadata": {},
   "source": [
    "# Capstone 2 Modeling<a id='Modeling'></a>"
   ]
  },
  {
   "cell_type": "markdown",
   "metadata": {},
   "source": [
    "## Table of Contents<a id='Table_of_Contents'></a>\n",
    "* [4 Modeling](#Modeling)\n",
    "    * [4.1 Imports](#Imports)\n",
    "        * [4.1.1 Import Libraries](#Import_Libraries)\n",
    "        * [4.1.2 Import Data](#Import_Data)\n",
    "        * [4.1.3 Import Models](#Import_Models)\n",
    "    \n",
    "    * [4.2 Hyperparameter Tuning](#Hyperparameter_Tuning)\n",
    "        * [4.2.1 Random Search](#Random_Search)\n",
    "        * [4.2.2 Bayesian Optimization](#Bayesian_Optimization)\n",
    "    \n",
    "    * [4.3 Confusion Matrix](#Confusion_Matrix)\n",
    "    \n",
    "    * [4.4 Classification Report](#Classification_Report)\n",
    "    \n",
    "    * [4.5 Feature Importance](#Feature_Importance)\n",
    "            \n",
    "    * [4.6 Modeling_Scenarios](#Modeling_Scenarios)\n",
    "        * [4.6.1 Providing Discounts](#Providing_Discounts)\n",
    "        * [4.6.2 Increasing User Engagement](#Increasing_User_Engagement)\n",
    "        * [4.6.3 Smaller Plans](#Smaller_Plans)\n",
    "        * [4.6.4 Auto-Renew](#Auto-Renew)\n",
    "        * [4.6.5 Combining_Scenarios](#Combining_Scenarios)\n",
    "        \n",
    "    * [4.7 Statistical Significance](#Statistical_Significance)\n",
    "       \n"
   ]
  },
  {
   "cell_type": "markdown",
   "metadata": {},
   "source": [
    "## 4.1 Imports<a id=\"Imports\"></a>"
   ]
  },
  {
   "cell_type": "markdown",
   "metadata": {},
   "source": [
    "### 4.1.1 Import Libraries<a id=\"Import_Libraries\"></a>"
   ]
  },
  {
   "cell_type": "code",
   "execution_count": 1,
   "metadata": {},
   "outputs": [],
   "source": [
    "import json\n",
    "import pickle\n",
    "import pandas as pd\n",
    "import seaborn as sns\n",
    "import matplotlib.pyplot as plt\n",
    "import xgboost as xgb\n",
    "\n",
    "from sklearn.metrics import recall_score, plot_roc_curve, confusion_matrix, classification_report\n",
    "from sklearn.model_selection import train_test_split\n",
    "\n",
    "from scipy.stats import chi2_contingency"
   ]
  },
  {
   "cell_type": "markdown",
   "metadata": {},
   "source": [
    "### 4.1.2 Import Data<a id=\"Import_Data\"></a>"
   ]
  },
  {
   "cell_type": "code",
   "execution_count": 2,
   "metadata": {},
   "outputs": [],
   "source": [
    "# Read in X_train and y_train\n",
    "X_train = pd.read_csv(\"../data/processed/X_train.csv\")\n",
    "y_train = pd.read_csv(\"../data/processed/y_train.csv\")"
   ]
  },
  {
   "cell_type": "code",
   "execution_count": 3,
   "metadata": {},
   "outputs": [],
   "source": [
    "# Read in X_test and y_test \n",
    "X_test = pd.read_csv(\"../data/processed/X_test.csv\")\n",
    "y_test = pd.read_csv(\"../data/processed/y_test.csv\")"
   ]
  },
  {
   "cell_type": "markdown",
   "metadata": {},
   "source": [
    "### 4.1.3 Import Models<a id=\"Import_Models\"></a>"
   ]
  },
  {
   "cell_type": "code",
   "execution_count": 4,
   "metadata": {},
   "outputs": [],
   "source": [
    "# Model with hyperparameters chosen by random search\n",
    "rs_filepath = \"../models/rs_model.pkl\"\n",
    "with open(rs_filepath, \"rb\") as f:\n",
    "    rs_model = pickle.load(f)\n",
    "\n",
    "# Model with hyperparameters chosen by Bayesian optimization\n",
    "bo_filepath = \"../models/bo_model.pkl\"\n",
    "with open(bo_filepath, \"rb\") as f:\n",
    "    bo_model = pickle.load(f)"
   ]
  },
  {
   "cell_type": "markdown",
   "metadata": {},
   "source": [
    "## 4.2 Hyperparameter Tuning<a id=\"Hyperparameter_Tuning\"></a>"
   ]
  },
  {
   "cell_type": "markdown",
   "metadata": {},
   "source": [
    "The following hyperparameters ranges were set: \n",
    "\n",
    "* eta (learning_rate): between 0.3 and 0.9\n",
    "* max_depth: between 1 and 9\n",
    "* min_child_weight: between 1 and 7\n",
    "* colsample_bytree: between 0.1 and 0.8\n",
    "* gamma: between 0.1 and 0.5\n",
    "\n",
    "We searched this hyperspace using random search and Bayesian optimization on Google Cloud Platform (GCP). \n",
    "\n",
    "Code for this can be found here: https://github.com/bmensah/springboard/tree/main/capstone2/churn_analysis/src "
   ]
  },
  {
   "cell_type": "code",
   "execution_count": 5,
   "metadata": {},
   "outputs": [],
   "source": [
    "def show_params(model, param_list):\n",
    "    \"\"\"\n",
    "    Given an xgboost model, print out the parameters listed in param list\n",
    "    \"\"\"\n",
    "    param_dict = model.get_xgb_params()\n",
    "    for param in param_list:\n",
    "        print(param, \" = \", param_dict[param])"
   ]
  },
  {
   "cell_type": "code",
   "execution_count": 6,
   "metadata": {},
   "outputs": [],
   "source": [
    "param_list = [\"eta\",\"max_depth\",\"min_child_weight\", \"colsample_bytree\", \"gamma\"]"
   ]
  },
  {
   "cell_type": "markdown",
   "metadata": {},
   "source": [
    "### 4.2.1 Random Search<a id=\"Random_Search\"></a>"
   ]
  },
  {
   "cell_type": "code",
   "execution_count": 7,
   "metadata": {},
   "outputs": [
    {
     "name": "stdout",
     "output_type": "stream",
     "text": [
      "Train set performance:  0.674421539755995\n",
      "Test set performance:  0.6417417417417417\n"
     ]
    }
   ],
   "source": [
    "# Get train set performance\n",
    "y_pred_train = rs_model.predict(X_train)\n",
    "print(\"Train set performance: \", recall_score(y_train, y_pred_train))\n",
    "\n",
    "# Get test set performance\n",
    "y_pred_test = rs_model.predict(X_test)\n",
    "print(\"Test set performance: \", recall_score(y_test, y_pred_test))"
   ]
  },
  {
   "cell_type": "code",
   "execution_count": 8,
   "metadata": {},
   "outputs": [
    {
     "name": "stdout",
     "output_type": "stream",
     "text": [
      "eta  =  0.634041033809039\n",
      "max_depth  =  6\n",
      "min_child_weight  =  6\n",
      "colsample_bytree  =  0.6101575342997179\n",
      "gamma  =  0.4770061367832197\n"
     ]
    }
   ],
   "source": [
    "# Best parameters chosen by random search \n",
    "show_params(rs_model, param_list)"
   ]
  },
  {
   "cell_type": "code",
   "execution_count": 9,
   "metadata": {},
   "outputs": [
    {
     "data": {
      "image/png": "[encoded data removed]",
      "text/plain": [
       "<Figure size 432x288 with 1 Axes>"
      ]
     },
     "metadata": {
      "needs_background": "light"
     },
     "output_type": "display_data"
    }
   ],
   "source": [
    "# ROC-AUC curve of model based on test set\n",
    "plot_roc_curve(rs_model, X_test, y_test);"
   ]
  },
  {
   "cell_type": "markdown",
   "metadata": {},
   "source": [
    "### 4.2.2 Bayesian Optimization<a id=\"Bayesian_Optimization\"></a>"
   ]
  },
  {
   "cell_type": "code",
   "execution_count": 10,
   "metadata": {},
   "outputs": [
    {
     "name": "stdout",
     "output_type": "stream",
     "text": [
      "Train set performance:  0.6649137568363483\n",
      "Test set performance:  0.6423423423423423\n"
     ]
    }
   ],
   "source": [
    "# Get train set performance\n",
    "y_pred_train = bo_model.predict(X_train)\n",
    "print(\"Train set performance: \", recall_score(y_train, y_pred_train))\n",
    "\n",
    "# Get test set performance\n",
    "y_pred_test = bo_model.predict(X_test)\n",
    "print(\"Test set performance: \", recall_score(y_test, y_pred_test))"
   ]
  },
  {
   "cell_type": "code",
   "execution_count": 11,
   "metadata": {},
   "outputs": [
    {
     "name": "stdout",
     "output_type": "stream",
     "text": [
      "eta  =  0.6000000000000001\n",
      "max_depth  =  5\n",
      "min_child_weight  =  4\n",
      "colsample_bytree  =  0.45000000000000007\n",
      "gamma  =  0.30000000000000004\n"
     ]
    }
   ],
   "source": [
    "# Best parameters chosen by Bayesian optimization \n",
    "show_params(bo_model, param_list)"
   ]
  },
  {
   "cell_type": "code",
   "execution_count": 12,
   "metadata": {},
   "outputs": [
    {
     "data": {
      "image/png": "[encoded data removed]",
      "text/plain": [
       "<Figure size 432x288 with 1 Axes>"
      ]
     },
     "metadata": {
      "needs_background": "light"
     },
     "output_type": "display_data"
    }
   ],
   "source": [
    "# ROC-AUC curve of model based on test set\n",
    "plot_roc_curve(bo_model, X_test, y_test);"
   ]
  },
  {
   "cell_type": "markdown",
   "metadata": {},
   "source": [
    "The metrics are essentially the same across the board, with both models scoring a recall of 0.642 on the test set and an AUC of 0.97. "
   ]
  },
  {
   "cell_type": "markdown",
   "metadata": {},
   "source": [
    "## 4.3 Confusion Matrix<a id=\"Confusion_Matrix\"></a>"
   ]
  },
  {
   "cell_type": "code",
   "execution_count": 13,
   "metadata": {},
   "outputs": [],
   "source": [
    "y_pred = bo_model.predict(X_test)\n",
    "pl = confusion_matrix(y_test,y_pred)"
   ]
  },
  {
   "cell_type": "code",
   "execution_count": 14,
   "metadata": {},
   "outputs": [
    {
     "data": {
      "image/png": "[encoded data removed]",
      "text/plain": [
       "<Figure size 432x288 with 2 Axes>"
      ]
     },
     "metadata": {
      "needs_background": "light"
     },
     "output_type": "display_data"
    }
   ],
   "source": [
    "label = [\"Renew\", \"Churn\"]\n",
    "sns.heatmap(pl, annot=True, fmt='.6g', cmap='Blues', square=True, xticklabels=label, yticklabels=label)\n",
    "plt.xlabel(\"Predicted\", fontsize=14)\n",
    "plt.ylabel(\"True\", fontsize=14)\n",
    "plt.show();"
   ]
  },
  {
   "cell_type": "markdown",
   "metadata": {},
   "source": [
    "## 4.4 Classification Report<a id=\"Classification_Report\"></a>"
   ]
  },
  {
   "cell_type": "code",
   "execution_count": 15,
   "metadata": {},
   "outputs": [
    {
     "name": "stdout",
     "output_type": "stream",
     "text": [
      "              precision    recall  f1-score   support\n",
      "\n",
      "       Renew       0.98      0.99      0.99    170007\n",
      "       Churn       0.88      0.64      0.74      9990\n",
      "\n",
      "    accuracy                           0.98    179997\n",
      "   macro avg       0.93      0.82      0.86    179997\n",
      "weighted avg       0.97      0.98      0.97    179997\n",
      "\n"
     ]
    }
   ],
   "source": [
    "report = classification_report(y_test, y_pred, target_names=[\"Renew\", \"Churn\"])\n",
    "print(report)"
   ]
  },
  {
   "cell_type": "markdown",
   "metadata": {},
   "source": [
    "## 4.5 Feature Importance<a id=\"Feature_Importance\"></a>"
   ]
  },
  {
   "cell_type": "code",
   "execution_count": 30,
   "metadata": {},
   "outputs": [
    {
     "data": {
      "image/png": "[encoded data removed]",
      "text/plain": [
       "<Figure size 864x720 with 1 Axes>"
      ]
     },
     "metadata": {
      "needs_background": "light"
     },
     "output_type": "display_data"
    }
   ],
   "source": [
    "feat_importance = pd.DataFrame(bo_model.feature_importances_, index=X_test.columns.to_list())\n",
    "feat_importance.plot(kind=\"bar\", figsize=(12,10), legend=None)\n",
    "plt.show();"
   ]
  },
  {
   "cell_type": "markdown",
   "metadata": {},
   "source": [
    "Whether or not a user has canceled the service has the most significant effect on predicting churn, but this is a mostly negligible result as the very definition of churn includes that a user has canceled their subscription and made no new transactions within 30 days. \n",
    "\n",
    "It is very interesting to see the importance of the length and price of subscriptions. In the heatmap produced in EDA, we also saw that these features were highly correlated with churn. "
   ]
  },
  {
   "cell_type": "markdown",
   "metadata": {},
   "source": [
    "## 4.6 Modeling Scenarios<a id=\"Modeling_Scenarios\"></a>"
   ]
  },
  {
   "cell_type": "markdown",
   "metadata": {},
   "source": [
    "In our problem statement, our criteria of success was defined as showing a statistically significant decrease in churn in the upcoming month, April 2017. \n",
    "\n",
    "With this goal in mind, let's examine KKBox's current situation. "
   ]
  },
  {
   "cell_type": "markdown",
   "metadata": {},
   "source": [
    "This chart of the number of new subscribers added each month since KKBox's founding in 2004 reveals that while overall the number of new subscribers has been increasing, there has been a sharp downward trend in recent months:"
   ]
  },
  {
   "cell_type": "code",
   "execution_count": 17,
   "metadata": {},
   "outputs": [
    {
     "data": {
      "image/png": "[encoded data removed]",
      "text/plain": [
       "<Figure size 720x576 with 1 Axes>"
      ]
     },
     "metadata": {
      "needs_background": "light"
     },
     "output_type": "display_data"
    }
   ],
   "source": [
    "# Read in members_v3.csv file\n",
    "members_df = pd.read_csv(\"../data/raw/members_v3.csv\")\n",
    "\n",
    "# Find the number of new subscribers who registered each month \n",
    "members_df[\"registration_init_time\"] = pd.to_datetime(members_df[\"registration_init_time\"], format=\"%Y%m%d\")\n",
    "monthly_new_users = {}\n",
    "for year in range(2004, 2017+1):\n",
    "    for month in range(1, 12+1):\n",
    "        num_new_users = sum((members_df[\"registration_init_time\"].dt.year==year) & \\\n",
    "                         (members_df[\"registration_init_time\"].dt.month==month))\n",
    "        monthly_new_users[(year,month)] = num_new_users\n",
    "        \n",
    "# Graph the number of new users added each month \n",
    "new_users_df = pd.DataFrame.from_dict(monthly_new_users, orient=\"index\", columns=[\"new_users\"])\n",
    "\n",
    "# drop months at the extremities that have no data, as well as our current month\n",
    "new_users_df = new_users_df[new_users_df.new_users>0].drop((2017,3))\n",
    "\n",
    "new_users_df.plot(figsize=(10,8),grid=True)\n",
    "plt.xlabel(\"Month\")\n",
    "plt.ylabel(\"Number of new users\")\n",
    "plt.show();"
   ]
  },
  {
   "cell_type": "markdown",
   "metadata": {},
   "source": [
    "Furthermore, the percentage of new subscribers who churn is significantly higher than the percentage of older subscribrs who churn. Thus, at the same time that the number of new subscribers is dwindling, those who do sign up for the service are churning at higher rates: "
   ]
  },
  {
   "cell_type": "code",
   "execution_count": 18,
   "metadata": {},
   "outputs": [],
   "source": [
    "# Read in fully wrangled dataset \n",
    "original_data = pd.read_csv(\"../data/processed/combined.csv\")\n",
    "dtype_map = pd.read_csv(\"../data/processed/dtype_map.csv\", index_col=\"feature\").to_dict()[\"type\"]\n",
    "original_data = original_data.astype(dtype_map)"
   ]
  },
  {
   "cell_type": "code",
   "execution_count": 19,
   "metadata": {},
   "outputs": [
    {
     "name": "stdout",
     "output_type": "stream",
     "text": [
      "Percent of subscribers who both registered and churned in March 2017: 18.22%\n",
      "Percent of subscribers who churned overall: 5.63%\n"
     ]
    },
    {
     "data": {
      "image/png": "[encoded data removed]",
      "text/plain": [
       "<Figure size 432x288 with 1 Axes>"
      ]
     },
     "metadata": {
      "needs_background": "light"
     },
     "output_type": "display_data"
    }
   ],
   "source": [
    "# Number subscribers who both registered and churned in March 2017\n",
    "first_time = original_data[(original_data[\"registration_init_time\"].dt.year==2017) & \\\n",
    "                           (original_data[\"registration_init_time\"].dt.month==3)]\n",
    "new_user_pct_churn = (first_time.is_churn.value_counts()[1] / first_time.shape[0])*100\n",
    "overall_pct_churn = (original_data.is_churn.value_counts()[1] / original_data.shape[0])*100\n",
    "print(\"Percent of subscribers who both registered and churned in March 2017: {:.2f}%\".format(new_user_pct_churn))\n",
    "print(\"Percent of subscribers who churned overall: {:.2f}%\".format(overall_pct_churn))\n",
    "\n",
    "# Graph comparing percent churn in March 2017 to churn overall\n",
    "compare_churn = pd.DataFrame.from_dict({\"March 2017\":new_user_pct_churn, \"overall\":overall_pct_churn}, \n",
    "                                           orient=\"index\", columns=[\"percent churn\"])\n",
    "compare_churn.plot(kind=\"bar\", ylabel=\"percent churn\", legend=None);"
   ]
  },
  {
   "cell_type": "markdown",
   "metadata": {},
   "source": [
    "The combination of these challenges makes an adjustment to KKBox's strategy for retaining subscribers all the more essential to implement as soon as possible.  \n",
    "\n",
    "\n"
   ]
  },
  {
   "cell_type": "code",
   "execution_count": 20,
   "metadata": {},
   "outputs": [],
   "source": [
    "# Function to test new scenarios\n",
    "def scenario(columns, change, model=bo_model, test_data=X_test, old_pred=y_pred):\n",
    "    \"\"\"\n",
    "    Given columns and a change, applys change to given columns in test set\n",
    "    Parameters:\n",
    "        columns: columns to apply change to in order to model a scenario\n",
    "         change: value to multiply the given columns by to simulate a change\n",
    "          model: defaults to the xgboost model tuned by Bayesian optimization as defined above\n",
    "           data: defaults to a copy of the test data with a \"churn_risk\" column to identify \n",
    "                   subscribers at risk of churn\n",
    "       old_pred: defaults to predicted churn by xgboost model \n",
    "       \n",
    "    Returns:\n",
    "        Dataframe with changes for the scenario applied\n",
    "        prints three statements:\n",
    "            1. amount of churn predicted without the changes\n",
    "            2. about of churn with changes applied\n",
    "            3. percent difference in churn\n",
    "            \n",
    "    \"\"\"\n",
    "    # Copy test data so we don't make changes to the original test dataset \n",
    "    data = test_data.copy()\n",
    "    data[\"churn_risk\"] = old_pred\n",
    "    mask = data[\"churn_risk\"]==1\n",
    "    data.loc[mask, columns] = data.loc[mask, columns] * change\n",
    "    data = data.drop(\"churn_risk\", axis=1)\n",
    "    new_pred = model.predict(data)\n",
    "    print(\"Total churn in test set without change:\", sum(old_pred))\n",
    "    print(\"Total churn in test set with change:\", sum(new_pred))\n",
    "    count = data.shape[0]\n",
    "    pct_decrease = (sum(old_pred)/count)*100 - (sum(new_pred)/count)*100\n",
    "    print(\"Percent decrease in churn: {:.2f}%\".format(pct_decrease))\n",
    "    return data\n",
    "    "
   ]
  },
  {
   "cell_type": "markdown",
   "metadata": {},
   "source": [
    "### 4.6.1 Providing Discounts<a id=\"Providing_Discounts\"></a>"
   ]
  },
  {
   "cell_type": "markdown",
   "metadata": {},
   "source": [
    "We will apply a 50% discount to the subscribers that our model predicted will churn, the predict churn again. "
   ]
  },
  {
   "cell_type": "code",
   "execution_count": 21,
   "metadata": {},
   "outputs": [
    {
     "name": "stdout",
     "output_type": "stream",
     "text": [
      "Total churn in test set without change: 7299\n",
      "Total churn in test set with change: 7032\n",
      "Percent decrease in churn: 0.15%\n"
     ]
    }
   ],
   "source": [
    "discounts = scenario(\"actual_amount_paid\", 0.5);"
   ]
  },
  {
   "cell_type": "markdown",
   "metadata": {},
   "source": [
    "Giving subscribers at risk of churn a 50% discount did make a slight difference in likelyhood to churn. "
   ]
  },
  {
   "cell_type": "markdown",
   "metadata": {},
   "source": [
    "### 4.6.2 Increasing User Engagement<a id=\"Increasing_User_Engagement\"></a>"
   ]
  },
  {
   "cell_type": "markdown",
   "metadata": {},
   "source": [
    "In EDA, we saw that user engagement did not appear to have a significant impact on likelyhood of churning. Let's test if that holds true for our models predictions by multiplying the amount of time the users at risk of churn spend on the app by 2. "
   ]
  },
  {
   "cell_type": "code",
   "execution_count": 22,
   "metadata": {},
   "outputs": [
    {
     "name": "stdout",
     "output_type": "stream",
     "text": [
      "Total churn in test set without change: 7299\n",
      "Total churn in test set with change: 6942\n",
      "Percent decrease in churn: 0.20%\n"
     ]
    }
   ],
   "source": [
    "user_logs = ['total_num_25', 'total_num_50', 'total_num_75',\n",
    "       'total_num_985', 'total_num_100', 'total_num_unique']\n",
    "\n",
    "more_engagement = scenario(user_logs, 2);"
   ]
  },
  {
   "cell_type": "markdown",
   "metadata": {},
   "source": [
    "Against our observations in EDA, we see that getting users to engage more with the app could lead to a slight decrease in churn. "
   ]
  },
  {
   "cell_type": "markdown",
   "metadata": {},
   "source": [
    "### 4.6.3 Smaller Plans<a id=\"Smaller_Plans\"></a>"
   ]
  },
  {
   "cell_type": "markdown",
   "metadata": {},
   "source": [
    "In the EDA stage, we observed that users who churned were paying three times as much for their subscriptions and had signed up for plans lasting three times as long. Additionally, in the graph of feature importance above, we see that the length and cost of plans are the most important features our model identified in determining likelyhood of churn. \n",
    "\n",
    "Let's reduce the plan length and amount paid for subscribers at risk of churn to a third of the original amounts: "
   ]
  },
  {
   "cell_type": "code",
   "execution_count": 23,
   "metadata": {},
   "outputs": [
    {
     "name": "stdout",
     "output_type": "stream",
     "text": [
      "Total churn in test set without change: 7299\n",
      "Total churn in test set with change: 6737\n",
      "Percent decrease in churn: 0.31%\n"
     ]
    }
   ],
   "source": [
    "smaller_plans = scenario([\"payment_plan_days\", \"plan_list_price\", \"actual_amount_paid\"], 0.33)"
   ]
  },
  {
   "cell_type": "markdown",
   "metadata": {},
   "source": [
    "Our observations from EDA and the chart of feature importance are confirmed. Switching subscribers at risk of churn to shorter plans with smaller monthly costs reduces churn the most out of the scenarios we have models thus far. "
   ]
  },
  {
   "cell_type": "markdown",
   "metadata": {},
   "source": [
    "### 4.6.4 Auto-Renew<a id=\"Auto-Renew\"></a>"
   ]
  },
  {
   "cell_type": "markdown",
   "metadata": {},
   "source": [
    "In EDA, we did not see auto-renew have a significant effect on churn. We will have all subscribers at risk of churn sign up for auto-renew, then predict how this change will affect their likelyhood of churn. "
   ]
  },
  {
   "cell_type": "code",
   "execution_count": 24,
   "metadata": {},
   "outputs": [
    {
     "name": "stdout",
     "output_type": "stream",
     "text": [
      "Total churn in test set without change: 7299\n",
      "Total churn in test set with change: 7171\n",
      "Percent decrease in churn: 0.07%\n"
     ]
    }
   ],
   "source": [
    "auto_renew = X_test.copy()\n",
    "auto_renew[\"churn_risk\"] = y_pred\n",
    "mask = auto_renew[\"churn_risk\"] == 1\n",
    "auto_renew.loc[mask, \"is_auto_renew\"] = 1\n",
    "new_pred = bo_model.predict(auto_renew.drop(\"churn_risk\", axis=1))\n",
    "count = len(new_pred)\n",
    "pct_decrease = (sum(y_pred)/count)*100 - (sum(new_pred)/count)*100\n",
    "print(\"Total churn in test set without change:\", sum(y_pred))\n",
    "print(\"Total churn in test set with change:\", sum(new_pred))\n",
    "print(\"Percent decrease in churn: {:.2f}%\".format(pct_decrease))"
   ]
  },
  {
   "cell_type": "markdown",
   "metadata": {},
   "source": [
    "Our model matches our expected results based on EDA. The auto-renew option is not predicted to have a significant effect on churn. "
   ]
  },
  {
   "cell_type": "markdown",
   "metadata": {},
   "source": [
    "### 4.6.5 Combining Scenarios<a id=\"Combining_Scenarios\"></a>"
   ]
  },
  {
   "cell_type": "markdown",
   "metadata": {},
   "source": [
    "A combination of models could lead to greater success. Let's combine the two most successful scenarios, increasing user enagagement and switching users to smaller plans:"
   ]
  },
  {
   "cell_type": "code",
   "execution_count": 25,
   "metadata": {},
   "outputs": [
    {
     "name": "stdout",
     "output_type": "stream",
     "text": [
      "Total churn in test set without change: 7299\n",
      "Total churn in test set with change: 6539\n",
      "Percent decrease in churn: 0.42%\n"
     ]
    }
   ],
   "source": [
    "combined = scenario([\"payment_plan_days\", \"plan_list_price\", \"actual_amount_paid\"], 0.33, test_data=more_engagement)"
   ]
  },
  {
   "cell_type": "markdown",
   "metadata": {},
   "source": [
    "This combined approach gives us the best results, with 760 subscribers who were at risk of churn changing course and renewing their subscriptions. Let's see if there is an additional improvement by also providing these users a 50% discount for a month:"
   ]
  },
  {
   "cell_type": "code",
   "execution_count": 26,
   "metadata": {},
   "outputs": [
    {
     "name": "stdout",
     "output_type": "stream",
     "text": [
      "Total churn in test set without change: 7299\n",
      "Total churn in test set with change: 6311\n",
      "Percent decrease in churn: 0.55%\n"
     ]
    }
   ],
   "source": [
    "multiple = scenario(\"actual_amount_paid\", 0.5, test_data=combined);"
   ]
  },
  {
   "cell_type": "markdown",
   "metadata": {},
   "source": [
    "Adding in our third best performing scenario, giving subscribers a 50% discount, reduces churn by an additional 0.13%. "
   ]
  },
  {
   "cell_type": "markdown",
   "metadata": {},
   "source": [
    "## 4.7 Statistical Significance<a id=\"Statistical_Significance\"></a>"
   ]
  },
  {
   "cell_type": "markdown",
   "metadata": {},
   "source": [
    "Is this decrease in churn statistically significant? \n",
    "\n",
    "__Null hypothesis:__ There is no relationship between the selected features (user engagement with the app, subscription cost and duration, and getting a discount) and likelyhood of churn. "
   ]
  },
  {
   "cell_type": "code",
   "execution_count": 27,
   "metadata": {},
   "outputs": [
    {
     "data": {
      "text/html": [
       "<div>\n",
       "<style scoped>\n",
       "    .dataframe tbody tr th:only-of-type {\n",
       "        vertical-align: middle;\n",
       "    }\n",
       "\n",
       "    .dataframe tbody tr th {\n",
       "        vertical-align: top;\n",
       "    }\n",
       "\n",
       "    .dataframe thead th {\n",
       "        text-align: right;\n",
       "    }\n",
       "</style>\n",
       "<table border=\"1\" class=\"dataframe\">\n",
       "  <thead>\n",
       "    <tr style=\"text-align: right;\">\n",
       "      <th></th>\n",
       "      <th>old_prediction</th>\n",
       "      <th>new_prediction</th>\n",
       "    </tr>\n",
       "  </thead>\n",
       "  <tbody>\n",
       "    <tr>\n",
       "      <th>renew</th>\n",
       "      <td>172698</td>\n",
       "      <td>173686</td>\n",
       "    </tr>\n",
       "    <tr>\n",
       "      <th>churn</th>\n",
       "      <td>7299</td>\n",
       "      <td>6311</td>\n",
       "    </tr>\n",
       "  </tbody>\n",
       "</table>\n",
       "</div>"
      ],
      "text/plain": [
       "       old_prediction  new_prediction\n",
       "renew          172698          173686\n",
       "churn            7299            6311"
      ]
     },
     "execution_count": 27,
     "metadata": {},
     "output_type": "execute_result"
    }
   ],
   "source": [
    "# Build a contingency table \n",
    "old_prediction = pd.Series(y_pred).value_counts()\n",
    "new_prediction = pd.Series(bo_model.predict(multiple)).value_counts()\n",
    "contingency_table = pd.DataFrame({\"old_prediction\":old_prediction, \n",
    "                                \"new_prediction\": new_prediction})\n",
    "contingency_table = contingency_table.rename({0:\"renew\", 1:\"churn\"})\n",
    "contingency_table"
   ]
  },
  {
   "cell_type": "code",
   "execution_count": 28,
   "metadata": {},
   "outputs": [],
   "source": [
    "# Get the statistic, p-value, degrees of freedom, and expected frequencies\n",
    "stat, p, dof, expected = chi2_contingency(contingency_table)"
   ]
  },
  {
   "cell_type": "code",
   "execution_count": 29,
   "metadata": {},
   "outputs": [
    {
     "name": "stdout",
     "output_type": "stream",
     "text": [
      "p_value: 0.00000000000000000641 \n"
     ]
    }
   ],
   "source": [
    "print(\"p_value: {:.20f} \".format(p))"
   ]
  },
  {
   "cell_type": "markdown",
   "metadata": {},
   "source": [
    "With a p_value this low, we can confidently conclude that our results are statistically significant. We can reject the null hypothesis and conclude that increasing user engagement, changing the subscription monthly cost, and providing subscribers at risk of churn with a 50% discount all have an effect on churn. "
   ]
  },
  {
   "cell_type": "code",
   "execution_count": null,
   "metadata": {},
   "outputs": [],
   "source": []
  }
 ],
 "metadata": {
  "kernelspec": {
   "display_name": "env",
   "language": "python",
   "name": "env"
  },
  "language_info": {
   "codemirror_mode": {
    "name": "ipython",
    "version": 3
   },
   "file_extension": ".py",
   "mimetype": "text/x-python",
   "name": "python",
   "nbconvert_exporter": "python",
   "pygments_lexer": "ipython3",
   "version": "3.8.2"
  }
 },
 "nbformat": 4,
 "nbformat_minor": 4
}
